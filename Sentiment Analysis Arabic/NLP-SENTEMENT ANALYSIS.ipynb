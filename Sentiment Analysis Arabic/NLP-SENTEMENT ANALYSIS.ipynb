{
 "cells": [
  {
   "cell_type": "code",
   "execution_count": 36,
   "metadata": {},
   "outputs": [
    {
     "name": "stdout",
     "output_type": "stream",
     "text": [
      "CY_train.csv\n",
      "CY_train_Cleanned.csv\n",
      "Final_Test.csv\n",
      "Final_TestWithPredict.csv\n",
      "HowBuildW2Vec\n",
      "NLP-SENTEMENT ANALYSIS.html\n",
      "NLP-SENTEMENT ANALYSIS.ipynb\n",
      "SentimentModels\n"
     ]
    }
   ],
   "source": [
    "!ls"
   ]
  },
  {
   "cell_type": "markdown",
   "metadata": {},
   "source": [
    "**Steps for Text preprocessing in such task:**\n",
    "\n",
    "**1.Remove Noisy Data.**\n",
    "\n",
    "**2.Break each comment into sentences.**\n",
    "\n",
    "**3.Tokenize or break each sentence into words**\n",
    "\n",
    "**4.Transform words into vectors: -**\n",
    "\n",
    "  - There are many methods to convert words into vectors as following: -\n",
    "   - Bag of words (BoW)\n",
    "   - TF-IDF\n",
    "   - Word2Vec\n",
    "   - Glove\n",
    "\n",
    "***We can consider the last three methods [TF-IDF, Word2Vec & Glove] as word embedding which defined as a vector representations of a particular word. BoW introduced limitations such as large feature dimension, sparse representation***"
   ]
  },
  {
   "cell_type": "markdown",
   "metadata": {},
   "source": [
    "**Import needs libraries**"
   ]
  },
  {
   "cell_type": "code",
   "execution_count": 37,
   "metadata": {},
   "outputs": [],
   "source": [
    "import numpy as np # linear algebra\n",
    "import pandas as pd # data processing, CSV file I/O (e.g. pd.read_csv)\n",
    "import matplotlib.pyplot as plt\n",
    "import numpy as np\n",
    "#from pyarabic.araby import strip_tashkeel \n",
    "import re\n",
    "from tqdm import tqdm\n",
    "from sklearn.model_selection import validation_curve\n",
    "from nltk.corpus import stopwords\n",
    "from nltk.stem.isri import ISRIStemmer # arabic stemming\n",
    "\n",
    "from sklearn.model_selection import train_test_split\n",
    "from sklearn.linear_model import LogisticRegression\n",
    "from sklearn.model_selection import RandomizedSearchCV\n",
    "from tensorflow.keras.utils import to_categorical\n",
    "from tensorflow.keras.models import Model, model_from_json\n",
    "from tensorflow.keras.layers import Input, Dense, Dropout\n",
    "from tensorflow.keras.optimizers import Adam, Adamax\n",
    "from tensorflow.keras.callbacks import ModelCheckpoint, EarlyStopping\n",
    "from tensorflow.keras.models import Sequential \n",
    "from tensorflow.keras import layers,metrics\n",
    "from tensorflow.keras.preprocessing.text import Tokenizer\n",
    "from tensorflow.keras.preprocessing.sequence import pad_sequences\n",
    "from tensorflow.keras.layers import LSTM,Embedding, SimpleRNN, GRU, Bidirectional, GlobalMaxPool1D,AveragePooling1D,GlobalAveragePooling1D\n",
    "from sklearn.feature_extraction.text import TfidfVectorizer\n",
    "from nltk.corpus import stopwords\n",
    "from sklearn.feature_extraction import text\n",
    "import os\n",
    "from sklearn.metrics import classification_report, confusion_matrix, accuracy_score\n",
    "import seaborn as sns\n",
    "from gensim.models import Word2Vec, KeyedVectors\n",
    "#from tensorflow.keras.callbacks import ReduceLROnPlateau\n",
    "from sklearn.preprocessing import LabelEncoder\n",
    "from sklearn.utils.class_weight import compute_class_weight\n",
    "from tensorflow.keras.layers import concatenate\n",
    "import tensorflow.keras as K\n",
    "from tensorflow.keras.models import load_model\n",
    "import joblib\n"
   ]
  },
  {
   "cell_type": "code",
   "execution_count": 38,
   "metadata": {},
   "outputs": [],
   "source": [
    "pd.set_option('display.max_columns', None)\n",
    "pd.set_option('display.max_rows',None)\n",
    "pd.set_option('display.expand_frame_repr', False)\n",
    "pd.set_option('max_colwidth',None)"
   ]
  },
  {
   "cell_type": "code",
   "execution_count": 39,
   "metadata": {},
   "outputs": [
    {
     "name": "stdout",
     "output_type": "stream",
     "text": [
      "<class 'pandas.core.frame.DataFrame'>\n",
      "RangeIndex: 2746 entries, 0 to 2745\n",
      "Data columns (total 2 columns):\n",
      " #   Column  Non-Null Count  Dtype \n",
      "---  ------  --------------  ----- \n",
      " 0   tweet   2746 non-null   object\n",
      " 1   class   2746 non-null   object\n",
      "dtypes: object(2)\n",
      "memory usage: 43.0+ KB\n"
     ]
    }
   ],
   "source": [
    "CY_train=pd.read_csv(\"CY_train.csv\")\n",
    "CY_train.info()  # there are about "
   ]
  },
  {
   "cell_type": "code",
   "execution_count": 40,
   "metadata": {},
   "outputs": [
    {
     "data": {
      "text/plain": [
       "2746"
      ]
     },
     "execution_count": 40,
     "metadata": {},
     "output_type": "execute_result"
    }
   ],
   "source": [
    "len(CY_train)"
   ]
  },
  {
   "cell_type": "code",
   "execution_count": 41,
   "metadata": {},
   "outputs": [
    {
     "data": {
      "text/html": [
       "<div>\n",
       "<style scoped>\n",
       "    .dataframe tbody tr th:only-of-type {\n",
       "        vertical-align: middle;\n",
       "    }\n",
       "\n",
       "    .dataframe tbody tr th {\n",
       "        vertical-align: top;\n",
       "    }\n",
       "\n",
       "    .dataframe thead th {\n",
       "        text-align: right;\n",
       "    }\n",
       "</style>\n",
       "<table border=\"1\" class=\"dataframe\">\n",
       "  <thead>\n",
       "    <tr style=\"text-align: right;\">\n",
       "      <th></th>\n",
       "      <th>tweet</th>\n",
       "      <th>class</th>\n",
       "    </tr>\n",
       "  </thead>\n",
       "  <tbody>\n",
       "    <tr>\n",
       "      <th>0</th>\n",
       "      <td>' فينو الاهبل ابن الاهبل '</td>\n",
       "      <td>neg</td>\n",
       "    </tr>\n",
       "    <tr>\n",
       "      <th>1</th>\n",
       "      <td>' على المصرييييين وجمالهم ربنا يحميهم #MinaAtta http://t.co/NkOvSx6mgD '</td>\n",
       "      <td>pos</td>\n",
       "    </tr>\n",
       "    <tr>\n",
       "      <th>2</th>\n",
       "      <td>' @Kholoudkewan  دول كتير اوى ودمهم خفيف العمارة اللي انا فيها كلها سوريين والأطفال عسل '</td>\n",
       "      <td>pos</td>\n",
       "    </tr>\n",
       "    <tr>\n",
       "      <th>3</th>\n",
       "      <td>' انا بعد كده  خلى اللى يوعنى   بحاجه همضى على وصل امانه علشان اضمن انو مش يخون '</td>\n",
       "      <td>neg</td>\n",
       "    </tr>\n",
       "    <tr>\n",
       "      <th>4</th>\n",
       "      <td>' انا هنتحر '</td>\n",
       "      <td>neg</td>\n",
       "    </tr>\n",
       "    <tr>\n",
       "      <th>5</th>\n",
       "      <td>' في حفظ الله يا ريس http://t.co/RGKtP9QHZB '</td>\n",
       "      <td>pos</td>\n",
       "    </tr>\n",
       "    <tr>\n",
       "      <th>6</th>\n",
       "      <td>' يا عيون عطشان عطشانة سهر يا قلوب تعبانة تعبانة سفر كتروا من الحب تلاقوا تلاقوا في الضلمة ألف قمر '</td>\n",
       "      <td>pos</td>\n",
       "    </tr>\n",
       "    <tr>\n",
       "      <th>7</th>\n",
       "      <td>' #زهقنا_من اسامي اكونتات البنات على مواقع التواصل الاجتماعي زي مثلا شروق الشمس و الذهب الأزرق و أي بطيخ و السلام '</td>\n",
       "      <td>neg</td>\n",
       "    </tr>\n",
       "    <tr>\n",
       "      <th>8</th>\n",
       "      <td>' @Omarr793 حمد الله ع السلامة ✋ '</td>\n",
       "      <td>pos</td>\n",
       "    </tr>\n",
       "    <tr>\n",
       "      <th>9</th>\n",
       "      <td>' @ahmedeslam07 أحا مين ؟! '</td>\n",
       "      <td>neg</td>\n",
       "    </tr>\n",
       "    <tr>\n",
       "      <th>10</th>\n",
       "      <td>' لما تشوف حد واحشك كان بقالك كتير مشفتوش♡ '</td>\n",
       "      <td>pos</td>\n",
       "    </tr>\n",
       "    <tr>\n",
       "      <th>11</th>\n",
       "      <td>' دعاء نازله الجنينة حياتى♥ #StaracArabia  #DoaaElSebaii  دعاء السباعي دعاء السباعى دعاء السباعى '</td>\n",
       "      <td>pos</td>\n",
       "    </tr>\n",
       "    <tr>\n",
       "      <th>12</th>\n",
       "      <td>' @f7271c87648b4c5 لحد دلوقتي بيقول انه فاهم ...مش عارفه ليه حاسه انه بيكذب '</td>\n",
       "      <td>neg</td>\n",
       "    </tr>\n",
       "    <tr>\n",
       "      <th>13</th>\n",
       "      <td>' @MhmoudElgameil انا مشروخ مشروخ يا جمي '</td>\n",
       "      <td>neg</td>\n",
       "    </tr>\n",
       "    <tr>\n",
       "      <th>14</th>\n",
       "      <td>' \"\"\"مشيشتش بقالي أسبوع، انه إنجاز :D\"\"\"\" '</td>\n",
       "      <td>pos</td>\n",
       "    </tr>\n",
       "    <tr>\n",
       "      <th>15</th>\n",
       "      <td>' كفايه البصه اللي ببصها لحد و انا مش طايق الحد ده .. '</td>\n",
       "      <td>neg</td>\n",
       "    </tr>\n",
       "    <tr>\n",
       "      <th>16</th>\n",
       "      <td>' احساس ان فى حد تانى خد مكانك من وسط الناس اللى بتحبهم وهما سابوه يخدو عادى . احساس وحش اوى '</td>\n",
       "      <td>neg</td>\n",
       "    </tr>\n",
       "    <tr>\n",
       "      <th>17</th>\n",
       "      <td>' @memoali4ever  بس انا كنت بحب المدرس بتاعها فلذلك حبتها '</td>\n",
       "      <td>pos</td>\n",
       "    </tr>\n",
       "    <tr>\n",
       "      <th>18</th>\n",
       "      <td>' و مين غيرك في قلبي اكتبله مرسالي '</td>\n",
       "      <td>pos</td>\n",
       "    </tr>\n",
       "    <tr>\n",
       "      <th>19</th>\n",
       "      <td>' السكينة لباسه والبر شعاره والتقوى ضميره والحكمة مقوله والصدق والوفاء طبيعته والعفو والمعروف خلقه والعدل سيرته والحق شريعته والهدى امامه '</td>\n",
       "      <td>pos</td>\n",
       "    </tr>\n",
       "    <tr>\n",
       "      <th>20</th>\n",
       "      <td>' @NesmaAbouleila @Tahoun71 ربنا يشفيه ويقوم بالسلامه ويشفى كل مريض '</td>\n",
       "      <td>pos</td>\n",
       "    </tr>\n",
       "    <tr>\n",
       "      <th>21</th>\n",
       "      <td>' \"\"\"متيأسش من اللي فات، واستبشر باللي جاي .. ربك كريم\"\"\"\" '</td>\n",
       "      <td>pos</td>\n",
       "    </tr>\n",
       "    <tr>\n",
       "      <th>22</th>\n",
       "      <td>' \"\\\"\"@123Abdoibr: #عاجل  تردد قنوات الجزيره مباشر مصر التركيه دا التردد ياشباب 10921 علي معدل ترميز 27500 مدار 3 نايل سات مبروك يااحرار شير\\\"\"\\\"\" '</td>\n",
       "      <td>neu</td>\n",
       "    </tr>\n",
       "    <tr>\n",
       "      <th>23</th>\n",
       "      <td>' \"التايم لاين مُفرح بطريقة تفرّح :\\\"\")) '</td>\n",
       "      <td>pos</td>\n",
       "    </tr>\n",
       "    <tr>\n",
       "      <th>24</th>\n",
       "      <td>' خخخخخخخ كسم تضيع الرميات '</td>\n",
       "      <td>neg</td>\n",
       "    </tr>\n",
       "    <tr>\n",
       "      <th>25</th>\n",
       "      <td>' متخصصين بنضيع ضربات جزاء ف كره القدم ورميات حره ف السله مرار '</td>\n",
       "      <td>neg</td>\n",
       "    </tr>\n",
       "    <tr>\n",
       "      <th>26</th>\n",
       "      <td>' @waled21148264 اهل مكة ادرى بشعابها '</td>\n",
       "      <td>neu</td>\n",
       "    </tr>\n",
       "    <tr>\n",
       "      <th>27</th>\n",
       "      <td>' حالة من الاكتئاب و البؤس .. '</td>\n",
       "      <td>neg</td>\n",
       "    </tr>\n",
       "    <tr>\n",
       "      <th>28</th>\n",
       "      <td>' 32 ثانيه .. الفرق 55 لينا .. ياااارب '</td>\n",
       "      <td>pos</td>\n",
       "    </tr>\n",
       "    <tr>\n",
       "      <th>29</th>\n",
       "      <td>' \"\"\"إذا بلغك عن أخيك شيء تكرهه ، فالتمس له العذر جهدك ،فإن لم تجد له عذرا ، فقل : لعل له عذرا لا أعلمه.... ربنا يسامح ..\"\"\"\" '</td>\n",
       "      <td>pos</td>\n",
       "    </tr>\n",
       "    <tr>\n",
       "      <th>30</th>\n",
       "      <td>' على الصقفة كلة يرقص على الصقفة كلة يرقص  زماااااااااااااااااااااااااالك '</td>\n",
       "      <td>pos</td>\n",
       "    </tr>\n",
       "    <tr>\n",
       "      <th>31</th>\n",
       "      <td>' احساس ان الدنيا تسود ادامك كره واحده وتلاقى هموم تقيله وقعت علىيك فجاه  احساس وحش اوووى '</td>\n",
       "      <td>neg</td>\n",
       "    </tr>\n",
       "    <tr>\n",
       "      <th>32</th>\n",
       "      <td>' من يملك الأخلاق والأدب يسكن في القلوب إلى الأدب '</td>\n",
       "      <td>pos</td>\n",
       "    </tr>\n",
       "    <tr>\n",
       "      <th>33</th>\n",
       "      <td>' @mimi_kokaice76 بس بيشتم مينا ! '</td>\n",
       "      <td>neg</td>\n",
       "    </tr>\n",
       "    <tr>\n",
       "      <th>34</th>\n",
       "      <td>' \"الحياة ال ف خيالي حلوة اوووي :\\\"\") '</td>\n",
       "      <td>pos</td>\n",
       "    </tr>\n",
       "    <tr>\n",
       "      <th>35</th>\n",
       "      <td>' لا تيأس إذا حرمك الله ما تحب ولا تحزن إذا انجبرت على التعايش مع وضع قد يؤلمك بل إبتسم لأن الله قال بكل رحمة وعسى أن تكرهوا شيئا وهو خير لكم '</td>\n",
       "      <td>pos</td>\n",
       "    </tr>\n",
       "    <tr>\n",
       "      <th>36</th>\n",
       "      <td>' مفتقدة اوي فكرة ان يكون في حد قدي في البيت. '</td>\n",
       "      <td>neg</td>\n",
       "    </tr>\n",
       "    <tr>\n",
       "      <th>37</th>\n",
       "      <td>' النهايات السعيده دائما تاتي في المشمش '</td>\n",
       "      <td>neg</td>\n",
       "    </tr>\n",
       "    <tr>\n",
       "      <th>38</th>\n",
       "      <td>' @ALIABAS81096753 @69_sou ياحﻻوتك ياسيسي استقبال رائع لرئيس مصر الججيدة القوية '</td>\n",
       "      <td>pos</td>\n",
       "    </tr>\n",
       "    <tr>\n",
       "      <th>39</th>\n",
       "      <td>' صحيح ان الغربة صعبة بس الوحدة جميلة :D تخلص من هموم الناس وتفضى لهومك تحلها :) '</td>\n",
       "      <td>pos</td>\n",
       "    </tr>\n",
       "    <tr>\n",
       "      <th>40</th>\n",
       "      <td>' \"\"\"مُرتَدٌّ أنا عن حُبكِ و إن أهدرتى دمى المُباحُ ، فإن كان الإيمَانُ فى قُرَبكِ فالكفر بكِ فَلاحُ !\"\"\"\" '</td>\n",
       "      <td>neg</td>\n",
       "    </tr>\n",
       "    <tr>\n",
       "      <th>41</th>\n",
       "      <td>' \"\\\"\"@do_dy89: صعبه لما تفتكر انك مهم عند حد وف الاخر تكتشف انك كنت غلطان\\\"\" http://t.co/De82zZpxeL '</td>\n",
       "      <td>neg</td>\n",
       "    </tr>\n",
       "    <tr>\n",
       "      <th>42</th>\n",
       "      <td>' @weaamhilali  هاتيهم اخرج بيهم انا '</td>\n",
       "      <td>neu</td>\n",
       "    </tr>\n",
       "    <tr>\n",
       "      <th>43</th>\n",
       "      <td>' @Mohamed_Helmy_T انا مضايق قوي ..  بصوت فداء '</td>\n",
       "      <td>neg</td>\n",
       "    </tr>\n",
       "    <tr>\n",
       "      <th>44</th>\n",
       "      <td>' الحرية لﻻولتراس الحرية للمدرج الكورة للجمهور يا داخلية وسخة '</td>\n",
       "      <td>neg</td>\n",
       "    </tr>\n",
       "    <tr>\n",
       "      <th>45</th>\n",
       "      <td>' ده قالي في يوم يا حبيبتى خدي القمر  ورحت معاه ومااداني إلا السهر '</td>\n",
       "      <td>neg</td>\n",
       "    </tr>\n",
       "    <tr>\n",
       "      <th>46</th>\n",
       "      <td>' ومين في مصر مابيحبش يرجع البيت يلاقي الغدا مكرونة وفراخ بانيه ؟؟ '</td>\n",
       "      <td>neu</td>\n",
       "    </tr>\n",
       "    <tr>\n",
       "      <th>47</th>\n",
       "      <td>' وخيمت عيناك بليلى -------- وغادر نبضك عالمى ---------- عيناك منسيتان '</td>\n",
       "      <td>neg</td>\n",
       "    </tr>\n",
       "    <tr>\n",
       "      <th>48</th>\n",
       "      <td>' @teamah77 @medhat65 ربنا يحفظك من كل شر و يبارك فيكي '</td>\n",
       "      <td>pos</td>\n",
       "    </tr>\n",
       "    <tr>\n",
       "      <th>49</th>\n",
       "      <td>' جيل الايباد بمناسبة الامتحانات مامته بتقولوا ذاكر عاوزاك تاكل الكتاب اكل قالها هاتى كوباية ميه واعملى شاى علشان احبس ههههههههههههههههههههههه '</td>\n",
       "      <td>neu</td>\n",
       "    </tr>\n",
       "    <tr>\n",
       "      <th>50</th>\n",
       "      <td>' @sarrranagi إنا لله و إنا إليه راجعون  طب ممكن لينك المكتب الحقوقى '</td>\n",
       "      <td>neg</td>\n",
       "    </tr>\n",
       "    <tr>\n",
       "      <th>51</th>\n",
       "      <td>' دا الدين في عرف الحر هم و مذلة و مر '</td>\n",
       "      <td>neg</td>\n",
       "    </tr>\n",
       "    <tr>\n",
       "      <th>52</th>\n",
       "      <td>' @monyadel982 @DesoukyAya اه والله حرقوا دمنا يلا بنحب مجانين '</td>\n",
       "      <td>neg</td>\n",
       "    </tr>\n",
       "    <tr>\n",
       "      <th>53</th>\n",
       "      <td>' قرب من ربنا وهتقرب منك كل حاجة حلوة ♥ '</td>\n",
       "      <td>pos</td>\n",
       "    </tr>\n",
       "    <tr>\n",
       "      <th>54</th>\n",
       "      <td>' #KirazMevsimi #MohammadChahine  ياريت نكسف التصويت على رقم 2222222 للصوت الدهبى http://t.co/uNmOarkblk '</td>\n",
       "      <td>pos</td>\n",
       "    </tr>\n",
       "    <tr>\n",
       "      <th>55</th>\n",
       "      <td>' ومن تانى اكيد راجعين انا دايب وكلى حنين '</td>\n",
       "      <td>pos</td>\n",
       "    </tr>\n",
       "    <tr>\n",
       "      <th>56</th>\n",
       "      <td>' اللي يشوفها في الشارع ميشوفهاش ع الانستجرام '</td>\n",
       "      <td>neg</td>\n",
       "    </tr>\n",
       "    <tr>\n",
       "      <th>57</th>\n",
       "      <td>' من ٤ سنين اتفرجت ع مسلسل برغم اني بكره المسلسلات ان واحده تتعمي واللي بيحبها يروح يدرس مخصوص طب عيون علشان يعالجها ده قهره جماعيه يا جماعه '</td>\n",
       "      <td>neg</td>\n",
       "    </tr>\n",
       "    <tr>\n",
       "      <th>58</th>\n",
       "      <td>' @CBCeXtra افلح أن صدق والمقصود..(قطر( '</td>\n",
       "      <td>neg</td>\n",
       "    </tr>\n",
       "    <tr>\n",
       "      <th>59</th>\n",
       "      <td>' قاعدة الصحاب في نص الاسبوع بتقرب اكتر من قاعدة اخر الأسبوع '</td>\n",
       "      <td>neu</td>\n",
       "    </tr>\n",
       "    <tr>\n",
       "      <th>60</th>\n",
       "      <td>' \"\"\"\\\"\"@seksek: هذه الدنيا كتاب انت فيه الفكر، من القائل\\\"\" الست\"\"\"\" '</td>\n",
       "      <td>neu</td>\n",
       "    </tr>\n",
       "    <tr>\n",
       "      <th>61</th>\n",
       "      <td>' دلوقتي جاي بتلعب على الي خبزك وعجنك ! '</td>\n",
       "      <td>neg</td>\n",
       "    </tr>\n",
       "    <tr>\n",
       "      <th>62</th>\n",
       "      <td>' \"@hanaa35 الخوف بألف نصل ---- كل نصل ينغرس فى حلم قادم ---- فتسود حالة نزف لكل الأحلام ---- ويسود البحث عن ذرة أمان \\\"\" وآمنهم من خوف \\\"\" '</td>\n",
       "      <td>neg</td>\n",
       "    </tr>\n",
       "    <tr>\n",
       "      <th>63</th>\n",
       "      <td>' الستاذ امير طعيمه اتصور سلفى مع شاهين ومينا بجوار كاس لقب ستار اكادمى ♥  #MohammadChahine '</td>\n",
       "      <td>neu</td>\n",
       "    </tr>\n",
       "    <tr>\n",
       "      <th>64</th>\n",
       "      <td>' انت اخر واحد ف الدنيا ممكن شيرين تبكى عليه .. انت فاهم ! '</td>\n",
       "      <td>neg</td>\n",
       "    </tr>\n",
       "    <tr>\n",
       "      <th>65</th>\n",
       "      <td>' @aaaahmad21  طبعا اهم من الكتابه والاحساس الاملاء الشيء لزوم الشيء  ..^^ '</td>\n",
       "      <td>neu</td>\n",
       "    </tr>\n",
       "    <tr>\n",
       "      <th>66</th>\n",
       "      <td>' @sohamorsy مساك أروع '</td>\n",
       "      <td>pos</td>\n",
       "    </tr>\n",
       "    <tr>\n",
       "      <th>67</th>\n",
       "      <td>' @sSoOma17 فى حد بعت هداي لشيرو '</td>\n",
       "      <td>neu</td>\n",
       "    </tr>\n",
       "    <tr>\n",
       "      <th>68</th>\n",
       "      <td>' كنترووووووووول نادوا دعاء بقى #StaracArabia #DoaaElSebaii '</td>\n",
       "      <td>neu</td>\n",
       "    </tr>\n",
       "    <tr>\n",
       "      <th>69</th>\n",
       "      <td>' كنت بائس من حياتى وحزين الساعه12 لكن دلوقتى متفأل ومبسوط فشخ  سبحان مغير اﻻحوال '</td>\n",
       "      <td>pos</td>\n",
       "    </tr>\n",
       "    <tr>\n",
       "      <th>70</th>\n",
       "      <td>' اوعي تستسهل ماده '</td>\n",
       "      <td>neu</td>\n",
       "    </tr>\n",
       "    <tr>\n",
       "      <th>71</th>\n",
       "      <td>' ماهو خلص الفيلم اللي كتبته علي عكس ما كنت انا بتمني .. دا انا كنت في حبك من الاول ابليس متعشم في الجنه '</td>\n",
       "      <td>neg</td>\n",
       "    </tr>\n",
       "    <tr>\n",
       "      <th>72</th>\n",
       "      <td>' انا من كتر الانشغال حاسس ان في وقت اجازتي كائن غريب في بيتي بتعرف علي الاسرة من اول وجديد '</td>\n",
       "      <td>neg</td>\n",
       "    </tr>\n",
       "    <tr>\n",
       "      <th>73</th>\n",
       "      <td>' اه علي الجامعة و امتحانات الجامعة '</td>\n",
       "      <td>neg</td>\n",
       "    </tr>\n",
       "    <tr>\n",
       "      <th>74</th>\n",
       "      <td>' @Dinaelhendwy فعلا صح عندك حق الله يرحمك يا امى '</td>\n",
       "      <td>pos</td>\n",
       "    </tr>\n",
       "    <tr>\n",
       "      <th>75</th>\n",
       "      <td>' تيجى عليه يابن الاحبى بورده   ....يسلم على كس امك '</td>\n",
       "      <td>neg</td>\n",
       "    </tr>\n",
       "    <tr>\n",
       "      <th>76</th>\n",
       "      <td>' @NightStars777 ربنا معاك ان شاء الله '</td>\n",
       "      <td>pos</td>\n",
       "    </tr>\n",
       "    <tr>\n",
       "      <th>77</th>\n",
       "      <td>' سهام الليل صائبة المرامي اذا وترت باوتار الخشوع يسددها الى المرمى رجال يطيلون السجود مع الركوع '</td>\n",
       "      <td>neu</td>\n",
       "    </tr>\n",
       "    <tr>\n",
       "      <th>78</th>\n",
       "      <td>' قاطعهم وقل لهم: تباً لكم ! '</td>\n",
       "      <td>neg</td>\n",
       "    </tr>\n",
       "    <tr>\n",
       "      <th>79</th>\n",
       "      <td>' راح -_- '</td>\n",
       "      <td>neg</td>\n",
       "    </tr>\n",
       "    <tr>\n",
       "      <th>80</th>\n",
       "      <td>' \"\"\"حين نكون مفرغين ولا نحوي إلا الخواء ، حينها سوف نكون أقل شعوراً بالألم.\"\"\"\" '</td>\n",
       "      <td>neg</td>\n",
       "    </tr>\n",
       "    <tr>\n",
       "      <th>81</th>\n",
       "      <td>' @iMiruuzz انتي المفروض ثانوي صح؟ '</td>\n",
       "      <td>neu</td>\n",
       "    </tr>\n",
       "    <tr>\n",
       "      <th>82</th>\n",
       "      <td>' انا من يوم السبت هبدا مذاكرة ✋ '</td>\n",
       "      <td>neu</td>\n",
       "    </tr>\n",
       "    <tr>\n",
       "      <th>83</th>\n",
       "      <td>' @heshamelDali تفكيرك في محله✋ '</td>\n",
       "      <td>pos</td>\n",
       "    </tr>\n",
       "    <tr>\n",
       "      <th>84</th>\n",
       "      <td>' صباح جديد على اهلي فى تويتر '</td>\n",
       "      <td>pos</td>\n",
       "    </tr>\n",
       "    <tr>\n",
       "      <th>85</th>\n",
       "      <td>' طبعا انتي سقعانين وانا كمان  بس انا عرقان والسخونيه ديه بنت جزمه '</td>\n",
       "      <td>neg</td>\n",
       "    </tr>\n",
       "    <tr>\n",
       "      <th>86</th>\n",
       "      <td>' @AbyHegazy وانت من اهل ميتين امه ياحما '</td>\n",
       "      <td>neg</td>\n",
       "    </tr>\n",
       "    <tr>\n",
       "      <th>87</th>\n",
       "      <td>' كنت زمان بستنى سؤالك عني دلوقتي مبقاش يفرق. '</td>\n",
       "      <td>neg</td>\n",
       "    </tr>\n",
       "    <tr>\n",
       "      <th>88</th>\n",
       "      <td>' \"بس سيبك انت ... انا مبسوط باللى حصل انهارده و امبارح ... \\\"\" محدش قالى عقبالك \\\"\" :D =))) '</td>\n",
       "      <td>pos</td>\n",
       "    </tr>\n",
       "    <tr>\n",
       "      <th>89</th>\n",
       "      <td>' \"#الوطن   عبدالمنعم إبراهيم.. \\\"\"فتافيت سكر\\\"\" السينما المصرية http://t.co/B3apRKiogz '</td>\n",
       "      <td>neu</td>\n",
       "    </tr>\n",
       "    <tr>\n",
       "      <th>90</th>\n",
       "      <td>' فرقوا بين الناس اللي بتحبكو و فارقين معاهم و بين اللي انتو بنسبه لهم ولا حاجة '</td>\n",
       "      <td>neu</td>\n",
       "    </tr>\n",
       "    <tr>\n",
       "      <th>91</th>\n",
       "      <td>' \"\"\"@MohabE_ لأ، عرص\"\"\"\" '</td>\n",
       "      <td>neg</td>\n",
       "    </tr>\n",
       "    <tr>\n",
       "      <th>92</th>\n",
       "      <td>' المشكلة ان انا لسه جعانة بجد :D '</td>\n",
       "      <td>neu</td>\n",
       "    </tr>\n",
       "    <tr>\n",
       "      <th>93</th>\n",
       "      <td>' @Alshaikh2 شاعرنا المحترم يعنى اية العيون االممكنة اة تعنى كلمة ممكنة مش فاهمة حاجة ممكن رد '</td>\n",
       "      <td>neu</td>\n",
       "    </tr>\n",
       "    <tr>\n",
       "      <th>94</th>\n",
       "      <td>' و يا رب عدلها. '</td>\n",
       "      <td>pos</td>\n",
       "    </tr>\n",
       "    <tr>\n",
       "      <th>95</th>\n",
       "      <td>' انا كل ما اعرف حد ابن ناس يطلع يا كان صايع وربنا هداه يأما ابن ناس وحد على افاه فا هيبقى صايع  طب ليه كده طا '</td>\n",
       "      <td>neg</td>\n",
       "    </tr>\n",
       "    <tr>\n",
       "      <th>96</th>\n",
       "      <td>' @lmooos_7 @Tomi987123 @safi2332 يلا تصبحوا ع خير♥♥ '</td>\n",
       "      <td>pos</td>\n",
       "    </tr>\n",
       "    <tr>\n",
       "      <th>97</th>\n",
       "      <td>' @samezabi @rim0o01 اصلا مسلسل الشمال والجنوب ده بكرهه كله علي بعضه كفايوة فانزه الغتت '</td>\n",
       "      <td>neg</td>\n",
       "    </tr>\n",
       "    <tr>\n",
       "      <th>98</th>\n",
       "      <td>' نحن على بعد خطوات بسيطة من تحقيق حلم شاهين كلها يومين والحلم يتحقق  تخيلوا الفرحه على وشوشهم يوم اعلان النتيجه بفوز شاهين  #MohammadChahine '</td>\n",
       "      <td>pos</td>\n",
       "    </tr>\n",
       "    <tr>\n",
       "      <th>99</th>\n",
       "      <td>' مبحبش ابين اني مضايقة والله بس بيبان عليا و بقلب وشي من غير قصد '</td>\n",
       "      <td>neg</td>\n",
       "    </tr>\n",
       "    <tr>\n",
       "      <th>100</th>\n",
       "      <td>' @dodokemo98 @nona24_nona حسبي الله ونعم الوكيل :( '</td>\n",
       "      <td>neg</td>\n",
       "    </tr>\n",
       "    <tr>\n",
       "      <th>101</th>\n",
       "      <td>' احنا الزمالك احنا ولا نسيتوا :P '</td>\n",
       "      <td>pos</td>\n",
       "    </tr>\n",
       "    <tr>\n",
       "      <th>102</th>\n",
       "      <td>' @kamilia27644962 @cerinelle @mscallstephany @negoombookra @BRNSESREM  ربنا يهديكي '</td>\n",
       "      <td>neg</td>\n",
       "    </tr>\n",
       "    <tr>\n",
       "      <th>103</th>\n",
       "      <td>' وقلبي نبضه صوت نبضك.. '</td>\n",
       "      <td>pos</td>\n",
       "    </tr>\n",
       "    <tr>\n",
       "      <th>104</th>\n",
       "      <td>' ياسمين حمدان - لا مش أنا اللي ابكي '</td>\n",
       "      <td>neu</td>\n",
       "    </tr>\n",
       "    <tr>\n",
       "      <th>105</th>\n",
       "      <td>' فيه شخصيات فى حياتى موجودة بس عشان تحرقلى دمى. '</td>\n",
       "      <td>neg</td>\n",
       "    </tr>\n",
       "    <tr>\n",
       "      <th>106</th>\n",
       "      <td>' @FOmar050280 @9633656hhh استغفر الله العظيم '</td>\n",
       "      <td>neg</td>\n",
       "    </tr>\n",
       "    <tr>\n",
       "      <th>107</th>\n",
       "      <td>' تحلو مراره عيشي في رضااالك ............. '</td>\n",
       "      <td>pos</td>\n",
       "    </tr>\n",
       "    <tr>\n",
       "      <th>108</th>\n",
       "      <td>' اهون عليكي تهونى عليا  يالا ف داهيه :) #كرهتك '</td>\n",
       "      <td>neg</td>\n",
       "    </tr>\n",
       "    <tr>\n",
       "      <th>109</th>\n",
       "      <td>' @Mawada_Hashim - هتنجحي خلاص نامي و ضميرك مرتاح '</td>\n",
       "      <td>pos</td>\n",
       "    </tr>\n",
       "    <tr>\n",
       "      <th>110</th>\n",
       "      <td>' ورأيا امتحان ابن جزمة كمان خمس ساعات و مش ناقصة '</td>\n",
       "      <td>neg</td>\n",
       "    </tr>\n",
       "    <tr>\n",
       "      <th>111</th>\n",
       "      <td>' @ZohooZohor @AaAaasads الحمد لله '</td>\n",
       "      <td>pos</td>\n",
       "    </tr>\n",
       "    <tr>\n",
       "      <th>112</th>\n",
       "      <td>' \"\"\"#عن كام مره حبيت صدفة ، و كام مره لعنتها .\"\"\"\" '</td>\n",
       "      <td>neg</td>\n",
       "    </tr>\n",
       "    <tr>\n",
       "      <th>113</th>\n",
       "      <td>' \"\\\"\"@reeem12345s: كَثيرهہ هَيّ آمآنينآ فَ يآربَ حققّ         مآ ترآهُ خيراً لنآ..ويسعدنا♡~ ” http://t.co/3mF5fbSLaG\\\"\" '</td>\n",
       "      <td>pos</td>\n",
       "    </tr>\n",
       "    <tr>\n",
       "      <th>114</th>\n",
       "      <td>' ليث نايم وفرحنا اننا شوفناه بيضحك الاكاديمي هتخلص بكرة احنا فاضين دلوقتي ع التصويت بليزز #LaithAbuJoda ليث أبو جودة '</td>\n",
       "      <td>pos</td>\n",
       "    </tr>\n",
       "    <tr>\n",
       "      <th>115</th>\n",
       "      <td>' ان شاء الله نصبح علي خير :) '</td>\n",
       "      <td>pos</td>\n",
       "    </tr>\n",
       "    <tr>\n",
       "      <th>116</th>\n",
       "      <td>' @shababic اعلام ابن ميتشين كلب :) '</td>\n",
       "      <td>neg</td>\n",
       "    </tr>\n",
       "    <tr>\n",
       "      <th>117</th>\n",
       "      <td>' \"\"\"اللهم طهر قلبي من كل ضيق، ويسر لي أمري في كل طريق\"\"\"\" '</td>\n",
       "      <td>pos</td>\n",
       "    </tr>\n",
       "    <tr>\n",
       "      <th>118</th>\n",
       "      <td>' \"\\\"\"بوح  ياحادي العيس وينك غايبٍ  مده اليوم لاعيس لاصحرا  ولا حادي  ماغير ذكرى تهز القلب ٠٠وتهده واقول عادي وهو والله مهو عادي  ٠ ٠ #ذلك_الرجل\\\"\" '</td>\n",
       "      <td>neg</td>\n",
       "    </tr>\n",
       "    <tr>\n",
       "      <th>119</th>\n",
       "      <td>' انت اول حب واخر حب هعيش وياه... واللى بينى وبينك احساس اكبر من معناه '</td>\n",
       "      <td>pos</td>\n",
       "    </tr>\n",
       "    <tr>\n",
       "      <th>120</th>\n",
       "      <td>' @meroobas اه التييييييت بس احنا سرقنا صور كتييييير  هطلع عليهم النكد كله '</td>\n",
       "      <td>neg</td>\n",
       "    </tr>\n",
       "    <tr>\n",
       "      <th>121</th>\n",
       "      <td>' الفكره اللي ماخذينها عني؟ رجعوها والمره اليايه لا تاخذون شي مو لكم عيب هالحركات '</td>\n",
       "      <td>neg</td>\n",
       "    </tr>\n",
       "    <tr>\n",
       "      <th>122</th>\n",
       "      <td>' \"\"\"انا فضلت متمسمره :  للدرجة دى انا مبحسش اسأله طلعت فى راسي وطفيت الاغانى وبعدين قولت طب وانا هعمل ايه وشغلت الاغانى تانى :\\\"\"\"\"\"\" '</td>\n",
       "      <td>neg</td>\n",
       "    </tr>\n",
       "    <tr>\n",
       "      <th>123</th>\n",
       "      <td>' الشـتـا  مبيسيبـش حد سعيـد .. '</td>\n",
       "      <td>neg</td>\n",
       "    </tr>\n",
       "    <tr>\n",
       "      <th>124</th>\n",
       "      <td>' آنا كدا خلاص آخري جاب آخره مني . '</td>\n",
       "      <td>neg</td>\n",
       "    </tr>\n",
       "    <tr>\n",
       "      <th>125</th>\n",
       "      <td>' @DrBassemYoussef باسم يوسف انت خول وامك عارفه '</td>\n",
       "      <td>neg</td>\n",
       "    </tr>\n",
       "    <tr>\n",
       "      <th>126</th>\n",
       "      <td>' بس انا لو غبيه كنت هرتاح المشكله اني بتغابي  و لو بنسي هرتاح برضو المشكله اني بتناسي و مش بعرف اسامح كمان و مفرمله نفسي اني انتقم '</td>\n",
       "      <td>neg</td>\n",
       "    </tr>\n",
       "    <tr>\n",
       "      <th>127</th>\n",
       "      <td>' @memoo_f151 تسلمواااااااااا '</td>\n",
       "      <td>pos</td>\n",
       "    </tr>\n",
       "    <tr>\n",
       "      <th>128</th>\n",
       "      <td>' @balawi2 وانا من الناس يارب واشتقت الى بيتك الذي وضعته لنا .. فاللهم ارزقنا زيارته '</td>\n",
       "      <td>pos</td>\n",
       "    </tr>\n",
       "    <tr>\n",
       "      <th>129</th>\n",
       "      <td>' @DesoukyAya @meroobas همسكهم الاتنين و اخبطهم في حيطة و نبدأ على نضيف '</td>\n",
       "      <td>neg</td>\n",
       "    </tr>\n",
       "    <tr>\n",
       "      <th>130</th>\n",
       "      <td>' \"\"\"انا المفروض اروح الكليه بكره، اللي هو النهارده الصبح يعني عشان ادفع المصاريف عشان مش هدخل الامتحان لو مدفعتهاش :\\\"\"D\"\"\"\" '</td>\n",
       "      <td>neg</td>\n",
       "    </tr>\n",
       "    <tr>\n",
       "      <th>131</th>\n",
       "      <td>' اللي ميخافش من ربنا .. خاف منه '</td>\n",
       "      <td>neu</td>\n",
       "    </tr>\n",
       "    <tr>\n",
       "      <th>132</th>\n",
       "      <td>' @yosraabdelwaha2 انتي منين اصلا وعايشه فين '</td>\n",
       "      <td>neu</td>\n",
       "    </tr>\n",
       "    <tr>\n",
       "      <th>133</th>\n",
       "      <td>' صلاه الفجر '</td>\n",
       "      <td>neu</td>\n",
       "    </tr>\n",
       "    <tr>\n",
       "      <th>134</th>\n",
       "      <td>' @omarhamdino هل المشكله بتواجهك فى مكان محدد ولا اى مكان ؟ وبالنسبه لخدمة ال3G ايه علامة التغطيه الخاصه بالانترنت اللى بتظهر لك ؟ Zahran '</td>\n",
       "      <td>neu</td>\n",
       "    </tr>\n",
       "    <tr>\n",
       "      <th>135</th>\n",
       "      <td>' @Ahlam_Alshamsi اللهم تقبل منا ومنكم صالح الأعمال '</td>\n",
       "      <td>pos</td>\n",
       "    </tr>\n",
       "    <tr>\n",
       "      <th>136</th>\n",
       "      <td>' ممكن حد يكرهك بمجرد انك محبوب لناس كتير '</td>\n",
       "      <td>neg</td>\n",
       "    </tr>\n",
       "    <tr>\n",
       "      <th>137</th>\n",
       "      <td>' @wahetaleslam كل سنه وانتى طيبه  يامديره واحه الاسلام وربنا ىزيدك نور ورفعه انتى والمنتدى بتاعك اتمنى لكم كل الخيرات واارفعه على الدوام '</td>\n",
       "      <td>pos</td>\n",
       "    </tr>\n",
       "    <tr>\n",
       "      <th>138</th>\n",
       "      <td>' اللهم بشرنا بشارة خير لم نتوقعها ولم نكن نحلم بها ورزقنا رزقاً لم نسألك اياه ولم يخطر ببالنا وجنباً شراً انت اعلم به منا ياحي ياقيوم '</td>\n",
       "      <td>pos</td>\n",
       "    </tr>\n",
       "    <tr>\n",
       "      <th>139</th>\n",
       "      <td>' @Abas68Said ياصباح الفل.. '</td>\n",
       "      <td>pos</td>\n",
       "    </tr>\n",
       "    <tr>\n",
       "      <th>140</th>\n",
       "      <td>' @meriem_Hd4  حد قالك انك واحدة وسخة بلوووك '</td>\n",
       "      <td>neg</td>\n",
       "    </tr>\n",
       "    <tr>\n",
       "      <th>141</th>\n",
       "      <td>' @Maroc_tiskat22 اة دة هدفك يعني من القصة انك تعملي فتنة صح متخافيش فانز سلوم وفانز بسوم واحد وياما عدت اشكال زي دي ومأثرتش فينا '</td>\n",
       "      <td>neg</td>\n",
       "    </tr>\n",
       "    <tr>\n",
       "      <th>142</th>\n",
       "      <td>' \"\\\"\"@3asheg1972: وكنتُ أزعم مثل الناس إذ زعموا .. بأن من غاب عني غاب عن بالي واليوم كذّبني قلبي وكذّبتهم .. فارقتهم..وأقاموا بين أوصالي\\\"\" '</td>\n",
       "      <td>neg</td>\n",
       "    </tr>\n",
       "    <tr>\n",
       "      <th>143</th>\n",
       "      <td>' @rowaf @Bahraini_ADV وان يرزقك خدمتها علي اكمل وجه ويكتب الله لك الثواب '</td>\n",
       "      <td>pos</td>\n",
       "    </tr>\n",
       "    <tr>\n",
       "      <th>144</th>\n",
       "      <td>' كنت بحب المذيعة دينا عصمت لما كانت على قناة النيل للأخبار و أون تي في. للأسف مستواها نزل على سي بي سي إكسترا. كانت قارئة نشرة ممتازة. '</td>\n",
       "      <td>neg</td>\n",
       "    </tr>\n",
       "    <tr>\n",
       "      <th>145</th>\n",
       "      <td>' انا خلاص قررت مش هذاكر حاجه غير ليلة الامتحان عشان كل مااذاكر حاجه انساها تاني ... كفايه تضييع وقت ف المذاكره بقي :/ '</td>\n",
       "      <td>neg</td>\n",
       "    </tr>\n",
       "    <tr>\n",
       "      <th>146</th>\n",
       "      <td>' كنت واقفة في البلكونة بدري كدة فلقيت عامل النظافة منضف الشارع يادوب طلع لأول الشارع ورجع تاني قام منضف تاني ولا هو #الاستهتار_اسلوب_حياه '</td>\n",
       "      <td>neg</td>\n",
       "    </tr>\n",
       "    <tr>\n",
       "      <th>147</th>\n",
       "      <td>' عيونها يتالف فيها اشعار '</td>\n",
       "      <td>pos</td>\n",
       "    </tr>\n",
       "    <tr>\n",
       "      <th>148</th>\n",
       "      <td>' سبحان الله وبحمده . http://t.co/bqDZM9LMUd '</td>\n",
       "      <td>neu</td>\n",
       "    </tr>\n",
       "    <tr>\n",
       "      <th>149</th>\n",
       "      <td>' أرموهم في أعماق البحار حتي تشتت الأمواج أشلائهم .. '</td>\n",
       "      <td>neg</td>\n",
       "    </tr>\n",
       "    <tr>\n",
       "      <th>150</th>\n",
       "      <td>' وأتارى المحاسبة غداره غداره . '</td>\n",
       "      <td>neg</td>\n",
       "    </tr>\n",
       "    <tr>\n",
       "      <th>151</th>\n",
       "      <td>' #عن الناس اللي عايشة عشان توجعك و بس '</td>\n",
       "      <td>neg</td>\n",
       "    </tr>\n",
       "    <tr>\n",
       "      <th>152</th>\n",
       "      <td>' \"\"\"وضوءك لصلاة الليل وصلاة الفجر ، مع شعورك بالبرد  هذه القشعريره كفيلة بنسف جبال الخطايا التي قد تحملها ♥\"\"\"\" '</td>\n",
       "      <td>pos</td>\n",
       "    </tr>\n",
       "    <tr>\n",
       "      <th>153</th>\n",
       "      <td>' @3nTbly صباح الورد يا عنتبلي بيه ! '</td>\n",
       "      <td>pos</td>\n",
       "    </tr>\n",
       "    <tr>\n",
       "      <th>154</th>\n",
       "      <td>' حد هنا شغال في بنك QNB '</td>\n",
       "      <td>neu</td>\n",
       "    </tr>\n",
       "    <tr>\n",
       "      <th>155</th>\n",
       "      <td>' @Msraweya اه و الله تعبنا فشخ '</td>\n",
       "      <td>neg</td>\n",
       "    </tr>\n",
       "    <tr>\n",
       "      <th>156</th>\n",
       "      <td>' يحيى لس مكلمنى مصتقدش إنه لسه حى ممتش '</td>\n",
       "      <td>pos</td>\n",
       "    </tr>\n",
       "    <tr>\n",
       "      <th>157</th>\n",
       "      <td>' وجهة نظر برده '</td>\n",
       "      <td>neu</td>\n",
       "    </tr>\n",
       "    <tr>\n",
       "      <th>158</th>\n",
       "      <td>' &amp;gt;.&amp;lt;أصبح الوضع ﻻ يطاق '</td>\n",
       "      <td>neg</td>\n",
       "    </tr>\n",
       "    <tr>\n",
       "      <th>159</th>\n",
       "      <td>' \"\\\"\"@AymanNour: http://t.co/wF7BlZD1XD في أول تصريح له السبسي يطلب تفويضا من الشعب لمواجهة إرهاب محتمل!! (واضح أن الكتلوج واحد)\\\"\" '</td>\n",
       "      <td>neg</td>\n",
       "    </tr>\n",
       "    <tr>\n",
       "      <th>160</th>\n",
       "      <td>' #كيف_ننصر_ديننا 1-السير في طريق العلم 2-الدعوة إلى الله بما معك من العلم 3-إن لم تستطع فكن محباً للعلم وأهله @Betaqadaawia '</td>\n",
       "      <td>neu</td>\n",
       "    </tr>\n",
       "    <tr>\n",
       "      <th>161</th>\n",
       "      <td>' مشكله اااي #بت انها عايزه الواد #يهتم بيها ال24 ساعه حتي وهو #نايم #الرحمه_حلوه '</td>\n",
       "      <td>neg</td>\n",
       "    </tr>\n",
       "    <tr>\n",
       "      <th>162</th>\n",
       "      <td>' @nadamuhamed16 يا ريت كلهم زيك يا بنتي والله '</td>\n",
       "      <td>pos</td>\n",
       "    </tr>\n",
       "    <tr>\n",
       "      <th>163</th>\n",
       "      <td>' صباحووو ^_^ '</td>\n",
       "      <td>pos</td>\n",
       "    </tr>\n",
       "    <tr>\n",
       "      <th>164</th>\n",
       "      <td>' \"#القرضاوي مهاجما #قطر: لا يحتفلون بالمولد النبوي ويحتفلون بـ\\\"\"الكريسماس\\\"\"  ماانت عايش في قطر من السينات لسه واخد بالك دلوقتي '</td>\n",
       "      <td>neg</td>\n",
       "    </tr>\n",
       "    <tr>\n",
       "      <th>165</th>\n",
       "      <td>' #الوطن  بالفيديو  #القرضاوي يهاجم #قطر: لا يحتفلون بالمولد النبوي ويعتبرونه بدعة  http://t.co/C7UK8dwc1V '</td>\n",
       "      <td>neu</td>\n",
       "    </tr>\n",
       "    <tr>\n",
       "      <th>166</th>\n",
       "      <td>' طريقك مسدود مسدود يا ولدى  *بصوت سعيد صالح* '</td>\n",
       "      <td>neg</td>\n",
       "    </tr>\n",
       "    <tr>\n",
       "      <th>167</th>\n",
       "      <td>' @EgyptianPolice0 طيب ياشرطة يامصرية في كتير اخوان في المصالح الحكومية وعاملين شغب والمديرين بتخاف منهم وبيعملوا فتن واجتماعات '</td>\n",
       "      <td>neg</td>\n",
       "    </tr>\n",
       "    <tr>\n",
       "      <th>168</th>\n",
       "      <td>' ده انا كنت ناسي والله ورجعني الحنين .... وتحت شباكك بيرميني الحنين :/ '</td>\n",
       "      <td>neg</td>\n",
       "    </tr>\n",
       "    <tr>\n",
       "      <th>169</th>\n",
       "      <td>' @AymanNour انقلاب اية ربنا يقلب مصرانكم ان شاء الله '</td>\n",
       "      <td>neg</td>\n",
       "    </tr>\n",
       "    <tr>\n",
       "      <th>170</th>\n",
       "      <td>' احا .. يعنى صاحى على بليز كول مى وقولنا ماشى انما ملاقيش علبه السجاير .. احا بجد دا انا شارب منها سجارة واحده بس '</td>\n",
       "      <td>neg</td>\n",
       "    </tr>\n",
       "    <tr>\n",
       "      <th>171</th>\n",
       "      <td>' السنة ملهاش دعوة بنجاحك وفشلك والحقيقة انك فاشل عشان انت خول وعلق مش عشان انت سئ الحظ او قوانين الطبيعة والزمن بيتامروا عليك صانع الساعات '</td>\n",
       "      <td>neg</td>\n",
       "    </tr>\n",
       "    <tr>\n",
       "      <th>172</th>\n",
       "      <td>' \"\"\"قال رسول الله ﷺ \\\"\"لاتقولواللمنافق:سيدنا،فإنه إن يك سيدكم فقدأسخطتم ربكم-عزوجل-\\\"\". [الصحيحة:371]\"\"\"\" '</td>\n",
       "      <td>neu</td>\n",
       "    </tr>\n",
       "    <tr>\n",
       "      <th>173</th>\n",
       "      <td>' يَا رب  أمنحني قلب مبتسمَ يُسعد ﻣن حولي وَ آغمرھہ بَ آلقوّھہ وَ آﻟصبر  حتى لآ ﻳضعف آمآم شيء  [ سوآك ].. صباح الخيرات http://t.co/NwSmaSaI1r '</td>\n",
       "      <td>pos</td>\n",
       "    </tr>\n",
       "    <tr>\n",
       "      <th>174</th>\n",
       "      <td>' \"Mama said:\\\"\"هتيجبي ملاحق يا هيدي \\\"\" '</td>\n",
       "      <td>neg</td>\n",
       "    </tr>\n",
       "    <tr>\n",
       "      <th>175</th>\n",
       "      <td>' @ameeallam الثانوية دى بتنمى الغباء '</td>\n",
       "      <td>neg</td>\n",
       "    </tr>\n",
       "    <tr>\n",
       "      <th>176</th>\n",
       "      <td>' لا تطلب من الله مالا تستطيع تأدية شكره أو تحمل عبئه .والا. فلما ءاتاهم من فضله بخلوا به...... فأعقبهم نفاقا في قلوبهم إلى يوم يلقونه '</td>\n",
       "      <td>neu</td>\n",
       "    </tr>\n",
       "    <tr>\n",
       "      <th>177</th>\n",
       "      <td>' مش ينفع تكون متعاطف او مؤمن بفكرا او رآي او شخص او حزب او كيان.. الخ وتقارنه بشبيه  ولكن متناقض مع الشئ دا.. لن تكون منصف بالمرا :-) '</td>\n",
       "      <td>neg</td>\n",
       "    </tr>\n",
       "    <tr>\n",
       "      <th>178</th>\n",
       "      <td>' وَلَسَوْفَ يُعْطِيكَ رَبُّكَ فَتَرْضَى ﴿٥﴾ أَلَمْ يَجِدْكَ يَتِيمًا فَآوَى ﴿٦﴾ وَوَجَدَكَ ضَالًّا فَهَدَى ﴿٧﴾وَوَجَدَكَ عَائِلًا فَأَغْنَى '</td>\n",
       "      <td>pos</td>\n",
       "    </tr>\n",
       "    <tr>\n",
       "      <th>179</th>\n",
       "      <td>' #المصدر  #الروبل_الروسي يتراجع 0.7 \\% أمام الدولار  للمزيد :http://t.co/eQntVOB4uc http://t.co/RDHwJ6kxdO '</td>\n",
       "      <td>neu</td>\n",
       "    </tr>\n",
       "    <tr>\n",
       "      <th>180</th>\n",
       "      <td>' \"#المصدر  \\\"\"#برنت \\\"\"يتراجع باتجاه 61 دولارا للبرميل في التعاملات الاسيوية  للتفاصيل :http://t.co/HspdXCeuhw '</td>\n",
       "      <td>neu</td>\n",
       "    </tr>\n",
       "    <tr>\n",
       "      <th>181</th>\n",
       "      <td>' @LonaloloLona ♥ ♡مساااااااء_الخيراااااات♡♥ '</td>\n",
       "      <td>pos</td>\n",
       "    </tr>\n",
       "    <tr>\n",
       "      <th>182</th>\n",
       "      <td>' قم بتجهيز ملعب #نجيل_صناعي كامل متكامل مع #بيبا_سبورت بأقل سعر وضمان 8 سنوات http://t.co/zvM0NiRvqx 01027399960 - 01027399962 '</td>\n",
       "      <td>neu</td>\n",
       "    </tr>\n",
       "    <tr>\n",
       "      <th>183</th>\n",
       "      <td>' فؤاد المهندس و شويكار ! '</td>\n",
       "      <td>pos</td>\n",
       "    </tr>\n",
       "    <tr>\n",
       "      <th>184</th>\n",
       "      <td>' موديول منحس من اوله '</td>\n",
       "      <td>neg</td>\n",
       "    </tr>\n",
       "    <tr>\n",
       "      <th>185</th>\n",
       "      <td>' \"\\\"\"@JassmineHady: لك الحمد ربي عدد خلايا أجسادنا المتعافيه وعدد أيامنا التي لا نشكوا فيها وعدد نعمك التي لا نحصيها  #الحمدلله\\\"\" '</td>\n",
       "      <td>pos</td>\n",
       "    </tr>\n",
       "    <tr>\n",
       "      <th>186</th>\n",
       "      <td>' حفظ الله مصر http://t.co/mz6YSoxpRn '</td>\n",
       "      <td>pos</td>\n",
       "    </tr>\n",
       "    <tr>\n",
       "      <th>187</th>\n",
       "      <td>' \"\"\"شكراً لأنك في حياتي ، شكراً لأنك حياتي  صباح الحب ❤\"\"\"\" '</td>\n",
       "      <td>pos</td>\n",
       "    </tr>\n",
       "    <tr>\n",
       "      <th>188</th>\n",
       "      <td>' الملل بالنسبالى اشبه بالموت '</td>\n",
       "      <td>neg</td>\n",
       "    </tr>\n",
       "    <tr>\n",
       "      <th>189</th>\n",
       "      <td>' وتعيش يا جيش بلادى http://t.co/U1BVnYvvVO '</td>\n",
       "      <td>pos</td>\n",
       "    </tr>\n",
       "    <tr>\n",
       "      <th>190</th>\n",
       "      <td>' علبه كشرى وسط ب 6 جنيه !!!! يعنى لو اربع افراد ب 24 جنيه !!! بلد مفيش متها امل .. '</td>\n",
       "      <td>neg</td>\n",
       "    </tr>\n",
       "    <tr>\n",
       "      <th>191</th>\n",
       "      <td>' اصاله دى حاله جميله '</td>\n",
       "      <td>pos</td>\n",
       "    </tr>\n",
       "    <tr>\n",
       "      <th>192</th>\n",
       "      <td>' @Q55665 اريد عمل اناسائق '</td>\n",
       "      <td>neu</td>\n",
       "    </tr>\n",
       "    <tr>\n",
       "      <th>193</th>\n",
       "      <td>' سأبتسم في وجه من يكرهني فان لم أكسب محبته سأنجح في فقع مرارته  #تمثلنى وبشده '</td>\n",
       "      <td>neu</td>\n",
       "    </tr>\n",
       "    <tr>\n",
       "      <th>194</th>\n",
       "      <td>' @lolo00o3 @yazn200077 هما بقوا بيتكلموا مع بعض شكل دعاء اصلا متعرفش ايه اللى حصل وهى بره مشفتش حاجه #DoaaElSebaii #StaracArabia '</td>\n",
       "      <td>neu</td>\n",
       "    </tr>\n",
       "    <tr>\n",
       "      <th>195</th>\n",
       "      <td>' @StaracArabia @Mohammad_Cha 222222222222222222222222222222222222 اللقب لا يليق الا بك يا شاهينووووووووو '</td>\n",
       "      <td>pos</td>\n",
       "    </tr>\n",
       "    <tr>\n",
       "      <th>196</th>\n",
       "      <td>' @MawlaNa92 يسطى تمام مفشوخ ف شوية امتحانات عملي و خرا اهم حاجه تكون مبسوط ياسطا '</td>\n",
       "      <td>neg</td>\n",
       "    </tr>\n",
       "    <tr>\n",
       "      <th>197</th>\n",
       "      <td>' @sarahesham3 والله كدابين ما انا ميزان اهو '</td>\n",
       "      <td>neg</td>\n",
       "    </tr>\n",
       "    <tr>\n",
       "      <th>198</th>\n",
       "      <td>' @sso2166 السلام عليكم ورحمة الله وبركاته اهﻻ وسهﻻ شرفت بمتابعتك '</td>\n",
       "      <td>pos</td>\n",
       "    </tr>\n",
       "    <tr>\n",
       "      <th>199</th>\n",
       "      <td>' أحا أحوه كس أم حسام وأخوه '</td>\n",
       "      <td>neg</td>\n",
       "    </tr>\n",
       "  </tbody>\n",
       "</table>\n",
       "</div>"
      ],
      "text/plain": [
       "                                                                                                                                                     tweet class\n",
       "0                                                                                                                               ' فينو الاهبل ابن الاهبل '   neg\n",
       "1                                                                                 ' على المصرييييين وجمالهم ربنا يحميهم #MinaAtta http://t.co/NkOvSx6mgD '   pos\n",
       "2                                                                ' @Kholoudkewan  دول كتير اوى ودمهم خفيف العمارة اللي انا فيها كلها سوريين والأطفال عسل '   pos\n",
       "3                                                                        ' انا بعد كده  خلى اللى يوعنى   بحاجه همضى على وصل امانه علشان اضمن انو مش يخون '   neg\n",
       "4                                                                                                                                            ' انا هنتحر '   neg\n",
       "5                                                                                                            ' في حفظ الله يا ريس http://t.co/RGKtP9QHZB '   pos\n",
       "6                                                     ' يا عيون عطشان عطشانة سهر يا قلوب تعبانة تعبانة سفر كتروا من الحب تلاقوا تلاقوا في الضلمة ألف قمر '   pos\n",
       "7                                      ' #زهقنا_من اسامي اكونتات البنات على مواقع التواصل الاجتماعي زي مثلا شروق الشمس و الذهب الأزرق و أي بطيخ و السلام '   neg\n",
       "8                                                                                                                       ' @Omarr793 حمد الله ع السلامة ✋ '   pos\n",
       "9                                                                                                                             ' @ahmedeslam07 أحا مين ؟! '   neg\n",
       "10                                                                                                            ' لما تشوف حد واحشك كان بقالك كتير مشفتوش♡ '   pos\n",
       "11                                                      ' دعاء نازله الجنينة حياتى♥ #StaracArabia  #DoaaElSebaii  دعاء السباعي دعاء السباعى دعاء السباعى '   pos\n",
       "12                                                                           ' @f7271c87648b4c5 لحد دلوقتي بيقول انه فاهم ...مش عارفه ليه حاسه انه بيكذب '   neg\n",
       "13                                                                                                              ' @MhmoudElgameil انا مشروخ مشروخ يا جمي '   neg\n",
       "14                                                                                                             ' \"\"\"مشيشتش بقالي أسبوع، انه إنجاز :D\"\"\"\" '   pos\n",
       "15                                                                                                 ' كفايه البصه اللي ببصها لحد و انا مش طايق الحد ده .. '   neg\n",
       "16                                                          ' احساس ان فى حد تانى خد مكانك من وسط الناس اللى بتحبهم وهما سابوه يخدو عادى . احساس وحش اوى '   neg\n",
       "17                                                                                             ' @memoali4ever  بس انا كنت بحب المدرس بتاعها فلذلك حبتها '   pos\n",
       "18                                                                                                                    ' و مين غيرك في قلبي اكتبله مرسالي '   pos\n",
       "19             ' السكينة لباسه والبر شعاره والتقوى ضميره والحكمة مقوله والصدق والوفاء طبيعته والعفو والمعروف خلقه والعدل سيرته والحق شريعته والهدى امامه '   pos\n",
       "20                                                                                   ' @NesmaAbouleila @Tahoun71 ربنا يشفيه ويقوم بالسلامه ويشفى كل مريض '   pos\n",
       "21                                                                                            ' \"\"\"متيأسش من اللي فات، واستبشر باللي جاي .. ربك كريم\"\"\"\" '   pos\n",
       "22    ' \"\\\"\"@123Abdoibr: #عاجل  تردد قنوات الجزيره مباشر مصر التركيه دا التردد ياشباب 10921 علي معدل ترميز 27500 مدار 3 نايل سات مبروك يااحرار شير\\\"\"\\\"\" '   neu\n",
       "23                                                                                                              ' \"التايم لاين مُفرح بطريقة تفرّح :\\\"\")) '   pos\n",
       "24                                                                                                                            ' خخخخخخخ كسم تضيع الرميات '   neg\n",
       "25                                                                                        ' متخصصين بنضيع ضربات جزاء ف كره القدم ورميات حره ف السله مرار '   neg\n",
       "26                                                                                                                 ' @waled21148264 اهل مكة ادرى بشعابها '   neu\n",
       "27                                                                                                                         ' حالة من الاكتئاب و البؤس .. '   neg\n",
       "28                                                                                                                ' 32 ثانيه .. الفرق 55 لينا .. ياااارب '   pos\n",
       "29                         ' \"\"\"إذا بلغك عن أخيك شيء تكرهه ، فالتمس له العذر جهدك ،فإن لم تجد له عذرا ، فقل : لعل له عذرا لا أعلمه.... ربنا يسامح ..\"\"\"\" '   pos\n",
       "30                                                                             ' على الصقفة كلة يرقص على الصقفة كلة يرقص  زماااااااااااااااااااااااااالك '   pos\n",
       "31                                                             ' احساس ان الدنيا تسود ادامك كره واحده وتلاقى هموم تقيله وقعت علىيك فجاه  احساس وحش اوووى '   neg\n",
       "32                                                                                                     ' من يملك الأخلاق والأدب يسكن في القلوب إلى الأدب '   pos\n",
       "33                                                                                                                     ' @mimi_kokaice76 بس بيشتم مينا ! '   neg\n",
       "34                                                                                                                 ' \"الحياة ال ف خيالي حلوة اوووي :\\\"\") '   pos\n",
       "35         ' لا تيأس إذا حرمك الله ما تحب ولا تحزن إذا انجبرت على التعايش مع وضع قد يؤلمك بل إبتسم لأن الله قال بكل رحمة وعسى أن تكرهوا شيئا وهو خير لكم '   pos\n",
       "36                                                                                                         ' مفتقدة اوي فكرة ان يكون في حد قدي في البيت. '   neg\n",
       "37                                                                                                               ' النهايات السعيده دائما تاتي في المشمش '   neg\n",
       "38                                                                       ' @ALIABAS81096753 @69_sou ياحﻻوتك ياسيسي استقبال رائع لرئيس مصر الججيدة القوية '   pos\n",
       "39                                                                      ' صحيح ان الغربة صعبة بس الوحدة جميلة :D تخلص من هموم الناس وتفضى لهومك تحلها :) '   pos\n",
       "40                                            ' \"\"\"مُرتَدٌّ أنا عن حُبكِ و إن أهدرتى دمى المُباحُ ، فإن كان الإيمَانُ فى قُرَبكِ فالكفر بكِ فَلاحُ !\"\"\"\" '   neg\n",
       "41                                                  ' \"\\\"\"@do_dy89: صعبه لما تفتكر انك مهم عند حد وف الاخر تكتشف انك كنت غلطان\\\"\" http://t.co/De82zZpxeL '   neg\n",
       "42                                                                                                                  ' @weaamhilali  هاتيهم اخرج بيهم انا '   neu\n",
       "43                                                                                                        ' @Mohamed_Helmy_T انا مضايق قوي ..  بصوت فداء '   neg\n",
       "44                                                                                         ' الحرية لﻻولتراس الحرية للمدرج الكورة للجمهور يا داخلية وسخة '   neg\n",
       "45                                                                                    ' ده قالي في يوم يا حبيبتى خدي القمر  ورحت معاه ومااداني إلا السهر '   neg\n",
       "46                                                                                    ' ومين في مصر مابيحبش يرجع البيت يلاقي الغدا مكرونة وفراخ بانيه ؟؟ '   neu\n",
       "47                                                                                ' وخيمت عيناك بليلى -------- وغادر نبضك عالمى ---------- عيناك منسيتان '   neg\n",
       "48                                                                                                ' @teamah77 @medhat65 ربنا يحفظك من كل شر و يبارك فيكي '   pos\n",
       "49        ' جيل الايباد بمناسبة الامتحانات مامته بتقولوا ذاكر عاوزاك تاكل الكتاب اكل قالها هاتى كوباية ميه واعملى شاى علشان احبس ههههههههههههههههههههههه '   neu\n",
       "50                                                                                  ' @sarrranagi إنا لله و إنا إليه راجعون  طب ممكن لينك المكتب الحقوقى '   neg\n",
       "51                                                                                                                 ' دا الدين في عرف الحر هم و مذلة و مر '   neg\n",
       "52                                                                                        ' @monyadel982 @DesoukyAya اه والله حرقوا دمنا يلا بنحب مجانين '   neg\n",
       "53                                                                                                               ' قرب من ربنا وهتقرب منك كل حاجة حلوة ♥ '   pos\n",
       "54                                              ' #KirazMevsimi #MohammadChahine  ياريت نكسف التصويت على رقم 2222222 للصوت الدهبى http://t.co/uNmOarkblk '   pos\n",
       "55                                                                                                             ' ومن تانى اكيد راجعين انا دايب وكلى حنين '   pos\n",
       "56                                                                                                         ' اللي يشوفها في الشارع ميشوفهاش ع الانستجرام '   neg\n",
       "57          ' من ٤ سنين اتفرجت ع مسلسل برغم اني بكره المسلسلات ان واحده تتعمي واللي بيحبها يروح يدرس مخصوص طب عيون علشان يعالجها ده قهره جماعيه يا جماعه '   neg\n",
       "58                                                                                                               ' @CBCeXtra افلح أن صدق والمقصود..(قطر( '   neg\n",
       "59                                                                                          ' قاعدة الصحاب في نص الاسبوع بتقرب اكتر من قاعدة اخر الأسبوع '   neu\n",
       "60                                                                                 ' \"\"\"\\\"\"@seksek: هذه الدنيا كتاب انت فيه الفكر، من القائل\\\"\" الست\"\"\"\" '   neu\n",
       "61                                                                                                               ' دلوقتي جاي بتلعب على الي خبزك وعجنك ! '   neg\n",
       "62           ' \"@hanaa35 الخوف بألف نصل ---- كل نصل ينغرس فى حلم قادم ---- فتسود حالة نزف لكل الأحلام ---- ويسود البحث عن ذرة أمان \\\"\" وآمنهم من خوف \\\"\" '   neg\n",
       "63                                                           ' الستاذ امير طعيمه اتصور سلفى مع شاهين ومينا بجوار كاس لقب ستار اكادمى ♥  #MohammadChahine '   neu\n",
       "64                                                                                            ' انت اخر واحد ف الدنيا ممكن شيرين تبكى عليه .. انت فاهم ! '   neg\n",
       "65                                                                            ' @aaaahmad21  طبعا اهم من الكتابه والاحساس الاملاء الشيء لزوم الشيء  ..^^ '   neu\n",
       "66                                                                                                                                ' @sohamorsy مساك أروع '   pos\n",
       "67                                                                                                                      ' @sSoOma17 فى حد بعت هداي لشيرو '   neu\n",
       "68                                                                                           ' كنترووووووووول نادوا دعاء بقى #StaracArabia #DoaaElSebaii '   neu\n",
       "69                                                                     ' كنت بائس من حياتى وحزين الساعه12 لكن دلوقتى متفأل ومبسوط فشخ  سبحان مغير اﻻحوال '   pos\n",
       "70                                                                                                                                    ' اوعي تستسهل ماده '   neu\n",
       "71                                              ' ماهو خلص الفيلم اللي كتبته علي عكس ما كنت انا بتمني .. دا انا كنت في حبك من الاول ابليس متعشم في الجنه '   neg\n",
       "72                                                           ' انا من كتر الانشغال حاسس ان في وقت اجازتي كائن غريب في بيتي بتعرف علي الاسرة من اول وجديد '   neg\n",
       "73                                                                                                                   ' اه علي الجامعة و امتحانات الجامعة '   neg\n",
       "74                                                                                                     ' @Dinaelhendwy فعلا صح عندك حق الله يرحمك يا امى '   pos\n",
       "75                                                                                                   ' تيجى عليه يابن الاحبى بورده   ....يسلم على كس امك '   neg\n",
       "76                                                                                                                ' @NightStars777 ربنا معاك ان شاء الله '   pos\n",
       "77                                                      ' سهام الليل صائبة المرامي اذا وترت باوتار الخشوع يسددها الى المرمى رجال يطيلون السجود مع الركوع '   neu\n",
       "78                                                                                                                          ' قاطعهم وقل لهم: تباً لكم ! '   neg\n",
       "79                                                                                                                                             ' راح -_- '   neg\n",
       "80                                                                      ' \"\"\"حين نكون مفرغين ولا نحوي إلا الخواء ، حينها سوف نكون أقل شعوراً بالألم.\"\"\"\" '   neg\n",
       "81                                                                                                                    ' @iMiruuzz انتي المفروض ثانوي صح؟ '   neu\n",
       "82                                                                                                                      ' انا من يوم السبت هبدا مذاكرة ✋ '   neu\n",
       "83                                                                                                                       ' @heshamelDali تفكيرك في محله✋ '   pos\n",
       "84                                                                                                                         ' صباح جديد على اهلي فى تويتر '   pos\n",
       "85                                                                                    ' طبعا انتي سقعانين وانا كمان  بس انا عرقان والسخونيه ديه بنت جزمه '   neg\n",
       "86                                                                                                              ' @AbyHegazy وانت من اهل ميتين امه ياحما '   neg\n",
       "87                                                                                                         ' كنت زمان بستنى سؤالك عني دلوقتي مبقاش يفرق. '   neg\n",
       "88                                                          ' \"بس سيبك انت ... انا مبسوط باللى حصل انهارده و امبارح ... \\\"\" محدش قالى عقبالك \\\"\" :D =))) '   pos\n",
       "89                                                               ' \"#الوطن   عبدالمنعم إبراهيم.. \\\"\"فتافيت سكر\\\"\" السينما المصرية http://t.co/B3apRKiogz '   neu\n",
       "90                                                                       ' فرقوا بين الناس اللي بتحبكو و فارقين معاهم و بين اللي انتو بنسبه لهم ولا حاجة '   neu\n",
       "91                                                                                                                             ' \"\"\"@MohabE_ لأ، عرص\"\"\"\" '   neg\n",
       "92                                                                                                                     ' المشكلة ان انا لسه جعانة بجد :D '   neu\n",
       "93                                                         ' @Alshaikh2 شاعرنا المحترم يعنى اية العيون االممكنة اة تعنى كلمة ممكنة مش فاهمة حاجة ممكن رد '   neu\n",
       "94                                                                                                                                      ' و يا رب عدلها. '   pos\n",
       "95                                        ' انا كل ما اعرف حد ابن ناس يطلع يا كان صايع وربنا هداه يأما ابن ناس وحد على افاه فا هيبقى صايع  طب ليه كده طا '   neg\n",
       "96                                                                                                  ' @lmooos_7 @Tomi987123 @safi2332 يلا تصبحوا ع خير♥♥ '   pos\n",
       "97                                                               ' @samezabi @rim0o01 اصلا مسلسل الشمال والجنوب ده بكرهه كله علي بعضه كفايوة فانزه الغتت '   neg\n",
       "98         ' نحن على بعد خطوات بسيطة من تحقيق حلم شاهين كلها يومين والحلم يتحقق  تخيلوا الفرحه على وشوشهم يوم اعلان النتيجه بفوز شاهين  #MohammadChahine '   pos\n",
       "99                                                                                     ' مبحبش ابين اني مضايقة والله بس بيبان عليا و بقلب وشي من غير قصد '   neg\n",
       "100                                                                                                  ' @dodokemo98 @nona24_nona حسبي الله ونعم الوكيل :( '   neg\n",
       "101                                                                                                                    ' احنا الزمالك احنا ولا نسيتوا :P '   pos\n",
       "102                                                                  ' @kamilia27644962 @cerinelle @mscallstephany @negoombookra @BRNSESREM  ربنا يهديكي '   neg\n",
       "103                                                                                                                              ' وقلبي نبضه صوت نبضك.. '   pos\n",
       "104                                                                                                                 ' ياسمين حمدان - لا مش أنا اللي ابكي '   neu\n",
       "105                                                                                                     ' فيه شخصيات فى حياتى موجودة بس عشان تحرقلى دمى. '   neg\n",
       "106                                                                                                        ' @FOmar050280 @9633656hhh استغفر الله العظيم '   neg\n",
       "107                                                                                                           ' تحلو مراره عيشي في رضااالك ............. '   pos\n",
       "108                                                                                                      ' اهون عليكي تهونى عليا  يالا ف داهيه :) #كرهتك '   neg\n",
       "109                                                                                                    ' @Mawada_Hashim - هتنجحي خلاص نامي و ضميرك مرتاح '   pos\n",
       "110                                                                                                    ' ورأيا امتحان ابن جزمة كمان خمس ساعات و مش ناقصة '   neg\n",
       "111                                                                                                                   ' @ZohooZohor @AaAaasads الحمد لله '   pos\n",
       "112                                                                                                  ' \"\"\"#عن كام مره حبيت صدفة ، و كام مره لعنتها .\"\"\"\" '   neg\n",
       "113                             ' \"\\\"\"@reeem12345s: كَثيرهہ هَيّ آمآنينآ فَ يآربَ حققّ         مآ ترآهُ خيراً لنآ..ويسعدنا♡~ ” http://t.co/3mF5fbSLaG\\\"\" '   pos\n",
       "114                                ' ليث نايم وفرحنا اننا شوفناه بيضحك الاكاديمي هتخلص بكرة احنا فاضين دلوقتي ع التصويت بليزز #LaithAbuJoda ليث أبو جودة '   pos\n",
       "115                                                                                                                        ' ان شاء الله نصبح علي خير :) '   pos\n",
       "116                                                                                                                  ' @shababic اعلام ابن ميتشين كلب :) '   neg\n",
       "117                                                                                           ' \"\"\"اللهم طهر قلبي من كل ضيق، ويسر لي أمري في كل طريق\"\"\"\" '   pos\n",
       "118  ' \"\\\"\"بوح  ياحادي العيس وينك غايبٍ  مده اليوم لاعيس لاصحرا  ولا حادي  ماغير ذكرى تهز القلب ٠٠وتهده واقول عادي وهو والله مهو عادي  ٠ ٠ #ذلك_الرجل\\\"\" '   neg\n",
       "119                                                                               ' انت اول حب واخر حب هعيش وياه... واللى بينى وبينك احساس اكبر من معناه '   pos\n",
       "120                                                                           ' @meroobas اه التييييييت بس احنا سرقنا صور كتييييير  هطلع عليهم النكد كله '   neg\n",
       "121                                                                    ' الفكره اللي ماخذينها عني؟ رجعوها والمره اليايه لا تاخذون شي مو لكم عيب هالحركات '   neg\n",
       "122               ' \"\"\"انا فضلت متمسمره :  للدرجة دى انا مبحسش اسأله طلعت فى راسي وطفيت الاغانى وبعدين قولت طب وانا هعمل ايه وشغلت الاغانى تانى :\\\"\"\"\"\"\" '   neg\n",
       "123                                                                                                                      ' الشـتـا  مبيسيبـش حد سعيـد .. '   neg\n",
       "124                                                                                                                   ' آنا كدا خلاص آخري جاب آخره مني . '   neg\n",
       "125                                                                                                      ' @DrBassemYoussef باسم يوسف انت خول وامك عارفه '   neg\n",
       "126                  ' بس انا لو غبيه كنت هرتاح المشكله اني بتغابي  و لو بنسي هرتاح برضو المشكله اني بتناسي و مش بعرف اسامح كمان و مفرمله نفسي اني انتقم '   neg\n",
       "127                                                                                                                        ' @memoo_f151 تسلمواااااااااا '   pos\n",
       "128                                                                 ' @balawi2 وانا من الناس يارب واشتقت الى بيتك الذي وضعته لنا .. فاللهم ارزقنا زيارته '   pos\n",
       "129                                                                              ' @DesoukyAya @meroobas همسكهم الاتنين و اخبطهم في حيطة و نبدأ على نضيف '   neg\n",
       "130                        ' \"\"\"انا المفروض اروح الكليه بكره، اللي هو النهارده الصبح يعني عشان ادفع المصاريف عشان مش هدخل الامتحان لو مدفعتهاش :\\\"\"D\"\"\"\" '   neg\n",
       "131                                                                                                                     ' اللي ميخافش من ربنا .. خاف منه '   neu\n",
       "132                                                                                                         ' @yosraabdelwaha2 انتي منين اصلا وعايشه فين '   neu\n",
       "133                                                                                                                                         ' صلاه الفجر '   neu\n",
       "134           ' @omarhamdino هل المشكله بتواجهك فى مكان محدد ولا اى مكان ؟ وبالنسبه لخدمة ال3G ايه علامة التغطيه الخاصه بالانترنت اللى بتظهر لك ؟ Zahran '   neu\n",
       "135                                                                                                  ' @Ahlam_Alshamsi اللهم تقبل منا ومنكم صالح الأعمال '   pos\n",
       "136                                                                                                            ' ممكن حد يكرهك بمجرد انك محبوب لناس كتير '   neg\n",
       "137            ' @wahetaleslam كل سنه وانتى طيبه  يامديره واحه الاسلام وربنا ىزيدك نور ورفعه انتى والمنتدى بتاعك اتمنى لكم كل الخيرات واارفعه على الدوام '   pos\n",
       "138               ' اللهم بشرنا بشارة خير لم نتوقعها ولم نكن نحلم بها ورزقنا رزقاً لم نسألك اياه ولم يخطر ببالنا وجنباً شراً انت اعلم به منا ياحي ياقيوم '   pos\n",
       "139                                                                                                                          ' @Abas68Said ياصباح الفل.. '   pos\n",
       "140                                                                                                         ' @meriem_Hd4  حد قالك انك واحدة وسخة بلوووك '   neg\n",
       "141                    ' @Maroc_tiskat22 اة دة هدفك يعني من القصة انك تعملي فتنة صح متخافيش فانز سلوم وفانز بسوم واحد وياما عدت اشكال زي دي ومأثرتش فينا '   neg\n",
       "142         ' \"\\\"\"@3asheg1972: وكنتُ أزعم مثل الناس إذ زعموا .. بأن من غاب عني غاب عن بالي واليوم كذّبني قلبي وكذّبتهم .. فارقتهم..وأقاموا بين أوصالي\\\"\" '   neg\n",
       "143                                                                            ' @rowaf @Bahraini_ADV وان يرزقك خدمتها علي اكمل وجه ويكتب الله لك الثواب '   pos\n",
       "144              ' كنت بحب المذيعة دينا عصمت لما كانت على قناة النيل للأخبار و أون تي في. للأسف مستواها نزل على سي بي سي إكسترا. كانت قارئة نشرة ممتازة. '   neg\n",
       "145                               ' انا خلاص قررت مش هذاكر حاجه غير ليلة الامتحان عشان كل مااذاكر حاجه انساها تاني ... كفايه تضييع وقت ف المذاكره بقي :/ '   neg\n",
       "146           ' كنت واقفة في البلكونة بدري كدة فلقيت عامل النظافة منضف الشارع يادوب طلع لأول الشارع ورجع تاني قام منضف تاني ولا هو #الاستهتار_اسلوب_حياه '   neg\n",
       "147                                                                                                                            ' عيونها يتالف فيها اشعار '   pos\n",
       "148                                                                                                         ' سبحان الله وبحمده . http://t.co/bqDZM9LMUd '   neu\n",
       "149                                                                                                 ' أرموهم في أعماق البحار حتي تشتت الأمواج أشلائهم .. '   neg\n",
       "150                                                                                                                      ' وأتارى المحاسبة غداره غداره . '   neg\n",
       "151                                                                                                               ' #عن الناس اللي عايشة عشان توجعك و بس '   neg\n",
       "152                                     ' \"\"\"وضوءك لصلاة الليل وصلاة الفجر ، مع شعورك بالبرد  هذه القشعريره كفيلة بنسف جبال الخطايا التي قد تحملها ♥\"\"\"\" '   pos\n",
       "153                                                                                                                 ' @3nTbly صباح الورد يا عنتبلي بيه ! '   pos\n",
       "154                                                                                                                             ' حد هنا شغال في بنك QNB '   neu\n",
       "155                                                                                                                      ' @Msraweya اه و الله تعبنا فشخ '   neg\n",
       "156                                                                                                              ' يحيى لس مكلمنى مصتقدش إنه لسه حى ممتش '   pos\n",
       "157                                                                                                                                      ' وجهة نظر برده '   neu\n",
       "158                                                                                                                         ' &gt;.&lt;أصبح الوضع ﻻ يطاق '   neg\n",
       "159                 ' \"\\\"\"@AymanNour: http://t.co/wF7BlZD1XD في أول تصريح له السبسي يطلب تفويضا من الشعب لمواجهة إرهاب محتمل!! (واضح أن الكتلوج واحد)\\\"\" '   neg\n",
       "160                         ' #كيف_ننصر_ديننا 1-السير في طريق العلم 2-الدعوة إلى الله بما معك من العلم 3-إن لم تستطع فكن محباً للعلم وأهله @Betaqadaawia '   neu\n",
       "161                                                                    ' مشكله اااي #بت انها عايزه الواد #يهتم بيها ال24 ساعه حتي وهو #نايم #الرحمه_حلوه '   neg\n",
       "162                                                                                                       ' @nadamuhamed16 يا ريت كلهم زيك يا بنتي والله '   pos\n",
       "163                                                                                                                                        ' صباحووو ^_^ '   pos\n",
       "164                    ' \"#القرضاوي مهاجما #قطر: لا يحتفلون بالمولد النبوي ويحتفلون بـ\\\"\"الكريسماس\\\"\"  ماانت عايش في قطر من السينات لسه واخد بالك دلوقتي '   neg\n",
       "165                                           ' #الوطن  بالفيديو  #القرضاوي يهاجم #قطر: لا يحتفلون بالمولد النبوي ويعتبرونه بدعة  http://t.co/C7UK8dwc1V '   neu\n",
       "166                                                                                                        ' طريقك مسدود مسدود يا ولدى  *بصوت سعيد صالح* '   neg\n",
       "167                      ' @EgyptianPolice0 طيب ياشرطة يامصرية في كتير اخوان في المصالح الحكومية وعاملين شغب والمديرين بتخاف منهم وبيعملوا فتن واجتماعات '   neg\n",
       "168                                                                              ' ده انا كنت ناسي والله ورجعني الحنين .... وتحت شباكك بيرميني الحنين :/ '   neg\n",
       "169                                                                                                ' @AymanNour انقلاب اية ربنا يقلب مصرانكم ان شاء الله '   neg\n",
       "170                                   ' احا .. يعنى صاحى على بليز كول مى وقولنا ماشى انما ملاقيش علبه السجاير .. احا بجد دا انا شارب منها سجارة واحده بس '   neg\n",
       "171          ' السنة ملهاش دعوة بنجاحك وفشلك والحقيقة انك فاشل عشان انت خول وعلق مش عشان انت سئ الحظ او قوانين الطبيعة والزمن بيتامروا عليك صانع الساعات '   neg\n",
       "172                                           ' \"\"\"قال رسول الله ﷺ \\\"\"لاتقولواللمنافق:سيدنا،فإنه إن يك سيدكم فقدأسخطتم ربكم-عزوجل-\\\"\". [الصحيحة:371]\"\"\"\" '   neu\n",
       "173        ' يَا رب  أمنحني قلب مبتسمَ يُسعد ﻣن حولي وَ آغمرھہ بَ آلقوّھہ وَ آﻟصبر  حتى لآ ﻳضعف آمآم شيء  [ سوآك ].. صباح الخيرات http://t.co/NwSmaSaI1r '   pos\n",
       "174                                                                                                             ' \"Mama said:\\\"\"هتيجبي ملاحق يا هيدي \\\"\" '   neg\n",
       "175                                                                                                                ' @ameeallam الثانوية دى بتنمى الغباء '   neg\n",
       "176               ' لا تطلب من الله مالا تستطيع تأدية شكره أو تحمل عبئه .والا. فلما ءاتاهم من فضله بخلوا به...... فأعقبهم نفاقا في قلوبهم إلى يوم يلقونه '   neu\n",
       "177               ' مش ينفع تكون متعاطف او مؤمن بفكرا او رآي او شخص او حزب او كيان.. الخ وتقارنه بشبيه  ولكن متناقض مع الشئ دا.. لن تكون منصف بالمرا :-) '   neg\n",
       "178         ' وَلَسَوْفَ يُعْطِيكَ رَبُّكَ فَتَرْضَى ﴿٥﴾ أَلَمْ يَجِدْكَ يَتِيمًا فَآوَى ﴿٦﴾ وَوَجَدَكَ ضَالًّا فَهَدَى ﴿٧﴾وَوَجَدَكَ عَائِلًا فَأَغْنَى '   pos\n",
       "179                                          ' #المصدر  #الروبل_الروسي يتراجع 0.7 \\% أمام الدولار  للمزيد :http://t.co/eQntVOB4uc http://t.co/RDHwJ6kxdO '   neu\n",
       "180                                      ' \"#المصدر  \\\"\"#برنت \\\"\"يتراجع باتجاه 61 دولارا للبرميل في التعاملات الاسيوية  للتفاصيل :http://t.co/HspdXCeuhw '   neu\n",
       "181                                                                                                         ' @LonaloloLona ♥ ♡مساااااااء_الخيراااااات♡♥ '   pos\n",
       "182                      ' قم بتجهيز ملعب #نجيل_صناعي كامل متكامل مع #بيبا_سبورت بأقل سعر وضمان 8 سنوات http://t.co/zvM0NiRvqx 01027399960 - 01027399962 '   neu\n",
       "183                                                                                                                            ' فؤاد المهندس و شويكار ! '   pos\n",
       "184                                                                                                                                ' موديول منحس من اوله '   neg\n",
       "185                  ' \"\\\"\"@JassmineHady: لك الحمد ربي عدد خلايا أجسادنا المتعافيه وعدد أيامنا التي لا نشكوا فيها وعدد نعمك التي لا نحصيها  #الحمدلله\\\"\" '   pos\n",
       "186                                                                                                                ' حفظ الله مصر http://t.co/mz6YSoxpRn '   pos\n",
       "187                                                                                         ' \"\"\"شكراً لأنك في حياتي ، شكراً لأنك حياتي  صباح الحب ❤\"\"\"\" '   pos\n",
       "188                                                                                                                        ' الملل بالنسبالى اشبه بالموت '   neg\n",
       "189                                                                                                          ' وتعيش يا جيش بلادى http://t.co/U1BVnYvvVO '   pos\n",
       "190                                                                  ' علبه كشرى وسط ب 6 جنيه !!!! يعنى لو اربع افراد ب 24 جنيه !!! بلد مفيش متها امل .. '   neg\n",
       "191                                                                                                                                ' اصاله دى حاله جميله '   pos\n",
       "192                                                                                                                           ' @Q55665 اريد عمل اناسائق '   neu\n",
       "193                                                                       ' سأبتسم في وجه من يكرهني فان لم أكسب محبته سأنجح في فقع مرارته  #تمثلنى وبشده '   neu\n",
       "194                    ' @lolo00o3 @yazn200077 هما بقوا بيتكلموا مع بعض شكل دعاء اصلا متعرفش ايه اللى حصل وهى بره مشفتش حاجه #DoaaElSebaii #StaracArabia '   neu\n",
       "195                                            ' @StaracArabia @Mohammad_Cha 222222222222222222222222222222222222 اللقب لا يليق الا بك يا شاهينووووووووو '   pos\n",
       "196                                                                    ' @MawlaNa92 يسطى تمام مفشوخ ف شوية امتحانات عملي و خرا اهم حاجه تكون مبسوط ياسطا '   neg\n",
       "197                                                                                                         ' @sarahesham3 والله كدابين ما انا ميزان اهو '   neg\n",
       "198                                                                                    ' @sso2166 السلام عليكم ورحمة الله وبركاته اهﻻ وسهﻻ شرفت بمتابعتك '   pos\n",
       "199                                                                                                                          ' أحا أحوه كس أم حسام وأخوه '   neg"
      ]
     },
     "execution_count": 41,
     "metadata": {},
     "output_type": "execute_result"
    }
   ],
   "source": [
    "CY_train.head(200)"
   ]
  },
  {
   "cell_type": "code",
   "execution_count": 42,
   "metadata": {},
   "outputs": [
    {
     "data": {
      "text/plain": [
       "2346"
      ]
     },
     "execution_count": 42,
     "metadata": {},
     "output_type": "execute_result"
    }
   ],
   "source": [
    "#select test data\n",
    "df_subset = CY_train.sample(400,random_state=42)\n",
    "CY_train=CY_train.drop(df_subset.index)\n",
    "CY_train.reset_index(inplace=True)\n",
    "CY_train=CY_train.drop(['index'],1)\n",
    "len(CY_train)"
   ]
  },
  {
   "cell_type": "code",
   "execution_count": 43,
   "metadata": {},
   "outputs": [],
   "source": [
    "df_subset.reset_index(inplace=True)\n",
    "df_subset=df_subset.drop(['index'],1)\n",
    "df_subset.to_csv('Final_Test.csv',index=0)"
   ]
  },
  {
   "cell_type": "code",
   "execution_count": 44,
   "metadata": {},
   "outputs": [
    {
     "data": {
      "text/html": [
       "<div>\n",
       "<style scoped>\n",
       "    .dataframe tbody tr th:only-of-type {\n",
       "        vertical-align: middle;\n",
       "    }\n",
       "\n",
       "    .dataframe tbody tr th {\n",
       "        vertical-align: top;\n",
       "    }\n",
       "\n",
       "    .dataframe thead th {\n",
       "        text-align: right;\n",
       "    }\n",
       "</style>\n",
       "<table border=\"1\" class=\"dataframe\">\n",
       "  <thead>\n",
       "    <tr style=\"text-align: right;\">\n",
       "      <th></th>\n",
       "      <th>tweet</th>\n",
       "      <th>class</th>\n",
       "    </tr>\n",
       "  </thead>\n",
       "  <tbody>\n",
       "    <tr>\n",
       "      <th>0</th>\n",
       "      <td>' @MaRwaEltantawy1 @MennaAshraf38 صح جدآ :( '</td>\n",
       "      <td>pos</td>\n",
       "    </tr>\n",
       "    <tr>\n",
       "      <th>1</th>\n",
       "      <td>' @muhamsalah صباحك  ود  وصفاء '</td>\n",
       "      <td>pos</td>\n",
       "    </tr>\n",
       "    <tr>\n",
       "      <th>2</th>\n",
       "      <td>' ربنا ينتقم من كل ظالم #معتقلي_الاتحادية '</td>\n",
       "      <td>neg</td>\n",
       "    </tr>\n",
       "    <tr>\n",
       "      <th>3</th>\n",
       "      <td>' مطلعين فرسة من صالة المطار قدامى .. ايه الجمال دا '</td>\n",
       "      <td>pos</td>\n",
       "    </tr>\n",
       "    <tr>\n",
       "      <th>4</th>\n",
       "      <td>' شهر(4) أكتر أكلة مفضلة عندك؟؟ '</td>\n",
       "      <td>neg</td>\n",
       "    </tr>\n",
       "  </tbody>\n",
       "</table>\n",
       "</div>"
      ],
      "text/plain": [
       "                                                   tweet class\n",
       "0          ' @MaRwaEltantawy1 @MennaAshraf38 صح جدآ :( '   pos\n",
       "1                       ' @muhamsalah صباحك  ود  وصفاء '   pos\n",
       "2            ' ربنا ينتقم من كل ظالم #معتقلي_الاتحادية '   neg\n",
       "3  ' مطلعين فرسة من صالة المطار قدامى .. ايه الجمال دا '   pos\n",
       "4                      ' شهر(4) أكتر أكلة مفضلة عندك؟؟ '   neg"
      ]
     },
     "execution_count": 44,
     "metadata": {},
     "output_type": "execute_result"
    }
   ],
   "source": [
    "df_Test=pd.read_csv(\"Final_Test.csv\")\n",
    "\n",
    "CY_trainTest=df_Test #for test the input\n",
    "CY_trainTest.head()"
   ]
  },
  {
   "cell_type": "markdown",
   "metadata": {},
   "source": [
    "**clean text**"
   ]
  },
  {
   "cell_type": "code",
   "execution_count": 45,
   "metadata": {},
   "outputs": [],
   "source": [
    "def clean_text(text):\n",
    "    # remove tashkeel\n",
    "    #text = strip_tashkeel(text)\n",
    "    # text = qalsadi.lemmatizer.Lemmatizer(text)\n",
    "    # remove repeated\n",
    "    text = re.sub(r'(.)\\1+', r'\\1\\1', text)\n",
    "    text = text.replace('اا', 'ا').replace('وو', 'و').replace('يي', 'ي').replace('رر', 'ر')\n",
    "    text = re.sub(r'((?<=\\A)|(?<=\\s))هه(?=\\s|\\Z)', r'ضحك', text)\n",
    "    text = re.sub(r'ـ', '', text)\n",
    "    # remove punctuations\n",
    "    text = re.sub(r'[^\\w\\sؠ-ي١-٩]', ' ', text) # replace \\w with \\d to filter english letters\n",
    "    text = re.sub(r'_', ' ', text)\n",
    "    text = re.sub(r'/n', ' ', text)\n",
    "    # unifying similar letters\n",
    "    text = re.sub(\"[إأآا]\", \"ا\", text)\n",
    "    text = re.sub('علے', 'على ', text)\n",
    "    text = re.sub(r'ے', '', text)\n",
    "    text = re.sub(\"[ؠىي]\", \"ي\", text)\n",
    "    # text = re.sub(\"يئ\", \"يء\", text)\n",
    "    text = re.sub(\"[ئؽؾؿ]\", \"ئ\", text)# ء\n",
    "    # text = re.sub(\"ؤ\", \"ء\", text)\n",
    "    # text = re.sub(\"ة\", \"ه\", text)\n",
    "    text = re.sub(\"[ؼػگ]\", \"ك\", text)\n",
    "    # separate negation signs\n",
    "    text = re.sub(r'ما(\\w+)ش', r'ما \\1', text)\n",
    "    text = re.sub(r'((?<=\\A)|(?<=\\s)|(?<=و))مش(?=\\s)', r'ما', text)\n",
    "    text = re.sub(r'((?<=\\A)|(?<=\\s)|(?<=و))ليش(?=\\s)', r'ليه', text)\n",
    "    text = re.sub(r'((?<=\\A)|(?<=\\s)|(?<=و))يا(?=\\w)', r'يا ', text)\n",
    "    text = re.sub('شاءالله', ' شاء الله', text)\n",
    "    # remove slang begin marks\n",
    "    text = re.sub(r'((?<=\\A)|(?<=\\s))ه(?=[ايت])', '', text)\n",
    "#     text = re.sub('((?<=\\s)|(?<=\\A))(\\w?ال)(?=\\w{3,})', '', text)\n",
    "#     text = re.sub('((?<=\\s)|(?<=\\A))(لل)(?=\\w{3,})', '', text)\n",
    "    # text = re.sub(r'((?<=\\A)|(?<=\\s))ب(?=[ايت])', '', text)\n",
    "    # text = re.sub(r'((?<=\\A)|(?<=\\s))ا(?=[يت])', '', text)\n",
    "    text = re.sub(r'[^a-zA-Z\\sؠ-ي]', '', text)\n",
    "    text = re.sub(r'[^\\sؠ-ي]', ' ', text)\n",
    "    return \" \".join(text.split())"
   ]
  },
  {
   "cell_type": "code",
   "execution_count": 46,
   "metadata": {},
   "outputs": [
    {
     "data": {
      "text/plain": [
       "2346"
      ]
     },
     "execution_count": 46,
     "metadata": {},
     "output_type": "execute_result"
    }
   ],
   "source": [
    "#cleaning CY_train df\n",
    "CY_train= CY_train[pd.notnull(CY_train['tweet'])]\n",
    "CY_train.tweet = CY_train.tweet.astype(str)\n",
    "\n",
    "\n",
    "\n",
    "#label english and arabic pure sentence\n",
    "CY_train[\"EnglishOnly\"] = CY_train.tweet.apply(lambda x: bool(re.match(r'^[a-zA-Z0-9\\s]+$', x)))      \n",
    "#remove english or any lang from any arabic sentenece\n",
    "CY_train_Ar = CY_train[CY_train[\"EnglishOnly\"]==False].tweet.apply(lambda x: \" \".join(re.sub(r'[a-zA-Z0-9]', '', x).split()))\n",
    "CY_train.loc[CY_train.index.isin(CY_train_Ar.index), 'tweet'] = CY_train_Ar\n",
    "\n",
    "\n",
    "CY_train = CY_train[CY_train.tweet.map(len)>6]\n",
    "CY_train=CY_train.drop('EnglishOnly',axis=1)\n",
    "CY_train.tweet = CY_train.tweet.apply(clean_text)\n",
    "\n",
    "CY_train.reset_index(inplace=True)\n",
    "CY_train=CY_train.drop(['index'],1)\n",
    "\n",
    "len(CY_train)"
   ]
  },
  {
   "cell_type": "code",
   "execution_count": 47,
   "metadata": {},
   "outputs": [
    {
     "data": {
      "text/html": [
       "<div>\n",
       "<style scoped>\n",
       "    .dataframe tbody tr th:only-of-type {\n",
       "        vertical-align: middle;\n",
       "    }\n",
       "\n",
       "    .dataframe tbody tr th {\n",
       "        vertical-align: top;\n",
       "    }\n",
       "\n",
       "    .dataframe thead th {\n",
       "        text-align: right;\n",
       "    }\n",
       "</style>\n",
       "<table border=\"1\" class=\"dataframe\">\n",
       "  <thead>\n",
       "    <tr style=\"text-align: right;\">\n",
       "      <th></th>\n",
       "      <th>tweet</th>\n",
       "      <th>class</th>\n",
       "    </tr>\n",
       "  </thead>\n",
       "  <tbody>\n",
       "    <tr>\n",
       "      <th>0</th>\n",
       "      <td>فينو الاهبل ابن الاهبل</td>\n",
       "      <td>neg</td>\n",
       "    </tr>\n",
       "    <tr>\n",
       "      <th>1</th>\n",
       "      <td>علي المصرين وجمالهم ربنا يحميهم</td>\n",
       "      <td>pos</td>\n",
       "    </tr>\n",
       "    <tr>\n",
       "      <th>2</th>\n",
       "      <td>دول كتير اوي ودمهم خفيف العمارة اللي انا فيها كلها سورين والاطفال عسل</td>\n",
       "      <td>pos</td>\n",
       "    </tr>\n",
       "    <tr>\n",
       "      <th>3</th>\n",
       "      <td>انا بعد كده خلي اللي يوعني بحاجه همضي علي وصل امانه علشان اضمن انو ما يخون</td>\n",
       "      <td>neg</td>\n",
       "    </tr>\n",
       "    <tr>\n",
       "      <th>4</th>\n",
       "      <td>انا هنتحر</td>\n",
       "      <td>neg</td>\n",
       "    </tr>\n",
       "    <tr>\n",
       "      <th>5</th>\n",
       "      <td>في حفظ الله يا ريس</td>\n",
       "      <td>pos</td>\n",
       "    </tr>\n",
       "    <tr>\n",
       "      <th>6</th>\n",
       "      <td>يا عيون عطشان عطشانة سهر يا قلوب تعبانة تعبانة سفر كتروا من الحب تلاقوا تلاقوا في الضلمة الف قمر</td>\n",
       "      <td>pos</td>\n",
       "    </tr>\n",
       "    <tr>\n",
       "      <th>7</th>\n",
       "      <td>زهقنا من اسامي اكونتات البنات علي مواقع التواصل الاجتماعي زي مثلا شروق الشمس و الذهب الازرق و اي بطيخ و السلام</td>\n",
       "      <td>neg</td>\n",
       "    </tr>\n",
       "    <tr>\n",
       "      <th>8</th>\n",
       "      <td>حمد الله ع السلامة</td>\n",
       "      <td>pos</td>\n",
       "    </tr>\n",
       "    <tr>\n",
       "      <th>9</th>\n",
       "      <td>احا مين</td>\n",
       "      <td>neg</td>\n",
       "    </tr>\n",
       "    <tr>\n",
       "      <th>10</th>\n",
       "      <td>لما تشوف حد واحشك كان بقالك كتير مشفتوش</td>\n",
       "      <td>pos</td>\n",
       "    </tr>\n",
       "    <tr>\n",
       "      <th>11</th>\n",
       "      <td>دعاء نازله الجنينة حياتي دعاء السباعي دعاء السباعي دعاء السباعي</td>\n",
       "      <td>pos</td>\n",
       "    </tr>\n",
       "    <tr>\n",
       "      <th>12</th>\n",
       "      <td>لحد دلوقتي بيقول انه فاهم ما عارفه ليه حاسه انه بيكذب</td>\n",
       "      <td>neg</td>\n",
       "    </tr>\n",
       "    <tr>\n",
       "      <th>13</th>\n",
       "      <td>انا مشروخ مشروخ يا جمي</td>\n",
       "      <td>neg</td>\n",
       "    </tr>\n",
       "    <tr>\n",
       "      <th>14</th>\n",
       "      <td>مشيشتش بقالي اسبوع انه انجاز</td>\n",
       "      <td>pos</td>\n",
       "    </tr>\n",
       "    <tr>\n",
       "      <th>15</th>\n",
       "      <td>كفايه البصه اللي ببصها لحد و انا ما طايق الحد ده</td>\n",
       "      <td>neg</td>\n",
       "    </tr>\n",
       "    <tr>\n",
       "      <th>16</th>\n",
       "      <td>احساس ان في حد تاني خد مكانك من وسط الناس اللي بتحبهم وهما سابوه يخدو عادي احساس وحش اوي</td>\n",
       "      <td>neg</td>\n",
       "    </tr>\n",
       "    <tr>\n",
       "      <th>17</th>\n",
       "      <td>بس انا كنت بحب المدرس بتاعها فلذلك حبتها</td>\n",
       "      <td>pos</td>\n",
       "    </tr>\n",
       "    <tr>\n",
       "      <th>18</th>\n",
       "      <td>و مين غيرك في قلبي اكتبله مرسالي</td>\n",
       "      <td>pos</td>\n",
       "    </tr>\n",
       "    <tr>\n",
       "      <th>19</th>\n",
       "      <td>السكينة لباسه والبر شعاره والتقوي ضميره والحكمة مقوله والصدق والوفاء طبيعته والعفو والمعروف خلقه والعدل سيرته والحق شريعته والهدي امامه</td>\n",
       "      <td>pos</td>\n",
       "    </tr>\n",
       "    <tr>\n",
       "      <th>20</th>\n",
       "      <td>ربنا يشفيه ويقوم بالسلامه ويشفي كل مريض</td>\n",
       "      <td>pos</td>\n",
       "    </tr>\n",
       "    <tr>\n",
       "      <th>21</th>\n",
       "      <td>متياسش من اللي فات واستبشر باللي جاي ربك كريم</td>\n",
       "      <td>pos</td>\n",
       "    </tr>\n",
       "    <tr>\n",
       "      <th>22</th>\n",
       "      <td>عاجل تردد قنوات الجزيره مباشر مصر التركيه دا التردد يا شباب علي معدل ترميز مدار نايل سات مبروك يا حرار شير</td>\n",
       "      <td>neu</td>\n",
       "    </tr>\n",
       "    <tr>\n",
       "      <th>23</th>\n",
       "      <td>التايم لاين م فرح بطريقة تفر ح</td>\n",
       "      <td>pos</td>\n",
       "    </tr>\n",
       "    <tr>\n",
       "      <th>24</th>\n",
       "      <td>خخ كسم تضيع الرميات</td>\n",
       "      <td>neg</td>\n",
       "    </tr>\n",
       "    <tr>\n",
       "      <th>25</th>\n",
       "      <td>متخصصين بنضيع ضربات جزاء ف كره القدم ورميات حره ف السله مرار</td>\n",
       "      <td>neg</td>\n",
       "    </tr>\n",
       "    <tr>\n",
       "      <th>26</th>\n",
       "      <td>اهل مكة ادري بشعابها</td>\n",
       "      <td>neu</td>\n",
       "    </tr>\n",
       "    <tr>\n",
       "      <th>27</th>\n",
       "      <td>حالة من الاكتئاب و البؤس</td>\n",
       "      <td>neg</td>\n",
       "    </tr>\n",
       "    <tr>\n",
       "      <th>28</th>\n",
       "      <td>ثانيه الفرق لينا يا رب</td>\n",
       "      <td>pos</td>\n",
       "    </tr>\n",
       "    <tr>\n",
       "      <th>29</th>\n",
       "      <td>علي الصقفة كلة يرقص علي الصقفة كلة يرقص زمالك</td>\n",
       "      <td>pos</td>\n",
       "    </tr>\n",
       "    <tr>\n",
       "      <th>30</th>\n",
       "      <td>احساس ان الدنيا تسود ادامك كره واحده وتلاقي هموم تقيله وقعت علييك فجاه احساس وحش اوي</td>\n",
       "      <td>neg</td>\n",
       "    </tr>\n",
       "    <tr>\n",
       "      <th>31</th>\n",
       "      <td>بس بيشتم مينا</td>\n",
       "      <td>neg</td>\n",
       "    </tr>\n",
       "    <tr>\n",
       "      <th>32</th>\n",
       "      <td>الحياة ال ف خيالي حلوة اوي</td>\n",
       "      <td>pos</td>\n",
       "    </tr>\n",
       "    <tr>\n",
       "      <th>33</th>\n",
       "      <td>لا تياس اذا حرمك الله ما تحب ولا تحزن اذا انجبرت علي التعايش مع وضع قد يؤلمك بل ابتسم لان الله قال بكل رحمة وعسي ان تكرهوا شيئا وهو خير لكم</td>\n",
       "      <td>pos</td>\n",
       "    </tr>\n",
       "    <tr>\n",
       "      <th>34</th>\n",
       "      <td>مفتقدة اوي فكرة ان يكون في حد قدي في البيت</td>\n",
       "      <td>neg</td>\n",
       "    </tr>\n",
       "    <tr>\n",
       "      <th>35</th>\n",
       "      <td>النهايات السعيده دائما تاتي في المشمش</td>\n",
       "      <td>neg</td>\n",
       "    </tr>\n",
       "    <tr>\n",
       "      <th>36</th>\n",
       "      <td>يا حوتك يا سيسي استقبال رائع لرئيس مصر الججيدة القوية</td>\n",
       "      <td>pos</td>\n",
       "    </tr>\n",
       "    <tr>\n",
       "      <th>37</th>\n",
       "      <td>صحيح ان الغربة صعبة بس الوحدة جميلة تخلص من هموم الناس وتفضي لهومك تحلها</td>\n",
       "      <td>pos</td>\n",
       "    </tr>\n",
       "    <tr>\n",
       "      <th>38</th>\n",
       "      <td>م رت د انا عن ح بك و ان اهدرتي دمي الم باح فان كان الايم ان في ق ر بك فالكفر بك ف لاح</td>\n",
       "      <td>neg</td>\n",
       "    </tr>\n",
       "    <tr>\n",
       "      <th>39</th>\n",
       "      <td>صعبه لما تفتكر انك مهم عند حد وف الاخر تكتشف انك كنت غلطان</td>\n",
       "      <td>neg</td>\n",
       "    </tr>\n",
       "    <tr>\n",
       "      <th>40</th>\n",
       "      <td>اتيهم اخرج بيهم انا</td>\n",
       "      <td>neu</td>\n",
       "    </tr>\n",
       "    <tr>\n",
       "      <th>41</th>\n",
       "      <td>ومين في مصر ما بيحب يرجع البيت يلاقي الغدا مكرونة وفراخ بانيه</td>\n",
       "      <td>neu</td>\n",
       "    </tr>\n",
       "    <tr>\n",
       "      <th>42</th>\n",
       "      <td>وخيمت عيناك بليلي وغادر نبضك عالمي عيناك منسيتان</td>\n",
       "      <td>neg</td>\n",
       "    </tr>\n",
       "    <tr>\n",
       "      <th>43</th>\n",
       "      <td>ربنا يحفظك من كل شر و يبارك فيكي</td>\n",
       "      <td>pos</td>\n",
       "    </tr>\n",
       "    <tr>\n",
       "      <th>44</th>\n",
       "      <td>جيل الايباد بمناسبة الامتحانات مامته بتقولوا ذاكر عاوزاك تاكل الكتاب اكل قالها اتي كوباية ميه واعملي شاي علشان احبس ضحك</td>\n",
       "      <td>neu</td>\n",
       "    </tr>\n",
       "    <tr>\n",
       "      <th>45</th>\n",
       "      <td>انا لله و انا اليه راجعون طب ممكن لينك المكتب الحقوقي</td>\n",
       "      <td>neg</td>\n",
       "    </tr>\n",
       "    <tr>\n",
       "      <th>46</th>\n",
       "      <td>اه والله حرقوا دمنا يلا بنحب مجانين</td>\n",
       "      <td>neg</td>\n",
       "    </tr>\n",
       "    <tr>\n",
       "      <th>47</th>\n",
       "      <td>قرب من ربنا وهتقرب منك كل حاجة حلوة</td>\n",
       "      <td>pos</td>\n",
       "    </tr>\n",
       "    <tr>\n",
       "      <th>48</th>\n",
       "      <td>يا ريت نكسف التصويت علي رقم للصوت الدهبي</td>\n",
       "      <td>pos</td>\n",
       "    </tr>\n",
       "    <tr>\n",
       "      <th>49</th>\n",
       "      <td>ومن تاني اكيد راجعين انا دايب وكلي حنين</td>\n",
       "      <td>pos</td>\n",
       "    </tr>\n",
       "    <tr>\n",
       "      <th>50</th>\n",
       "      <td>من سنين اتفرجت ع مسلسل برغم اني بكره المسلسلات ان واحده تتعمي واللي بيحبها يروح يدرس مخصوص طب عيون علشان يعالجها ده قهره جماعيه يا جماعه</td>\n",
       "      <td>neg</td>\n",
       "    </tr>\n",
       "    <tr>\n",
       "      <th>51</th>\n",
       "      <td>افلح ان صدق والمقصود قطر</td>\n",
       "      <td>neg</td>\n",
       "    </tr>\n",
       "    <tr>\n",
       "      <th>52</th>\n",
       "      <td>قاعدة الصحاب في نص الاسبوع بتقرب اكتر من قاعدة اخر الاسبوع</td>\n",
       "      <td>neu</td>\n",
       "    </tr>\n",
       "    <tr>\n",
       "      <th>53</th>\n",
       "      <td>هذه الدنيا كتاب انت فيه الفكر من القائل الست</td>\n",
       "      <td>neu</td>\n",
       "    </tr>\n",
       "    <tr>\n",
       "      <th>54</th>\n",
       "      <td>دلوقتي جاي بتلعب علي الي خبزك وعجنك</td>\n",
       "      <td>neg</td>\n",
       "    </tr>\n",
       "    <tr>\n",
       "      <th>55</th>\n",
       "      <td>الخوف بالف نصل كل نصل ينغرس في حلم قادم فتسود حالة نزف لكل الاحلام ويسود البحث عن ذرة امان وامنهم من خوف</td>\n",
       "      <td>neg</td>\n",
       "    </tr>\n",
       "    <tr>\n",
       "      <th>56</th>\n",
       "      <td>انت اخر واحد ف الدنيا ممكن شيرين تبكي عليه انت فاهم</td>\n",
       "      <td>neg</td>\n",
       "    </tr>\n",
       "    <tr>\n",
       "      <th>57</th>\n",
       "      <td>طبعا اهم من الكتابه والاحساس الاملاء الشيء لزوم الشيء</td>\n",
       "      <td>neu</td>\n",
       "    </tr>\n",
       "    <tr>\n",
       "      <th>58</th>\n",
       "      <td>مساك اروع</td>\n",
       "      <td>pos</td>\n",
       "    </tr>\n",
       "    <tr>\n",
       "      <th>59</th>\n",
       "      <td>في حد بعت هداي لشيرو</td>\n",
       "      <td>neu</td>\n",
       "    </tr>\n",
       "    <tr>\n",
       "      <th>60</th>\n",
       "      <td>كنترول نادوا دعاء بقي</td>\n",
       "      <td>neu</td>\n",
       "    </tr>\n",
       "    <tr>\n",
       "      <th>61</th>\n",
       "      <td>كنت بائس من حياتي وحزين الساعه لكن دلوقتي متفال ومبسوط فشخ سبحان مغير احوال</td>\n",
       "      <td>pos</td>\n",
       "    </tr>\n",
       "    <tr>\n",
       "      <th>62</th>\n",
       "      <td>ماهو خلص الفيلم اللي كتبته علي عكس ما كنت انا بتمني دا انا كنت في حبك من الاول ابليس متعشم في الجنه</td>\n",
       "      <td>neg</td>\n",
       "    </tr>\n",
       "    <tr>\n",
       "      <th>63</th>\n",
       "      <td>انا من كتر الانشغال حاسس ان في وقت اجازتي كائن غريب في بيتي بتعرف علي الاسرة من اول وجديد</td>\n",
       "      <td>neg</td>\n",
       "    </tr>\n",
       "    <tr>\n",
       "      <th>64</th>\n",
       "      <td>فعلا صح عندك حق الله يرحمك يا امي</td>\n",
       "      <td>pos</td>\n",
       "    </tr>\n",
       "    <tr>\n",
       "      <th>65</th>\n",
       "      <td>تيجي عليه يا بن الاحبي بورده يسلم علي كس امك</td>\n",
       "      <td>neg</td>\n",
       "    </tr>\n",
       "    <tr>\n",
       "      <th>66</th>\n",
       "      <td>ربنا معاك ان شاء الله</td>\n",
       "      <td>pos</td>\n",
       "    </tr>\n",
       "    <tr>\n",
       "      <th>67</th>\n",
       "      <td>سهام الليل صائبة المرامي اذا وترت باوتار الخشوع يسددها الي المرمي رجال يطيلون السجود مع الركوع</td>\n",
       "      <td>neu</td>\n",
       "    </tr>\n",
       "    <tr>\n",
       "      <th>68</th>\n",
       "      <td>قاطعهم وقل لهم تبا لكم</td>\n",
       "      <td>neg</td>\n",
       "    </tr>\n",
       "    <tr>\n",
       "      <th>69</th>\n",
       "      <td>راح</td>\n",
       "      <td>neg</td>\n",
       "    </tr>\n",
       "    <tr>\n",
       "      <th>70</th>\n",
       "      <td>انتي المفروض ثانوي صح</td>\n",
       "      <td>neu</td>\n",
       "    </tr>\n",
       "    <tr>\n",
       "      <th>71</th>\n",
       "      <td>انا من يوم السبت هبدا مذاكرة</td>\n",
       "      <td>neu</td>\n",
       "    </tr>\n",
       "    <tr>\n",
       "      <th>72</th>\n",
       "      <td>تفكيرك في محله</td>\n",
       "      <td>pos</td>\n",
       "    </tr>\n",
       "    <tr>\n",
       "      <th>73</th>\n",
       "      <td>صباح جديد علي اهلي في تويتر</td>\n",
       "      <td>pos</td>\n",
       "    </tr>\n",
       "    <tr>\n",
       "      <th>74</th>\n",
       "      <td>طبعا انتي سقعانين وانا كمان بس انا عرقان والسخونيه ديه بنت جزمه</td>\n",
       "      <td>neg</td>\n",
       "    </tr>\n",
       "    <tr>\n",
       "      <th>75</th>\n",
       "      <td>وانت من اهل ميتين امه يا حما</td>\n",
       "      <td>neg</td>\n",
       "    </tr>\n",
       "    <tr>\n",
       "      <th>76</th>\n",
       "      <td>بس سيبك انت انا مبسوط باللي حصل انهارده و امبارح محدش قالي عقبالك</td>\n",
       "      <td>pos</td>\n",
       "    </tr>\n",
       "    <tr>\n",
       "      <th>77</th>\n",
       "      <td>الوطن عبدالمنعم ابراهيم فتافيت سكر السينما المصرية</td>\n",
       "      <td>neu</td>\n",
       "    </tr>\n",
       "    <tr>\n",
       "      <th>78</th>\n",
       "      <td>فرقوا بين الناس اللي بتحبكو و فارقين معاهم و بين اللي انتو بنسبه لهم ولا حاجة</td>\n",
       "      <td>neu</td>\n",
       "    </tr>\n",
       "    <tr>\n",
       "      <th>79</th>\n",
       "      <td>لا عرص</td>\n",
       "      <td>neg</td>\n",
       "    </tr>\n",
       "    <tr>\n",
       "      <th>80</th>\n",
       "      <td>المشكلة ان انا لسه جعانة بجد</td>\n",
       "      <td>neu</td>\n",
       "    </tr>\n",
       "    <tr>\n",
       "      <th>81</th>\n",
       "      <td>و يا رب عدلها</td>\n",
       "      <td>pos</td>\n",
       "    </tr>\n",
       "    <tr>\n",
       "      <th>82</th>\n",
       "      <td>انا كل ما اعرف حد ابن ناس يطلع يا كان صايع وربنا هداه يا ما ابن ناس وحد علي افاه فا يبقي صايع طب ليه كده طا</td>\n",
       "      <td>neg</td>\n",
       "    </tr>\n",
       "    <tr>\n",
       "      <th>83</th>\n",
       "      <td>يلا تصبحوا ع خير</td>\n",
       "      <td>pos</td>\n",
       "    </tr>\n",
       "    <tr>\n",
       "      <th>84</th>\n",
       "      <td>اصلا مسلسل الشمال والجنوب ده بكرهه كله علي بعضه كفايوة فانزه الغتت</td>\n",
       "      <td>neg</td>\n",
       "    </tr>\n",
       "    <tr>\n",
       "      <th>85</th>\n",
       "      <td>نحن علي بعد خطوات بسيطة من تحقيق حلم شاهين كلها يومين والحلم يتحقق تخيلوا الفرحه علي وشوشهم يوم اعلان النتيجه بفوز شاهين</td>\n",
       "      <td>pos</td>\n",
       "    </tr>\n",
       "    <tr>\n",
       "      <th>86</th>\n",
       "      <td>مبحبش ابين اني مضايقة والله بس بيبان عليا و بقلب وشي من غير قصد</td>\n",
       "      <td>neg</td>\n",
       "    </tr>\n",
       "    <tr>\n",
       "      <th>87</th>\n",
       "      <td>حسبي الله ونعم الوكيل</td>\n",
       "      <td>neg</td>\n",
       "    </tr>\n",
       "    <tr>\n",
       "      <th>88</th>\n",
       "      <td>احنا الزمالك احنا ولا نسيتوا</td>\n",
       "      <td>pos</td>\n",
       "    </tr>\n",
       "    <tr>\n",
       "      <th>89</th>\n",
       "      <td>ربنا يهديكي</td>\n",
       "      <td>neg</td>\n",
       "    </tr>\n",
       "    <tr>\n",
       "      <th>90</th>\n",
       "      <td>وقلبي نبضه صوت نبضك</td>\n",
       "      <td>pos</td>\n",
       "    </tr>\n",
       "    <tr>\n",
       "      <th>91</th>\n",
       "      <td>فيه شخصيات في حياتي موجودة بس عشان تحرقلي دمي</td>\n",
       "      <td>neg</td>\n",
       "    </tr>\n",
       "    <tr>\n",
       "      <th>92</th>\n",
       "      <td>استغفر الله العظيم</td>\n",
       "      <td>neg</td>\n",
       "    </tr>\n",
       "    <tr>\n",
       "      <th>93</th>\n",
       "      <td>تحلو مراره عيشي في رضالك</td>\n",
       "      <td>pos</td>\n",
       "    </tr>\n",
       "    <tr>\n",
       "      <th>94</th>\n",
       "      <td>اهون عليكي تهوني عليا يا لا ف داهيه كرهتك</td>\n",
       "      <td>neg</td>\n",
       "    </tr>\n",
       "    <tr>\n",
       "      <th>95</th>\n",
       "      <td>تنجحي خلاص نامي و ضميرك مرتاح</td>\n",
       "      <td>pos</td>\n",
       "    </tr>\n",
       "    <tr>\n",
       "      <th>96</th>\n",
       "      <td>ورايا امتحان ابن جزمة كمان خمس ساعات و ما ناقصة</td>\n",
       "      <td>neg</td>\n",
       "    </tr>\n",
       "    <tr>\n",
       "      <th>97</th>\n",
       "      <td>عن كام مره حبيت صدفة و كام مره لعنتها</td>\n",
       "      <td>neg</td>\n",
       "    </tr>\n",
       "    <tr>\n",
       "      <th>98</th>\n",
       "      <td>ك ثيره ه ي امانينا ف يا رب حقق ما تراه خيرا لنا ويسعدنا</td>\n",
       "      <td>pos</td>\n",
       "    </tr>\n",
       "    <tr>\n",
       "      <th>99</th>\n",
       "      <td>ليث نايم وفرحنا اننا شوفناه بيضحك الاكاديمي تخلص بكرة احنا فاضين دلوقتي ع التصويت بليزز ليث ابو جودة</td>\n",
       "      <td>pos</td>\n",
       "    </tr>\n",
       "    <tr>\n",
       "      <th>100</th>\n",
       "      <td>ان شاء الله نصبح علي خير</td>\n",
       "      <td>pos</td>\n",
       "    </tr>\n",
       "    <tr>\n",
       "      <th>101</th>\n",
       "      <td>اعلام ابن ميتشين كلب</td>\n",
       "      <td>neg</td>\n",
       "    </tr>\n",
       "    <tr>\n",
       "      <th>102</th>\n",
       "      <td>اللهم طهر قلبي من كل ضيق ويسر لي امري في كل طريق</td>\n",
       "      <td>pos</td>\n",
       "    </tr>\n",
       "    <tr>\n",
       "      <th>103</th>\n",
       "      <td>بوح يا حادي العيس وينك غايب مده اليوم لاعيس لاصحرا ولا حادي ماغير ذكري تهز القلب وتهده واقول عادي وهو والله مهو عادي ذلك الرجل</td>\n",
       "      <td>neg</td>\n",
       "    </tr>\n",
       "    <tr>\n",
       "      <th>104</th>\n",
       "      <td>انت اول حب واخر حب هعيش ويا ه واللي بيني وبينك احساس اكبر من معناه</td>\n",
       "      <td>pos</td>\n",
       "    </tr>\n",
       "    <tr>\n",
       "      <th>105</th>\n",
       "      <td>اه التيت بس احنا سرقنا صور كتير هطلع عليهم النكد كله</td>\n",
       "      <td>neg</td>\n",
       "    </tr>\n",
       "    <tr>\n",
       "      <th>106</th>\n",
       "      <td>الفكره اللي ماخذينها عني رجعوها والمره اليايه لا تاخذون شي مو لكم عيب الحركات</td>\n",
       "      <td>neg</td>\n",
       "    </tr>\n",
       "    <tr>\n",
       "      <th>107</th>\n",
       "      <td>انا فضلت متمسمره للدرجة دي انا مبحسش اساله طلعت في راسي وطفيت الاغاني وبعدين قولت طب وانا هعمل ايه وشغلت الاغاني تاني</td>\n",
       "      <td>neg</td>\n",
       "    </tr>\n",
       "    <tr>\n",
       "      <th>108</th>\n",
       "      <td>الشتا مبيسيبش حد سعيد</td>\n",
       "      <td>neg</td>\n",
       "    </tr>\n",
       "    <tr>\n",
       "      <th>109</th>\n",
       "      <td>باسم يوسف انت خول وامك عارفه</td>\n",
       "      <td>neg</td>\n",
       "    </tr>\n",
       "    <tr>\n",
       "      <th>110</th>\n",
       "      <td>بس انا لو غبيه كنت هرتاح المشكله اني بتغابي و لو بنسي هرتاح برضو المشكله اني بتناسي و ما بعرف اسامح كمان و مفرمله نفسي اني انتقم</td>\n",
       "      <td>neg</td>\n",
       "    </tr>\n",
       "    <tr>\n",
       "      <th>111</th>\n",
       "      <td>تسلموا</td>\n",
       "      <td>pos</td>\n",
       "    </tr>\n",
       "    <tr>\n",
       "      <th>112</th>\n",
       "      <td>وانا من الناس يا رب واشتقت الي بيتك الذي وضعته لنا فاللهم ارزقنا زيارته</td>\n",
       "      <td>pos</td>\n",
       "    </tr>\n",
       "    <tr>\n",
       "      <th>113</th>\n",
       "      <td>همسكهم الاتنين و اخبطهم في حيطة و نبدا علي نضيف</td>\n",
       "      <td>neg</td>\n",
       "    </tr>\n",
       "    <tr>\n",
       "      <th>114</th>\n",
       "      <td>انا المفروض اروح الكليه بكره اللي هو النهارده الصبح يعني عشان ادفع المصاريف عشان ما هدخل الامتحان لو مدفعتهاش</td>\n",
       "      <td>neg</td>\n",
       "    </tr>\n",
       "    <tr>\n",
       "      <th>115</th>\n",
       "      <td>اللي ميخافش من ربنا خاف منه</td>\n",
       "      <td>neu</td>\n",
       "    </tr>\n",
       "    <tr>\n",
       "      <th>116</th>\n",
       "      <td>انتي منين اصلا وعايشه فين</td>\n",
       "      <td>neu</td>\n",
       "    </tr>\n",
       "    <tr>\n",
       "      <th>117</th>\n",
       "      <td>صلاه الفجر</td>\n",
       "      <td>neu</td>\n",
       "    </tr>\n",
       "    <tr>\n",
       "      <th>118</th>\n",
       "      <td>ممكن حد يكرهك بمجرد انك محبوب لناس كتير</td>\n",
       "      <td>neg</td>\n",
       "    </tr>\n",
       "    <tr>\n",
       "      <th>119</th>\n",
       "      <td>كل سنه وانتي طيبه يا مديره واحه الاسلام وربنا يزيدك نور ورفعه انتي والمنتدي بتاعك اتمني لكم كل الخيرات وارفعه علي الدوام</td>\n",
       "      <td>pos</td>\n",
       "    </tr>\n",
       "    <tr>\n",
       "      <th>120</th>\n",
       "      <td>اللهم بشرنا بشارة خير لم نتوقعها ولم نكن نحلم بها ورزقنا رزقا لم نسالك اياه ولم يخطر ببالنا وجنبا شرا انت اعلم به منا يا حي يا قيوم</td>\n",
       "      <td>pos</td>\n",
       "    </tr>\n",
       "    <tr>\n",
       "      <th>121</th>\n",
       "      <td>يا صباح الفل</td>\n",
       "      <td>pos</td>\n",
       "    </tr>\n",
       "    <tr>\n",
       "      <th>122</th>\n",
       "      <td>حد قالك انك واحدة وسخة بلوك</td>\n",
       "      <td>neg</td>\n",
       "    </tr>\n",
       "    <tr>\n",
       "      <th>123</th>\n",
       "      <td>وكنت ازعم مثل الناس اذ زعموا بان من غاب عني غاب عن بالي واليوم كذ بني قلبي وكذ بتهم فارقتهم واقاموا بين اوصالي</td>\n",
       "      <td>neg</td>\n",
       "    </tr>\n",
       "    <tr>\n",
       "      <th>124</th>\n",
       "      <td>وان يرزقك خدمتها علي اكمل وجه ويكتب الله لك الثواب</td>\n",
       "      <td>pos</td>\n",
       "    </tr>\n",
       "    <tr>\n",
       "      <th>125</th>\n",
       "      <td>كنت بحب المذيعة دينا عصمت لما كانت علي قناة النيل للاخبار و اون تي في للاسف مستواها نزل علي سي بي سي اكسترا كانت قارئة نشرة ممتازة</td>\n",
       "      <td>neg</td>\n",
       "    </tr>\n",
       "    <tr>\n",
       "      <th>126</th>\n",
       "      <td>انا خلاص قرت ما هذاكر حاجه غير ليلة الامتحان عشان كل ماذاكر حاجه انساها تاني كفايه تضيع وقت ف المذاكره بقي</td>\n",
       "      <td>neg</td>\n",
       "    </tr>\n",
       "    <tr>\n",
       "      <th>127</th>\n",
       "      <td>كنت واقفة في البلكونة بدري كدة فلقيت عامل النظافة منضف الشارع يا دوب طلع لاول الشارع ورجع تاني قام منضف تاني ولا هو الاستهتار اسلوب حياه</td>\n",
       "      <td>neg</td>\n",
       "    </tr>\n",
       "    <tr>\n",
       "      <th>128</th>\n",
       "      <td>عيونها يتالف فيها اشعار</td>\n",
       "      <td>pos</td>\n",
       "    </tr>\n",
       "    <tr>\n",
       "      <th>129</th>\n",
       "      <td>سبحان الله وبحمده</td>\n",
       "      <td>neu</td>\n",
       "    </tr>\n",
       "    <tr>\n",
       "      <th>130</th>\n",
       "      <td>واتاري المحاسبة غداره غداره</td>\n",
       "      <td>neg</td>\n",
       "    </tr>\n",
       "    <tr>\n",
       "      <th>131</th>\n",
       "      <td>عن الناس اللي عايشة عشان توجعك و بس</td>\n",
       "      <td>neg</td>\n",
       "    </tr>\n",
       "    <tr>\n",
       "      <th>132</th>\n",
       "      <td>صباح الورد يا عنتبلي بيه</td>\n",
       "      <td>pos</td>\n",
       "    </tr>\n",
       "    <tr>\n",
       "      <th>133</th>\n",
       "      <td>حد هنا شغال في بنك</td>\n",
       "      <td>neu</td>\n",
       "    </tr>\n",
       "    <tr>\n",
       "      <th>134</th>\n",
       "      <td>اه و الله تعبنا فشخ</td>\n",
       "      <td>neg</td>\n",
       "    </tr>\n",
       "    <tr>\n",
       "      <th>135</th>\n",
       "      <td>يحيي لس مكلمني مصتقدش انه لسه حي ممتش</td>\n",
       "      <td>pos</td>\n",
       "    </tr>\n",
       "    <tr>\n",
       "      <th>136</th>\n",
       "      <td>وجهة نظر برده</td>\n",
       "      <td>neu</td>\n",
       "    </tr>\n",
       "    <tr>\n",
       "      <th>137</th>\n",
       "      <td>اصبح الوضع يطاق</td>\n",
       "      <td>neg</td>\n",
       "    </tr>\n",
       "    <tr>\n",
       "      <th>138</th>\n",
       "      <td>في اول تصريح له السبسي يطلب تفويضا من الشعب لمواجهة ارهاب محتمل واضح ان الكتلوج واحد</td>\n",
       "      <td>neg</td>\n",
       "    </tr>\n",
       "    <tr>\n",
       "      <th>139</th>\n",
       "      <td>كيف ننصر ديننا السير في طريق العلم الدعوة الي الله بما معك من العلم ان لم تستطع فكن محبا للعلم واهله</td>\n",
       "      <td>neu</td>\n",
       "    </tr>\n",
       "    <tr>\n",
       "      <th>140</th>\n",
       "      <td>مشكله اي بت انها عايزه الواد يهتم بيها ال ساعه حتي وهو نايم الرحمه حلوه</td>\n",
       "      <td>neg</td>\n",
       "    </tr>\n",
       "    <tr>\n",
       "      <th>141</th>\n",
       "      <td>يا ريت كلهم زيك يا بنتي والله</td>\n",
       "      <td>pos</td>\n",
       "    </tr>\n",
       "    <tr>\n",
       "      <th>142</th>\n",
       "      <td>صباحو</td>\n",
       "      <td>pos</td>\n",
       "    </tr>\n",
       "    <tr>\n",
       "      <th>143</th>\n",
       "      <td>القرضاوي مهاجما قطر لا يحتفلون بالمولد النبوي ويحتفلون ب الكريسماس مانت عايش في قطر من السينات لسه واخد بالك دلوقتي</td>\n",
       "      <td>neg</td>\n",
       "    </tr>\n",
       "    <tr>\n",
       "      <th>144</th>\n",
       "      <td>الوطن بالفيديو القرضاوي يهاجم قطر لا يحتفلون بالمولد النبوي ويعتبرونه بدعة</td>\n",
       "      <td>neu</td>\n",
       "    </tr>\n",
       "    <tr>\n",
       "      <th>145</th>\n",
       "      <td>طريقك مسدود مسدود يا ولدي بصوت سعيد صالح</td>\n",
       "      <td>neg</td>\n",
       "    </tr>\n",
       "    <tr>\n",
       "      <th>146</th>\n",
       "      <td>طيب يا شرطة يا مصرية في كتير اخوان في المصالح الحكومية وعاملين شغب والمديرين بتخاف منهم وبيعملوا فتن واجتماعات</td>\n",
       "      <td>neg</td>\n",
       "    </tr>\n",
       "    <tr>\n",
       "      <th>147</th>\n",
       "      <td>انقلاب اية ربنا يقلب مصرانكم ان شاء الله</td>\n",
       "      <td>neg</td>\n",
       "    </tr>\n",
       "    <tr>\n",
       "      <th>148</th>\n",
       "      <td>السنة ملهاش دعوة بنجاحك وفشلك والحقيقة انك فاشل عشان انت خول وعلق ما عشان انت سئ الحظ او قوانين الطبيعة والزمن بيتامروا عليك صانع الساعات</td>\n",
       "      <td>neg</td>\n",
       "    </tr>\n",
       "    <tr>\n",
       "      <th>149</th>\n",
       "      <td>قال رسول الله لاتقولواللمنافق سيدنا فانه ان يك سيدكم فقداسخطتم ربكم عزوجل الصحيحة</td>\n",
       "      <td>neu</td>\n",
       "    </tr>\n",
       "    <tr>\n",
       "      <th>150</th>\n",
       "      <td>تيجبي ملاحق يا يدي</td>\n",
       "      <td>neg</td>\n",
       "    </tr>\n",
       "    <tr>\n",
       "      <th>151</th>\n",
       "      <td>لا تطلب من الله مالا تستطيع تادية شكره او تحمل عبئه والا فلما ءاتاهم من فضله بخلوا به فاعقبهم نفاقا في قلوبهم الي يوم يلقونه</td>\n",
       "      <td>neu</td>\n",
       "    </tr>\n",
       "    <tr>\n",
       "      <th>152</th>\n",
       "      <td>ما ينفع تكون متعاطف او مؤمن بفكرا او راي او شخص او حزب او كيان الخ وتقارنه بشبيه ولكن متناقض مع الشئ دا لن تكون منصف بالمرا</td>\n",
       "      <td>neg</td>\n",
       "    </tr>\n",
       "    <tr>\n",
       "      <th>153</th>\n",
       "      <td>المصدر الروبل الروسي يتراجع امام الدولار للمزيد</td>\n",
       "      <td>neu</td>\n",
       "    </tr>\n",
       "    <tr>\n",
       "      <th>154</th>\n",
       "      <td>المصدر برنت يتراجع باتجاه دولارا للبرميل في التعاملات الاسيوية للتفاصيل</td>\n",
       "      <td>neu</td>\n",
       "    </tr>\n",
       "    <tr>\n",
       "      <th>155</th>\n",
       "      <td>مساء الخيرات</td>\n",
       "      <td>pos</td>\n",
       "    </tr>\n",
       "    <tr>\n",
       "      <th>156</th>\n",
       "      <td>قم بتجهيز ملعب نجيل صناعي كامل متكامل مع بيبا سبورت باقل سعر وضمان سنوات</td>\n",
       "      <td>neu</td>\n",
       "    </tr>\n",
       "    <tr>\n",
       "      <th>157</th>\n",
       "      <td>فؤاد المهندس و شويكار</td>\n",
       "      <td>pos</td>\n",
       "    </tr>\n",
       "    <tr>\n",
       "      <th>158</th>\n",
       "      <td>موديول منحس من اوله</td>\n",
       "      <td>neg</td>\n",
       "    </tr>\n",
       "    <tr>\n",
       "      <th>159</th>\n",
       "      <td>لك الحمد ربي عدد خلايا اجسادنا المتعافيه وعدد ايامنا التي لا نشكوا فيها وعدد نعمك التي لا نحصيها الحمدلله</td>\n",
       "      <td>pos</td>\n",
       "    </tr>\n",
       "    <tr>\n",
       "      <th>160</th>\n",
       "      <td>حفظ الله مصر</td>\n",
       "      <td>pos</td>\n",
       "    </tr>\n",
       "    <tr>\n",
       "      <th>161</th>\n",
       "      <td>شكرا لانك في حياتي شكرا لانك حياتي صباح الحب</td>\n",
       "      <td>pos</td>\n",
       "    </tr>\n",
       "    <tr>\n",
       "      <th>162</th>\n",
       "      <td>وتعيش يا جيش بلادي</td>\n",
       "      <td>pos</td>\n",
       "    </tr>\n",
       "    <tr>\n",
       "      <th>163</th>\n",
       "      <td>علبه كشري وسط ب جنيه يعني لو اربع افراد ب جنيه بلد مفيش متها امل</td>\n",
       "      <td>neg</td>\n",
       "    </tr>\n",
       "    <tr>\n",
       "      <th>164</th>\n",
       "      <td>اصاله دي حاله جميله</td>\n",
       "      <td>pos</td>\n",
       "    </tr>\n",
       "    <tr>\n",
       "      <th>165</th>\n",
       "      <td>اريد عمل اناسائق</td>\n",
       "      <td>neu</td>\n",
       "    </tr>\n",
       "    <tr>\n",
       "      <th>166</th>\n",
       "      <td>سابتسم في وجه من يكرهني فان لم اكسب محبته سانجح في فقع مرارته تمثلني وبشده</td>\n",
       "      <td>neu</td>\n",
       "    </tr>\n",
       "    <tr>\n",
       "      <th>167</th>\n",
       "      <td>اللقب لا يليق الا بك يا شاهينو</td>\n",
       "      <td>pos</td>\n",
       "    </tr>\n",
       "    <tr>\n",
       "      <th>168</th>\n",
       "      <td>والله كدابين ما انا ميزان اهو</td>\n",
       "      <td>neg</td>\n",
       "    </tr>\n",
       "    <tr>\n",
       "      <th>169</th>\n",
       "      <td>السلام عليكم ورحمة الله وبركاته اه وسه شرفت بمتابعتك</td>\n",
       "      <td>pos</td>\n",
       "    </tr>\n",
       "    <tr>\n",
       "      <th>170</th>\n",
       "      <td>الاهلي</td>\n",
       "      <td>pos</td>\n",
       "    </tr>\n",
       "    <tr>\n",
       "      <th>171</th>\n",
       "      <td>الوطن غادة عبدالرازق تنشر صورتها ب اتحاد الطلبة وناشط مربية اجيال واجيال</td>\n",
       "      <td>neu</td>\n",
       "    </tr>\n",
       "    <tr>\n",
       "      <th>172</th>\n",
       "      <td>الحمد لله علي نعمه المناخير الصغيره</td>\n",
       "      <td>pos</td>\n",
       "    </tr>\n",
       "    <tr>\n",
       "      <th>173</th>\n",
       "      <td>حساب شيرين يحيي</td>\n",
       "      <td>neu</td>\n",
       "    </tr>\n",
       "    <tr>\n",
       "      <th>174</th>\n",
       "      <td>الدكاترة نفسي افهم انا شغال معاك من اول الترم و طالع عين اهلي تيجي بت اخر الترم تنزلك دمعتين تحطلها مشروع تقديره امتياز قسم دراما</td>\n",
       "      <td>neg</td>\n",
       "    </tr>\n",
       "    <tr>\n",
       "      <th>175</th>\n",
       "      <td>ربنا يخليهولك ويسعدكوا</td>\n",
       "      <td>pos</td>\n",
       "    </tr>\n",
       "    <tr>\n",
       "      <th>176</th>\n",
       "      <td>الله واكبر علي رنوشتنا ربنا يكتر من لقاءتك يا رنا اخنا ما بنبع منك ابدا وربنا يوفقك يا رب وتكون البر مطربة في الوطن</td>\n",
       "      <td>pos</td>\n",
       "    </tr>\n",
       "    <tr>\n",
       "      <th>177</th>\n",
       "      <td>انا نفسي مرة اجرب اكون ليك حد اقرب</td>\n",
       "      <td>neg</td>\n",
       "    </tr>\n",
       "    <tr>\n",
       "      <th>178</th>\n",
       "      <td>انت موجود في خيالي اكتر مانت موجود في الواقع</td>\n",
       "      <td>neg</td>\n",
       "    </tr>\n",
       "    <tr>\n",
       "      <th>179</th>\n",
       "      <td>انها حبوب منع الفهم</td>\n",
       "      <td>neg</td>\n",
       "    </tr>\n",
       "    <tr>\n",
       "      <th>180</th>\n",
       "      <td>ما كفاية اسمك عجيب و كمان عامل الشكل دا ايساف اسفاف</td>\n",
       "      <td>neg</td>\n",
       "    </tr>\n",
       "    <tr>\n",
       "      <th>181</th>\n",
       "      <td>محاسب يحاول الانتحار بالقاء نفسه امام المترو لعجز مليون جنيه بعهدته</td>\n",
       "      <td>neu</td>\n",
       "    </tr>\n",
       "    <tr>\n",
       "      <th>182</th>\n",
       "      <td>في يوم هنعود دا بنا وعود وف غيابو اكيد لسة الامل موجود</td>\n",
       "      <td>pos</td>\n",
       "    </tr>\n",
       "    <tr>\n",
       "      <th>183</th>\n",
       "      <td>ما عربي بيطلع عنيهم بردو</td>\n",
       "      <td>neg</td>\n",
       "    </tr>\n",
       "    <tr>\n",
       "      <th>184</th>\n",
       "      <td>اضحك والضحكة تبقي ضحكيتين واتنين ف اتنين في اتنين</td>\n",
       "      <td>pos</td>\n",
       "    </tr>\n",
       "    <tr>\n",
       "      <th>185</th>\n",
       "      <td>ضحك صح والله</td>\n",
       "      <td>pos</td>\n",
       "    </tr>\n",
       "    <tr>\n",
       "      <th>186</th>\n",
       "      <td>وانت بالف خير ميرسي يا احمد</td>\n",
       "      <td>pos</td>\n",
       "    </tr>\n",
       "    <tr>\n",
       "      <th>187</th>\n",
       "      <td>واحلي تحيه لاولاد بلدي اجمد ناس المصرين وصحابهم اللبنانين طبعا حد يسال وكنوزه مقلتش كنزه لان حسبتها كمصريه لانها بنتنا كمان</td>\n",
       "      <td>pos</td>\n",
       "    </tr>\n",
       "    <tr>\n",
       "      <th>188</th>\n",
       "      <td>بس يا زملكاوي يا عرص</td>\n",
       "      <td>neg</td>\n",
       "    </tr>\n",
       "    <tr>\n",
       "      <th>189</th>\n",
       "      <td>فانز مينا ليه كل مسابقه فيها تصويت نايمين فيها صوتوا لمينا هنا بقا</td>\n",
       "      <td>neg</td>\n",
       "    </tr>\n",
       "    <tr>\n",
       "      <th>190</th>\n",
       "      <td>رنوشتي ايه رايك ف صورتك مع فكتور نفس صور الحفله بس ما عارفه انتي بتبقي زعلانه كده</td>\n",
       "      <td>neg</td>\n",
       "    </tr>\n",
       "    <tr>\n",
       "      <th>191</th>\n",
       "      <td>تشكيل الاهلي مسعد عوض شريف عبدالفضيل سعد شريف حازم لؤي وائل غالي رزق السعيد سليمان تريزجيه متعب</td>\n",
       "      <td>neu</td>\n",
       "    </tr>\n",
       "    <tr>\n",
       "      <th>192</th>\n",
       "      <td>عامة الطريق كمان كان واقف واقفه طين و لسه داخل زايد اهو يوم لاتيف</td>\n",
       "      <td>neg</td>\n",
       "    </tr>\n",
       "    <tr>\n",
       "      <th>193</th>\n",
       "      <td>جاريدو بيهرج والله</td>\n",
       "      <td>neg</td>\n",
       "    </tr>\n",
       "    <tr>\n",
       "      <th>194</th>\n",
       "      <td>ايمن يونس ده رغاي فشخ وحورتجي</td>\n",
       "      <td>neg</td>\n",
       "    </tr>\n",
       "    <tr>\n",
       "      <th>195</th>\n",
       "      <td>باعو قصر البارون بمليون جنيه وده تمن حته ارض في اوسخ حته في مصر قالك عصر مبارك سنه سبب الخراب اخرص يا عرص</td>\n",
       "      <td>neg</td>\n",
       "    </tr>\n",
       "    <tr>\n",
       "      <th>196</th>\n",
       "      <td>فورد تورس من بوابة المصدر شاهد الاعلان بالكامل من هنا</td>\n",
       "      <td>neu</td>\n",
       "    </tr>\n",
       "    <tr>\n",
       "      <th>197</th>\n",
       "      <td>بنكدب لما نتكلم عشان عارفين لو اتكلمنا جد هنفترق بعدين</td>\n",
       "      <td>neg</td>\n",
       "    </tr>\n",
       "    <tr>\n",
       "      <th>198</th>\n",
       "      <td>دماغي اللي شغالة ساعة</td>\n",
       "      <td>neu</td>\n",
       "    </tr>\n",
       "    <tr>\n",
       "      <th>199</th>\n",
       "      <td>لا ده عشان عيونك حلوه فشافت الصور جميله</td>\n",
       "      <td>pos</td>\n",
       "    </tr>\n",
       "  </tbody>\n",
       "</table>\n",
       "</div>"
      ],
      "text/plain": [
       "                                                                                                                                           tweet class\n",
       "0                                                                                                                         فينو الاهبل ابن الاهبل   neg\n",
       "1                                                                                                                علي المصرين وجمالهم ربنا يحميهم   pos\n",
       "2                                                                          دول كتير اوي ودمهم خفيف العمارة اللي انا فيها كلها سورين والاطفال عسل   pos\n",
       "3                                                                     انا بعد كده خلي اللي يوعني بحاجه همضي علي وصل امانه علشان اضمن انو ما يخون   neg\n",
       "4                                                                                                                                      انا هنتحر   neg\n",
       "5                                                                                                                             في حفظ الله يا ريس   pos\n",
       "6                                               يا عيون عطشان عطشانة سهر يا قلوب تعبانة تعبانة سفر كتروا من الحب تلاقوا تلاقوا في الضلمة الف قمر   pos\n",
       "7                                 زهقنا من اسامي اكونتات البنات علي مواقع التواصل الاجتماعي زي مثلا شروق الشمس و الذهب الازرق و اي بطيخ و السلام   neg\n",
       "8                                                                                                                             حمد الله ع السلامة   pos\n",
       "9                                                                                                                                        احا مين   neg\n",
       "10                                                                                                       لما تشوف حد واحشك كان بقالك كتير مشفتوش   pos\n",
       "11                                                                               دعاء نازله الجنينة حياتي دعاء السباعي دعاء السباعي دعاء السباعي   pos\n",
       "12                                                                                         لحد دلوقتي بيقول انه فاهم ما عارفه ليه حاسه انه بيكذب   neg\n",
       "13                                                                                                                        انا مشروخ مشروخ يا جمي   neg\n",
       "14                                                                                                                  مشيشتش بقالي اسبوع انه انجاز   pos\n",
       "15                                                                                              كفايه البصه اللي ببصها لحد و انا ما طايق الحد ده   neg\n",
       "16                                                      احساس ان في حد تاني خد مكانك من وسط الناس اللي بتحبهم وهما سابوه يخدو عادي احساس وحش اوي   neg\n",
       "17                                                                                                      بس انا كنت بحب المدرس بتاعها فلذلك حبتها   pos\n",
       "18                                                                                                              و مين غيرك في قلبي اكتبله مرسالي   pos\n",
       "19       السكينة لباسه والبر شعاره والتقوي ضميره والحكمة مقوله والصدق والوفاء طبيعته والعفو والمعروف خلقه والعدل سيرته والحق شريعته والهدي امامه   pos\n",
       "20                                                                                                       ربنا يشفيه ويقوم بالسلامه ويشفي كل مريض   pos\n",
       "21                                                                                                 متياسش من اللي فات واستبشر باللي جاي ربك كريم   pos\n",
       "22                                    عاجل تردد قنوات الجزيره مباشر مصر التركيه دا التردد يا شباب علي معدل ترميز مدار نايل سات مبروك يا حرار شير   neu\n",
       "23                                                                                                                التايم لاين م فرح بطريقة تفر ح   pos\n",
       "24                                                                                                                           خخ كسم تضيع الرميات   neg\n",
       "25                                                                                  متخصصين بنضيع ضربات جزاء ف كره القدم ورميات حره ف السله مرار   neg\n",
       "26                                                                                                                          اهل مكة ادري بشعابها   neu\n",
       "27                                                                                                                      حالة من الاكتئاب و البؤس   neg\n",
       "28                                                                                                                        ثانيه الفرق لينا يا رب   pos\n",
       "29                                                                                                 علي الصقفة كلة يرقص علي الصقفة كلة يرقص زمالك   pos\n",
       "30                                                          احساس ان الدنيا تسود ادامك كره واحده وتلاقي هموم تقيله وقعت علييك فجاه احساس وحش اوي   neg\n",
       "31                                                                                                                                 بس بيشتم مينا   neg\n",
       "32                                                                                                                    الحياة ال ف خيالي حلوة اوي   pos\n",
       "33   لا تياس اذا حرمك الله ما تحب ولا تحزن اذا انجبرت علي التعايش مع وضع قد يؤلمك بل ابتسم لان الله قال بكل رحمة وعسي ان تكرهوا شيئا وهو خير لكم   pos\n",
       "34                                                                                                    مفتقدة اوي فكرة ان يكون في حد قدي في البيت   neg\n",
       "35                                                                                                         النهايات السعيده دائما تاتي في المشمش   neg\n",
       "36                                                                                         يا حوتك يا سيسي استقبال رائع لرئيس مصر الججيدة القوية   pos\n",
       "37                                                                      صحيح ان الغربة صعبة بس الوحدة جميلة تخلص من هموم الناس وتفضي لهومك تحلها   pos\n",
       "38                                                         م رت د انا عن ح بك و ان اهدرتي دمي الم باح فان كان الايم ان في ق ر بك فالكفر بك ف لاح   neg\n",
       "39                                                                                    صعبه لما تفتكر انك مهم عند حد وف الاخر تكتشف انك كنت غلطان   neg\n",
       "40                                                                                                                           اتيهم اخرج بيهم انا   neu\n",
       "41                                                                                 ومين في مصر ما بيحب يرجع البيت يلاقي الغدا مكرونة وفراخ بانيه   neu\n",
       "42                                                                                              وخيمت عيناك بليلي وغادر نبضك عالمي عيناك منسيتان   neg\n",
       "43                                                                                                              ربنا يحفظك من كل شر و يبارك فيكي   pos\n",
       "44                       جيل الايباد بمناسبة الامتحانات مامته بتقولوا ذاكر عاوزاك تاكل الكتاب اكل قالها اتي كوباية ميه واعملي شاي علشان احبس ضحك   neu\n",
       "45                                                                                         انا لله و انا اليه راجعون طب ممكن لينك المكتب الحقوقي   neg\n",
       "46                                                                                                           اه والله حرقوا دمنا يلا بنحب مجانين   neg\n",
       "47                                                                                                           قرب من ربنا وهتقرب منك كل حاجة حلوة   pos\n",
       "48                                                                                                      يا ريت نكسف التصويت علي رقم للصوت الدهبي   pos\n",
       "49                                                                                                       ومن تاني اكيد راجعين انا دايب وكلي حنين   pos\n",
       "50      من سنين اتفرجت ع مسلسل برغم اني بكره المسلسلات ان واحده تتعمي واللي بيحبها يروح يدرس مخصوص طب عيون علشان يعالجها ده قهره جماعيه يا جماعه   neg\n",
       "51                                                                                                                      افلح ان صدق والمقصود قطر   neg\n",
       "52                                                                                    قاعدة الصحاب في نص الاسبوع بتقرب اكتر من قاعدة اخر الاسبوع   neu\n",
       "53                                                                                                  هذه الدنيا كتاب انت فيه الفكر من القائل الست   neu\n",
       "54                                                                                                           دلوقتي جاي بتلعب علي الي خبزك وعجنك   neg\n",
       "55                                      الخوف بالف نصل كل نصل ينغرس في حلم قادم فتسود حالة نزف لكل الاحلام ويسود البحث عن ذرة امان وامنهم من خوف   neg\n",
       "56                                                                                           انت اخر واحد ف الدنيا ممكن شيرين تبكي عليه انت فاهم   neg\n",
       "57                                                                                         طبعا اهم من الكتابه والاحساس الاملاء الشيء لزوم الشيء   neu\n",
       "58                                                                                                                                     مساك اروع   pos\n",
       "59                                                                                                                          في حد بعت هداي لشيرو   neu\n",
       "60                                                                                                                         كنترول نادوا دعاء بقي   neu\n",
       "61                                                                   كنت بائس من حياتي وحزين الساعه لكن دلوقتي متفال ومبسوط فشخ سبحان مغير احوال   pos\n",
       "62                                           ماهو خلص الفيلم اللي كتبته علي عكس ما كنت انا بتمني دا انا كنت في حبك من الاول ابليس متعشم في الجنه   neg\n",
       "63                                                     انا من كتر الانشغال حاسس ان في وقت اجازتي كائن غريب في بيتي بتعرف علي الاسرة من اول وجديد   neg\n",
       "64                                                                                                             فعلا صح عندك حق الله يرحمك يا امي   pos\n",
       "65                                                                                                  تيجي عليه يا بن الاحبي بورده يسلم علي كس امك   neg\n",
       "66                                                                                                                         ربنا معاك ان شاء الله   pos\n",
       "67                                                سهام الليل صائبة المرامي اذا وترت باوتار الخشوع يسددها الي المرمي رجال يطيلون السجود مع الركوع   neu\n",
       "68                                                                                                                        قاطعهم وقل لهم تبا لكم   neg\n",
       "69                                                                                                                                           راح   neg\n",
       "70                                                                                                                         انتي المفروض ثانوي صح   neu\n",
       "71                                                                                                                  انا من يوم السبت هبدا مذاكرة   neu\n",
       "72                                                                                                                                تفكيرك في محله   pos\n",
       "73                                                                                                                   صباح جديد علي اهلي في تويتر   pos\n",
       "74                                                                               طبعا انتي سقعانين وانا كمان بس انا عرقان والسخونيه ديه بنت جزمه   neg\n",
       "75                                                                                                                  وانت من اهل ميتين امه يا حما   neg\n",
       "76                                                                             بس سيبك انت انا مبسوط باللي حصل انهارده و امبارح محدش قالي عقبالك   pos\n",
       "77                                                                                            الوطن عبدالمنعم ابراهيم فتافيت سكر السينما المصرية   neu\n",
       "78                                                                 فرقوا بين الناس اللي بتحبكو و فارقين معاهم و بين اللي انتو بنسبه لهم ولا حاجة   neu\n",
       "79                                                                                                                                        لا عرص   neg\n",
       "80                                                                                                                  المشكلة ان انا لسه جعانة بجد   neu\n",
       "81                                                                                                                                 و يا رب عدلها   pos\n",
       "82                                   انا كل ما اعرف حد ابن ناس يطلع يا كان صايع وربنا هداه يا ما ابن ناس وحد علي افاه فا يبقي صايع طب ليه كده طا   neg\n",
       "83                                                                                                                              يلا تصبحوا ع خير   pos\n",
       "84                                                                            اصلا مسلسل الشمال والجنوب ده بكرهه كله علي بعضه كفايوة فانزه الغتت   neg\n",
       "85                      نحن علي بعد خطوات بسيطة من تحقيق حلم شاهين كلها يومين والحلم يتحقق تخيلوا الفرحه علي وشوشهم يوم اعلان النتيجه بفوز شاهين   pos\n",
       "86                                                                               مبحبش ابين اني مضايقة والله بس بيبان عليا و بقلب وشي من غير قصد   neg\n",
       "87                                                                                                                         حسبي الله ونعم الوكيل   neg\n",
       "88                                                                                                                  احنا الزمالك احنا ولا نسيتوا   pos\n",
       "89                                                                                                                                   ربنا يهديكي   neg\n",
       "90                                                                                                                           وقلبي نبضه صوت نبضك   pos\n",
       "91                                                                                                 فيه شخصيات في حياتي موجودة بس عشان تحرقلي دمي   neg\n",
       "92                                                                                                                            استغفر الله العظيم   neg\n",
       "93                                                                                                                      تحلو مراره عيشي في رضالك   pos\n",
       "94                                                                                                     اهون عليكي تهوني عليا يا لا ف داهيه كرهتك   neg\n",
       "95                                                                                                                 تنجحي خلاص نامي و ضميرك مرتاح   pos\n",
       "96                                                                                               ورايا امتحان ابن جزمة كمان خمس ساعات و ما ناقصة   neg\n",
       "97                                                                                                         عن كام مره حبيت صدفة و كام مره لعنتها   neg\n",
       "98                                                                                       ك ثيره ه ي امانينا ف يا رب حقق ما تراه خيرا لنا ويسعدنا   pos\n",
       "99                                          ليث نايم وفرحنا اننا شوفناه بيضحك الاكاديمي تخلص بكرة احنا فاضين دلوقتي ع التصويت بليزز ليث ابو جودة   pos\n",
       "100                                                                                                                     ان شاء الله نصبح علي خير   pos\n",
       "101                                                                                                                         اعلام ابن ميتشين كلب   neg\n",
       "102                                                                                             اللهم طهر قلبي من كل ضيق ويسر لي امري في كل طريق   pos\n",
       "103               بوح يا حادي العيس وينك غايب مده اليوم لاعيس لاصحرا ولا حادي ماغير ذكري تهز القلب وتهده واقول عادي وهو والله مهو عادي ذلك الرجل   neg\n",
       "104                                                                           انت اول حب واخر حب هعيش ويا ه واللي بيني وبينك احساس اكبر من معناه   pos\n",
       "105                                                                                         اه التيت بس احنا سرقنا صور كتير هطلع عليهم النكد كله   neg\n",
       "106                                                                الفكره اللي ماخذينها عني رجعوها والمره اليايه لا تاخذون شي مو لكم عيب الحركات   neg\n",
       "107                        انا فضلت متمسمره للدرجة دي انا مبحسش اساله طلعت في راسي وطفيت الاغاني وبعدين قولت طب وانا هعمل ايه وشغلت الاغاني تاني   neg\n",
       "108                                                                                                                        الشتا مبيسيبش حد سعيد   neg\n",
       "109                                                                                                                 باسم يوسف انت خول وامك عارفه   neg\n",
       "110             بس انا لو غبيه كنت هرتاح المشكله اني بتغابي و لو بنسي هرتاح برضو المشكله اني بتناسي و ما بعرف اسامح كمان و مفرمله نفسي اني انتقم   neg\n",
       "111                                                                                                                                       تسلموا   pos\n",
       "112                                                                      وانا من الناس يا رب واشتقت الي بيتك الذي وضعته لنا فاللهم ارزقنا زيارته   pos\n",
       "113                                                                                              همسكهم الاتنين و اخبطهم في حيطة و نبدا علي نضيف   neg\n",
       "114                                انا المفروض اروح الكليه بكره اللي هو النهارده الصبح يعني عشان ادفع المصاريف عشان ما هدخل الامتحان لو مدفعتهاش   neg\n",
       "115                                                                                                                  اللي ميخافش من ربنا خاف منه   neu\n",
       "116                                                                                                                    انتي منين اصلا وعايشه فين   neu\n",
       "117                                                                                                                                   صلاه الفجر   neu\n",
       "118                                                                                                      ممكن حد يكرهك بمجرد انك محبوب لناس كتير   neg\n",
       "119                     كل سنه وانتي طيبه يا مديره واحه الاسلام وربنا يزيدك نور ورفعه انتي والمنتدي بتاعك اتمني لكم كل الخيرات وارفعه علي الدوام   pos\n",
       "120          اللهم بشرنا بشارة خير لم نتوقعها ولم نكن نحلم بها ورزقنا رزقا لم نسالك اياه ولم يخطر ببالنا وجنبا شرا انت اعلم به منا يا حي يا قيوم   pos\n",
       "121                                                                                                                                 يا صباح الفل   pos\n",
       "122                                                                                                                  حد قالك انك واحدة وسخة بلوك   neg\n",
       "123                               وكنت ازعم مثل الناس اذ زعموا بان من غاب عني غاب عن بالي واليوم كذ بني قلبي وكذ بتهم فارقتهم واقاموا بين اوصالي   neg\n",
       "124                                                                                           وان يرزقك خدمتها علي اكمل وجه ويكتب الله لك الثواب   pos\n",
       "125           كنت بحب المذيعة دينا عصمت لما كانت علي قناة النيل للاخبار و اون تي في للاسف مستواها نزل علي سي بي سي اكسترا كانت قارئة نشرة ممتازة   neg\n",
       "126                                   انا خلاص قرت ما هذاكر حاجه غير ليلة الامتحان عشان كل ماذاكر حاجه انساها تاني كفايه تضيع وقت ف المذاكره بقي   neg\n",
       "127     كنت واقفة في البلكونة بدري كدة فلقيت عامل النظافة منضف الشارع يا دوب طلع لاول الشارع ورجع تاني قام منضف تاني ولا هو الاستهتار اسلوب حياه   neg\n",
       "128                                                                                                                      عيونها يتالف فيها اشعار   pos\n",
       "129                                                                                                                            سبحان الله وبحمده   neu\n",
       "130                                                                                                                  واتاري المحاسبة غداره غداره   neg\n",
       "131                                                                                                          عن الناس اللي عايشة عشان توجعك و بس   neg\n",
       "132                                                                                                                     صباح الورد يا عنتبلي بيه   pos\n",
       "133                                                                                                                           حد هنا شغال في بنك   neu\n",
       "134                                                                                                                          اه و الله تعبنا فشخ   neg\n",
       "135                                                                                                        يحيي لس مكلمني مصتقدش انه لسه حي ممتش   pos\n",
       "136                                                                                                                                وجهة نظر برده   neu\n",
       "137                                                                                                                              اصبح الوضع يطاق   neg\n",
       "138                                                         في اول تصريح له السبسي يطلب تفويضا من الشعب لمواجهة ارهاب محتمل واضح ان الكتلوج واحد   neg\n",
       "139                                         كيف ننصر ديننا السير في طريق العلم الدعوة الي الله بما معك من العلم ان لم تستطع فكن محبا للعلم واهله   neu\n",
       "140                                                                      مشكله اي بت انها عايزه الواد يهتم بيها ال ساعه حتي وهو نايم الرحمه حلوه   neg\n",
       "141                                                                                                                يا ريت كلهم زيك يا بنتي والله   pos\n",
       "142                                                                                                                                        صباحو   pos\n",
       "143                          القرضاوي مهاجما قطر لا يحتفلون بالمولد النبوي ويحتفلون ب الكريسماس مانت عايش في قطر من السينات لسه واخد بالك دلوقتي   neg\n",
       "144                                                                   الوطن بالفيديو القرضاوي يهاجم قطر لا يحتفلون بالمولد النبوي ويعتبرونه بدعة   neu\n",
       "145                                                                                                     طريقك مسدود مسدود يا ولدي بصوت سعيد صالح   neg\n",
       "146                               طيب يا شرطة يا مصرية في كتير اخوان في المصالح الحكومية وعاملين شغب والمديرين بتخاف منهم وبيعملوا فتن واجتماعات   neg\n",
       "147                                                                                                     انقلاب اية ربنا يقلب مصرانكم ان شاء الله   neg\n",
       "148    السنة ملهاش دعوة بنجاحك وفشلك والحقيقة انك فاشل عشان انت خول وعلق ما عشان انت سئ الحظ او قوانين الطبيعة والزمن بيتامروا عليك صانع الساعات   neg\n",
       "149                                                            قال رسول الله لاتقولواللمنافق سيدنا فانه ان يك سيدكم فقداسخطتم ربكم عزوجل الصحيحة   neu\n",
       "150                                                                                                                           تيجبي ملاحق يا يدي   neg\n",
       "151                 لا تطلب من الله مالا تستطيع تادية شكره او تحمل عبئه والا فلما ءاتاهم من فضله بخلوا به فاعقبهم نفاقا في قلوبهم الي يوم يلقونه   neu\n",
       "152                  ما ينفع تكون متعاطف او مؤمن بفكرا او راي او شخص او حزب او كيان الخ وتقارنه بشبيه ولكن متناقض مع الشئ دا لن تكون منصف بالمرا   neg\n",
       "153                                                                                              المصدر الروبل الروسي يتراجع امام الدولار للمزيد   neu\n",
       "154                                                                      المصدر برنت يتراجع باتجاه دولارا للبرميل في التعاملات الاسيوية للتفاصيل   neu\n",
       "155                                                                                                                                 مساء الخيرات   pos\n",
       "156                                                                     قم بتجهيز ملعب نجيل صناعي كامل متكامل مع بيبا سبورت باقل سعر وضمان سنوات   neu\n",
       "157                                                                                                                        فؤاد المهندس و شويكار   pos\n",
       "158                                                                                                                          موديول منحس من اوله   neg\n",
       "159                                    لك الحمد ربي عدد خلايا اجسادنا المتعافيه وعدد ايامنا التي لا نشكوا فيها وعدد نعمك التي لا نحصيها الحمدلله   pos\n",
       "160                                                                                                                                 حفظ الله مصر   pos\n",
       "161                                                                                                 شكرا لانك في حياتي شكرا لانك حياتي صباح الحب   pos\n",
       "162                                                                                                                           وتعيش يا جيش بلادي   pos\n",
       "163                                                                             علبه كشري وسط ب جنيه يعني لو اربع افراد ب جنيه بلد مفيش متها امل   neg\n",
       "164                                                                                                                          اصاله دي حاله جميله   pos\n",
       "165                                                                                                                             اريد عمل اناسائق   neu\n",
       "166                                                                   سابتسم في وجه من يكرهني فان لم اكسب محبته سانجح في فقع مرارته تمثلني وبشده   neu\n",
       "167                                                                                                               اللقب لا يليق الا بك يا شاهينو   pos\n",
       "168                                                                                                                والله كدابين ما انا ميزان اهو   neg\n",
       "169                                                                                         السلام عليكم ورحمة الله وبركاته اه وسه شرفت بمتابعتك   pos\n",
       "170                                                                                                                                       الاهلي   pos\n",
       "171                                                                     الوطن غادة عبدالرازق تنشر صورتها ب اتحاد الطلبة وناشط مربية اجيال واجيال   neu\n",
       "172                                                                                                          الحمد لله علي نعمه المناخير الصغيره   pos\n",
       "173                                                                                                                              حساب شيرين يحيي   neu\n",
       "174            الدكاترة نفسي افهم انا شغال معاك من اول الترم و طالع عين اهلي تيجي بت اخر الترم تنزلك دمعتين تحطلها مشروع تقديره امتياز قسم دراما   neg\n",
       "175                                                                                                                       ربنا يخليهولك ويسعدكوا   pos\n",
       "176                          الله واكبر علي رنوشتنا ربنا يكتر من لقاءتك يا رنا اخنا ما بنبع منك ابدا وربنا يوفقك يا رب وتكون البر مطربة في الوطن   pos\n",
       "177                                                                                                           انا نفسي مرة اجرب اكون ليك حد اقرب   neg\n",
       "178                                                                                                 انت موجود في خيالي اكتر مانت موجود في الواقع   neg\n",
       "179                                                                                                                          انها حبوب منع الفهم   neg\n",
       "180                                                                                          ما كفاية اسمك عجيب و كمان عامل الشكل دا ايساف اسفاف   neg\n",
       "181                                                                          محاسب يحاول الانتحار بالقاء نفسه امام المترو لعجز مليون جنيه بعهدته   neu\n",
       "182                                                                                       في يوم هنعود دا بنا وعود وف غيابو اكيد لسة الامل موجود   pos\n",
       "183                                                                                                                     ما عربي بيطلع عنيهم بردو   neg\n",
       "184                                                                                            اضحك والضحكة تبقي ضحكيتين واتنين ف اتنين في اتنين   pos\n",
       "185                                                                                                                                 ضحك صح والله   pos\n",
       "186                                                                                                                  وانت بالف خير ميرسي يا احمد   pos\n",
       "187                  واحلي تحيه لاولاد بلدي اجمد ناس المصرين وصحابهم اللبنانين طبعا حد يسال وكنوزه مقلتش كنزه لان حسبتها كمصريه لانها بنتنا كمان   pos\n",
       "188                                                                                                                         بس يا زملكاوي يا عرص   neg\n",
       "189                                                                           فانز مينا ليه كل مسابقه فيها تصويت نايمين فيها صوتوا لمينا هنا بقا   neg\n",
       "190                                                            رنوشتي ايه رايك ف صورتك مع فكتور نفس صور الحفله بس ما عارفه انتي بتبقي زعلانه كده   neg\n",
       "191                                              تشكيل الاهلي مسعد عوض شريف عبدالفضيل سعد شريف حازم لؤي وائل غالي رزق السعيد سليمان تريزجيه متعب   neu\n",
       "192                                                                            عامة الطريق كمان كان واقف واقفه طين و لسه داخل زايد اهو يوم لاتيف   neg\n",
       "193                                                                                                                           جاريدو بيهرج والله   neg\n",
       "194                                                                                                                ايمن يونس ده رغاي فشخ وحورتجي   neg\n",
       "195                                    باعو قصر البارون بمليون جنيه وده تمن حته ارض في اوسخ حته في مصر قالك عصر مبارك سنه سبب الخراب اخرص يا عرص   neg\n",
       "196                                                                                        فورد تورس من بوابة المصدر شاهد الاعلان بالكامل من هنا   neu\n",
       "197                                                                                       بنكدب لما نتكلم عشان عارفين لو اتكلمنا جد هنفترق بعدين   neg\n",
       "198                                                                                                                        دماغي اللي شغالة ساعة   neu\n",
       "199                                                                                                      لا ده عشان عيونك حلوه فشافت الصور جميله   pos"
      ]
     },
     "execution_count": 47,
     "metadata": {},
     "output_type": "execute_result"
    }
   ],
   "source": [
    "CY_train.head(200)"
   ]
  },
  {
   "cell_type": "code",
   "execution_count": 48,
   "metadata": {},
   "outputs": [],
   "source": [
    "#stop words\n",
    "st = ISRIStemmer()\n",
    "stop=st.stop_words+stopwords.words(\"arabic\")\n",
    "stop=stop+['من','و','علي','اللي','ان','كان','شي','حتي','يعني','انه','فقط','وانا ','اني','ع','ب','طبعا','اي','قبل','انت','ليه','11','تم','وبعد','لكن','زي','م','لم','واللي','او','وقال','انها','انا','بلح','عم','ممكن','ايه','ده','عمو','دي','وانت','الي','ي','ف','طيب','عليكم','السلام','بس','عن','سمحت','رمضان','سنه',' ذالك','ص','اكتر','عشان','حاجه','كده','لو','احنا','ا','تاني','وانا','الا','دا','ال','ل','انك','د','ام','كنت','بقي','سنة','حق','كنت','وكل','ريت','كتير','ريت','حد','كم','لا','لكن','وما','لم','ما','الام', 'عايز' ,'طول' ,'يوم','اريد' ,'لوسمحت', 'الرد' ,'عندكم' ,'عندي' ,'جدا','ارجو','اية', 'فضلك','شهور', 'وفي', 'اذا', 'اقل', 'مفيش' , 'تحت', 'اذا', 'لان', 'حل', 'وعملت' , 'واحد', 'بقالي' ,'وبركاته' ,'موجود' ,'طب' ,'ينفع', 'قالي' ,'بقالي' ,'الان' ,'اخر' ,'علشان', 'عامل' ,'بسيط', 'شهر' ,'اخر', 'مثل', 'نتيجه', 'مجهود' ,'الافاده' ,'دلوقتي' ,'ماهو','سبب', 'تقريبا','خالص' ,'ايام', 'ورحمة', 'سن', 'مريض','لديكم','لاني','شويه','فترة','مين','لازم','كل','كمان'] "
   ]
  },
  {
   "cell_type": "code",
   "execution_count": 49,
   "metadata": {},
   "outputs": [
    {
     "data": {
      "text/plain": [
       "441"
      ]
     },
     "execution_count": 49,
     "metadata": {},
     "output_type": "execute_result"
    }
   ],
   "source": [
    "len(stop)"
   ]
  },
  {
   "cell_type": "code",
   "execution_count": 50,
   "metadata": {},
   "outputs": [],
   "source": [
    "#remove stop words\n",
    "CY_train['tweet']=CY_train['tweet'].apply(lambda x: ' '.join([word for word in x.split() if word not in (stop)]))"
   ]
  },
  {
   "cell_type": "code",
   "execution_count": 51,
   "metadata": {},
   "outputs": [
    {
     "data": {
      "text/html": [
       "<div>\n",
       "<style scoped>\n",
       "    .dataframe tbody tr th:only-of-type {\n",
       "        vertical-align: middle;\n",
       "    }\n",
       "\n",
       "    .dataframe tbody tr th {\n",
       "        vertical-align: top;\n",
       "    }\n",
       "\n",
       "    .dataframe thead th {\n",
       "        text-align: right;\n",
       "    }\n",
       "</style>\n",
       "<table border=\"1\" class=\"dataframe\">\n",
       "  <thead>\n",
       "    <tr style=\"text-align: right;\">\n",
       "      <th></th>\n",
       "      <th>tweet</th>\n",
       "      <th>class</th>\n",
       "    </tr>\n",
       "  </thead>\n",
       "  <tbody>\n",
       "    <tr>\n",
       "      <th>0</th>\n",
       "      <td>فينو الاهبل ابن الاهبل</td>\n",
       "      <td>neg</td>\n",
       "    </tr>\n",
       "    <tr>\n",
       "      <th>1</th>\n",
       "      <td>المصرين وجمالهم ربنا يحميهم</td>\n",
       "      <td>pos</td>\n",
       "    </tr>\n",
       "    <tr>\n",
       "      <th>2</th>\n",
       "      <td>دول اوي ودمهم خفيف العمارة كلها سورين والاطفال عسل</td>\n",
       "      <td>pos</td>\n",
       "    </tr>\n",
       "    <tr>\n",
       "      <th>3</th>\n",
       "      <td>خلي يوعني بحاجه همضي وصل امانه اضمن انو يخون</td>\n",
       "      <td>neg</td>\n",
       "    </tr>\n",
       "    <tr>\n",
       "      <th>4</th>\n",
       "      <td>هنتحر</td>\n",
       "      <td>neg</td>\n",
       "    </tr>\n",
       "  </tbody>\n",
       "</table>\n",
       "</div>"
      ],
      "text/plain": [
       "                                                tweet class\n",
       "0                              فينو الاهبل ابن الاهبل   neg\n",
       "1                         المصرين وجمالهم ربنا يحميهم   pos\n",
       "2  دول اوي ودمهم خفيف العمارة كلها سورين والاطفال عسل   pos\n",
       "3        خلي يوعني بحاجه همضي وصل امانه اضمن انو يخون   neg\n",
       "4                                               هنتحر   neg"
      ]
     },
     "execution_count": 51,
     "metadata": {},
     "output_type": "execute_result"
    }
   ],
   "source": [
    "CY_train.head()"
   ]
  },
  {
   "cell_type": "code",
   "execution_count": 52,
   "metadata": {},
   "outputs": [
    {
     "data": {
      "text/plain": [
       "pos    896\n",
       "neg    844\n",
       "neu    606\n",
       "Name: class, dtype: int64"
      ]
     },
     "execution_count": 52,
     "metadata": {},
     "output_type": "execute_result"
    }
   ],
   "source": [
    "CY_train['class'].value_counts()   # count our positve & negative lables and its density\n"
   ]
  },
  {
   "cell_type": "code",
   "execution_count": 53,
   "metadata": {},
   "outputs": [],
   "source": [
    "#label class to num\n",
    "title_mapping = {\"neg\": 0, \"pos\": 1, \"neu\": 2}\n",
    "CY_train['class_num'] = CY_train['class'].map(title_mapping)"
   ]
  },
  {
   "cell_type": "code",
   "execution_count": 54,
   "metadata": {},
   "outputs": [
    {
     "data": {
      "text/html": [
       "<div>\n",
       "<style scoped>\n",
       "    .dataframe tbody tr th:only-of-type {\n",
       "        vertical-align: middle;\n",
       "    }\n",
       "\n",
       "    .dataframe tbody tr th {\n",
       "        vertical-align: top;\n",
       "    }\n",
       "\n",
       "    .dataframe thead th {\n",
       "        text-align: right;\n",
       "    }\n",
       "</style>\n",
       "<table border=\"1\" class=\"dataframe\">\n",
       "  <thead>\n",
       "    <tr style=\"text-align: right;\">\n",
       "      <th></th>\n",
       "      <th>tweet</th>\n",
       "      <th>class</th>\n",
       "      <th>class_num</th>\n",
       "    </tr>\n",
       "  </thead>\n",
       "  <tbody>\n",
       "    <tr>\n",
       "      <th>0</th>\n",
       "      <td>فينو الاهبل ابن الاهبل</td>\n",
       "      <td>neg</td>\n",
       "      <td>0</td>\n",
       "    </tr>\n",
       "    <tr>\n",
       "      <th>1</th>\n",
       "      <td>المصرين وجمالهم ربنا يحميهم</td>\n",
       "      <td>pos</td>\n",
       "      <td>1</td>\n",
       "    </tr>\n",
       "    <tr>\n",
       "      <th>2</th>\n",
       "      <td>دول اوي ودمهم خفيف العمارة كلها سورين والاطفال عسل</td>\n",
       "      <td>pos</td>\n",
       "      <td>1</td>\n",
       "    </tr>\n",
       "    <tr>\n",
       "      <th>3</th>\n",
       "      <td>خلي يوعني بحاجه همضي وصل امانه اضمن انو يخون</td>\n",
       "      <td>neg</td>\n",
       "      <td>0</td>\n",
       "    </tr>\n",
       "    <tr>\n",
       "      <th>4</th>\n",
       "      <td>هنتحر</td>\n",
       "      <td>neg</td>\n",
       "      <td>0</td>\n",
       "    </tr>\n",
       "  </tbody>\n",
       "</table>\n",
       "</div>"
      ],
      "text/plain": [
       "                                                tweet class  class_num\n",
       "0                              فينو الاهبل ابن الاهبل   neg          0\n",
       "1                         المصرين وجمالهم ربنا يحميهم   pos          1\n",
       "2  دول اوي ودمهم خفيف العمارة كلها سورين والاطفال عسل   pos          1\n",
       "3        خلي يوعني بحاجه همضي وصل امانه اضمن انو يخون   neg          0\n",
       "4                                               هنتحر   neg          0"
      ]
     },
     "execution_count": 54,
     "metadata": {},
     "output_type": "execute_result"
    }
   ],
   "source": [
    "CY_train.head(5)"
   ]
  },
  {
   "cell_type": "code",
   "execution_count": 55,
   "metadata": {},
   "outputs": [],
   "source": [
    "X=CY_train['tweet']\n",
    "y=CY_train['class_num']"
   ]
  },
  {
   "cell_type": "code",
   "execution_count": 56,
   "metadata": {},
   "outputs": [
    {
     "data": {
      "text/plain": [
       "0                                فينو الاهبل ابن الاهبل\n",
       "1                           المصرين وجمالهم ربنا يحميهم\n",
       "2    دول اوي ودمهم خفيف العمارة كلها سورين والاطفال عسل\n",
       "3          خلي يوعني بحاجه همضي وصل امانه اضمن انو يخون\n",
       "4                                                 هنتحر\n",
       "Name: tweet, dtype: object"
      ]
     },
     "execution_count": 56,
     "metadata": {},
     "output_type": "execute_result"
    }
   ],
   "source": [
    "X[:5]"
   ]
  },
  {
   "cell_type": "code",
   "execution_count": 57,
   "metadata": {},
   "outputs": [
    {
     "data": {
      "text/plain": [
       "0    0\n",
       "1    1\n",
       "2    1\n",
       "3    0\n",
       "4    0\n",
       "Name: class_num, dtype: int64"
      ]
     },
     "execution_count": 57,
     "metadata": {},
     "output_type": "execute_result"
    }
   ],
   "source": [
    "y[:5]"
   ]
  },
  {
   "cell_type": "markdown",
   "metadata": {},
   "source": [
    "**1. BOW with Embedding Layer With LSTM**"
   ]
  },
  {
   "cell_type": "markdown",
   "metadata": {},
   "source": [
    "**Here we create a class from Tokenizer for splitting a text into a list of tokens and token as parts like a word.here supposed the number of words les than 3000 with normalize our words**"
   ]
  },
  {
   "cell_type": "code",
   "execution_count": 58,
   "metadata": {},
   "outputs": [],
   "source": [
    "tok=Tokenizer(lower=True,num_words=3000) \n",
    "tok.fit_on_texts(X)\n",
    "seqs=tok.texts_to_sequences(X)\n",
    "padded_seqs=pad_sequences(seqs,maxlen=30)   #badding to unique size "
   ]
  },
  {
   "cell_type": "code",
   "execution_count": 59,
   "metadata": {},
   "outputs": [],
   "source": [
    "#joblib.dump(tok, 'SentimentModels/TokenizerBOW/TokForBOW.pkl')\n"
   ]
  },
  {
   "cell_type": "code",
   "execution_count": null,
   "metadata": {},
   "outputs": [],
   "source": [
    " "
   ]
  },
  {
   "cell_type": "code",
   "execution_count": 60,
   "metadata": {},
   "outputs": [],
   "source": [
    "#Split our data into training and test data\n",
    "y1=pd.DataFrame(y)\n",
    "y_label_categ = to_categorical(y1)\n",
    "X_train,X_test,y_train,y_test=train_test_split(padded_seqs,y_label_categ,train_size=0.85,test_size=0.15,random_state=43)"
   ]
  },
  {
   "cell_type": "code",
   "execution_count": 61,
   "metadata": {},
   "outputs": [
    {
     "data": {
      "text/plain": [
       "2346"
      ]
     },
     "execution_count": 61,
     "metadata": {},
     "output_type": "execute_result"
    }
   ],
   "source": [
    "len(y_label_categ)"
   ]
  },
  {
   "cell_type": "code",
   "execution_count": 62,
   "metadata": {},
   "outputs": [
    {
     "data": {
      "text/plain": [
       "array([[1., 0., 0.],\n",
       "       [0., 1., 0.],\n",
       "       [0., 1., 0.],\n",
       "       [1., 0., 0.],\n",
       "       [1., 0., 0.]], dtype=float32)"
      ]
     },
     "execution_count": 62,
     "metadata": {},
     "output_type": "execute_result"
    }
   ],
   "source": [
    "y_label_categ[:5]"
   ]
  },
  {
   "cell_type": "code",
   "execution_count": 28,
   "metadata": {},
   "outputs": [
    {
     "data": {
      "text/plain": [
       "array([[   0,    0,    0,    0,    0,    0,    0,    0,    0,    0,    0,\n",
       "           0,    0,    0,    0,    0, 2897,  170, 2898,  557,  431, 1335,\n",
       "        1336, 2899, 2900, 2901, 1337, 2902, 2903, 2904],\n",
       "       [   0,    0,    0,    0,    0,    0,    0,    0,    0,    0,    0,\n",
       "           0,    0,    0,    0,    0,    0,    0,    0,    0,    0,    0,\n",
       "           0,    0,    0,    0,    0,    5, 2821, 2822],\n",
       "       [   0,    0,    0,    0,    0,    0,    0,    0,    0,    0,    0,\n",
       "           0,    0,    0,    0,    0,    0,    0,    0,    0,    0,    0,\n",
       "           0,  227, 2602,  774, 2603,  775, 2604,  775],\n",
       "       [   0,    0,    0,    0,    0,    0,    0,    0,    0,    0,    0,\n",
       "           0,    0,    0,    0,    0,    0,    0,    0,    0,    0,    0,\n",
       "           0,    0,    0,    0,    0,    0,    0,    0],\n",
       "       [   0,    0,    0,    0,    0,    0,    0,    0,    0,    0,    0,\n",
       "           0,    0,    0,    0,    0,    0,    0,    0,    0,    0,    0,\n",
       "           0,   12,  688, 1064, 2280,  616, 1064,   30]])"
      ]
     },
     "execution_count": 28,
     "metadata": {},
     "output_type": "execute_result"
    }
   ],
   "source": [
    "X_train[:5]"
   ]
  },
  {
   "cell_type": "markdown",
   "metadata": {},
   "source": [
    "**Build our deep learning model with simple architecture with embedding Layer with input size 30 and 3 node as ouput with sigmoid activation function**\n",
    "\n",
    "**The first parameter in the embeddig layer is the size of the vocabulary or the total number of unique words in a corpus. The second parameter is the number of the dimensions for each word vector. For instance, if you want each word vector to have 30 dimensions, you will specify 30 as the second parameter. And finally, the third parameter is the length of the input sentence.**"
   ]
  },
  {
   "cell_type": "code",
   "execution_count": 29,
   "metadata": {},
   "outputs": [],
   "source": [
    "def createLSTM():\n",
    "    model=Sequential()\n",
    "    model.add(Embedding(3000,30,)) \n",
    "    model.add(LSTM(256,activation='relu'))\n",
    "    model.add(Dense(100,activation='relu'))\n",
    "    model.add(Dense(3,activation='softmax'))\n",
    "    return model"
   ]
  },
  {
   "cell_type": "code",
   "execution_count": 30,
   "metadata": {},
   "outputs": [
    {
     "name": "stdout",
     "output_type": "stream",
     "text": [
      "Model: \"sequential\"\n",
      "_________________________________________________________________\n",
      "Layer (type)                 Output Shape              Param #   \n",
      "=================================================================\n",
      "embedding (Embedding)        (None, None, 30)          90000     \n",
      "_________________________________________________________________\n",
      "lstm (LSTM)                  (None, 256)               293888    \n",
      "_________________________________________________________________\n",
      "dense (Dense)                (None, 100)               25700     \n",
      "_________________________________________________________________\n",
      "dense_1 (Dense)              (None, 3)                 303       \n",
      "=================================================================\n",
      "Total params: 409,891\n",
      "Trainable params: 409,891\n",
      "Non-trainable params: 0\n",
      "_________________________________________________________________\n"
     ]
    }
   ],
   "source": [
    "model_BOW=createLSTM()\n",
    "model_BOW.summary()"
   ]
  },
  {
   "cell_type": "code",
   "execution_count": 31,
   "metadata": {},
   "outputs": [
    {
     "data": {
      "text/plain": [
       "((1994, 30), (1994, 3))"
      ]
     },
     "execution_count": 31,
     "metadata": {},
     "output_type": "execute_result"
    }
   ],
   "source": [
    "np.shape(X_train),np.shape(y_train)\n"
   ]
  },
  {
   "cell_type": "markdown",
   "metadata": {},
   "source": [
    "**Compile our model:**\n",
    "\n",
    "**The loss function categorical_crossentropy  is used  3 labels**"
   ]
  },
  {
   "cell_type": "code",
   "execution_count": 32,
   "metadata": {},
   "outputs": [
    {
     "name": "stdout",
     "output_type": "stream",
     "text": [
      "Train on 1994 samples, validate on 352 samples\n",
      "Epoch 1/15\n",
      "1994/1994 [==============================] - 10s 5ms/sample - loss: 1.0883 - acc: 0.3786 - val_loss: 1.0923 - val_acc: 0.3750\n",
      "Epoch 2/15\n",
      "1994/1994 [==============================] - 8s 4ms/sample - loss: 1.0053 - acc: 0.5496 - val_loss: 1.0418 - val_acc: 0.4915\n",
      "Epoch 3/15\n",
      "1994/1994 [==============================] - 8s 4ms/sample - loss: 0.6942 - acc: 0.7021 - val_loss: 1.1002 - val_acc: 0.5199\n",
      "Epoch 4/15\n",
      "1994/1994 [==============================] - 8s 4ms/sample - loss: 0.5268 - acc: 0.8205 - val_loss: 1.0896 - val_acc: 0.5341\n",
      "Epoch 5/15\n",
      "1994/1994 [==============================] - 8s 4ms/sample - loss: 1.1361 - acc: 0.8340 - val_loss: 0.9769 - val_acc: 0.5341\n",
      "Epoch 6/15\n",
      "1994/1994 [==============================] - 12s 6ms/sample - loss: 0.3425 - acc: 0.8781 - val_loss: 1.2258 - val_acc: 0.5483\n",
      "Epoch 7/15\n",
      "1994/1994 [==============================] - 8s 4ms/sample - loss: 0.2772 - acc: 0.8982 - val_loss: 1.2830 - val_acc: 0.5426\n",
      "Epoch 8/15\n",
      "1994/1994 [==============================] - 12s 6ms/sample - loss: 0.1928 - acc: 0.9278 - val_loss: 2.4559 - val_acc: 0.5653\n",
      "Epoch 9/15\n",
      "1994/1994 [==============================] - 8s 4ms/sample - loss: 0.1484 - acc: 0.9358 - val_loss: 2.9219 - val_acc: 0.5511\n",
      "Epoch 10/15\n",
      "1994/1994 [==============================] - 12s 6ms/sample - loss: 0.1393 - acc: 0.9403 - val_loss: 2.2207 - val_acc: 0.5682\n",
      "Epoch 11/15\n",
      "1994/1994 [==============================] - 8s 4ms/sample - loss: 0.1210 - acc: 0.9408 - val_loss: 3.3551 - val_acc: 0.5653\n",
      "Epoch 12/15\n",
      "1994/1994 [==============================] - 12s 6ms/sample - loss: 0.1097 - acc: 0.9483 - val_loss: 3.8846 - val_acc: 0.5540\n",
      "Epoch 13/15\n",
      "1994/1994 [==============================] - 8s 4ms/sample - loss: 0.1046 - acc: 0.9488 - val_loss: 5.0379 - val_acc: 0.5568\n",
      "Epoch 14/15\n",
      "1994/1994 [==============================] - 12s 6ms/sample - loss: 0.0984 - acc: 0.9493 - val_loss: 5.3897 - val_acc: 0.5625\n",
      "Epoch 15/15\n",
      "1994/1994 [==============================] - 8s 4ms/sample - loss: 0.1569 - acc: 0.9428 - val_loss: 1.4812 - val_acc: 0.5398\n"
     ]
    }
   ],
   "source": [
    "earlystop = EarlyStopping(monitor='val_acc', patience=10, verbose=2, restore_best_weights=True)\n",
    "# earlystop = K.callbacks.ModelCheckpoint(filepath=\"model_BOW_best.h5\",monitor=\"val_accuracy\",mode=\"max\",save_best_only=True,verbose=1)\n",
    "model_BOW.compile(loss='categorical_crossentropy',optimizer='adam',metrics=['acc'])\n",
    "\n",
    "history_BOW=model_BOW.fit(X_train,y_train,batch_size=32,validation_data=(X_test,y_test),epochs=15,verbose=1,callbacks=[earlystop])"
   ]
  },
  {
   "cell_type": "code",
   "execution_count": 33,
   "metadata": {},
   "outputs": [
    {
     "data": {
      "image/png": "[encoded data removed]",
      "text/plain": [
       "<Figure size 432x288 with 1 Axes>"
      ]
     },
     "metadata": {
      "needs_background": "light"
     },
     "output_type": "display_data"
    }
   ],
   "source": [
    "#plot the loss curve training and validation data against epochs\n",
    "loss = history_BOW.history['loss']\n",
    "val_loss = history_BOW.history['val_loss']\n",
    "plt.xlabel('Epochs')\n",
    "plt.ylabel('Loss')\n",
    "plt.title('Loss Trend')\n",
    "plt.plot(loss, 'blue', label='Training Loss')\n",
    "plt.plot(val_loss, 'green', label='Validation Loss')\n",
    "plt.xticks(range(0,15)[0::2])\n",
    "plt.legend()\n",
    "plt.show()"
   ]
  },
  {
   "cell_type": "code",
   "execution_count": 34,
   "metadata": {},
   "outputs": [
    {
     "data": {
      "image/png": "[encoded data removed]",
      "text/plain": [
       "<Figure size 432x288 with 1 Axes>"
      ]
     },
     "metadata": {
      "needs_background": "light"
     },
     "output_type": "display_data"
    }
   ],
   "source": [
    "#plot the Accuracy curve training and validation data against epochs\n",
    "acc = history_BOW.history['acc']\n",
    "val_acc = history_BOW.history['val_acc']\n",
    "plt.xlabel('Epochs')\n",
    "plt.ylabel('Accuracy')\n",
    "plt.title('Accuracy Value')\n",
    "plt.plot(acc, 'blue', label='Training accuracy')\n",
    "plt.plot(val_acc, 'green', label='Validation accuracy')\n",
    "plt.xticks(range(0,15)[0::2])\n",
    "plt.legend()\n",
    "plt.show()"
   ]
  },
  {
   "cell_type": "code",
   "execution_count": 351,
   "metadata": {},
   "outputs": [],
   "source": [
    "## -- save and load keras model\n",
    "def save_keras_model(model, model_name, path='SentimentModels'):\n",
    "    data_path = os.path.join(path, model_name)\n",
    "    if not os.path.exists(data_path):\n",
    "        os.makedirs(data_path)\n",
    "    model.save_weights(os.path.join(data_path, model_name+'_weights.hdf5'))\n",
    "    with open(os.path.join(data_path, model_name+'_architecture.json'), 'w') as f:\n",
    "        f.write(model.to_json())  \n",
    "        \n",
    "def load_keras_model(model_name, path='SentimentModels'):\n",
    "    data_path = os.path.join(path, model_name)\n",
    "    with open(os.path.join(data_path, model_name+'_architecture.json'), 'r') as f:\n",
    "        model = model_from_json(f.read())\n",
    "    model.load_weights(os.path.join(data_path, model_name+'_weights.hdf5'))\n",
    "    return model"
   ]
  },
  {
   "cell_type": "code",
   "execution_count": 37,
   "metadata": {},
   "outputs": [
    {
     "name": "stdout",
     "output_type": "stream",
     "text": [
      "your Model is saved\n"
     ]
    }
   ],
   "source": [
    "#Save our Model\n",
    "save_keras_model(model=model_BOW,model_name='SentimentBOW_LSTM', path='SentimentModels')\n",
    "print(\"your Model is saved\")"
   ]
  },
  {
   "cell_type": "code",
   "execution_count": 38,
   "metadata": {},
   "outputs": [
    {
     "name": "stdout",
     "output_type": "stream",
     "text": [
      "\r",
      "352/1 [================================================================================================================================================================================================================================================================================================================================================================================================================================================================================================================================================================================================================================================================================================================================================================================================================================================================================================================================================================================================================================================================================================================================================================================================================================================================================================================================================================================================================================================================================================================================================================================================================================================================================================================================================================================================================================================================================================================================================================================================================================================================================================================================================================================================================================================================================================================================================================================================================================================================================================================================================================================================================================================================================================================================================================================================================================================================================================================================================================================================================================================================================================================================================================================================================================================================================================================================================================================================================================================================================================================================================================================================================================================================================================================================================================================================================================================================================================================================================================================================================================================================================================================================================================================================================================================================================================================================================================================================================================================================================================================================================================================================================================================================================================================================================================================================================================================================================================================================================================================================================================================================================================================================================================================================================================================================================================================================================================================================================================================================================================================================================================================================================================================================================================================================================================================================================================================================================================================================================================================================================================================================================================================================================================================================================================================================================================================================================================================================================================================================================================================================================================================================================================================================================================================================================================================================================================================================================================================================================================================================================================================================================================================================================================================================================================================================================================================================================================================================================================================================================================================================================================================================================================================================================================================================================================================================================================================================================================================================================================================================================================================================================================================================================================================================================================================================================================================================================================================================================================================================================================================================================================================================================================================================================================================================================================================================================================================================================================================================================================================================================================================================================================================================================================================================================================================================================================================================================================================================================================================================================================================================================================================================================================================================================================================================================================================================================================================================================================================================================================================================================================================================================================================================================================================================================================================================================================================================================================================================================================================================================================================================================================================================================================================================================================================================================================================================================================================================================================================================================================================================] - 1s 2ms/sample - loss: 1.5037 - acc: 0.5398\n"
     ]
    },
    {
     "data": {
      "text/plain": [
       "[1.4811903346668591, 0.53977275]"
      ]
     },
     "execution_count": 38,
     "metadata": {},
     "output_type": "execute_result"
    }
   ],
   "source": [
    "#Validate our model and load best val_accuracy\n",
    "\n",
    "BOW_LSTM_model=load_keras_model(model_name='SentimentBOW_LSTM')\n",
    "\n",
    "BOW_LSTM_model.compile(loss='categorical_crossentropy',optimizer='adam',metrics=['acc'])\n",
    "\n",
    "BOW_LSTM_model.evaluate(X_test,y_test)\n"
   ]
  },
  {
   "cell_type": "code",
   "execution_count": 21,
   "metadata": {},
   "outputs": [],
   "source": [
    "def plot_cm(y_true, y_pred, labels=None, figsize=None):\n",
    "    if not labels:\n",
    "        labels = np.unique(y_true)\n",
    "    cm = confusion_matrix(y_true, y_pred, labels=np.unique(y_true))\n",
    "    cm_sum = np.sum(cm, axis=1, keepdims=True)\n",
    "    cm_perc = cm / cm_sum.astype(float) * 100\n",
    "    annot = np.empty_like(cm).astype(str)\n",
    "    nrows, ncols = cm.shape\n",
    "    for i in range(nrows):\n",
    "        for j in range(ncols):\n",
    "            c = cm[i, j]\n",
    "            p = cm_perc[i, j]\n",
    "            if i == j:\n",
    "                s = cm_sum[i]\n",
    "                annot[i, j] = '%.1f%%\\n%d/%d' % (p, c, s)\n",
    "            elif c == 0:\n",
    "                annot[i, j] = ''\n",
    "            else:\n",
    "                annot[i, j] = '%.1f%%\\n%d' % (p, c)\n",
    "    cm = pd.DataFrame(cm, index=labels, columns=labels)\n",
    "    cm.index.name = 'Actual'\n",
    "    cm.columns.name = 'Predicted'\n",
    "    fig, ax = plt.subplots(figsize=figsize)\n",
    "    sns.heatmap(cm, cmap= \"YlGnBu\", annot=annot, fmt='', ax=ax)"
   ]
  },
  {
   "cell_type": "code",
   "execution_count": 40,
   "metadata": {},
   "outputs": [
    {
     "name": "stdout",
     "output_type": "stream",
     "text": [
      "\r",
      "352/1 [================================================================================================================================================================================================================================================================================================================================================================================================================================================================================================================================================================================================================================================================================================================================================================================================================================================================================================================================================================================================================================================================================================================================================================================================================================================================================================================================================================================================================================================================================================================================================================================================================================================================================================================================================================================================================================================================================================================================================================================================================================================================================================================================================================================================================================================================================================================================================================================================================================================================================================================================================================================================================================================================================================================================================================================================================================================================================================================================================================================================================================================================================================================================================================================================================================================================================================================================================================================================================================================================================================================================================================================================================================================================================================================================================================================================================================================================================================================================================================================================================================================================================================================================================================================================================================================================================================================================================================================================================================================================================================================================================================================================================================================================================================================================================================================================================================================================================================================================================================================================================================================================================================================================================================================================================================================================================================================================================================================================================================================================================================================================================================================================================================================================================================================================================================================================================================================================================================================================================================================================================================================================================================================================================================================================================================================================================================================================================================================================================================================================================================================================================================================================================================================================================================================================================================================================================================================================================================================================================================================================================================================================================================================================================================================================================================================================================================================================================================================================================================================================================================================================================================================================================================================================================================================================================================================================================================================================================================================================================================================================================================================================================================================================================================================================================================================================================================================================================================================================================================================================================================================================================================================================================================================================================================================================================================================================================================================================================================================================================================================================================================================================================================================================================================================================================================================================================================================================================================================================================================================================================================================================================================================================================================================================================================================================================================================================================================================================================================================================================================================================================================================================================================================================================================================================================================================================================================================================================================================================================================================================================================================================================================================================================================================================================================================================================================================================================================================================================================================================================================================================] - 0s 1ms/sample - loss: 1.5037 - acc: 0.5398\n"
     ]
    },
    {
     "name": "stdout",
     "output_type": "stream",
     "text": [
      "Score: 1.4812\n",
      "Accuracy: 0.5398\n",
      "[[60 37 22]\n",
      " [30 90 12]\n",
      " [31 30 40]]\n",
      "              precision    recall  f1-score   support\n",
      "\n",
      "           0       0.50      0.50      0.50       119\n",
      "           1       0.57      0.68      0.62       132\n",
      "           2       0.54      0.40      0.46       101\n",
      "\n",
      "    accuracy                           0.54       352\n",
      "   macro avg       0.54      0.53      0.53       352\n",
      "weighted avg       0.54      0.54      0.53       352\n",
      "\n",
      "0.5397727272727273\n"
     ]
    },
    {
     "data": {
      "image/png": "[encoded data removed]",
      "text/plain": [
       "<Figure size 432x288 with 2 Axes>"
      ]
     },
     "metadata": {
      "needs_background": "light"
     },
     "output_type": "display_data"
    }
   ],
   "source": [
    "# Evaluate model\n",
    "score, acc = BOW_LSTM_model.evaluate(X_test,y_test)\n",
    "    \n",
    "print('Score: %1.4f' % score)\n",
    "print('Accuracy: %1.4f' % acc)\n",
    "\n",
    "predictions = BOW_LSTM_model.predict(X_test)\n",
    "\n",
    "print(confusion_matrix(y_test.argmax(axis=1),predictions.argmax(axis=1)))  \n",
    "print(classification_report(y_test.argmax(axis=1),predictions.argmax(axis=1)))  \n",
    "print(accuracy_score(y_test.argmax(axis=1), predictions.argmax(axis=1)))\n",
    "plot_cm( y_test.argmax(axis=1),  predictions.argmax(axis=1))"
   ]
  },
  {
   "cell_type": "markdown",
   "metadata": {},
   "source": [
    "**Try to predict label for random sentence**"
   ]
  },
  {
   "cell_type": "code",
   "execution_count": 359,
   "metadata": {},
   "outputs": [],
   "source": [
    "#neg=[1., 0., 0.] or 0  #our lapel\n",
    "#pos=[0., 1., 0.] or 1\n",
    "#neu=[0., 0., 1.] or 2\n",
    "def remove_Stopwords(sentence):\n",
    "    temp_list=[]\n",
    "    for word in sentence.split():\n",
    "        if word not in stop:\n",
    "            temp_list.append(word)\n",
    "    sentence=' '.join(temp_list)\n",
    "    return sentence\n",
    "    \n",
    "def remove_stopWord_clean(sentence):\n",
    "    sentence=str(sentence)\n",
    "    sentence=clean_text(sentence)\n",
    "    sentence=remove_Stopwords(sentence)\n",
    "    return sentence\n",
    "\n",
    "def Predict_By_BOW_LSTM_model(sentence):\n",
    "    sentence=remove_stopWord_clean(sentence)\n",
    "    test_seq=pad_sequences(tok.texts_to_sequences([sentence]),maxlen=30)\n",
    "    proba=BOW_LSTM_model.predict_proba(test_seq)\n",
    "    proba1=proba.argmax(axis=1)[0]\n",
    "    if proba1==0:\n",
    "        return 'neg',proba\n",
    "    elif proba1==1:\n",
    "        return 'pos',proba\n",
    "    else:\n",
    "        return 'neu',proba\n",
    "def predict_ML_TFIDF(sentence,bestModel):\n",
    "    sentence=remove_stopWord_clean(sentence)\n",
    "    sentence_TF=TFIDF([sentence])\n",
    "    proba=bestModel.predict_proba(sentence_TF)\n",
    "    proba1=proba.argmax(axis=1)[0]\n",
    "    if proba1==0:\n",
    "        return 'neg',proba\n",
    "    elif proba1==1:\n",
    "        return 'pos',proba\n",
    "    else:\n",
    "        return 'neu',proba\n",
    "\n",
    "    "
   ]
  },
  {
   "cell_type": "code",
   "execution_count": 42,
   "metadata": {},
   "outputs": [
    {
     "data": {
      "text/plain": [
       "tweet    ' \"\"\"@horyagana ان شاء الله ، النصر من عند الله والظلم مهما طاااااااااااال لابد من حلول العدل وأنتصار العدل والحق في النهاية هي دي قاعده المسلم\"\"\"\" '\n",
       "class                                                                                                                                                      pos\n",
       "Name: 12, dtype: object"
      ]
     },
     "execution_count": 42,
     "metadata": {},
     "output_type": "execute_result"
    }
   ],
   "source": [
    "CY_trainTest.iloc[12]"
   ]
  },
  {
   "cell_type": "code",
   "execution_count": 43,
   "metadata": {},
   "outputs": [
    {
     "data": {
      "text/plain": [
       "('pos', array([[0.00347318, 0.98587286, 0.01065389]], dtype=float32))"
      ]
     },
     "execution_count": 43,
     "metadata": {},
     "output_type": "execute_result"
    }
   ],
   "source": [
    "Predict_By_BOW_LSTM_model(CY_trainTest.tweet.iloc[12])\n"
   ]
  },
  {
   "cell_type": "markdown",
   "metadata": {},
   "source": [
    "**2. Try Machine learning model with TF-IDF**\n"
   ]
  },
  {
   "cell_type": "code",
   "execution_count": 44,
   "metadata": {},
   "outputs": [
    {
     "name": "stderr",
     "output_type": "stream",
     "text": [
      "C:\\Users\\Mohammed\\AppData\\Local\\Continuum\\anaconda3\\lib\\site-packages\\sklearn\\feature_extraction\\text.py:498: UserWarning: The parameter 'ngram_range' will not be used since 'analyzer' is callable'\n",
      "  warnings.warn(\"The parameter 'ngram_range' will not be used\"\n",
      "C:\\Users\\Mohammed\\AppData\\Local\\Continuum\\anaconda3\\lib\\site-packages\\sklearn\\feature_extraction\\text.py:502: UserWarning: The parameter 'stop_words' will not be used since 'analyzer' != 'word'\n",
      "  warnings.warn(\"The parameter 'stop_words' will not be used\"\n"
     ]
    },
    {
     "data": {
      "text/plain": [
       "TfidfVectorizer(analyzer=<function <lambda> at 0x0000025F42908C80>,\n",
       "                max_features=1000, ngram_range=(1, 2),\n",
       "                stop_words=['يكون', 'وليس', 'وكان', 'كذلك', 'التي', 'وبين',\n",
       "                            'عليها', 'مساء', 'الذي', 'وكانت', 'ولكن', 'والتي',\n",
       "                            'تكون', 'اليوم', 'اللذين', 'عليه', 'كانت', 'لذلك',\n",
       "                            'أمام', 'هناك', 'منها', 'مازال', 'لازال', 'لايزال',\n",
       "                            'مايزال', 'اصبح', 'أصبح', 'أمسى', 'امسى', 'أضحى', ...])"
      ]
     },
     "execution_count": 44,
     "metadata": {},
     "output_type": "execute_result"
    }
   ],
   "source": [
    "vectorizer = TfidfVectorizer(stop_words=stop,max_features=1000,analyzer=lambda x:[w for w in x if w not in stop],ngram_range=(1,2))\n",
    "vectorizer.fit(X)\n"
   ]
  },
  {
   "cell_type": "code",
   "execution_count": 45,
   "metadata": {},
   "outputs": [],
   "source": [
    "tfidf_matrix_train = vectorizer.transform(X)"
   ]
  },
  {
   "cell_type": "code",
   "execution_count": 46,
   "metadata": {},
   "outputs": [
    {
     "data": {
      "text/plain": [
       "<1x23 sparse matrix of type '<class 'numpy.float64'>'\n",
       "\twith 3 stored elements in Compressed Sparse Row format>"
      ]
     },
     "execution_count": 46,
     "metadata": {},
     "output_type": "execute_result"
    }
   ],
   "source": [
    "tfidf_matrix_train[0]"
   ]
  },
  {
   "cell_type": "code",
   "execution_count": 47,
   "metadata": {},
   "outputs": [],
   "source": [
    "#trainingTFIDF = np.concatenate(trainingTFIDF)\n",
    "X_trainTF,X_testTF,y_trainTF,y_testTF=train_test_split(tfidf_matrix_train,y,train_size=0.85,test_size=0.15,random_state=43)\n"
   ]
  },
  {
   "cell_type": "code",
   "execution_count": 48,
   "metadata": {},
   "outputs": [],
   "source": [
    "def TFIDF(s):  #for test sentence\n",
    "    tfidf_matrix_test = vectorizer.transform(s).toarray()\n",
    "    #tfidf_matrix_test=np.concatenate(np.array(tfidf_matrix_test.todense()))\n",
    "    return tfidf_matrix_test"
   ]
  },
  {
   "cell_type": "markdown",
   "metadata": {},
   "source": [
    "import machine learning algorithms"
   ]
  },
  {
   "cell_type": "code",
   "execution_count": 49,
   "metadata": {},
   "outputs": [],
   "source": [
    "from sklearn.model_selection import GridSearchCV, RandomizedSearchCV\n",
    "from sklearn.model_selection import cross_val_score\n",
    "# machine learning\n",
    "from sklearn.linear_model import LogisticRegression\n",
    "from sklearn.svm import SVC\n",
    "from sklearn.neighbors import KNeighborsClassifier\n",
    "from sklearn.naive_bayes import MultinomialNB,GaussianNB\n",
    "from sklearn.tree import DecisionTreeClassifier"
   ]
  },
  {
   "cell_type": "code",
   "execution_count": 50,
   "metadata": {},
   "outputs": [],
   "source": [
    "#Here we will try more than one model with hyper prameter tuning and select the best one interms of its accuracy\n",
    "logi_clf = LogisticRegression(solver='lbfgs', max_iter=500)\n",
    "logi_parm = {\"C\": [0.1, 0.5, 1, 5, 10, 50],\n",
    "            'random_state': [0,1,2,3,4,5]}\n",
    "\n",
    "svm_clf = SVC(probability=True)\n",
    "svm_parm = {'kernel': ['rbf', 'poly'], \n",
    "            'C': [1, 5, 50, 100, 500, 1000,1500,2000], \n",
    "            'degree': [3, 5, 7], \n",
    "       'gamma':[0.01,0.04,.1,0.2,.3,.4,.6],\n",
    "           'random_state': [0,1,2,3,4,5]}\n",
    "\n",
    "dt_clf = DecisionTreeClassifier()\n",
    "dt_parm = {'criterion':['gini', 'entropy'],\n",
    "          'random_state': [0,1,2,3,4,5]}\n",
    "\n",
    "knn_clf = KNeighborsClassifier()\n",
    "knn_parm = {'n_neighbors':[5, 10, 15, 20], \n",
    "            'weights':['uniform', 'distance'], \n",
    "            'p': [1,2]}\n",
    "\n",
    "\n",
    "clfs = [logi_clf, svm_clf, dt_clf, knn_clf]\n",
    "params = [logi_parm, svm_parm, dt_parm, knn_parm] \n",
    "clf_names = ['logistic', 'SVM', 'DT', 'KNN']\n"
   ]
  },
  {
   "cell_type": "code",
   "execution_count": 51,
   "metadata": {},
   "outputs": [
    {
     "name": "stderr",
     "output_type": "stream",
     "text": [
      "4it [02:29, 37.34s/it]\n"
     ]
    }
   ],
   "source": [
    "clfs_opt = []\n",
    "clfs_best_scores = []\n",
    "clfs_best_param = []\n",
    "for clf_, param in tqdm(zip(clfs, params)):\n",
    "    clf = RandomizedSearchCV(clf_, param, cv=5)\n",
    "    clf.fit(X_trainTF,y_trainTF)\n",
    "    clfs_opt.append(clf.best_estimator_)\n",
    "    clfs_best_scores.append(clf.best_score_)\n",
    "    clfs_best_param.append(clf.best_params_)"
   ]
  },
  {
   "cell_type": "code",
   "execution_count": 52,
   "metadata": {},
   "outputs": [
    {
     "data": {
      "text/plain": [
       "0.43581818868779987"
      ]
     },
     "execution_count": 52,
     "metadata": {},
     "output_type": "execute_result"
    }
   ],
   "source": [
    "max(clfs_best_scores)\n",
    "#print the best accuracy"
   ]
  },
  {
   "cell_type": "code",
   "execution_count": 53,
   "metadata": {},
   "outputs": [
    {
     "data": {
      "text/plain": [
       "{'random_state': 4, 'C': 0.5}"
      ]
     },
     "execution_count": 53,
     "metadata": {},
     "output_type": "execute_result"
    }
   ],
   "source": [
    "\n",
    "#print best prameters for best score\n",
    "arg = np.argmax(clfs_best_scores)\n",
    "clfs_best_param[arg]"
   ]
  },
  {
   "cell_type": "code",
   "execution_count": 54,
   "metadata": {},
   "outputs": [
    {
     "data": {
      "text/plain": [
       "[0.43581818868779987,\n",
       " 0.4327968161610055,\n",
       " 0.3831526051309177,\n",
       " 0.43230311960806544]"
      ]
     },
     "execution_count": 54,
     "metadata": {},
     "output_type": "execute_result"
    }
   ],
   "source": [
    "#print all scores for 'logistic', 'SVM', 'DT', 'KNN' respectively\n",
    "clfs_best_scores"
   ]
  },
  {
   "cell_type": "code",
   "execution_count": 55,
   "metadata": {},
   "outputs": [
    {
     "data": {
      "text/plain": [
       "[LogisticRegression(C=0.5, max_iter=500, random_state=4),\n",
       " SVC(C=1, degree=7, gamma=0.4, probability=True, random_state=0),\n",
       " DecisionTreeClassifier(random_state=5),\n",
       " KNeighborsClassifier(n_neighbors=15, p=1, weights='distance')]"
      ]
     },
     "execution_count": 55,
     "metadata": {},
     "output_type": "execute_result"
    }
   ],
   "source": [
    "#print best prameters for each estimators\n",
    "clfs_opt"
   ]
  },
  {
   "cell_type": "code",
   "execution_count": 57,
   "metadata": {},
   "outputs": [
    {
     "data": {
      "text/plain": [
       "tweet    ' @i3abmo3ty كنت نايم معلش '\n",
       "class                             neu\n",
       "Name: 71, dtype: object"
      ]
     },
     "execution_count": 57,
     "metadata": {},
     "output_type": "execute_result"
    }
   ],
   "source": [
    "CY_trainTest.iloc[71]"
   ]
  },
  {
   "cell_type": "code",
   "execution_count": 59,
   "metadata": {},
   "outputs": [
    {
     "data": {
      "text/plain": [
       "('pos', array([[0.30373567, 0.49690502, 0.19935931]]))"
      ]
     },
     "execution_count": 59,
     "metadata": {},
     "output_type": "execute_result"
    }
   ],
   "source": [
    "#Truy to predict reandom sentence by #bestMLModel\n",
    "best_clf=LogisticRegression(random_state= 4,  C= 0.5)\n",
    "best_clf.fit(X_trainTF,y_trainTF)\n",
    "\n",
    "predict_ML_TFIDF(sentence=CY_trainTest.tweet.iloc[70],bestModel=best_clf)"
   ]
  },
  {
   "cell_type": "code",
   "execution_count": 60,
   "metadata": {},
   "outputs": [
    {
     "name": "stdout",
     "output_type": "stream",
     "text": [
      "[[64 44  6]\n",
      " [41 86  7]\n",
      " [42 50 12]]\n",
      "              precision    recall  f1-score   support\n",
      "\n",
      "           0       0.44      0.56      0.49       114\n",
      "           1       0.48      0.64      0.55       134\n",
      "           2       0.48      0.12      0.19       104\n",
      "\n",
      "    accuracy                           0.46       352\n",
      "   macro avg       0.46      0.44      0.41       352\n",
      "weighted avg       0.46      0.46      0.42       352\n",
      "\n",
      "0.4602272727272727\n"
     ]
    },
    {
     "data": {
      "image/png": "[encoded data removed]",
      "text/plain": [
       "<Figure size 432x288 with 2 Axes>"
      ]
     },
     "metadata": {
      "needs_background": "light"
     },
     "output_type": "display_data"
    }
   ],
   "source": [
    "# Evaluate model\n",
    "\n",
    "predictions = best_clf.predict(X_testTF)\n",
    "\n",
    "print(confusion_matrix(y_testTF,predictions))  \n",
    "print(classification_report(y_testTF,predictions))  \n",
    "print(accuracy_score(y_testTF, predictions))\n",
    "plot_cm( y_testTF,  predictions)"
   ]
  },
  {
   "cell_type": "markdown",
   "metadata": {},
   "source": [
    "**3. TF-IDF with ANN**"
   ]
  },
  {
   "cell_type": "code",
   "execution_count": 48,
   "metadata": {},
   "outputs": [
    {
     "data": {
      "text/plain": [
       "TfidfVectorizer(max_features=4000, ngram_range=(1, 3))"
      ]
     },
     "execution_count": 48,
     "metadata": {},
     "output_type": "execute_result"
    }
   ],
   "source": [
    "x_train, x_test, y_train, y_test = train_test_split(X, y, test_size=.2, random_state=42)\n",
    "\n",
    "tvec1 = TfidfVectorizer(max_features=4000,ngram_range=(1, 3))\n",
    "tvec1.fit(x_train)"
   ]
  },
  {
   "cell_type": "code",
   "execution_count": 49,
   "metadata": {},
   "outputs": [
    {
     "data": {
      "text/plain": [
       "0    0\n",
       "1    1\n",
       "2    1\n",
       "Name: class_num, dtype: int64"
      ]
     },
     "execution_count": 49,
     "metadata": {},
     "output_type": "execute_result"
    }
   ],
   "source": [
    "#joblib.dump(tvec1, 'SentimentModels/TFIDF/TFIDF_ForANN.pkl')\n",
    "y[:3]"
   ]
  },
  {
   "cell_type": "code",
   "execution_count": 50,
   "metadata": {},
   "outputs": [],
   "source": [
    "x_train_tfidf = tvec1.transform(x_train)"
   ]
  },
  {
   "cell_type": "code",
   "execution_count": 51,
   "metadata": {},
   "outputs": [],
   "source": [
    "x_test_tfidf=tvec1.transform(x_test)"
   ]
  },
  {
   "cell_type": "code",
   "execution_count": 52,
   "metadata": {},
   "outputs": [],
   "source": [
    "vectorizer = joblib.load('SentimentModels/TFIDF/TFIDF_ForANN.pkl')\n",
    "x_test_tfidf1=vectorizer.transform(x_test)"
   ]
  },
  {
   "cell_type": "code",
   "execution_count": 53,
   "metadata": {},
   "outputs": [
    {
     "data": {
      "text/plain": [
       "<1x4000 sparse matrix of type '<class 'numpy.float64'>'\n",
       "\twith 3 stored elements in Compressed Sparse Row format>"
      ]
     },
     "execution_count": 53,
     "metadata": {},
     "output_type": "execute_result"
    }
   ],
   "source": [
    "x_test_tfidf[0]"
   ]
  },
  {
   "cell_type": "code",
   "execution_count": 54,
   "metadata": {},
   "outputs": [
    {
     "data": {
      "text/plain": [
       "1834    2\n",
       "564     0\n",
       "297     0\n",
       "931     1\n",
       "239     1\n",
       "Name: class_num, dtype: int64"
      ]
     },
     "execution_count": 54,
     "metadata": {},
     "output_type": "execute_result"
    }
   ],
   "source": [
    "y_train[:5]"
   ]
  },
  {
   "cell_type": "code",
   "execution_count": 55,
   "metadata": {},
   "outputs": [],
   "source": [
    "y_label_categ = to_categorical(y_train)\n",
    "y_test_categ=to_categorical(y_test)\n"
   ]
  },
  {
   "cell_type": "code",
   "execution_count": 56,
   "metadata": {},
   "outputs": [
    {
     "data": {
      "text/plain": [
       "((470, 4000), (470, 3))"
      ]
     },
     "execution_count": 56,
     "metadata": {},
     "output_type": "execute_result"
    }
   ],
   "source": [
    "np.shape(x_test_tfidf,),np.shape(y_test_categ)"
   ]
  },
  {
   "cell_type": "code",
   "execution_count": 57,
   "metadata": {},
   "outputs": [
    {
     "data": {
      "text/plain": [
       "(1, 4000)"
      ]
     },
     "execution_count": 57,
     "metadata": {},
     "output_type": "execute_result"
    }
   ],
   "source": [
    "x_train_tfidf[:1].shape"
   ]
  },
  {
   "cell_type": "code",
   "execution_count": 58,
   "metadata": {},
   "outputs": [
    {
     "name": "stdout",
     "output_type": "stream",
     "text": [
      "WARNING:tensorflow:Falling back from v2 loop because of error: Failed to find data adapter that can handle input: <class 'scipy.sparse.csr.csr_matrix'>, <class 'NoneType'>\n",
      "Train on 1500 samples, validate on 376 samples\n",
      "Epoch 1/40\n",
      "1500/1500 [==============================] - 0s 242us/sample - loss: 1.0780 - accuracy: 0.4153 - val_loss: 1.0232 - val_accuracy: 0.5293\n",
      "Epoch 2/40\n",
      "1500/1500 [==============================] - 0s 117us/sample - loss: 0.8375 - accuracy: 0.7073 - val_loss: 0.9088 - val_accuracy: 0.5957\n",
      "Epoch 3/40\n",
      "1500/1500 [==============================] - 0s 110us/sample - loss: 0.4799 - accuracy: 0.8433 - val_loss: 0.9571 - val_accuracy: 0.5505\n",
      "Epoch 4/40\n",
      "1500/1500 [==============================] - 0s 112us/sample - loss: 0.2839 - accuracy: 0.9087 - val_loss: 1.0651 - val_accuracy: 0.5346\n",
      "Epoch 5/40\n",
      "1500/1500 [==============================] - 0s 100us/sample - loss: 0.2088 - accuracy: 0.9227 - val_loss: 1.1467 - val_accuracy: 0.5426\n",
      "Epoch 6/40\n",
      "1500/1500 [==============================] - 0s 104us/sample - loss: 0.1523 - accuracy: 0.9400 - val_loss: 1.2467 - val_accuracy: 0.5505\n",
      "Epoch 7/40\n",
      "1500/1500 [==============================] - 0s 103us/sample - loss: 0.1399 - accuracy: 0.9393 - val_loss: 1.3208 - val_accuracy: 0.5532\n",
      "Epoch 8/40\n",
      "1500/1500 [==============================] - 0s 104us/sample - loss: 0.1179 - accuracy: 0.9527 - val_loss: 1.3641 - val_accuracy: 0.5266\n",
      "Epoch 9/40\n",
      "1500/1500 [==============================] - 0s 104us/sample - loss: 0.1106 - accuracy: 0.9493 - val_loss: 1.4202 - val_accuracy: 0.5479\n",
      "Epoch 10/40\n",
      "1500/1500 [==============================] - 0s 104us/sample - loss: 0.1058 - accuracy: 0.9513 - val_loss: 1.4813 - val_accuracy: 0.5479\n",
      "Epoch 11/40\n",
      "1500/1500 [==============================] - 0s 104us/sample - loss: 0.1078 - accuracy: 0.9467 - val_loss: 1.5131 - val_accuracy: 0.5452\n",
      "Epoch 12/40\n",
      "1152/1500 [======================>.......] - ETA: 0s - loss: 0.1024 - accuracy: 0.9505Restoring model weights from the end of the best epoch.\n",
      "1500/1500 [==============================] - 0s 109us/sample - loss: 0.1079 - accuracy: 0.9473 - val_loss: 1.5208 - val_accuracy: 0.5452\n",
      "Epoch 00012: early stopping\n",
      "Wall time: 2.68 s\n"
     ]
    }
   ],
   "source": [
    "%%time\n",
    "earlystop = EarlyStopping(monitor='val_accuracy', patience=10, verbose=2, restore_best_weights=True)\n",
    "\n",
    "custom_adam = Adam(lr=0.005, beta_1=0.9, beta_2=0.999, epsilon=1e-8)\n",
    "\n",
    "model_ANN = Sequential()\n",
    "model_ANN.add(Dense(64, activation='relu', input_dim=4000))\n",
    "model_ANN.add(Dropout(0.45))\n",
    "\n",
    "model_ANN.add(Dense(3, activation='softmax'))\n",
    "model_ANN.compile(loss='categorical_crossentropy',optimizer=custom_adam,\n",
    "              metrics=['accuracy'])\n",
    "hist_adam =model_ANN.fit(x=x_train_tfidf, y=y_label_categ,batch_size= 32,\n",
    "                    epochs=40,validation_split=0.2,shuffle=True,verbose = 1,callbacks=[earlystop])\n",
    "\n"
   ]
  },
  {
   "cell_type": "code",
   "execution_count": 59,
   "metadata": {},
   "outputs": [
    {
     "data": {
      "text/plain": [
       "<matplotlib.legend.Legend at 0x25f43d9a940>"
      ]
     },
     "execution_count": 59,
     "metadata": {},
     "output_type": "execute_result"
    },
    {
     "data": {
      "image/png": "[encoded data removed]",
      "text/plain": [
       "<Figure size 432x288 with 1 Axes>"
      ]
     },
     "metadata": {
      "needs_background": "light"
     },
     "output_type": "display_data"
    }
   ],
   "source": [
    "#plotting Loss\n",
    "plt.suptitle('Optimizer : Adam', fontsize=10)\n",
    "plt.ylabel('Loss', fontsize=16)\n",
    "plt.xlabel('Epoch', fontsize=14)\n",
    "plt.plot(hist_adam.history['loss'], color='b', label='Training Loss')\n",
    "plt.plot(hist_adam.history['val_loss'], color='r', label='Validation Loss')\n",
    "plt.legend(loc='upper right')"
   ]
  },
  {
   "cell_type": "code",
   "execution_count": 60,
   "metadata": {},
   "outputs": [
    {
     "data": {
      "text/plain": [
       "dict_keys(['loss', 'accuracy', 'val_loss', 'val_accuracy'])"
      ]
     },
     "execution_count": 60,
     "metadata": {},
     "output_type": "execute_result"
    }
   ],
   "source": [
    "hist_adam.history.keys()"
   ]
  },
  {
   "cell_type": "code",
   "execution_count": 61,
   "metadata": {},
   "outputs": [
    {
     "data": {
      "image/png": "[encoded data removed]",
      "text/plain": [
       "<Figure size 432x288 with 1 Axes>"
      ]
     },
     "metadata": {
      "needs_background": "light"
     },
     "output_type": "display_data"
    }
   ],
   "source": [
    "#plot the Accuracy curve training and validation data against epochs\n",
    "acc = hist_adam.history['accuracy']\n",
    "val_acc = hist_adam.history['val_accuracy']\n",
    "plt.xlabel('Epochs')\n",
    "plt.ylabel('Accuracy')\n",
    "plt.title('Accuracy Value')\n",
    "plt.plot(acc, 'blue', label='Training accuracy')\n",
    "plt.plot(val_acc, 'green', label='Validation accuracy')\n",
    "plt.xticks(range(0,5)[0::2])\n",
    "plt.legend()\n",
    "plt.show()"
   ]
  },
  {
   "cell_type": "code",
   "execution_count": 62,
   "metadata": {},
   "outputs": [
    {
     "name": "stdout",
     "output_type": "stream",
     "text": [
      "WARNING:tensorflow:Falling back from v2 loop because of error: Failed to find data adapter that can handle input: <class 'scipy.sparse.csr.csr_matrix'>, <class 'NoneType'>\n",
      "470/470 [==============================] - 0s 68us/sample - loss: 0.9139 - accuracy: 0.5447\n",
      "Score: 0.9139\n",
      "Accuracy: 0.5447\n",
      "WARNING:tensorflow:Falling back from v2 loop because of error: Failed to find data adapter that can handle input: <class 'scipy.sparse.csr.csr_matrix'>, <class 'NoneType'>\n",
      "[[135  34  25]\n",
      " [ 60  99  21]\n",
      " [ 49  25  22]]\n",
      "              precision    recall  f1-score   support\n",
      "\n",
      "           0       0.55      0.70      0.62       194\n",
      "           1       0.63      0.55      0.59       180\n",
      "           2       0.32      0.23      0.27        96\n",
      "\n",
      "    accuracy                           0.54       470\n",
      "   macro avg       0.50      0.49      0.49       470\n",
      "weighted avg       0.53      0.54      0.53       470\n",
      "\n",
      "0.5446808510638298\n"
     ]
    },
    {
     "data": {
      "image/png": "[encoded data removed]",
      "text/plain": [
       "<Figure size 432x288 with 2 Axes>"
      ]
     },
     "metadata": {
      "needs_background": "light"
     },
     "output_type": "display_data"
    }
   ],
   "source": [
    "# Evaluate model\n",
    "score, acc = model_ANN.evaluate(x_test_tfidf,y_test_categ)\n",
    "\n",
    "print('Score: %1.4f' % score)\n",
    "print('Accuracy: %1.4f' % acc)\n",
    "\n",
    "predictions = model_ANN.predict(x_test_tfidf)\n",
    "\n",
    "print(confusion_matrix(y_test_categ.argmax(axis=1),predictions.argmax(axis=1)))  \n",
    "print(classification_report(y_test_categ.argmax(axis=1),predictions.argmax(axis=1)))  \n",
    "print(accuracy_score(y_test_categ.argmax(axis=1), predictions.argmax(axis=1)))\n",
    "plot_cm( y_test_categ.argmax(axis=1),  predictions.argmax(axis=1))"
   ]
  },
  {
   "cell_type": "code",
   "execution_count": 63,
   "metadata": {},
   "outputs": [
    {
     "name": "stdout",
     "output_type": "stream",
     "text": [
      "your Model is saved\n"
     ]
    }
   ],
   "source": [
    "#Save our Model\n",
    "save_keras_model(model=model_ANN,model_name='Sentimentmodel_ANN', path='SentimentModels')\n",
    "print(\"your Model is saved\")"
   ]
  },
  {
   "cell_type": "code",
   "execution_count": 64,
   "metadata": {},
   "outputs": [],
   "source": [
    "model_ANN_TFIDF=load_keras_model(model_name='Sentimentmodel_ANN')"
   ]
  },
  {
   "cell_type": "code",
   "execution_count": null,
   "metadata": {},
   "outputs": [],
   "source": []
  },
  {
   "cell_type": "code",
   "execution_count": 65,
   "metadata": {},
   "outputs": [],
   "source": [
    "def Predict_By_model_ANN_TFIDF(sentence):\n",
    "    sentence=str(sentence)\n",
    "    sentence=remove_stopWord_clean(sentence)\n",
    "    TFIDF_vector=tvec1.transform([sentence])\n",
    "    proba=model_ANN_TFIDF.predict_proba(TFIDF_vector)\n",
    "    proba1=proba.argmax(axis=1)[0]\n",
    "    if proba1==0:\n",
    "        return 'neg',proba\n",
    "    elif proba1==1:\n",
    "        return 'pos',proba\n",
    "    else:\n",
    "        return 'neu',proba"
   ]
  },
  {
   "cell_type": "code",
   "execution_count": 66,
   "metadata": {},
   "outputs": [
    {
     "data": {
      "text/plain": [
       "tweet    ' \"\"\"@horyagana ان شاء الله ، النصر من عند الله والظلم مهما طاااااااااااال لابد من حلول العدل وأنتصار العدل والحق في النهاية هي دي قاعده المسلم\"\"\"\" '\n",
       "class                                                                                                                                                      pos\n",
       "Name: 12, dtype: object"
      ]
     },
     "execution_count": 66,
     "metadata": {},
     "output_type": "execute_result"
    }
   ],
   "source": [
    "#test one record\n",
    "CY_trainTest.iloc[12]"
   ]
  },
  {
   "cell_type": "code",
   "execution_count": 67,
   "metadata": {},
   "outputs": [
    {
     "data": {
      "text/plain": [
       "('pos', array([[0.09290925, 0.7417115 , 0.16537921]], dtype=float32))"
      ]
     },
     "execution_count": 67,
     "metadata": {},
     "output_type": "execute_result"
    }
   ],
   "source": [
    "Predict_By_model_ANN_TFIDF(CY_trainTest.iloc[12].tweet)"
   ]
  },
  {
   "cell_type": "code",
   "execution_count": null,
   "metadata": {},
   "outputs": [],
   "source": []
  },
  {
   "cell_type": "markdown",
   "metadata": {},
   "source": [
    "**4. W2Vec with LSTM**"
   ]
  },
  {
   "cell_type": "code",
   "execution_count": 22,
   "metadata": {},
   "outputs": [],
   "source": [
    "CY_trainW2V=CY_train.copy()"
   ]
  },
  {
   "cell_type": "code",
   "execution_count": 23,
   "metadata": {},
   "outputs": [
    {
     "data": {
      "text/html": [
       "<div>\n",
       "<style scoped>\n",
       "    .dataframe tbody tr th:only-of-type {\n",
       "        vertical-align: middle;\n",
       "    }\n",
       "\n",
       "    .dataframe tbody tr th {\n",
       "        vertical-align: top;\n",
       "    }\n",
       "\n",
       "    .dataframe thead th {\n",
       "        text-align: right;\n",
       "    }\n",
       "</style>\n",
       "<table border=\"1\" class=\"dataframe\">\n",
       "  <thead>\n",
       "    <tr style=\"text-align: right;\">\n",
       "      <th></th>\n",
       "      <th>tweet</th>\n",
       "      <th>Categ</th>\n",
       "      <th>class_num</th>\n",
       "    </tr>\n",
       "  </thead>\n",
       "  <tbody>\n",
       "    <tr>\n",
       "      <th>0</th>\n",
       "      <td>فينو الاهبل ابن الاهبل</td>\n",
       "      <td>neg</td>\n",
       "      <td>0</td>\n",
       "    </tr>\n",
       "    <tr>\n",
       "      <th>1</th>\n",
       "      <td>المصرين وجمالهم ربنا يحميهم</td>\n",
       "      <td>pos</td>\n",
       "      <td>1</td>\n",
       "    </tr>\n",
       "    <tr>\n",
       "      <th>2</th>\n",
       "      <td>دول اوي ودمهم خفيف العمارة كلها سورين والاطفال عسل</td>\n",
       "      <td>pos</td>\n",
       "      <td>1</td>\n",
       "    </tr>\n",
       "    <tr>\n",
       "      <th>3</th>\n",
       "      <td>خلي يوعني بحاجه همضي وصل امانه اضمن انو يخون</td>\n",
       "      <td>neg</td>\n",
       "      <td>0</td>\n",
       "    </tr>\n",
       "    <tr>\n",
       "      <th>4</th>\n",
       "      <td>هنتحر</td>\n",
       "      <td>neg</td>\n",
       "      <td>0</td>\n",
       "    </tr>\n",
       "  </tbody>\n",
       "</table>\n",
       "</div>"
      ],
      "text/plain": [
       "                                                tweet Categ  class_num\n",
       "0                              فينو الاهبل ابن الاهبل   neg          0\n",
       "1                         المصرين وجمالهم ربنا يحميهم   pos          1\n",
       "2  دول اوي ودمهم خفيف العمارة كلها سورين والاطفال عسل   pos          1\n",
       "3        خلي يوعني بحاجه همضي وصل امانه اضمن انو يخون   neg          0\n",
       "4                                               هنتحر   neg          0"
      ]
     },
     "execution_count": 23,
     "metadata": {},
     "output_type": "execute_result"
    }
   ],
   "source": [
    "\n",
    "CY_trainW2V.rename(columns = {'class':'Categ'}, inplace = True)\n",
    "CY_trainW2V.head()"
   ]
  },
  {
   "cell_type": "code",
   "execution_count": 24,
   "metadata": {},
   "outputs": [],
   "source": [
    "# #label class to num\n",
    "# Y=CY_trainW2V.Categ\n",
    "# title_mapping = {\"neg\": 0, \"pos\": 1, \"neu\": 2}\n",
    "# Y['Categ'] = Y['Categ'].map(title_mapping)\n",
    "# y1=pd.DataFrame(Y)\n",
    "# #y_label_categ = to_categorical(Y)\n"
   ]
  },
  {
   "cell_type": "code",
   "execution_count": 25,
   "metadata": {},
   "outputs": [],
   "source": [
    "#y_label_categ[:5]"
   ]
  },
  {
   "cell_type": "code",
   "execution_count": 26,
   "metadata": {},
   "outputs": [],
   "source": [
    "#np.argmax(y_label_categ[2])"
   ]
  },
  {
   "cell_type": "code",
   "execution_count": 27,
   "metadata": {},
   "outputs": [],
   "source": [
    "# Create the list of list format of the custom corpus for gensim modeling\n",
    "sent = [row.split(',') for row in CY_trainW2V['tweet']]\n",
    "sent = [row[0].split(' ') for row in sent]\n",
    "#Genism word2vec Model Training\n",
    "model_W2vec_CY =Word2Vec(sent,seed=42, min_count=2,size= 300,workers=3, window =3)\n",
    "model_W2vec_CY.wv.save_word2vec_format('SentimentModels/W2Vec/model_W2vec_CY.bin', binary=True)\n",
    "model_W2vec_CY =KeyedVectors.load_word2vec_format('SentimentModels/W2Vec/model_W2vec_CY.bin', binary=True)\n",
    "word2vec_Old = KeyedVectors.load_word2vec_format('SentimentModels/W2Vec/w2v_model.bin', binary=True)\n"
   ]
  },
  {
   "cell_type": "code",
   "execution_count": 28,
   "metadata": {},
   "outputs": [
    {
     "data": {
      "text/plain": [
       "[('اشهر', 0.211833193898201),\n",
       " ('بجد', 0.20498433709144592),\n",
       " ('صل', 0.1950821429491043),\n",
       " ('بعيد', 0.1832733154296875),\n",
       " ('سيدنا', 0.17711493372917175),\n",
       " ('وكله', 0.17072616517543793),\n",
       " ('حضور', 0.16911527514457703),\n",
       " ('تجنني', 0.16703490912914276),\n",
       " ('البطئ', 0.16523496806621552),\n",
       " ('جاريدو', 0.15997886657714844)]"
      ]
     },
     "execution_count": 28,
     "metadata": {},
     "output_type": "execute_result"
    }
   ],
   "source": [
    "model_W2vec_CY.most_similar('جميل')"
   ]
  },
  {
   "cell_type": "code",
   "execution_count": 29,
   "metadata": {},
   "outputs": [
    {
     "data": {
      "text/plain": [
       "[('رائع', 0.7987561225891113),\n",
       " ('جيد', 0.6975123882293701),\n",
       " ('ممتاز', 0.6722943186759949),\n",
       " ('جميل_جدا', 0.6625348925590515),\n",
       " ('ممتع', 0.6246637105941772),\n",
       " ('حلو', 0.6158772706985474),\n",
       " ('اعجبني', 0.5748803615570068),\n",
       " ('جيد_جدا', 0.5681601762771606),\n",
       " ('نطيف', 0.5677462816238403),\n",
       " ('مميز', 0.5666744709014893)]"
      ]
     },
     "execution_count": 29,
     "metadata": {},
     "output_type": "execute_result"
    }
   ],
   "source": [
    "word2vec_Old.most_similar('جميل')"
   ]
  },
  {
   "cell_type": "markdown",
   "metadata": {},
   "source": [
    "**4 --1. model_W2vec_CY based on CY Data**"
   ]
  },
  {
   "cell_type": "code",
   "execution_count": 30,
   "metadata": {},
   "outputs": [
    {
     "data": {
      "text/plain": [
       "300"
      ]
     },
     "execution_count": 30,
     "metadata": {},
     "output_type": "execute_result"
    }
   ],
   "source": [
    "num_features = model_W2vec_CY.vector_size\n",
    "num_features"
   ]
  },
  {
   "cell_type": "code",
   "execution_count": 375,
   "metadata": {},
   "outputs": [],
   "source": [
    "## -- Word2Vec vectorizer class for classification\n",
    "        \n",
    "class WordVecVectorizer(object):\n",
    "    def __init__(self, word2vec, max_len=30):\n",
    "        self.word2vec = word2vec\n",
    "        self.dim = word2vec.vector_size\n",
    "        self.max_len = max_len\n",
    "\n",
    "    def fit(self, X, y):\n",
    "        return self    \n",
    "\n",
    "    def transform(self, X):\n",
    "        \"\"\"\n",
    "        Transforms a document to one vector of a size = word2vec.vector_size (dim), \n",
    "        by taking the mean of th vectors of every word.\n",
    "        The output size will be of shape (X.shape[0], self.dim).\n",
    "        \"\"\"\n",
    "        return np.array([\n",
    "            np.mean([self.word2vec[w] for w in texts if w in self.word2vec]\n",
    "                    or [1e-12 * np.random.normal(scale=0.6, size=self.dim)], axis=0)\n",
    "            for texts in X\n",
    "        ])\n",
    "        \n",
    "    def instance_transform(self, X):\n",
    "        \"\"\"\n",
    "        Transforms a document to a 3D array based on the word2vec vector transformation of every instance (word),\n",
    "        while the words that exceeds the maximum allowable length (max_len) will be removed.\n",
    "        If the sentance is less than max_len, it will be padded with zeros.\n",
    "        The output size will be of shape (X.shape[0], self.max_len, self.dim).\n",
    "        \"\"\"\n",
    "        return np.array([\n",
    "            [self.word2vec[w] if w in self.word2vec else 1e-12 * np.random.normal(scale=0.0, size=self.dim) for i, w in enumerate(texts.split()) if i<self.max_len] + [1e-12 * np.random.normal(scale=0.0, size=self.dim)]*(self.max_len-min(self.max_len, len(texts.split())))\n",
    "            for texts in X\n",
    "        ])\n"
   ]
  },
  {
   "cell_type": "code",
   "execution_count": 376,
   "metadata": {},
   "outputs": [],
   "source": [
    "vec = WordVecVectorizer(model_W2vec_CY)\n",
    "# X = vec.fit_transform(CY_trainW2V.tweet)\n",
    "\n",
    "X_train, X_val, y_train, y_val = train_test_split(vec.instance_transform(CY_trainW2V.tweet), CY_trainW2V.class_num, test_size=0.2, random_state=42)"
   ]
  },
  {
   "cell_type": "code",
   "execution_count": 587,
   "metadata": {},
   "outputs": [
    {
     "data": {
      "text/plain": [
       "(1, 30, 300)"
      ]
     },
     "execution_count": 587,
     "metadata": {},
     "output_type": "execute_result"
    }
   ],
   "source": [
    "vec.instance_transform(['وكما أننا نسعد أن نري كل العالم بخير وسلام وآمان']).shape"
   ]
  },
  {
   "cell_type": "code",
   "execution_count": 377,
   "metadata": {},
   "outputs": [
    {
     "data": {
      "text/plain": [
       "(1876, 1876)"
      ]
     },
     "execution_count": 377,
     "metadata": {},
     "output_type": "execute_result"
    }
   ],
   "source": [
    "len(y_train),len(X_train)"
   ]
  },
  {
   "cell_type": "code",
   "execution_count": 378,
   "metadata": {},
   "outputs": [
    {
     "data": {
      "text/plain": [
       "(1876, 30, 300)"
      ]
     },
     "execution_count": 378,
     "metadata": {},
     "output_type": "execute_result"
    }
   ],
   "source": [
    "X_train.shape"
   ]
  },
  {
   "cell_type": "code",
   "execution_count": 379,
   "metadata": {},
   "outputs": [
    {
     "data": {
      "text/plain": [
       "(30, 300)"
      ]
     },
     "execution_count": 379,
     "metadata": {},
     "output_type": "execute_result"
    }
   ],
   "source": [
    "X_train[32].shape"
   ]
  },
  {
   "cell_type": "code",
   "execution_count": 328,
   "metadata": {},
   "outputs": [
    {
     "data": {
      "text/plain": [
       "(1876,)"
      ]
     },
     "execution_count": 328,
     "metadata": {},
     "output_type": "execute_result"
    }
   ],
   "source": [
    "y_train.shape"
   ]
  },
  {
   "cell_type": "code",
   "execution_count": 329,
   "metadata": {},
   "outputs": [
    {
     "name": "stdout",
     "output_type": "stream",
     "text": [
      "(1876, 30, 300)\n",
      "(1876, 3)\n",
      "(470, 30, 300)\n",
      "(470, 3)\n"
     ]
    }
   ],
   "source": [
    "if not isinstance(X_train, np.ndarray):\n",
    "    X_train = X_train.toarray()\n",
    "    X_val = X_val.toarray()\n",
    "labelencoder = LabelEncoder()\n",
    "l = list(set(y_train))\n",
    "l.sort()\n",
    "y_train = to_categorical(labelencoder.fit_transform(y_train))\n",
    "y_val = to_categorical(labelencoder.transform(y_val))\n",
    "int_category = dict(zip(labelencoder.transform(l), l))\n",
    "category_int = dict(zip(l, labelencoder.transform(l)))\n",
    "\n",
    "print(X_train.shape)\n",
    "print(y_train.shape)\n",
    "print(X_val.shape)\n",
    "print(y_val.shape)"
   ]
  },
  {
   "cell_type": "code",
   "execution_count": 330,
   "metadata": {},
   "outputs": [
    {
     "data": {
      "text/plain": [
       "array([[0., 0., 1.],\n",
       "       [1., 0., 0.],\n",
       "       [1., 0., 0.],\n",
       "       [0., 1., 0.],\n",
       "       [0., 1., 0.]], dtype=float32)"
      ]
     },
     "execution_count": 330,
     "metadata": {},
     "output_type": "execute_result"
    }
   ],
   "source": [
    "y_train[:5]"
   ]
  },
  {
   "cell_type": "code",
   "execution_count": 331,
   "metadata": {},
   "outputs": [],
   "source": [
    "#y_train1[:5]"
   ]
  },
  {
   "cell_type": "code",
   "execution_count": 332,
   "metadata": {},
   "outputs": [],
   "source": [
    "def modelBuild(input_shape, dense_out):\n",
    "    sentence_indices = Input(input_shape, name=\"input\")\n",
    "    X = sentence_indices\n",
    "    X = Bidirectional(LSTM(300, dropout=0.3, return_sequences=True, name=\"lstm_1\",implementation = 2, recurrent_activation = 'sigmoid'),name=\"bidirectional\")(X)\n",
    "    #X = GlobalMaxPool1D(name=\"global_max_pooling1d\")(X)\n",
    "    #X =MaxPool1D(pool_size=5, strides=2)(X)\n",
    "    #X=GlobalAveragePooling1D(X)\n",
    "    X = GlobalMaxPool1D(name=\"global_max_pooling1d\")(X)\n",
    "    #X = SimpleRNN(layers[0], dropout=0.55)(X)\n",
    "    #X=(layers.Conv1D(num_filters, 5, activation='relu'))(X)\n",
    "    #X=(layers.GlobalMaxPooling1D())(X)\n",
    "    X = Dense(256, activation='relu')(X)\n",
    "    X = Dropout(0.3)(X)\n",
    "    X =(layers.Dense(10, activation='relu'))(X)\n",
    "\n",
    "    X = Dense(dense_out, activation='softmax')(X) # Number of classes\n",
    "    # Create Model instance which converts sentence_indices into X.\n",
    "    model = Model(inputs=sentence_indices, outputs=X)\n",
    "    return model"
   ]
  },
  {
   "cell_type": "code",
   "execution_count": 333,
   "metadata": {},
   "outputs": [
    {
     "name": "stdout",
     "output_type": "stream",
     "text": [
      "Model: \"model_1\"\n",
      "_________________________________________________________________\n",
      "Layer (type)                 Output Shape              Param #   \n",
      "=================================================================\n",
      "input (InputLayer)           [(None, 30, 300)]         0         \n",
      "_________________________________________________________________\n",
      "bidirectional (Bidirectional (None, 30, 600)           1442400   \n",
      "_________________________________________________________________\n",
      "global_max_pooling1d (Global (None, 600)               0         \n",
      "_________________________________________________________________\n",
      "dense_3 (Dense)              (None, 256)               153856    \n",
      "_________________________________________________________________\n",
      "dropout_1 (Dropout)          (None, 256)               0         \n",
      "_________________________________________________________________\n",
      "dense_4 (Dense)              (None, 10)                2570      \n",
      "_________________________________________________________________\n",
      "dense_5 (Dense)              (None, 3)                 33        \n",
      "=================================================================\n",
      "Total params: 1,598,859\n",
      "Trainable params: 1,598,859\n",
      "Non-trainable params: 0\n",
      "_________________________________________________________________\n",
      "None\n"
     ]
    }
   ],
   "source": [
    "custom_adam = Adam(lr=0.005, beta_1=0.9, beta_2=0.999, epsilon=1e-8)\n",
    "dense_out =3\n",
    "\n",
    "input_shape = X_train.shape[1:]\n",
    "\n",
    "modelCY = modelBuild(input_shape, dense_out)\n",
    "\n",
    "print(modelCY.summary())\n",
    "\n",
    "\n",
    "modelCY.compile(loss='categorical_crossentropy', optimizer=custom_adam, metrics=['accuracy'])"
   ]
  },
  {
   "cell_type": "code",
   "execution_count": 334,
   "metadata": {},
   "outputs": [
    {
     "name": "stdout",
     "output_type": "stream",
     "text": [
      "Train on 1876 samples, validate on 470 samples\n",
      "Epoch 1/20\n",
      "1876/1876 [==============================] - 47s 25ms/sample - loss: 1.0944 - accuracy: 0.3678 - val_loss: 1.0756 - val_accuracy: 0.3830\n",
      "Epoch 2/20\n",
      "1876/1876 [==============================] - 48s 25ms/sample - loss: 1.0974 - accuracy: 0.3822 - val_loss: 1.0772 - val_accuracy: 0.3830\n",
      "Epoch 3/20\n",
      "1876/1876 [==============================] - 45s 24ms/sample - loss: 1.0898 - accuracy: 0.3822 - val_loss: 1.0761 - val_accuracy: 0.3830\n",
      "Epoch 4/20\n",
      "1876/1876 [==============================] - 47s 25ms/sample - loss: 1.0893 - accuracy: 0.3811 - val_loss: 1.0715 - val_accuracy: 0.3830\n",
      "Epoch 5/20\n",
      "1876/1876 [==============================] - 49s 26ms/sample - loss: 1.0899 - accuracy: 0.3769 - val_loss: 1.0806 - val_accuracy: 0.3830\n",
      "Epoch 6/20\n",
      "1876/1876 [==============================] - 43s 23ms/sample - loss: 1.0890 - accuracy: 0.3817 - val_loss: 1.0683 - val_accuracy: 0.3830\n",
      "Epoch 7/20\n",
      "1876/1876 [==============================] - 46s 25ms/sample - loss: 1.0874 - accuracy: 0.3769 - val_loss: 1.0817 - val_accuracy: 0.4128\n",
      "Epoch 8/20\n",
      "1876/1876 [==============================] - 49s 26ms/sample - loss: 1.0883 - accuracy: 0.3833 - val_loss: 1.0650 - val_accuracy: 0.4085\n",
      "Epoch 9/20\n",
      "1876/1876 [==============================] - 47s 25ms/sample - loss: 1.0819 - accuracy: 0.3838 - val_loss: 1.0608 - val_accuracy: 0.3830\n",
      "Epoch 10/20\n",
      "1876/1876 [==============================] - 46s 25ms/sample - loss: 1.1295 - accuracy: 0.4184 - val_loss: 1.0560 - val_accuracy: 0.4851\n",
      "Epoch 11/20\n",
      "1876/1876 [==============================] - 50s 26ms/sample - loss: 1.0913 - accuracy: 0.3603 - val_loss: 1.0719 - val_accuracy: 0.4383\n",
      "Epoch 12/20\n",
      "1876/1876 [==============================] - 47s 25ms/sample - loss: 1.0831 - accuracy: 0.3987 - val_loss: 1.0541 - val_accuracy: 0.3809\n",
      "Epoch 13/20\n",
      "1876/1876 [==============================] - 49s 26ms/sample - loss: 1.0687 - accuracy: 0.4211 - val_loss: 1.0428 - val_accuracy: 0.4553\n",
      "Epoch 14/20\n",
      "1876/1876 [==============================] - 47s 25ms/sample - loss: 1.0589 - accuracy: 0.4275 - val_loss: 1.0473 - val_accuracy: 0.4277\n",
      "Epoch 15/20\n",
      "1876/1876 [==============================] - 46s 24ms/sample - loss: 1.0564 - accuracy: 0.4275 - val_loss: 1.0474 - val_accuracy: 0.4745\n",
      "Epoch 16/20\n",
      "1876/1876 [==============================] - 51s 27ms/sample - loss: 1.0543 - accuracy: 0.4403 - val_loss: 1.0385 - val_accuracy: 0.4851\n",
      "Epoch 17/20\n",
      "1876/1876 [==============================] - 46s 24ms/sample - loss: 1.0683 - accuracy: 0.4355 - val_loss: 1.0426 - val_accuracy: 0.4745\n",
      "Epoch 18/20\n",
      "1876/1876 [==============================] - 47s 25ms/sample - loss: 1.0682 - accuracy: 0.4312 - val_loss: 1.0481 - val_accuracy: 0.4766\n",
      "Epoch 19/20\n",
      "1876/1876 [==============================] - 50s 26ms/sample - loss: 1.0562 - accuracy: 0.4339 - val_loss: 1.0482 - val_accuracy: 0.4617\n",
      "Epoch 20/20\n",
      "1876/1876 [==============================] - 48s 26ms/sample - loss: 1.0412 - accuracy: 0.4504 - val_loss: 1.0525 - val_accuracy: 0.4745\n"
     ]
    }
   ],
   "source": [
    "earlystop = EarlyStopping(monitor='val_loss', patience=10, verbose=2, restore_best_weights=True)\n",
    "history = modelCY.fit(X_train,\n",
    "                    y_train,\n",
    "                    epochs=20,\n",
    "                    batch_size=30,\n",
    "                    validation_data=(X_val, y_val),\n",
    "                    verbose = 1,\n",
    "                    callbacks=[earlystop])"
   ]
  },
  {
   "cell_type": "code",
   "execution_count": 335,
   "metadata": {},
   "outputs": [
    {
     "data": {
      "text/plain": [
       "<matplotlib.legend.Legend at 0x20569f441d0>"
      ]
     },
     "execution_count": 335,
     "metadata": {},
     "output_type": "execute_result"
    },
    {
     "data": {
      "image/png": "[encoded data removed]",
      "text/plain": [
       "<Figure size 432x288 with 1 Axes>"
      ]
     },
     "metadata": {
      "needs_background": "light"
     },
     "output_type": "display_data"
    }
   ],
   "source": [
    "#plotting Loss\n",
    "plt.suptitle('Optimizer : Adam', fontsize=10)\n",
    "plt.ylabel('Loss', fontsize=16)\n",
    "plt.xlabel('Epoch', fontsize=14)\n",
    "plt.plot(history.history['loss'], color='b', label='Training Loss')\n",
    "plt.plot(history.history['val_loss'], color='r', label='Validation Loss')\n",
    "plt.legend(loc='upper right')"
   ]
  },
  {
   "cell_type": "code",
   "execution_count": 336,
   "metadata": {},
   "outputs": [
    {
     "data": {
      "text/plain": [
       "dict_keys(['loss', 'accuracy', 'val_loss', 'val_accuracy'])"
      ]
     },
     "execution_count": 336,
     "metadata": {},
     "output_type": "execute_result"
    }
   ],
   "source": [
    "history.history.keys()"
   ]
  },
  {
   "cell_type": "code",
   "execution_count": 337,
   "metadata": {},
   "outputs": [
    {
     "data": {
      "image/png": "[encoded data removed]",
      "text/plain": [
       "<Figure size 432x288 with 1 Axes>"
      ]
     },
     "metadata": {
      "needs_background": "light"
     },
     "output_type": "display_data"
    }
   ],
   "source": [
    "#plot the Accuracy curve training and validation data against epochs\n",
    "acc = history.history['accuracy']\n",
    "val_acc = history.history['val_accuracy']\n",
    "plt.xlabel('Epochs')\n",
    "plt.ylabel('Accuracy')\n",
    "plt.title('Accuracy Value')\n",
    "plt.plot(acc, 'blue', label='Training accuracy')\n",
    "plt.plot(val_acc, 'green', label='Validation accuracy')\n",
    "plt.xticks(range(0,5)[0::2])\n",
    "plt.legend()\n",
    "plt.show()"
   ]
  },
  {
   "cell_type": "code",
   "execution_count": null,
   "metadata": {},
   "outputs": [],
   "source": []
  },
  {
   "cell_type": "code",
   "execution_count": 338,
   "metadata": {},
   "outputs": [
    {
     "name": "stdout",
     "output_type": "stream",
     "text": [
      "\r",
      "470/1 [====================================================================================================================================================================================================================================================================================================================================================================================================================================================================================================================================================================================================================================================================================================================================================================================================================================================================================================================================================================================================================================================================================================================================================================================================================================================================================================================================================================================================================================================================================================================================================================================================================================================================================================================================================================================================================================================================================================================================================================================================================================================================================================================================================================================================================================================================================================================================================================================================================================================================================================================================================================================================================================================================================================================================================================================================================================================================================================================================================================================================================================================================================================================================================================================================================================================================================================================================================================================================================================================================================================================================================================================================================================================================================================================================================================================================================================================================================================================================================================================================================================================================================================================================================================================================================================================================================================================================================================================================================================================================================================================================================================================================================================================================================================================================================================================================================================================================================================================================================================================================================================================================================================================================================================================================================================================================================================================================================================================================================================================================================================================================================================================================================================================================================================================================================================================================================================================================================================================================================================================================================================================================================================================================================================================================================================================================================================================================================================================================================================================================================================================================================================================================================================================================================================================================================================================================================================================================================================================================================================================================================================================================================================================================================================================================================================================================================================================================================================================================================================================================================================================================================================================================================================================================================================================================================================================================================================================================================================================================================================================================================================================================================================================================================================================================================================================================================================================================================================================================================================================================================================================================================================================================================================================================================================================================================================================================================================================================================================================================================================================================================================================================================================================================================================================================================================================================================================================================================================================================================================================================================================================================================================================================================================================================================================================================================================================================================================================================================================================================================================================================================================================================================================================================================================================================================================================================================================================================================================================================================================================================================================================================================================================================================================================================================================================================================================================================================================================================================================================================================================================================================================================================================================================================================================================================================================================================================================================================================================================================================================================================================================================================================================================================================================================================================================================================================================================================================================================================================================================================================================================================================================================================================================================================================================================================================================================================================================================================================================================================================================================================================================================================================================================================================================================================================================================================================================================================================================================================================================================================================================================================================================================================================================================================================================================================================================================================================================================================================================================================================================================================================================================================================================================================================================================================================================================================================================================================================================================================================================================================================================================================================================================================================================================================================================================================================================================================================================================================================================================================================================================================================================================================================================================================================================================================================] - 3s 7ms/sample - loss: 1.0547 - accuracy: 0.4745\n"
     ]
    },
    {
     "name": "stdout",
     "output_type": "stream",
     "text": [
      "Score: 1.0525\n",
      "Accuracy: 0.4745\n",
      "[[183  11   0]\n",
      " [140  40   0]\n",
      " [ 92   4   0]]\n",
      "              precision    recall  f1-score   support\n",
      "\n",
      "           0       0.44      0.94      0.60       194\n",
      "           1       0.73      0.22      0.34       180\n",
      "           2       0.00      0.00      0.00        96\n",
      "\n",
      "    accuracy                           0.47       470\n",
      "   macro avg       0.39      0.39      0.31       470\n",
      "weighted avg       0.46      0.47      0.38       470\n",
      "\n",
      "0.474468085106383\n"
     ]
    },
    {
     "name": "stderr",
     "output_type": "stream",
     "text": [
      "C:\\Users\\Mohammed\\AppData\\Local\\Continuum\\anaconda3\\lib\\site-packages\\sklearn\\metrics\\_classification.py:1248: UndefinedMetricWarning: Precision and F-score are ill-defined and being set to 0.0 in labels with no predicted samples. Use `zero_division` parameter to control this behavior.\n",
      "  _warn_prf(average, modifier, msg_start, len(result))\n",
      "C:\\Users\\Mohammed\\AppData\\Local\\Continuum\\anaconda3\\lib\\site-packages\\sklearn\\metrics\\_classification.py:1248: UndefinedMetricWarning: Precision and F-score are ill-defined and being set to 0.0 in labels with no predicted samples. Use `zero_division` parameter to control this behavior.\n",
      "  _warn_prf(average, modifier, msg_start, len(result))\n",
      "C:\\Users\\Mohammed\\AppData\\Local\\Continuum\\anaconda3\\lib\\site-packages\\sklearn\\metrics\\_classification.py:1248: UndefinedMetricWarning: Precision and F-score are ill-defined and being set to 0.0 in labels with no predicted samples. Use `zero_division` parameter to control this behavior.\n",
      "  _warn_prf(average, modifier, msg_start, len(result))\n"
     ]
    },
    {
     "data": {
      "image/png": "[encoded data removed]",
      "text/plain": [
       "<Figure size 432x288 with 2 Axes>"
      ]
     },
     "metadata": {
      "needs_background": "light"
     },
     "output_type": "display_data"
    }
   ],
   "source": [
    "# Evaluate model\n",
    "score, acc = modelCY.evaluate(X_val, y_val)\n",
    "\n",
    "print('Score: %1.4f' % score)\n",
    "print('Accuracy: %1.4f' % acc)\n",
    "\n",
    "predictions = modelCY.predict(X_val)\n",
    "\n",
    "print(confusion_matrix(y_val.argmax(axis=1),predictions.argmax(axis=1)))  \n",
    "print(classification_report(y_val.argmax(axis=1),predictions.argmax(axis=1)))  \n",
    "print(accuracy_score(y_val.argmax(axis=1), predictions.argmax(axis=1)))\n",
    "plot_cm( y_val.argmax(axis=1),  predictions.argmax(axis=1))"
   ]
  },
  {
   "cell_type": "code",
   "execution_count": null,
   "metadata": {},
   "outputs": [],
   "source": []
  },
  {
   "cell_type": "markdown",
   "metadata": {},
   "source": [
    "**4--2 Using pre-trained Word Vectors**"
   ]
  },
  {
   "cell_type": "code",
   "execution_count": 339,
   "metadata": {},
   "outputs": [],
   "source": [
    "vec_Old= WordVecVectorizer(word2vec_Old)\n",
    "# X = vec.fit_transform(CY_trainW2V.tweet)\n",
    "\n",
    "X_train_Old, X_val_Old, y_train_Old, y_val_Old = train_test_split(vec_Old.instance_transform(CY_trainW2V.tweet), CY_trainW2V.class_num, test_size=0.2, random_state=42)"
   ]
  },
  {
   "cell_type": "code",
   "execution_count": 387,
   "metadata": {},
   "outputs": [
    {
     "data": {
      "text/plain": [
       "(1, 30, 300)"
      ]
     },
     "execution_count": 387,
     "metadata": {},
     "output_type": "execute_result"
    }
   ],
   "source": [
    "vec_Old.instance_transform(['KGMMH bfdb']).shape"
   ]
  },
  {
   "cell_type": "code",
   "execution_count": 340,
   "metadata": {},
   "outputs": [
    {
     "name": "stdout",
     "output_type": "stream",
     "text": [
      "(1876, 30, 300)\n",
      "(1876, 3)\n",
      "(470, 30, 300)\n",
      "(470, 3)\n"
     ]
    }
   ],
   "source": [
    "if not isinstance(X_train_Old, np.ndarray):\n",
    "    X_train_Old = X_train_Old.toarray()\n",
    "    X_val_Old = X_val_Old.toarray()\n",
    "labelencoder = LabelEncoder()\n",
    "l = list(set(y_train_Old))\n",
    "l.sort()\n",
    "y_train_Old = to_categorical(labelencoder.fit_transform(y_train_Old))\n",
    "y_val_Old = to_categorical(labelencoder.transform(y_val_Old))\n",
    "int_category = dict(zip(labelencoder.transform(l), l))\n",
    "category_int = dict(zip(l, labelencoder.transform(l)))\n",
    "\n",
    "print(X_train_Old.shape)\n",
    "print(y_train_Old.shape)\n",
    "print(X_val_Old.shape)\n",
    "print(y_val_Old.shape)"
   ]
  },
  {
   "cell_type": "code",
   "execution_count": 341,
   "metadata": {},
   "outputs": [
    {
     "data": {
      "text/plain": [
       "(30, 300)"
      ]
     },
     "execution_count": 341,
     "metadata": {},
     "output_type": "execute_result"
    }
   ],
   "source": [
    "X_train_Old[0].shape"
   ]
  },
  {
   "cell_type": "code",
   "execution_count": 342,
   "metadata": {},
   "outputs": [
    {
     "name": "stdout",
     "output_type": "stream",
     "text": [
      "Model: \"model_2\"\n",
      "_________________________________________________________________\n",
      "Layer (type)                 Output Shape              Param #   \n",
      "=================================================================\n",
      "input (InputLayer)           [(None, 30, 300)]         0         \n",
      "_________________________________________________________________\n",
      "bidirectional (Bidirectional (None, 30, 600)           1442400   \n",
      "_________________________________________________________________\n",
      "global_max_pooling1d (Global (None, 600)               0         \n",
      "_________________________________________________________________\n",
      "dense_6 (Dense)              (None, 256)               153856    \n",
      "_________________________________________________________________\n",
      "dropout_2 (Dropout)          (None, 256)               0         \n",
      "_________________________________________________________________\n",
      "dense_7 (Dense)              (None, 10)                2570      \n",
      "_________________________________________________________________\n",
      "dense_8 (Dense)              (None, 3)                 33        \n",
      "=================================================================\n",
      "Total params: 1,598,859\n",
      "Trainable params: 1,598,859\n",
      "Non-trainable params: 0\n",
      "_________________________________________________________________\n",
      "None\n"
     ]
    }
   ],
   "source": [
    "opt = Adam(lr=1e-4, decay=1e-3 / 200)\n",
    "dense_out =3\n",
    "\n",
    "input_shape = X_train_Old.shape[1:]\n",
    "\n",
    "model_Old = modelBuild(input_shape, dense_out)\n",
    "\n",
    "print(model_Old.summary())\n",
    "\n",
    "\n",
    "\n",
    "model_Old.compile(loss='categorical_crossentropy', optimizer=opt, metrics=['accuracy'])"
   ]
  },
  {
   "cell_type": "code",
   "execution_count": 343,
   "metadata": {},
   "outputs": [],
   "source": [
    "#d_class_weights2={0: 0.8, 1: 1, 2: 0.75}"
   ]
  },
  {
   "cell_type": "code",
   "execution_count": 344,
   "metadata": {},
   "outputs": [
    {
     "name": "stdout",
     "output_type": "stream",
     "text": [
      "Train on 1876 samples, validate on 470 samples\n",
      "Epoch 1/20\n",
      "1876/1876 [==============================] - 45s 24ms/sample - loss: 1.0955 - accuracy: 0.3731 - val_loss: 1.0872 - val_accuracy: 0.4149\n",
      "Epoch 2/20\n",
      "1876/1876 [==============================] - 42s 23ms/sample - loss: 1.0848 - accuracy: 0.4387 - val_loss: 1.0762 - val_accuracy: 0.3830\n",
      "Epoch 3/20\n",
      "1876/1876 [==============================] - 46s 25ms/sample - loss: 1.0577 - accuracy: 0.4590 - val_loss: 0.9722 - val_accuracy: 0.5723\n",
      "Epoch 4/20\n",
      "1876/1876 [==============================] - 47s 25ms/sample - loss: 0.9798 - accuracy: 0.5341 - val_loss: 0.9483 - val_accuracy: 0.5702\n",
      "Epoch 5/20\n",
      "1876/1876 [==============================] - 44s 23ms/sample - loss: 0.9316 - accuracy: 0.5661 - val_loss: 0.9195 - val_accuracy: 0.5872\n",
      "Epoch 6/20\n",
      "1876/1876 [==============================] - 47s 25ms/sample - loss: 0.9054 - accuracy: 0.5746 - val_loss: 0.9104 - val_accuracy: 0.5851\n",
      "Epoch 7/20\n",
      "1876/1876 [==============================] - 45s 24ms/sample - loss: 0.8896 - accuracy: 0.5965 - val_loss: 0.9268 - val_accuracy: 0.5553\n",
      "Epoch 8/20\n",
      "1876/1876 [==============================] - 44s 23ms/sample - loss: 0.8701 - accuracy: 0.6125 - val_loss: 0.8790 - val_accuracy: 0.5872\n",
      "Epoch 9/20\n",
      "1876/1876 [==============================] - 46s 25ms/sample - loss: 0.8434 - accuracy: 0.6231 - val_loss: 0.8833 - val_accuracy: 0.6106\n",
      "Epoch 10/20\n",
      "1876/1876 [==============================] - 52s 28ms/sample - loss: 0.8497 - accuracy: 0.6269 - val_loss: 0.8722 - val_accuracy: 0.6128\n",
      "Epoch 11/20\n",
      "1876/1876 [==============================] - 42s 22ms/sample - loss: 0.8129 - accuracy: 0.6471 - val_loss: 0.8900 - val_accuracy: 0.6085\n",
      "Epoch 12/20\n",
      "1876/1876 [==============================] - 46s 25ms/sample - loss: 0.7969 - accuracy: 0.6466 - val_loss: 0.8876 - val_accuracy: 0.5957\n",
      "Epoch 13/20\n",
      "1876/1876 [==============================] - 51s 27ms/sample - loss: 0.7977 - accuracy: 0.6557 - val_loss: 0.8878 - val_accuracy: 0.5957\n",
      "Epoch 14/20\n",
      "1876/1876 [==============================] - 45s 24ms/sample - loss: 0.7713 - accuracy: 0.6775 - val_loss: 0.8822 - val_accuracy: 0.5936\n",
      "Epoch 15/20\n",
      "1876/1876 [==============================] - 44s 23ms/sample - loss: 0.7749 - accuracy: 0.6716 - val_loss: 0.8654 - val_accuracy: 0.6064\n",
      "Epoch 16/20\n",
      "1876/1876 [==============================] - 41s 22ms/sample - loss: 0.7575 - accuracy: 0.6722 - val_loss: 0.9207 - val_accuracy: 0.6021\n",
      "Epoch 17/20\n",
      "1876/1876 [==============================] - 49s 26ms/sample - loss: 0.7706 - accuracy: 0.6679 - val_loss: 0.8973 - val_accuracy: 0.6021\n",
      "Epoch 18/20\n",
      "1876/1876 [==============================] - 43s 23ms/sample - loss: 0.7412 - accuracy: 0.6818 - val_loss: 0.8967 - val_accuracy: 0.6021\n",
      "Epoch 19/20\n",
      "1876/1876 [==============================] - 46s 24ms/sample - loss: 0.7365 - accuracy: 0.6812 - val_loss: 0.9184 - val_accuracy: 0.6000\n",
      "Epoch 20/20\n",
      "1876/1876 [==============================] - 42s 22ms/sample - loss: 0.7316 - accuracy: 0.6850 - val_loss: 0.9451 - val_accuracy: 0.5851\n"
     ]
    }
   ],
   "source": [
    "earlystop = EarlyStopping(monitor='val_loss', patience=10, verbose=2, restore_best_weights=True)\n",
    "history_old = model_Old.fit(X_train_Old,\n",
    "                    y_train_Old,\n",
    "                    epochs=20,\n",
    "                    batch_size=32,\n",
    "                    validation_data=(X_val_Old, y_val_Old),\n",
    "                    verbose = 1,\n",
    "                    callbacks=[earlystop])"
   ]
  },
  {
   "cell_type": "code",
   "execution_count": 346,
   "metadata": {},
   "outputs": [
    {
     "data": {
      "text/plain": [
       "<matplotlib.legend.Legend at 0x2056cdfbcc0>"
      ]
     },
     "execution_count": 346,
     "metadata": {},
     "output_type": "execute_result"
    },
    {
     "data": {
      "image/png": "[encoded data removed]",
      "text/plain": [
       "<Figure size 432x288 with 1 Axes>"
      ]
     },
     "metadata": {
      "needs_background": "light"
     },
     "output_type": "display_data"
    }
   ],
   "source": [
    "#plotting Loss\n",
    "plt.suptitle('Optimizer : Adam', fontsize=10)\n",
    "plt.ylabel('Loss', fontsize=16)\n",
    "plt.xlabel('Epoch', fontsize=14)\n",
    "plt.plot(history_old.history['loss'], color='b', label='Training Loss')\n",
    "plt.plot(history_old.history['val_loss'], color='r', label='Validation Loss')\n",
    "plt.legend(loc='upper right')"
   ]
  },
  {
   "cell_type": "code",
   "execution_count": 347,
   "metadata": {},
   "outputs": [
    {
     "data": {
      "image/png": "[encoded data removed]",
      "text/plain": [
       "<Figure size 432x288 with 1 Axes>"
      ]
     },
     "metadata": {
      "needs_background": "light"
     },
     "output_type": "display_data"
    }
   ],
   "source": [
    "#plot the Accuracy curve training and validation data against epochs\n",
    "acc = history_old.history['accuracy']\n",
    "val_acc = history_old.history['val_accuracy']\n",
    "plt.xlabel('Epochs')\n",
    "plt.ylabel('Accuracy')\n",
    "plt.title('Accuracy Value')\n",
    "plt.plot(acc, 'blue', label='Training accuracy')\n",
    "plt.plot(val_acc, 'green', label='Validation accuracy')\n",
    "plt.xticks(range(0,5)[0::20])\n",
    "plt.legend()\n",
    "plt.show()"
   ]
  },
  {
   "cell_type": "code",
   "execution_count": 355,
   "metadata": {},
   "outputs": [],
   "source": [
    "# # Evaluate model\n",
    "# score, acc = model_Old.evaluate(X_val_Old, y_val_Old)\n",
    "\n",
    "# print('Score: %1.4f' % score)\n",
    "# print('Accuracy: %1.4f' % acc)\n",
    "\n",
    "# predictions = model_Old.predict(X_val_Old)\n",
    "\n",
    "# print(confusion_matrix(y_val.argmax(axis=1),predictions.argmax(axis=1)))  \n",
    "# print(classification_report(y_val.argmax(axis=1),predictions.argmax(axis=1)))  \n",
    "# print(accuracy_score(y_val.argmax(axis=1), predictions.argmax(axis=1)))\n",
    "# plot_cm( y_val.argmax(axis=1),  predictions.argmax(axis=1))"
   ]
  },
  {
   "cell_type": "code",
   "execution_count": null,
   "metadata": {},
   "outputs": [],
   "source": []
  },
  {
   "cell_type": "code",
   "execution_count": 352,
   "metadata": {},
   "outputs": [
    {
     "name": "stdout",
     "output_type": "stream",
     "text": [
      "your Model is saved\n"
     ]
    }
   ],
   "source": [
    "#Save our Model\n",
    "save_keras_model(model=model_Old,model_name='OldW2vec_LSTM', path='SentimentModels')\n",
    "print(\"your Model is saved\")"
   ]
  },
  {
   "cell_type": "code",
   "execution_count": 441,
   "metadata": {},
   "outputs": [],
   "source": [
    "#load saved model \n",
    "model_OldW2vec_LSTM=load_keras_model(model_name='OldW2vec_LSTM')\n",
    "model_OldW2vec_LSTM.compile(loss='categorical_crossentropy', optimizer=opt, metrics=['accuracy'])"
   ]
  },
  {
   "cell_type": "code",
   "execution_count": 442,
   "metadata": {},
   "outputs": [
    {
     "name": "stdout",
     "output_type": "stream",
     "text": [
      "\r",
      "470/1 [====================================================================================================================================================================================================================================================================================================================================================================================================================================================================================================================================================================================================================================================================================================================================================================================================================================================================================================================================================================================================================================================================================================================================================================================================================================================================================================================================================================================================================================================================================================================================================================================================================================================================================================================================================================================================================================================================================================================================================================================================================================================================================================================================================================================================================================================================================================================================================================================================================================================================================================================================================================================================================================================================================================================================================================================================================================================================================================================================================================================================================================================================================================================================================================================================================================================================================================================================================================================================================================================================================================================================================================================================================================================================================================================================================================================================================================================================================================================================================================================================================================================================================================================================================================================================================================================================================================================================================================================================================================================================================================================================================================================================================================================================================================================================================================================================================================================================================================================================================================================================================================================================================================================================================================================================================================================================================================================================================================================================================================================================================================================================================================================================================================================================================================================================================================================================================================================================================================================================================================================================================================================================================================================================================================================================================================================================================================================================================================================================================================================================================================================================================================================================================================================================================================================================================================================================================================================================================================================================================================================================================================================================================================================================================================================================================================================================================================================================================================================================================================================================================================================================================================================================================================================================================================================================================================================================================================================================================================================================================================================================================================================================================================================================================================================================================================================================================================================================================================================================================================================================================================================================================================================================================================================================================================================================================================================================================================================================================================================================================================================================================================================================================================================================================================================================================================================================================================================================================================================================================================================================================================================================================================================================================================================================================================================================================================================================================================================================================================================================================================================================================================================================================================================================================================================================================================================================================================================================================================================================================================================================================================================================================================================================================================================================================================================================================================================================================================================================================================================================================================================================================================================================================================================================================================================================================================================================================================================================================================================================================================================================================================================================================================================================================================================================================================================================================================================================================================================================================================================================================================================================================================================================================================================================================================================================================================================================================================================================================================================================================================================================================================================================================================================================================================================================================================================================================================================================================================================================================================================================================================================================================================================================================================================================================================================================================================================================================================================================================================================================================================================================================================================================================================================================================================================================================================================================================================================================================================================================================================================================================================================================================================================================================================================================================================================================================================================================================================================================================================================================================================================================================================================================================================================================================================================================================] - 4s 8ms/sample - loss: 0.7893 - accuracy: 0.5851\n"
     ]
    },
    {
     "name": "stdout",
     "output_type": "stream",
     "text": [
      "Score: 0.9451\n",
      "Accuracy: 0.5851\n",
      "[[115  61  18]\n",
      " [ 35 134  11]\n",
      " [ 36  34  26]]\n",
      "              precision    recall  f1-score   support\n",
      "\n",
      "           0       0.62      0.59      0.61       194\n",
      "           1       0.59      0.74      0.66       180\n",
      "           2       0.47      0.27      0.34        96\n",
      "\n",
      "    accuracy                           0.59       470\n",
      "   macro avg       0.56      0.54      0.53       470\n",
      "weighted avg       0.58      0.59      0.57       470\n",
      "\n",
      "0.5851063829787234\n"
     ]
    },
    {
     "data": {
      "image/png": "[encoded data removed]",
      "text/plain": [
       "<Figure size 432x288 with 2 Axes>"
      ]
     },
     "metadata": {
      "needs_background": "light"
     },
     "output_type": "display_data"
    }
   ],
   "source": [
    "# Evaluate model\n",
    "\n",
    "X_val_Old = np.array(X_val_Old)\n",
    "y_val_Old = np.array(y_val_Old)\n",
    "score, acc = model_OldW2vec_LSTM.evaluate(X_val_Old, y_val_Old)\n",
    "\n",
    "print('Score: %1.4f' % score)\n",
    "print('Accuracy: %1.4f' % acc)\n",
    "\n",
    "predictions = model_OldW2vec_LSTM.predict(X_val_Old)\n",
    "\n",
    "print(confusion_matrix(y_val_Old.argmax(axis=1),predictions.argmax(axis=1)))  \n",
    "print(classification_report(y_val_Old.argmax(axis=1),predictions.argmax(axis=1)))  \n",
    "print(accuracy_score(y_val_Old.argmax(axis=1), predictions.argmax(axis=1)))\n",
    "plot_cm( y_val_Old.argmax(axis=1),  predictions.argmax(axis=1))"
   ]
  },
  {
   "cell_type": "code",
   "execution_count": null,
   "metadata": {},
   "outputs": [],
   "source": []
  },
  {
   "cell_type": "code",
   "execution_count": 415,
   "metadata": {},
   "outputs": [],
   "source": [
    "def Predict_By_model_OldW2vec_LSTM(sentence):\n",
    "    sentence=str(sentence)\n",
    "    sentence=remove_stopWord_clean(sentence)\n",
    "    W2Vec_vector_old=vec_Old.instance_transform([sentence])\n",
    "    proba=model_OldW2vec_LSTM.predict(W2Vec_vector_old)[0]\n",
    "    proba1=proba.argmax(axis=0)\n",
    "    if proba1==0:\n",
    "        return 'neg',proba\n",
    "    elif proba1==1:\n",
    "        return 'pos'\n",
    "    else:\n",
    "        return 'neu',proba\n",
    "    return proba"
   ]
  },
  {
   "cell_type": "code",
   "execution_count": 416,
   "metadata": {},
   "outputs": [
    {
     "data": {
      "text/plain": [
       "tweet    ' @1987Assy  3 وكما أننا نسعد أن نري كل العالم بخير وسلام وآمان '\n",
       "class                                                                  pos\n",
       "Name: 11, dtype: object"
      ]
     },
     "execution_count": 416,
     "metadata": {},
     "output_type": "execute_result"
    }
   ],
   "source": [
    "#Try to predict single record\n",
    "CY_trainTest.iloc[11]"
   ]
  },
  {
   "cell_type": "code",
   "execution_count": 418,
   "metadata": {},
   "outputs": [
    {
     "data": {
      "text/plain": [
       "'pos'"
      ]
     },
     "execution_count": 418,
     "metadata": {},
     "output_type": "execute_result"
    }
   ],
   "source": [
    "Predict_By_model_OldW2vec_LSTM(CY_trainTest.tweet.iloc[11])\n"
   ]
  },
  {
   "cell_type": "markdown",
   "metadata": {},
   "source": [
    "**4 --3 Initialize a new word2vec model with pre-trained model weights and tune class weigh as well**\n",
    "\n",
    "ref: https://datascience.stackexchange.com/questions/10695/how-to-initialize-a-new-word2vec-model-with-pre-trained-model-weights\n",
    "\n",
    "ref:  https://gist.github.com/AbhishekAshokDubey/054af6f92d67d5ef8300fac58f59fcc9"
   ]
  },
  {
   "cell_type": "code",
   "execution_count": 419,
   "metadata": {},
   "outputs": [
    {
     "data": {
      "text/plain": [
       "pos    896\n",
       "neg    844\n",
       "neu    606\n",
       "Name: Categ, dtype: int64"
      ]
     },
     "execution_count": 419,
     "metadata": {},
     "output_type": "execute_result"
    }
   ],
   "source": [
    "CY_trainW2V.Categ.value_counts()"
   ]
  },
  {
   "cell_type": "code",
   "execution_count": 422,
   "metadata": {},
   "outputs": [
    {
     "name": "stdout",
     "output_type": "stream",
     "text": [
      "116907\n"
     ]
    },
    {
     "name": "stderr",
     "output_type": "stream",
     "text": [
      "C:\\Users\\Mohammed\\AppData\\Roaming\\Python\\Python37\\site-packages\\ipykernel_launcher.py:1: DeprecationWarning: Call to deprecated `wv` (Attribute will be removed in 4.0.0, use self instead).\n",
      "  \"\"\"Entry point for launching an IPython kernel.\n"
     ]
    },
    {
     "data": {
      "text/plain": [
       "[('رائع', 0.7987561225891113),\n",
       " ('جيد', 0.6975123882293701),\n",
       " ('ممتاز', 0.6722943186759949),\n",
       " ('جميل_جدا', 0.6625348925590515),\n",
       " ('ممتع', 0.6246637105941772),\n",
       " ('حلو', 0.6158772706985474),\n",
       " ('اعجبني', 0.5748803615570068),\n",
       " ('جيد_جدا', 0.5681601762771606),\n",
       " ('نطيف', 0.5677462816238403),\n",
       " ('مميز', 0.5666744709014893)]"
      ]
     },
     "execution_count": 422,
     "metadata": {},
     "output_type": "execute_result"
    }
   ],
   "source": [
    "print(len(word2vec_Old.wv.vocab))  #the number of learnred words\n",
    "word2vec_Old.most_similar('جميل')"
   ]
  },
  {
   "cell_type": "code",
   "execution_count": 423,
   "metadata": {},
   "outputs": [
    {
     "name": "stdout",
     "output_type": "stream",
     "text": [
      "2419\n"
     ]
    },
    {
     "name": "stderr",
     "output_type": "stream",
     "text": [
      "C:\\Users\\Mohammed\\AppData\\Roaming\\Python\\Python37\\site-packages\\ipykernel_launcher.py:1: DeprecationWarning: Call to deprecated `wv` (Attribute will be removed in 4.0.0, use self instead).\n",
      "  \"\"\"Entry point for launching an IPython kernel.\n"
     ]
    },
    {
     "data": {
      "text/plain": [
       "[('اشهر', 0.211833193898201),\n",
       " ('بجد', 0.20498433709144592),\n",
       " ('صل', 0.1950821429491043),\n",
       " ('بعيد', 0.1832733154296875),\n",
       " ('سيدنا', 0.17711493372917175),\n",
       " ('وكله', 0.17072616517543793),\n",
       " ('حضور', 0.16911527514457703),\n",
       " ('تجنني', 0.16703490912914276),\n",
       " ('البطئ', 0.16523496806621552),\n",
       " ('جاريدو', 0.15997886657714844)]"
      ]
     },
     "execution_count": 423,
     "metadata": {},
     "output_type": "execute_result"
    }
   ],
   "source": [
    "print(len(model_W2vec_CY.wv.vocab)) #before update the weights\n",
    "model_W2vec_CY.most_similar('جميل') "
   ]
  },
  {
   "cell_type": "code",
   "execution_count": 425,
   "metadata": {},
   "outputs": [
    {
     "name": "stderr",
     "output_type": "stream",
     "text": [
      "C:\\Users\\Mohammed\\AppData\\Roaming\\Python\\Python37\\site-packages\\ipykernel_launcher.py:7: DeprecationWarning: Call to deprecated `iter` (Attribute will be removed in 4.0.0, use self.epochs instead).\n",
      "  import sys\n"
     ]
    }
   ],
   "source": [
    "model_CY = Word2Vec(size=300, min_count=2,iter=5)\n",
    "model_CY.build_vocab(sent)\n",
    "training_examples_count = model_CY.corpus_count\n",
    "# below line will make it 1, so saving it before\n",
    "model_CY.build_vocab([list(word2vec_Old.vocab.keys())], update=True)\n",
    "model_CY.intersect_word2vec_format(\"SentimentModels/W2Vec/w2v_model.bin\",binary=True, lockf=1.0)\n",
    "model_CY.train(sent,total_examples=training_examples_count, epochs=model_CY.iter)\n",
    "model_CY.wv.save_word2vec_format(\"SentimentModels/W2Vec/model_W2vec_CY_V2.bin\", binary=True) #save updated weights W2vec Model\n",
    "model_W2vec_CY_V2 =KeyedVectors.load_word2vec_format('SentimentModels/W2Vec/model_W2vec_CY_V2.bin', binary=True)"
   ]
  },
  {
   "cell_type": "code",
   "execution_count": 426,
   "metadata": {},
   "outputs": [
    {
     "data": {
      "text/plain": [
       "[('رائع', 0.8646100163459778),\n",
       " ('ادعولي', 0.7631500959396362),\n",
       " ('رس', 0.7528311610221863),\n",
       " ('تصبحوا', 0.7519782781600952),\n",
       " ('بتقولوا', 0.751939058303833),\n",
       " ('شوفتي', 0.7514681220054626),\n",
       " ('حلو', 0.7514474987983704),\n",
       " ('مجلتكم', 0.7511909604072571),\n",
       " ('تالنت', 0.7511038780212402),\n",
       " ('عطلها', 0.7498560547828674)]"
      ]
     },
     "execution_count": 426,
     "metadata": {},
     "output_type": "execute_result"
    }
   ],
   "source": [
    "model_W2vec_CY_V2.most_similar('جميل') #  print simiarit words with its score after update the w2vec weights with \n",
    "#the same umber of words\n"
   ]
  },
  {
   "cell_type": "code",
   "execution_count": 427,
   "metadata": {},
   "outputs": [
    {
     "name": "stdout",
     "output_type": "stream",
     "text": [
      "2419\n"
     ]
    },
    {
     "name": "stderr",
     "output_type": "stream",
     "text": [
      "C:\\Users\\Mohammed\\AppData\\Roaming\\Python\\Python37\\site-packages\\ipykernel_launcher.py:1: DeprecationWarning: Call to deprecated `wv` (Attribute will be removed in 4.0.0, use self instead).\n",
      "  \"\"\"Entry point for launching an IPython kernel.\n"
     ]
    }
   ],
   "source": [
    "print(len(model_W2vec_CY_V2.wv.vocab))"
   ]
  },
  {
   "cell_type": "code",
   "execution_count": 429,
   "metadata": {},
   "outputs": [],
   "source": [
    "vec = WordVecVectorizer(model_W2vec_CY_V2)\n",
    "# X = vec.fit_transform(CY_trainW2V.tweet)\n",
    "\n",
    "X_train_V2, X_val_V2, y_train_V2, y_val_V2 = train_test_split(vec.instance_transform(CY_trainW2V.tweet), CY_trainW2V.class_num, test_size=0.2, random_state=42)"
   ]
  },
  {
   "cell_type": "code",
   "execution_count": null,
   "metadata": {},
   "outputs": [],
   "source": []
  },
  {
   "cell_type": "code",
   "execution_count": 242,
   "metadata": {},
   "outputs": [],
   "source": [
    "# y_train_V2_df=pd.DataFrame(y_train_V2)\n",
    "# y_train_V2_df.Categ.value_counts()"
   ]
  },
  {
   "cell_type": "code",
   "execution_count": 431,
   "metadata": {},
   "outputs": [
    {
     "name": "stdout",
     "output_type": "stream",
     "text": [
      "(1876, 30, 300)\n",
      "(1876, 3)\n",
      "(470, 30, 300)\n",
      "(470, 3)\n"
     ]
    }
   ],
   "source": [
    "if not isinstance(X_train_V2,np.ndarray):\n",
    "    X_train_V2 = X_train_V2.toarray()\n",
    "    X_val_V2 = X_val_V2.toarray()\n",
    "labelencoder = LabelEncoder()\n",
    "l = list(set(y_train_V2))\n",
    "l.sort()\n",
    "y_train_V2= to_categorical(labelencoder.fit_transform(y_train_V2))\n",
    "y_val_V2 = to_categorical(labelencoder.transform(y_val_V2))\n",
    "int_category = dict(zip(labelencoder.transform(l), l))\n",
    "category_int = dict(zip(l, labelencoder.transform(l)))\n",
    "\n",
    "print(X_train_V2.shape)\n",
    "print(y_train_V2.shape)\n",
    "print(X_val_V2.shape)\n",
    "print(y_val_V2.shape)"
   ]
  },
  {
   "cell_type": "code",
   "execution_count": 433,
   "metadata": {},
   "outputs": [
    {
     "name": "stdout",
     "output_type": "stream",
     "text": [
      "Model: \"model_4\"\n",
      "_________________________________________________________________\n",
      "Layer (type)                 Output Shape              Param #   \n",
      "=================================================================\n",
      "input (InputLayer)           [(None, 30, 300)]         0         \n",
      "_________________________________________________________________\n",
      "bidirectional (Bidirectional (None, 30, 600)           1442400   \n",
      "_________________________________________________________________\n",
      "global_max_pooling1d (Global (None, 600)               0         \n",
      "_________________________________________________________________\n",
      "dense_12 (Dense)             (None, 256)               153856    \n",
      "_________________________________________________________________\n",
      "dropout_4 (Dropout)          (None, 256)               0         \n",
      "_________________________________________________________________\n",
      "dense_13 (Dense)             (None, 10)                2570      \n",
      "_________________________________________________________________\n",
      "dense_14 (Dense)             (None, 3)                 33        \n",
      "=================================================================\n",
      "Total params: 1,598,859\n",
      "Trainable params: 1,598,859\n",
      "Non-trainable params: 0\n",
      "_________________________________________________________________\n",
      "None\n"
     ]
    }
   ],
   "source": [
    "opt = Adam(lr=1e-4, decay=1e-3 / 200)\n",
    "dense_out =3\n",
    "\n",
    "input_shape = X_train.shape[1:]\n",
    "\n",
    "model_V2 = modelBuild(input_shape, dense_out)\n",
    "\n",
    "print(model_V2.summary())\n",
    "\n",
    "\n",
    "model_V2.compile(loss='categorical_crossentropy', optimizer=opt, metrics=['accuracy'])"
   ]
  },
  {
   "cell_type": "code",
   "execution_count": 434,
   "metadata": {},
   "outputs": [
    {
     "name": "stderr",
     "output_type": "stream",
     "text": [
      "C:\\Users\\Mohammed\\AppData\\Local\\Continuum\\anaconda3\\lib\\site-packages\\sklearn\\utils\\validation.py:72: FutureWarning: Pass classes=[0 1 2], y=[2 0 0 ... 1 0 1] as keyword args. From version 1.0 (renaming of 0.25) passing these as positional arguments will result in an error\n",
      "  \"will result in an error\", FutureWarning)\n"
     ]
    }
   ],
   "source": [
    "#\"pay more attention\" to samples from an under-represented class.\n",
    "\n",
    "y_integers = np.argmax(y_train_V2, axis=1)\n",
    "class_weights = compute_class_weight('balanced', np.unique(y_integers), y_integers)\n",
    "d_class_weights = dict(enumerate(class_weights))"
   ]
  },
  {
   "cell_type": "code",
   "execution_count": 435,
   "metadata": {},
   "outputs": [
    {
     "data": {
      "text/plain": [
       "{0: 0.9620512820512821, 1: 0.8733705772811918, 2: 1.2261437908496733}"
      ]
     },
     "execution_count": 435,
     "metadata": {},
     "output_type": "execute_result"
    }
   ],
   "source": [
    "d_class_weights"
   ]
  },
  {
   "cell_type": "code",
   "execution_count": 436,
   "metadata": {},
   "outputs": [],
   "source": [
    "d_class_weights2={0: 0.75, 1: 0.9, 2: 1}"
   ]
  },
  {
   "cell_type": "code",
   "execution_count": 438,
   "metadata": {},
   "outputs": [
    {
     "name": "stdout",
     "output_type": "stream",
     "text": [
      "Train on 1876 samples, validate on 470 samples\n",
      "Epoch 1/20\n",
      "1876/1876 [==============================] - 46s 24ms/sample - loss: 0.9539 - accuracy: 0.3891 - val_loss: 0.9259 - val_accuracy: 0.3830\n",
      "Epoch 2/20\n",
      "1876/1876 [==============================] - 40s 21ms/sample - loss: 0.9432 - accuracy: 0.3817 - val_loss: 0.9179 - val_accuracy: 0.3830\n",
      "Epoch 3/20\n",
      "1876/1876 [==============================] - 47s 25ms/sample - loss: 0.9328 - accuracy: 0.3790 - val_loss: 0.9016 - val_accuracy: 0.3979\n",
      "Epoch 4/20\n",
      "1876/1876 [==============================] - 44s 24ms/sample - loss: 0.9181 - accuracy: 0.4158 - val_loss: 0.8922 - val_accuracy: 0.3957\n",
      "Epoch 5/20\n",
      "1876/1876 [==============================] - 44s 23ms/sample - loss: 0.9038 - accuracy: 0.4707 - val_loss: 0.8700 - val_accuracy: 0.4681\n",
      "Epoch 6/20\n",
      "1876/1876 [==============================] - 44s 23ms/sample - loss: 0.8800 - accuracy: 0.5235 - val_loss: 0.8226 - val_accuracy: 0.5489\n",
      "Epoch 7/20\n",
      "1876/1876 [==============================] - 46s 24ms/sample - loss: 0.8425 - accuracy: 0.5474 - val_loss: 0.7990 - val_accuracy: 0.5660\n",
      "Epoch 8/20\n",
      "1876/1876 [==============================] - 46s 25ms/sample - loss: 0.8196 - accuracy: 0.5650 - val_loss: 0.8120 - val_accuracy: 0.5638\n",
      "Epoch 9/20\n",
      "1876/1876 [==============================] - 44s 24ms/sample - loss: 0.8207 - accuracy: 0.5784 - val_loss: 0.7988 - val_accuracy: 0.5553\n",
      "Epoch 10/20\n",
      "1876/1876 [==============================] - 43s 23ms/sample - loss: 0.8081 - accuracy: 0.5858 - val_loss: 0.8054 - val_accuracy: 0.5489\n",
      "Epoch 11/20\n",
      "1876/1876 [==============================] - 44s 24ms/sample - loss: 0.8033 - accuracy: 0.5741 - val_loss: 0.7692 - val_accuracy: 0.5957\n",
      "Epoch 12/20\n",
      "1876/1876 [==============================] - 46s 25ms/sample - loss: 0.8013 - accuracy: 0.5730 - val_loss: 0.7972 - val_accuracy: 0.5553\n",
      "Epoch 13/20\n",
      "1876/1876 [==============================] - 43s 23ms/sample - loss: 0.7829 - accuracy: 0.5901 - val_loss: 0.7726 - val_accuracy: 0.5702\n",
      "Epoch 14/20\n",
      "1876/1876 [==============================] - 44s 24ms/sample - loss: 0.7794 - accuracy: 0.5880 - val_loss: 0.7886 - val_accuracy: 0.5660\n",
      "Epoch 15/20\n",
      "1876/1876 [==============================] - 48s 26ms/sample - loss: 0.7618 - accuracy: 0.5832 - val_loss: 0.7790 - val_accuracy: 0.5851\n",
      "Epoch 16/20\n",
      "1876/1876 [==============================] - 45s 24ms/sample - loss: 0.7585 - accuracy: 0.5965 - val_loss: 0.7886 - val_accuracy: 0.5809\n",
      "Epoch 17/20\n",
      "1876/1876 [==============================] - 45s 24ms/sample - loss: 0.7484 - accuracy: 0.6162 - val_loss: 0.7728 - val_accuracy: 0.5787\n",
      "Epoch 18/20\n",
      "1876/1876 [==============================] - 44s 24ms/sample - loss: 0.7441 - accuracy: 0.6226 - val_loss: 0.7737 - val_accuracy: 0.5596\n",
      "Epoch 19/20\n",
      "1876/1876 [==============================] - 46s 24ms/sample - loss: 0.7405 - accuracy: 0.6087 - val_loss: 0.7749 - val_accuracy: 0.5638\n",
      "Epoch 20/20\n",
      "1876/1876 [==============================] - 46s 25ms/sample - loss: 0.7326 - accuracy: 0.6274 - val_loss: 0.7577 - val_accuracy: 0.5745\n"
     ]
    }
   ],
   "source": [
    "earlystop = EarlyStopping(monitor='val_accuracy', patience=10, verbose=2, restore_best_weights=True)\n",
    "history_V2 = model_V2.fit(X_train_V2,\n",
    "                    y_train_V2,\n",
    "                    epochs=20,\n",
    "                    batch_size=32,\n",
    "                    validation_data=(X_val_V2, y_val_V2),\n",
    "                    shuffle=True,class_weight=d_class_weights2,\n",
    "                    verbose = 1,\n",
    "                    callbacks=[earlystop])"
   ]
  },
  {
   "cell_type": "code",
   "execution_count": null,
   "metadata": {},
   "outputs": [],
   "source": []
  },
  {
   "cell_type": "code",
   "execution_count": 443,
   "metadata": {},
   "outputs": [
    {
     "name": "stdout",
     "output_type": "stream",
     "text": [
      "your Model is saved\n"
     ]
    }
   ],
   "source": [
    "#Save our Model\n",
    "save_keras_model(model=model_V2,model_name='W2vecUpdated_LSTM', path='SentimentModels')\n",
    "print(\"your Model is saved\")"
   ]
  },
  {
   "cell_type": "code",
   "execution_count": 445,
   "metadata": {},
   "outputs": [],
   "source": [
    "#load saved model \n",
    "model_UpdatedW2vec_LSTM=load_keras_model(model_name='W2vecUpdated_LSTM')\n",
    "model_UpdatedW2vec_LSTM.compile(loss='categorical_crossentropy', optimizer=opt, metrics=['accuracy'])"
   ]
  },
  {
   "cell_type": "code",
   "execution_count": 446,
   "metadata": {},
   "outputs": [
    {
     "data": {
      "text/plain": [
       "array([0., 1., 0.], dtype=float32)"
      ]
     },
     "execution_count": 446,
     "metadata": {},
     "output_type": "execute_result"
    }
   ],
   "source": [
    "y_val_V2[0]"
   ]
  },
  {
   "cell_type": "code",
   "execution_count": 447,
   "metadata": {},
   "outputs": [
    {
     "name": "stdout",
     "output_type": "stream",
     "text": [
      "\r",
      "470/1 [====================================================================================================================================================================================================================================================================================================================================================================================================================================================================================================================================================================================================================================================================================================================================================================================================================================================================================================================================================================================================================================================================================================================================================================================================================================================================================================================================================================================================================================================================================================================================================================================================================================================================================================================================================================================================================================================================================================================================================================================================================================================================================================================================================================================================================================================================================================================================================================================================================================================================================================================================================================================================================================================================================================================================================================================================================================================================================================================================================================================================================================================================================================================================================================================================================================================================================================================================================================================================================================================================================================================================================================================================================================================================================================================================================================================================================================================================================================================================================================================================================================================================================================================================================================================================================================================================================================================================================================================================================================================================================================================================================================================================================================================================================================================================================================================================================================================================================================================================================================================================================================================================================================================================================================================================================================================================================================================================================================================================================================================================================================================================================================================================================================================================================================================================================================================================================================================================================================================================================================================================================================================================================================================================================================================================================================================================================================================================================================================================================================================================================================================================================================================================================================================================================================================================================================================================================================================================================================================================================================================================================================================================================================================================================================================================================================================================================================================================================================================================================================================================================================================================================================================================================================================================================================================================================================================================================================================================================================================================================================================================================================================================================================================================================================================================================================================================================================================================================================================================================================================================================================================================================================================================================================================================================================================================================================================================================================================================================================================================================================================================================================================================================================================================================================================================================================================================================================================================================================================================================================================================================================================================================================================================================================================================================================================================================================================================================================================================================================================================================================================================================================================================================================================================================================================================================================================================================================================================================================================================================================================================================================================================================================================================================================================================================================================================================================================================================================================================================================================================================================================================================================================================================================================================================================================================================================================================================================================================================================================================================================================================================================================================================================================================================================================================================================================================================================================================================================================================================================================================================================================================================================================================================================================================================================================================================================================================================================================================================================================================================================================================================================================================================================================================================================================================================================================================================================================================================================================================================================================================================================================================================================================================================================================================================================================================================================================================================================================================================================================================================================================================================================================================================================================================================================================================================================================================================================================================================================================================================================================================================================================================================================================================================================================================================================================================================================================================================================================================================================================================================================================================================================================================================================================================================================================================================] - 3s 7ms/sample - loss: 0.8529 - accuracy: 0.5745\n"
     ]
    },
    {
     "name": "stdout",
     "output_type": "stream",
     "text": [
      "Score: 0.8760\n",
      "Accuracy: 0.5745\n",
      "[[118  31  45]\n",
      " [ 40 105  35]\n",
      " [ 29  20  47]]\n",
      "              precision    recall  f1-score   support\n",
      "\n",
      "           0       0.63      0.61      0.62       194\n",
      "           1       0.67      0.58      0.63       180\n",
      "           2       0.37      0.49      0.42        96\n",
      "\n",
      "    accuracy                           0.57       470\n",
      "   macro avg       0.56      0.56      0.56       470\n",
      "weighted avg       0.59      0.57      0.58       470\n",
      "\n",
      "0.574468085106383\n"
     ]
    },
    {
     "data": {
      "image/png": "[encoded data removed]",
      "text/plain": [
       "<Figure size 432x288 with 2 Axes>"
      ]
     },
     "metadata": {
      "needs_background": "light"
     },
     "output_type": "display_data"
    }
   ],
   "source": [
    "# Evaluate model\n",
    "\n",
    "X_val_V2 = np.array(X_val_V2)\n",
    "y_val_V2 = np.array(y_val_V2)\n",
    "score, acc = model_UpdatedW2vec_LSTM.evaluate(X_val_V2, y_val_V2)\n",
    "\n",
    "print('Score: %1.4f' % score)\n",
    "print('Accuracy: %1.4f' % acc)\n",
    "\n",
    "predictions = model_UpdatedW2vec_LSTM.predict(X_val_V2)\n",
    "\n",
    "print(confusion_matrix(y_val_V2.argmax(axis=1),predictions.argmax(axis=1)))  \n",
    "print(classification_report(y_val_V2.argmax(axis=1),predictions.argmax(axis=1)))  \n",
    "print(accuracy_score(y_val_V2.argmax(axis=1), predictions.argmax(axis=1)))\n",
    "plot_cm( y_val_V2.argmax(axis=1),  predictions.argmax(axis=1))"
   ]
  },
  {
   "cell_type": "code",
   "execution_count": 448,
   "metadata": {},
   "outputs": [],
   "source": [
    "word2vec_Updated = KeyedVectors.load_word2vec_format('SentimentModels/W2Vec/model_W2vec_CY_V2.bin', binary=True)\n",
    "vec_Updated = WordVecVectorizer(word2vec_Updated)\n",
    "# X = vec.fit_transform(CY_trainW2V.tweet)"
   ]
  },
  {
   "cell_type": "code",
   "execution_count": 472,
   "metadata": {},
   "outputs": [],
   "source": [
    "def Predict_By_model_W2vecUpdated_LSTM(sentence):\n",
    "    sentence=str(sentence)\n",
    "    sentence=remove_stopWord_clean(sentence)\n",
    "    W2VecUpdate_vector=vec_Updated.instance_transform([sentence])\n",
    "    proba=model_UpdatedW2vec_LSTM.predict(W2VecUpdate_vector)[0]\n",
    "    proba1=np.argmax(proba)\n",
    "    if proba1==0:\n",
    "        return 'neg'\n",
    "    elif proba1==1:\n",
    "        return 'pos'\n",
    "    else:\n",
    "        return 'neu'"
   ]
  },
  {
   "cell_type": "code",
   "execution_count": 473,
   "metadata": {},
   "outputs": [
    {
     "data": {
      "text/plain": [
       "tweet    ' @ba7r_ahmed ميرسي بجد !! '\n",
       "class                             pos\n",
       "Name: 40, dtype: object"
      ]
     },
     "execution_count": 473,
     "metadata": {},
     "output_type": "execute_result"
    }
   ],
   "source": [
    "#Try to predict one record\n",
    "#Try to predict single record\n",
    "CY_trainTest.iloc[40]"
   ]
  },
  {
   "cell_type": "code",
   "execution_count": 474,
   "metadata": {},
   "outputs": [
    {
     "data": {
      "text/plain": [
       "'pos'"
      ]
     },
     "execution_count": 474,
     "metadata": {},
     "output_type": "execute_result"
    }
   ],
   "source": [
    "Predict_By_model_W2vecUpdated_LSTM(CY_trainTest.tweet.iloc[40])"
   ]
  },
  {
   "cell_type": "markdown",
   "metadata": {},
   "source": [
    "**5. Concatenate W2Vec&Lstm and TFIDF&ANN**"
   ]
  },
  {
   "cell_type": "code",
   "execution_count": 475,
   "metadata": {},
   "outputs": [],
   "source": [
    "# title_mapping = {\"neg\": 0, \"pos\": 1, \"neu\": 2}\n",
    "# CY_trainW2V['Categ_num'] = CY_trainW2V['Categ'].map(title_mapping)"
   ]
  },
  {
   "cell_type": "code",
   "execution_count": 476,
   "metadata": {},
   "outputs": [
    {
     "data": {
      "text/html": [
       "<div>\n",
       "<style scoped>\n",
       "    .dataframe tbody tr th:only-of-type {\n",
       "        vertical-align: middle;\n",
       "    }\n",
       "\n",
       "    .dataframe tbody tr th {\n",
       "        vertical-align: top;\n",
       "    }\n",
       "\n",
       "    .dataframe thead th {\n",
       "        text-align: right;\n",
       "    }\n",
       "</style>\n",
       "<table border=\"1\" class=\"dataframe\">\n",
       "  <thead>\n",
       "    <tr style=\"text-align: right;\">\n",
       "      <th></th>\n",
       "      <th>tweet</th>\n",
       "      <th>Categ</th>\n",
       "      <th>class_num</th>\n",
       "    </tr>\n",
       "  </thead>\n",
       "  <tbody>\n",
       "    <tr>\n",
       "      <th>0</th>\n",
       "      <td>فينو الاهبل ابن الاهبل</td>\n",
       "      <td>neg</td>\n",
       "      <td>0</td>\n",
       "    </tr>\n",
       "    <tr>\n",
       "      <th>1</th>\n",
       "      <td>المصرين وجمالهم ربنا يحميهم</td>\n",
       "      <td>pos</td>\n",
       "      <td>1</td>\n",
       "    </tr>\n",
       "    <tr>\n",
       "      <th>2</th>\n",
       "      <td>دول اوي ودمهم خفيف العمارة كلها سورين والاطفال عسل</td>\n",
       "      <td>pos</td>\n",
       "      <td>1</td>\n",
       "    </tr>\n",
       "    <tr>\n",
       "      <th>3</th>\n",
       "      <td>خلي يوعني بحاجه همضي وصل امانه اضمن انو يخون</td>\n",
       "      <td>neg</td>\n",
       "      <td>0</td>\n",
       "    </tr>\n",
       "    <tr>\n",
       "      <th>4</th>\n",
       "      <td>هنتحر</td>\n",
       "      <td>neg</td>\n",
       "      <td>0</td>\n",
       "    </tr>\n",
       "  </tbody>\n",
       "</table>\n",
       "</div>"
      ],
      "text/plain": [
       "                                                tweet Categ  class_num\n",
       "0                              فينو الاهبل ابن الاهبل   neg          0\n",
       "1                         المصرين وجمالهم ربنا يحميهم   pos          1\n",
       "2  دول اوي ودمهم خفيف العمارة كلها سورين والاطفال عسل   pos          1\n",
       "3        خلي يوعني بحاجه همضي وصل امانه اضمن انو يخون   neg          0\n",
       "4                                               هنتحر   neg          0"
      ]
     },
     "execution_count": 476,
     "metadata": {},
     "output_type": "execute_result"
    }
   ],
   "source": [
    "CY_trainW2V.head()"
   ]
  },
  {
   "cell_type": "markdown",
   "metadata": {},
   "source": [
    "**--->> First model TFIDF with ANN <<-----**"
   ]
  },
  {
   "cell_type": "code",
   "execution_count": 526,
   "metadata": {},
   "outputs": [
    {
     "data": {
      "text/plain": [
       "TfidfVectorizer(max_features=1000, ngram_range=(1, 3))"
      ]
     },
     "execution_count": 526,
     "metadata": {},
     "output_type": "execute_result"
    }
   ],
   "source": [
    "x_train_Tf, x_test_Tf, y_train_Tf, y_test_Tf = train_test_split(CY_trainW2V.tweet, CY_trainW2V.class_num, test_size=.2, random_state=42)\n",
    "\n",
    "tvec2 = TfidfVectorizer(max_features=1000,ngram_range=(1, 3))\n",
    "tvec2.fit(x_train_Tf)"
   ]
  },
  {
   "cell_type": "code",
   "execution_count": 527,
   "metadata": {},
   "outputs": [],
   "source": [
    "x_train_Tf = tvec2.transform(x_train_Tf)\n",
    "x_test_Tf = tvec2.transform(x_test_Tf)"
   ]
  },
  {
   "cell_type": "code",
   "execution_count": 528,
   "metadata": {},
   "outputs": [],
   "source": [
    "y_label_categ_Tf = to_categorical(y_train_Tf)\n",
    "y_test_categ_Tf=to_categorical(y_test_Tf)"
   ]
  },
  {
   "cell_type": "code",
   "execution_count": 529,
   "metadata": {},
   "outputs": [
    {
     "data": {
      "text/plain": [
       "((1876, 1000), (470, 1000), (1876, 3), (470, 3))"
      ]
     },
     "execution_count": 529,
     "metadata": {},
     "output_type": "execute_result"
    }
   ],
   "source": [
    "x_train_Tf.shape,x_test_Tf.shape,y_label_categ_Tf.shape,y_test_categ_Tf.shape"
   ]
  },
  {
   "cell_type": "code",
   "execution_count": 530,
   "metadata": {},
   "outputs": [
    {
     "data": {
      "text/plain": [
       "(1000,)"
      ]
     },
     "execution_count": 530,
     "metadata": {},
     "output_type": "execute_result"
    }
   ],
   "source": [
    "x_train_Tf.shape[1:]\n"
   ]
  },
  {
   "cell_type": "code",
   "execution_count": 537,
   "metadata": {},
   "outputs": [
    {
     "data": {
      "text/plain": [
       "<1x1000 sparse matrix of type '<class 'numpy.float64'>'\n",
       "\twith 0 stored elements in Compressed Sparse Row format>"
      ]
     },
     "execution_count": 537,
     "metadata": {},
     "output_type": "execute_result"
    }
   ],
   "source": [
    "x_train_Tf[0]"
   ]
  },
  {
   "cell_type": "code",
   "execution_count": 535,
   "metadata": {},
   "outputs": [
    {
     "data": {
      "text/plain": [
       "array([0., 1., 0.], dtype=float32)"
      ]
     },
     "execution_count": 535,
     "metadata": {},
     "output_type": "execute_result"
    }
   ],
   "source": [
    "y_test_categ_Tf[0]"
   ]
  },
  {
   "cell_type": "code",
   "execution_count": 490,
   "metadata": {},
   "outputs": [
    {
     "name": "stdout",
     "output_type": "stream",
     "text": [
      "Model: \"ANN_For_TFIDF_Vector\"\n",
      "_________________________________________________________________\n",
      "Layer (type)                 Output Shape              Param #   \n",
      "=================================================================\n",
      "dense_15 (Dense)             (None, 64)                64064     \n",
      "_________________________________________________________________\n",
      "dropout_5 (Dropout)          (None, 64)                0         \n",
      "_________________________________________________________________\n",
      "dense_16 (Dense)             (None, 3)                 195       \n",
      "=================================================================\n",
      "Total params: 64,259\n",
      "Trainable params: 64,259\n",
      "Non-trainable params: 0\n",
      "_________________________________________________________________\n"
     ]
    }
   ],
   "source": [
    "#build Ann Model for TF-IDF\n",
    "input_shape=x_train_Tf.shape[1:][0]\n",
    "modelANN = Sequential(name='ANN_For_TFIDF_Vector')\n",
    "modelANN.add(Dense(64, activation='relu', input_dim=input_shape))\n",
    "modelANN.add(Dropout(0.45))\n",
    "modelANN.add(Dense(3, activation='softmax'))\n",
    "modelANN.summary()"
   ]
  },
  {
   "cell_type": "markdown",
   "metadata": {},
   "source": [
    "**---> Second build LSTM Model for updated weight W2Vec <---**"
   ]
  },
  {
   "cell_type": "code",
   "execution_count": 492,
   "metadata": {},
   "outputs": [],
   "source": [
    "#load w2vec updated weight\n",
    "word2vec_Updated = KeyedVectors.load_word2vec_format('SentimentModels/W2Vec/model_W2vec_CY_V2.bin', binary=True)\n",
    "vec_Updated = WordVecVectorizer(word2vec_Updated)\n",
    "# X = vec.fit_transform(CY_trainW2V.tweet)\n",
    "\n",
    "X_train_V22, X_val_V22, y_train_V22, y_val_V22 = train_test_split(vec_Updated.instance_transform(CY_trainW2V.tweet), CY_trainW2V.class_num, test_size=0.2, random_state=42)"
   ]
  },
  {
   "cell_type": "code",
   "execution_count": 493,
   "metadata": {},
   "outputs": [],
   "source": [
    "# y_train_V22 = to_categorical(y_train_V22)\n",
    "# y_val_V22=to_categorical(y_val_V22)\n",
    "\n",
    "\n",
    "# print(X_train_V22.shape)\n",
    "# print(y_train_V22.shape)\n",
    "# print(X_val_V22.shape)\n",
    "# print(y_val_V22.shape)"
   ]
  },
  {
   "cell_type": "code",
   "execution_count": null,
   "metadata": {},
   "outputs": [],
   "source": []
  },
  {
   "cell_type": "code",
   "execution_count": 494,
   "metadata": {},
   "outputs": [
    {
     "name": "stdout",
     "output_type": "stream",
     "text": [
      "(1876, 30, 300)\n",
      "(1876, 3)\n",
      "(470, 30, 300)\n",
      "(470, 3)\n"
     ]
    }
   ],
   "source": [
    "if not isinstance(X_train_V22,np.ndarray):\n",
    "    X_train_V22 = X_train_V22.toarray()\n",
    "    X_val_V22 = X_val_V22.toarray()\n",
    "labelencoder = LabelEncoder()\n",
    "l = list(set(y_train_V22))\n",
    "l.sort()\n",
    "y_train_V22= to_categorical(labelencoder.fit_transform(y_train_V22))\n",
    "y_val_V22 = to_categorical(labelencoder.transform(y_val_V22))\n",
    "int_category = dict(zip(labelencoder.transform(l), l))\n",
    "category_int = dict(zip(l, labelencoder.transform(l)))\n",
    "\n",
    "\n",
    "\n",
    "print(X_train_V22.shape)\n",
    "print(y_train_V22.shape)\n",
    "print(X_val_V22.shape)\n",
    "print(y_val_V22.shape)"
   ]
  },
  {
   "cell_type": "code",
   "execution_count": 495,
   "metadata": {},
   "outputs": [
    {
     "name": "stdout",
     "output_type": "stream",
     "text": [
      "Model: \"lstm_model_for_word2vec_vector\"\n",
      "_________________________________________________________________\n",
      "Layer (type)                 Output Shape              Param #   \n",
      "=================================================================\n",
      "input (InputLayer)           [(None, 30, 300)]         0         \n",
      "_________________________________________________________________\n",
      "bidirectional (Bidirectional (None, 30, 512)           1140736   \n",
      "_________________________________________________________________\n",
      "global_max_pooling1d (Global (None, 512)               0         \n",
      "_________________________________________________________________\n",
      "dense_17 (Dense)             (None, 300)               153900    \n",
      "_________________________________________________________________\n",
      "dropout_6 (Dropout)          (None, 300)               0         \n",
      "_________________________________________________________________\n",
      "dense_18 (Dense)             (None, 10)                3010      \n",
      "_________________________________________________________________\n",
      "dense_19 (Dense)             (None, 3)                 33        \n",
      "=================================================================\n",
      "Total params: 1,297,679\n",
      "Trainable params: 1,297,679\n",
      "Non-trainable params: 0\n",
      "_________________________________________________________________\n"
     ]
    }
   ],
   "source": [
    "#build lstm model for word2vec vector\n",
    "input_shape = X_train_V22.shape[1:]\n",
    "sentence_indices = Input(input_shape, name=\"input\" )\n",
    "batch_size = 64\n",
    "X = sentence_indices\n",
    "X = Bidirectional(LSTM(256, dropout=0.2, return_sequences=True, name=\"lstm_1\",implementation = 2, recurrent_activation = 'sigmoid'),name=\"bidirectional\")(X)\n",
    "X = GlobalMaxPool1D(name=\"global_max_pooling1d\")(X)\n",
    "X = Dense(300, activation='linear')(X)\n",
    "X = Dropout(0.3)(X)\n",
    "X =(layers.Dense(10, activation='relu'))(X)\n",
    "X = Dense(dense_out, activation='softmax')(X) # Number of classes\n",
    "    # Create Model instance which converts sentence_indices into X.\n",
    "W2Vec_LSTM = Model(inputs=sentence_indices, outputs=X,name='lstm_model_for_word2vec_vector')\n",
    "W2Vec_LSTM.summary()"
   ]
  },
  {
   "cell_type": "code",
   "execution_count": 496,
   "metadata": {},
   "outputs": [],
   "source": [
    "combinedInput = concatenate([modelANN.output,W2Vec_LSTM.output])\n",
    "# our final FC layer head will have two dense layers, the final one\n",
    "x = Dense(7, activation=\"relu\")(combinedInput)\n",
    "x = Dense(3, activation=\"softmax\")(x)\n",
    "Model_lCompined = Model(inputs=[modelANN.input, W2Vec_LSTM.input], outputs=x)"
   ]
  },
  {
   "cell_type": "code",
   "execution_count": 497,
   "metadata": {},
   "outputs": [
    {
     "data": {
      "text/plain": [
       "<tf.Tensor 'dense_15_input:0' shape=(None, 1000) dtype=float32>"
      ]
     },
     "execution_count": 497,
     "metadata": {},
     "output_type": "execute_result"
    }
   ],
   "source": [
    "modelANN.input"
   ]
  },
  {
   "cell_type": "code",
   "execution_count": 498,
   "metadata": {},
   "outputs": [
    {
     "data": {
      "text/plain": [
       "<tf.Tensor 'input_9:0' shape=(None, 30, 300) dtype=float32>"
      ]
     },
     "execution_count": 498,
     "metadata": {},
     "output_type": "execute_result"
    }
   ],
   "source": [
    "W2Vec_LSTM.input"
   ]
  },
  {
   "cell_type": "code",
   "execution_count": 499,
   "metadata": {},
   "outputs": [],
   "source": [
    "lr = 1e-2\n",
    "decay = 1e-3/ 200\n",
    "opt_name = 'Adamax'\n",
    "opt = Adamax(lr=lr, decay=decay)\n",
    "#opt = Adam(lr=1e-4, decay=1e-3 / 200)\n",
    "Model_lCompined.compile(loss='categorical_crossentropy', metrics = ['accuracy'], optimizer=opt)"
   ]
  },
  {
   "cell_type": "code",
   "execution_count": 500,
   "metadata": {},
   "outputs": [
    {
     "name": "stdout",
     "output_type": "stream",
     "text": [
      "Model: \"model_5\"\n",
      "__________________________________________________________________________________________________\n",
      "Layer (type)                    Output Shape         Param #     Connected to                     \n",
      "==================================================================================================\n",
      "input (InputLayer)              [(None, 30, 300)]    0                                            \n",
      "__________________________________________________________________________________________________\n",
      "bidirectional (Bidirectional)   (None, 30, 512)      1140736     input[0][0]                      \n",
      "__________________________________________________________________________________________________\n",
      "global_max_pooling1d (GlobalMax (None, 512)          0           bidirectional[0][0]              \n",
      "__________________________________________________________________________________________________\n",
      "dense_15_input (InputLayer)     [(None, 1000)]       0                                            \n",
      "__________________________________________________________________________________________________\n",
      "dense_17 (Dense)                (None, 300)          153900      global_max_pooling1d[0][0]       \n",
      "__________________________________________________________________________________________________\n",
      "dense_15 (Dense)                (None, 64)           64064       dense_15_input[0][0]             \n",
      "__________________________________________________________________________________________________\n",
      "dropout_6 (Dropout)             (None, 300)          0           dense_17[0][0]                   \n",
      "__________________________________________________________________________________________________\n",
      "dropout_5 (Dropout)             (None, 64)           0           dense_15[0][0]                   \n",
      "__________________________________________________________________________________________________\n",
      "dense_18 (Dense)                (None, 10)           3010        dropout_6[0][0]                  \n",
      "__________________________________________________________________________________________________\n",
      "dense_16 (Dense)                (None, 3)            195         dropout_5[0][0]                  \n",
      "__________________________________________________________________________________________________\n",
      "dense_19 (Dense)                (None, 3)            33          dense_18[0][0]                   \n",
      "__________________________________________________________________________________________________\n",
      "concatenate (Concatenate)       (None, 6)            0           dense_16[0][0]                   \n",
      "                                                                 dense_19[0][0]                   \n",
      "__________________________________________________________________________________________________\n",
      "dense_20 (Dense)                (None, 7)            49          concatenate[0][0]                \n",
      "__________________________________________________________________________________________________\n",
      "dense_21 (Dense)                (None, 3)            24          dense_20[0][0]                   \n",
      "==================================================================================================\n",
      "Total params: 1,362,011\n",
      "Trainable params: 1,362,011\n",
      "Non-trainable params: 0\n",
      "__________________________________________________________________________________________________\n"
     ]
    }
   ],
   "source": [
    "Model_lCompined.summary()"
   ]
  },
  {
   "cell_type": "code",
   "execution_count": 502,
   "metadata": {},
   "outputs": [
    {
     "data": {
      "text/plain": [
       "(array([[0., 0., 1.],\n",
       "        [1., 0., 0.],\n",
       "        [1., 0., 0.],\n",
       "        [0., 1., 0.],\n",
       "        [0., 1., 0.]], dtype=float32),\n",
       " array([[0., 0., 1.],\n",
       "        [1., 0., 0.],\n",
       "        [1., 0., 0.],\n",
       "        [0., 1., 0.],\n",
       "        [0., 1., 0.]], dtype=float32))"
      ]
     },
     "execution_count": 502,
     "metadata": {},
     "output_type": "execute_result"
    }
   ],
   "source": [
    "y_train_V22[:5],y_label_categ_Tf[:5]  # To make sure the 2 lables target are the same"
   ]
  },
  {
   "cell_type": "code",
   "execution_count": 503,
   "metadata": {},
   "outputs": [
    {
     "name": "stdout",
     "output_type": "stream",
     "text": [
      "WARNING:tensorflow:Falling back from v2 loop because of error: Failed to find data adapter that can handle input: (<class 'list'> containing values of types {\"<class 'numpy.ndarray'>\", \"<class 'scipy.sparse.csr.csr_matrix'>\"}), <class 'NoneType'>\n",
      "Train on 1876 samples, validate on 470 samples\n",
      "Epoch 1/15\n",
      "1876/1876 [==============================] - 30s 16ms/sample - loss: 0.9544 - accuracy: 0.3817 - val_loss: 1.0948 - val_accuracy: 0.3830\n",
      "Epoch 2/15\n",
      "1876/1876 [==============================] - 34s 18ms/sample - loss: 0.9313 - accuracy: 0.3993 - val_loss: 1.0328 - val_accuracy: 0.5404\n",
      "Epoch 3/15\n",
      "1876/1876 [==============================] - 36s 19ms/sample - loss: 0.8543 - accuracy: 0.5389 - val_loss: 0.9738 - val_accuracy: 0.5596\n",
      "Epoch 4/15\n",
      "1876/1876 [==============================] - 33s 18ms/sample - loss: 0.7721 - accuracy: 0.5943 - val_loss: 0.9761 - val_accuracy: 0.4979\n",
      "Epoch 5/15\n",
      "1876/1876 [==============================] - 37s 20ms/sample - loss: 0.7201 - accuracy: 0.6151 - val_loss: 0.9920 - val_accuracy: 0.5404\n",
      "Epoch 6/15\n",
      "1876/1876 [==============================] - 37s 20ms/sample - loss: 0.6909 - accuracy: 0.6359 - val_loss: 1.0241 - val_accuracy: 0.4851\n",
      "Epoch 7/15\n",
      "1876/1876 [==============================] - 36s 19ms/sample - loss: 0.6590 - accuracy: 0.6599 - val_loss: 1.0308 - val_accuracy: 0.4745\n",
      "Epoch 8/15\n",
      "1856/1876 [============================>.] - ETA: 0s - loss: 0.6354 - accuracy: 0.6827Restoring model weights from the end of the best epoch.\n",
      "1876/1876 [==============================] - 31s 16ms/sample - loss: 0.6357 - accuracy: 0.6812 - val_loss: 1.0675 - val_accuracy: 0.4851\n",
      "Epoch 00008: early stopping\n"
     ]
    },
    {
     "data": {
      "text/plain": [
       "<tensorflow.python.keras.callbacks.History at 0x205d154b6d8>"
      ]
     },
     "execution_count": 503,
     "metadata": {},
     "output_type": "execute_result"
    }
   ],
   "source": [
    "earlystop = EarlyStopping(monitor='val_loss', patience=5, verbose=2, restore_best_weights=True)\n",
    "\n",
    "# check_point = K.callbacks.ModelCheckpoint(filepath=\"ANN_TFIDF+LSTM_W2Vec.h5\",monitor=\"val_accuracy\",mode=\"max\",save_best_only=True,verbose=1)\n",
    "# callbacks_list = [check_point]\n",
    "\n",
    "Model_lCompined.fit(x=[x_train_Tf, X_train_V22], y=y_train_V22,validation_data=([x_test_Tf, X_val_V22],y_val_V22),epochs=15, batch_size=32,callbacks=[earlystop],class_weight=d_class_weights2, verbose = 1)"
   ]
  },
  {
   "cell_type": "code",
   "execution_count": 504,
   "metadata": {},
   "outputs": [
    {
     "data": {
      "text/plain": [
       "dict_keys(['loss', 'accuracy', 'val_loss', 'val_accuracy'])"
      ]
     },
     "execution_count": 504,
     "metadata": {},
     "output_type": "execute_result"
    }
   ],
   "source": [
    "Model_lCompined.history.history.keys()"
   ]
  },
  {
   "cell_type": "code",
   "execution_count": 507,
   "metadata": {},
   "outputs": [
    {
     "data": {
      "text/plain": [
       "<function matplotlib.pyplot.show(close=None, block=None)>"
      ]
     },
     "execution_count": 507,
     "metadata": {},
     "output_type": "execute_result"
    },
    {
     "data": {
      "image/png": "[encoded data removed]",
      "text/plain": [
       "<Figure size 432x288 with 1 Axes>"
      ]
     },
     "metadata": {
      "needs_background": "light"
     },
     "output_type": "display_data"
    }
   ],
   "source": [
    "loss =Model_lCompined.history.history['loss']\n",
    "val_loss = Model_lCompined.history.history['val_loss']\n",
    "\n",
    "plt.xlabel('Epochs')\n",
    "plt.ylabel('Loss')\n",
    "plt.title('Loss Trend')\n",
    "plt.plot(loss, 'blue', label='Training Loss')\n",
    "plt.plot(val_loss, 'green', label='Validation Loss')\n",
    "plt.xticks(range(0,10)[0::2])\n",
    "plt.legend()\n",
    "plt.show"
   ]
  },
  {
   "cell_type": "code",
   "execution_count": 508,
   "metadata": {},
   "outputs": [
    {
     "data": {
      "image/png": "[encoded data removed]",
      "text/plain": [
       "<Figure size 432x288 with 1 Axes>"
      ]
     },
     "metadata": {
      "needs_background": "light"
     },
     "output_type": "display_data"
    }
   ],
   "source": [
    "# summarize history for accuracy\n",
    "\n",
    "acc = Model_lCompined.history.history['accuracy']\n",
    "val_acc = Model_lCompined.history.history['val_accuracy']\n",
    "plt.xlabel('Epochs')\n",
    "plt.ylabel('Accuracy')\n",
    "plt.title('Accuracy Value')\n",
    "plt.plot(acc, 'blue', label='Training accuracy')\n",
    "plt.plot(val_acc, 'green', label='Validation accuracy')\n",
    "plt.xticks(range(0,10)[0::2])\n",
    "plt.legend()\n",
    "plt.show()"
   ]
  },
  {
   "cell_type": "code",
   "execution_count": 517,
   "metadata": {},
   "outputs": [
    {
     "data": {
      "text/plain": [
       "array([[ 0.06873617,  0.08042627, -0.03261937, ...,  0.01760437,\n",
       "        -0.01342324, -0.11316463],\n",
       "       [ 0.12473334,  0.01613627,  0.06206434, ..., -0.03017362,\n",
       "        -0.08384965,  0.07986228],\n",
       "       [ 0.        ,  0.        ,  0.        , ...,  0.        ,\n",
       "         0.        ,  0.        ],\n",
       "       ...,\n",
       "       [ 0.        ,  0.        ,  0.        , ...,  0.        ,\n",
       "         0.        ,  0.        ],\n",
       "       [ 0.        ,  0.        ,  0.        , ...,  0.        ,\n",
       "         0.        ,  0.        ],\n",
       "       [ 0.        ,  0.        ,  0.        , ...,  0.        ,\n",
       "         0.        ,  0.        ]])"
      ]
     },
     "execution_count": 517,
     "metadata": {},
     "output_type": "execute_result"
    }
   ],
   "source": [
    "X_val_V22[0]"
   ]
  },
  {
   "cell_type": "code",
   "execution_count": 539,
   "metadata": {},
   "outputs": [
    {
     "name": "stdout",
     "output_type": "stream",
     "text": [
      "WARNING:tensorflow:Falling back from v2 loop because of error: Failed to find data adapter that can handle input: (<class 'list'> containing values of types {\"<class 'numpy.ndarray'>\", \"<class 'scipy.sparse.csr.csr_matrix'>\"}), <class 'NoneType'>\n",
      "470/470 [==============================] - 2s 5ms/sample - loss: 0.9738 - accuracy: 0.5596\n",
      "Score: 0.9738\n",
      "Accuracy: 0.5596\n",
      "WARNING:tensorflow:Falling back from v2 loop because of error: Failed to find data adapter that can handle input: (<class 'list'> containing values of types {\"<class 'numpy.ndarray'>\", \"<class 'scipy.sparse.csr.csr_matrix'>\"}), <class 'NoneType'>\n",
      "[[149  45   0]\n",
      " [ 66 114   0]\n",
      " [ 65  31   0]]\n",
      "              precision    recall  f1-score   support\n",
      "\n",
      "           0       0.53      0.77      0.63       194\n",
      "           1       0.60      0.63      0.62       180\n",
      "           2       0.00      0.00      0.00        96\n",
      "\n",
      "    accuracy                           0.56       470\n",
      "   macro avg       0.38      0.47      0.41       470\n",
      "weighted avg       0.45      0.56      0.50       470\n",
      "\n",
      "0.5595744680851064\n"
     ]
    },
    {
     "name": "stderr",
     "output_type": "stream",
     "text": [
      "C:\\Users\\Mohammed\\AppData\\Local\\Continuum\\anaconda3\\lib\\site-packages\\sklearn\\metrics\\_classification.py:1248: UndefinedMetricWarning: Precision and F-score are ill-defined and being set to 0.0 in labels with no predicted samples. Use `zero_division` parameter to control this behavior.\n",
      "  _warn_prf(average, modifier, msg_start, len(result))\n",
      "C:\\Users\\Mohammed\\AppData\\Local\\Continuum\\anaconda3\\lib\\site-packages\\sklearn\\metrics\\_classification.py:1248: UndefinedMetricWarning: Precision and F-score are ill-defined and being set to 0.0 in labels with no predicted samples. Use `zero_division` parameter to control this behavior.\n",
      "  _warn_prf(average, modifier, msg_start, len(result))\n",
      "C:\\Users\\Mohammed\\AppData\\Local\\Continuum\\anaconda3\\lib\\site-packages\\sklearn\\metrics\\_classification.py:1248: UndefinedMetricWarning: Precision and F-score are ill-defined and being set to 0.0 in labels with no predicted samples. Use `zero_division` parameter to control this behavior.\n",
      "  _warn_prf(average, modifier, msg_start, len(result))\n"
     ]
    },
    {
     "data": {
      "image/png": "[encoded data removed]",
      "text/plain": [
       "<Figure size 432x288 with 2 Axes>"
      ]
     },
     "metadata": {
      "needs_background": "light"
     },
     "output_type": "display_data"
    }
   ],
   "source": [
    "# Evaluate model\n",
    "\n",
    "#x_test_Tf = np.array(x_test_Tf)\n",
    "X_val_V22 = np.array(X_val_V22)\n",
    "\n",
    "y_val_V22 = np.array(y_val_V22)\n",
    "score, acc = Model_lCompined.evaluate(x=[x_test_Tf, X_val_V22],y= y_val_V22)\n",
    "\n",
    "print('Score: %1.4f' % score)\n",
    "print('Accuracy: %1.4f' % acc)\n",
    "\n",
    "predictions = Model_lCompined.predict([x_test_Tf, X_val_V22])\n",
    "\n",
    "print(confusion_matrix(y_val_V22.argmax(axis=1),predictions.argmax(axis=1)))  \n",
    "print(classification_report(y_val_V22.argmax(axis=1),predictions.argmax(axis=1)))  \n",
    "print(accuracy_score(y_val_V22.argmax(axis=1), predictions.argmax(axis=1)))\n",
    "plot_cm( y_val_V22.argmax(axis=1),  predictions.argmax(axis=1))"
   ]
  },
  {
   "cell_type": "markdown",
   "metadata": {},
   "source": [
    "#  ****  Start Here To Run Prediction and Load Trained Models  ****"
   ]
  },
  {
   "cell_type": "code",
   "execution_count": 540,
   "metadata": {},
   "outputs": [],
   "source": [
    "pd.set_option('display.max_columns', None)\n",
    "pd.set_option('display.max_rows',None)\n",
    "pd.set_option('display.expand_frame_repr', False)\n",
    "pd.set_option('max_colwidth',None)"
   ]
  },
  {
   "cell_type": "code",
   "execution_count": 541,
   "metadata": {},
   "outputs": [],
   "source": [
    "## -- Word2Vec vectorizer class for classification\n",
    "        \n",
    "class WordVecVectorizer(object):\n",
    "    def __init__(self, word2vec, max_len=30):\n",
    "        self.word2vec = word2vec\n",
    "        self.dim = word2vec.vector_size\n",
    "        self.max_len = max_len\n",
    "\n",
    "    def fit(self, X, y):\n",
    "        return self    \n",
    "\n",
    "    def transform(self, X):\n",
    "        \"\"\"\n",
    "        Transforms a document to one vector of a size = word2vec.vector_size (dim), \n",
    "        by taking the mean of th vectors of every word.\n",
    "        The output size will be of shape (X.shape[0], self.dim).\n",
    "        \"\"\"\n",
    "        return np.array([\n",
    "            np.mean([self.word2vec[w] for w in texts if w in self.word2vec]\n",
    "                    or [1e-12 * np.random.normal(scale=0.6, size=self.dim)], axis=0)\n",
    "            for texts in X\n",
    "        ])\n",
    "        \n",
    "    def instance_transform(self, X):\n",
    "        \"\"\"\n",
    "        Transforms a document to a 3D array based on the word2vec vector transformation of every instance (word),\n",
    "        while the words that exceeds the maximum allowable length (max_len) will be removed.\n",
    "        If the sentance is less than max_len, it will be padded with zeros.\n",
    "        The output size will be of shape (X.shape[0], self.max_len, self.dim).\n",
    "        \"\"\"\n",
    "        return np.array([\n",
    "            [self.word2vec[w] if w in self.word2vec else 1e-12 * np.random.normal(scale=0.0, size=self.dim) for i, w in enumerate(texts.split()) if i<self.max_len] + [1e-12 * np.random.normal(scale=0.0, size=self.dim)]*(self.max_len-min(self.max_len, len(texts.split())))\n",
    "            for texts in X\n",
    "        ])\n"
   ]
  },
  {
   "cell_type": "code",
   "execution_count": 542,
   "metadata": {},
   "outputs": [],
   "source": [
    "def clean_text(text):\n",
    "    # remove tashkeel\n",
    "    #text = strip_tashkeel(text)\n",
    "    # text = qalsadi.lemmatizer.Lemmatizer(text)\n",
    "    # remove repeated\n",
    "    text = re.sub(r'(.)\\1+', r'\\1\\1', text)\n",
    "    text = text.replace('اا', 'ا').replace('وو', 'و').replace('يي', 'ي').replace('رر', 'ر')\n",
    "    text = re.sub(r'((?<=\\A)|(?<=\\s))هه(?=\\s|\\Z)', r'ضحك', text)\n",
    "    text = re.sub(r'ـ', '', text)\n",
    "    # remove punctuations\n",
    "    text = re.sub(r'[^\\w\\sؠ-ي١-٩]', ' ', text) # replace \\w with \\d to filter english letters\n",
    "    text = re.sub(r'_', ' ', text)\n",
    "    text = re.sub(r'/n', ' ', text)\n",
    "    # unifying similar letters\n",
    "    text = re.sub(\"[إأآا]\", \"ا\", text)\n",
    "    text = re.sub('علے', 'على ', text)\n",
    "    text = re.sub(r'ے', '', text)\n",
    "    text = re.sub(\"[ؠىي]\", \"ي\", text)\n",
    "    # text = re.sub(\"يئ\", \"يء\", text)\n",
    "    text = re.sub(\"[ئؽؾؿ]\", \"ئ\", text)# ء\n",
    "    # text = re.sub(\"ؤ\", \"ء\", text)\n",
    "    # text = re.sub(\"ة\", \"ه\", text)\n",
    "    text = re.sub(\"[ؼػگ]\", \"ك\", text)\n",
    "    # separate negation signs\n",
    "    text = re.sub(r'ما(\\w+)ش', r'ما \\1', text)\n",
    "    text = re.sub(r'((?<=\\A)|(?<=\\s)|(?<=و))مش(?=\\s)', r'ما', text)\n",
    "    text = re.sub(r'((?<=\\A)|(?<=\\s)|(?<=و))ليش(?=\\s)', r'ليه', text)\n",
    "    text = re.sub(r'((?<=\\A)|(?<=\\s)|(?<=و))يا(?=\\w)', r'يا ', text)\n",
    "    text = re.sub('شاءالله', ' شاء الله', text)\n",
    "    # remove slang begin marks\n",
    "    text = re.sub(r'((?<=\\A)|(?<=\\s))ه(?=[ايت])', '', text)\n",
    "#     text = re.sub('((?<=\\s)|(?<=\\A))(\\w?ال)(?=\\w{3,})', '', text)\n",
    "#     text = re.sub('((?<=\\s)|(?<=\\A))(لل)(?=\\w{3,})', '', text)\n",
    "    # text = re.sub(r'((?<=\\A)|(?<=\\s))ب(?=[ايت])', '', text)\n",
    "    # text = re.sub(r'((?<=\\A)|(?<=\\s))ا(?=[يت])', '', text)\n",
    "    text = re.sub(r'[^a-zA-Z\\sؠ-ي]', '', text)\n",
    "    text = re.sub(r'[^\\sؠ-ي]', ' ', text)\n",
    "    return \" \".join(text.split())"
   ]
  },
  {
   "cell_type": "code",
   "execution_count": 543,
   "metadata": {},
   "outputs": [],
   "source": [
    "#stop words\n",
    "st = ISRIStemmer()\n",
    "stop=st.stop_words+stopwords.words(\"arabic\")\n",
    "stop=stop+['من','و','علي','اللي','ان','كان','شي','حتي','يعني','انه','فقط','وانا ','اني','ع','ب','طبعا','اي','قبل','انت','ليه','11','تم','وبعد','لكن','زي','م','لم','واللي','او','وقال','انها','انا','بلح','عم','ممكن','ايه','ده','عمو','دي','وانت','الي','ي','ف','طيب','عليكم','السلام','بس','عن','سمحت','رمضان','سنه',' ذالك','ص','اكتر','عشان','حاجه','كده','لو','احنا','ا','تاني','وانا','الا','دا','ال','ل','انك','د','ام','كنت','بقي','سنة','حق','كنت','وكل','ريت','كتير','ريت','حد','كم','لا','لكن','وما','لم','ما','الام', 'عايز' ,'طول' ,'يوم','اريد' ,'لوسمحت', 'الرد' ,'عندكم' ,'عندي' ,'جدا','ارجو','اية', 'فضلك','شهور', 'وفي', 'اذا', 'اقل', 'مفيش' , 'تحت', 'اذا', 'لان', 'حل', 'وعملت' , 'واحد', 'بقالي' ,'وبركاته' ,'موجود' ,'طب' ,'ينفع', 'قالي' ,'بقالي' ,'الان' ,'اخر' ,'علشان', 'عامل' ,'بسيط', 'شهر' ,'اخر', 'مثل', 'نتيجه', 'مجهود' ,'الافاده' ,'دلوقتي' ,'ماهو','سبب', 'تقريبا','خالص' ,'ايام', 'ورحمة', 'سن', 'مريض','لديكم','لاني','شويه','فترة','مين','لازم','كل','كمان'] "
   ]
  },
  {
   "cell_type": "code",
   "execution_count": 544,
   "metadata": {},
   "outputs": [],
   "source": [
    "def load_keras_model(model_name, path='SentimentModels'):\n",
    "    data_path = os.path.join(path, model_name)\n",
    "    with open(os.path.join(data_path, model_name+'_architecture.json'), 'r') as f:\n",
    "        model = model_from_json(f.read())\n",
    "    model.load_weights(os.path.join(data_path, model_name+'_weights.hdf5'))\n",
    "    return model"
   ]
  },
  {
   "cell_type": "markdown",
   "metadata": {},
   "source": [
    "**6. Use sentiment lexicon**"
   ]
  },
  {
   "cell_type": "code",
   "execution_count": 545,
   "metadata": {},
   "outputs": [],
   "source": [
    "lexicon=pd.read_csv('SentimentModels/Full_lexicons.csv')"
   ]
  },
  {
   "cell_type": "code",
   "execution_count": 546,
   "metadata": {},
   "outputs": [],
   "source": [
    "lexicon['lexicon'] = lexicon['lexicon'].astype(str)"
   ]
  },
  {
   "cell_type": "code",
   "execution_count": 547,
   "metadata": {},
   "outputs": [],
   "source": [
    "lexicon['lexicon'] = lexicon['lexicon'].apply(lambda x: x.replace('_', ' '))"
   ]
  },
  {
   "cell_type": "code",
   "execution_count": 552,
   "metadata": {},
   "outputs": [
    {
     "data": {
      "text/html": [
       "<div>\n",
       "<style scoped>\n",
       "    .dataframe tbody tr th:only-of-type {\n",
       "        vertical-align: middle;\n",
       "    }\n",
       "\n",
       "    .dataframe tbody tr th {\n",
       "        vertical-align: top;\n",
       "    }\n",
       "\n",
       "    .dataframe thead th {\n",
       "        text-align: right;\n",
       "    }\n",
       "</style>\n",
       "<table border=\"1\" class=\"dataframe\">\n",
       "  <thead>\n",
       "    <tr style=\"text-align: right;\">\n",
       "      <th></th>\n",
       "      <th>lexicon</th>\n",
       "      <th>polarity</th>\n",
       "      <th>origin</th>\n",
       "    </tr>\n",
       "  </thead>\n",
       "  <tbody>\n",
       "    <tr>\n",
       "      <th>0</th>\n",
       "      <td>ايد</td>\n",
       "      <td>1</td>\n",
       "      <td>KSA</td>\n",
       "    </tr>\n",
       "    <tr>\n",
       "      <th>1</th>\n",
       "      <td>ابارك</td>\n",
       "      <td>1</td>\n",
       "      <td>KSA</td>\n",
       "    </tr>\n",
       "    <tr>\n",
       "      <th>2</th>\n",
       "      <td>ابداع</td>\n",
       "      <td>1</td>\n",
       "      <td>KSA</td>\n",
       "    </tr>\n",
       "    <tr>\n",
       "      <th>3</th>\n",
       "      <td>ابسطنا</td>\n",
       "      <td>1</td>\n",
       "      <td>KSA</td>\n",
       "    </tr>\n",
       "    <tr>\n",
       "      <th>4</th>\n",
       "      <td>ابشركم</td>\n",
       "      <td>1</td>\n",
       "      <td>KSA</td>\n",
       "    </tr>\n",
       "    <tr>\n",
       "      <th>5</th>\n",
       "      <td>ابشرو</td>\n",
       "      <td>1</td>\n",
       "      <td>KSA</td>\n",
       "    </tr>\n",
       "    <tr>\n",
       "      <th>6</th>\n",
       "      <td>ابشروا</td>\n",
       "      <td>1</td>\n",
       "      <td>KSA</td>\n",
       "    </tr>\n",
       "    <tr>\n",
       "      <th>7</th>\n",
       "      <td>اتحدنا</td>\n",
       "      <td>1</td>\n",
       "      <td>KSA</td>\n",
       "    </tr>\n",
       "    <tr>\n",
       "      <th>8</th>\n",
       "      <td>اتشرف</td>\n",
       "      <td>1</td>\n",
       "      <td>KSA</td>\n",
       "    </tr>\n",
       "    <tr>\n",
       "      <th>9</th>\n",
       "      <td>اتلاف</td>\n",
       "      <td>1</td>\n",
       "      <td>KSA</td>\n",
       "    </tr>\n",
       "  </tbody>\n",
       "</table>\n",
       "</div>"
      ],
      "text/plain": [
       "  lexicon  polarity origin\n",
       "0     ايد         1    KSA\n",
       "1   ابارك         1    KSA\n",
       "2   ابداع         1    KSA\n",
       "3  ابسطنا         1    KSA\n",
       "4  ابشركم         1    KSA\n",
       "5   ابشرو         1    KSA\n",
       "6  ابشروا         1    KSA\n",
       "7  اتحدنا         1    KSA\n",
       "8   اتشرف         1    KSA\n",
       "9   اتلاف         1    KSA"
      ]
     },
     "execution_count": 552,
     "metadata": {},
     "output_type": "execute_result"
    }
   ],
   "source": [
    "lexicon.head(10)"
   ]
  },
  {
   "cell_type": "code",
   "execution_count": 549,
   "metadata": {},
   "outputs": [
    {
     "data": {
      "text/plain": [
       "(8640, 1989, 6651, 2489, 8091)"
      ]
     },
     "execution_count": 549,
     "metadata": {},
     "output_type": "execute_result"
    }
   ],
   "source": [
    "Pos_Lexicon=lexicon[lexicon['polarity']==1]\n",
    "Pos_Lexicon_list=list(Pos_Lexicon.lexicon)\n",
    "Pos_Lexicon_list=[word for line in Pos_Lexicon_list for word in line.split()]\n",
    "Neg_Lexicon=lexicon[lexicon['polarity']==-1]\n",
    "Neg_Lexicon_list=list(Neg_Lexicon.lexicon)\n",
    "Neg_Lexicon_list=[word for line in Neg_Lexicon_list for word in line.split()]\n",
    "\n",
    "len(lexicon),len(Pos_Lexicon),len(Neg_Lexicon),len(Pos_Lexicon_list),len(Neg_Lexicon_list)"
   ]
  },
  {
   "cell_type": "code",
   "execution_count": 553,
   "metadata": {},
   "outputs": [],
   "source": [
    "#first Model BOW with LSTM\n",
    "tok = joblib.load('SentimentModels/TokenizerBOW/TokForBOW.pkl')\n",
    "BOW_LSTM_model=load_keras_model(model_name='SentimentBOW_LSTM')\n",
    "#BOW_LSTM_model.compile(loss='categorical_crossentropy',optimizer='adam',metrics=['acc'])\n",
    "\n",
    "##second Model TFIDF with ANN\n",
    "vectorizer = joblib.load('SentimentModels/TFIDF/TFIDF_ForANN.pkl')\n",
    "model_ANN_TFIDF=load_keras_model(model_name='Sentimentmodel_ANN')\n",
    "\n",
    "##Third Model updated W2vec weight with LSTM\n",
    "model_UpdatedW2vec_LSTM=load_keras_model(model_name='W2vecUpdated_LSTM')\n",
    "word2vec_Updated = KeyedVectors.load_word2vec_format('SentimentModels/W2Vec/model_W2vec_CY_V2.bin', binary=True)\n",
    "vec_Updated = WordVecVectorizer(word2vec_Updated)\n",
    "\n",
    "##fourth Model old W2vec  with LSTM\n",
    "model_OldW2vec_LSTM=load_keras_model(model_name='OldW2vec_LSTM')\n",
    "\n",
    "word2vec_Old = KeyedVectors.load_word2vec_format('SentimentModels/W2Vec/w2v_model.bin', binary=True)\n",
    "vec_Old = WordVecVectorizer(word2vec_Old)\n",
    "\n",
    "\n",
    "def remove_Stopwords(sentence):\n",
    "    temp_list=[]\n",
    "    for word in sentence.split():\n",
    "        if word not in stop:\n",
    "            temp_list.append(word)\n",
    "    sentence=' '.join(temp_list)\n",
    "    return sentence\n",
    "    \n",
    "def remove_stopWord_clean(sentence):\n",
    "    sentence=str(sentence)\n",
    "    sentence=clean_text(sentence)\n",
    "    sentence=remove_Stopwords(sentence)\n",
    "    return sentence\n",
    "\n",
    "def Predict_By_BOW_LSTM_model(sentence):     #Score 56 percentage\n",
    "    sentence=remove_stopWord_clean(sentence)\n",
    "    test_seq=pad_sequences(tok.texts_to_sequences([sentence]),maxlen=30)\n",
    "    proba=BOW_LSTM_model.predict_proba(test_seq)\n",
    "    proba1=proba.argmax(axis=1)[0]\n",
    "    if proba1==0:\n",
    "        return 'neg'\n",
    "    elif proba1==1:\n",
    "        return 'pos'\n",
    "    else:\n",
    "        return 'neu'\n",
    "    \n",
    "def Predict_By_model_ANN_TFIDF(sentence): #score 53 percentage\n",
    "    sentence=str(sentence)\n",
    "    sentence=remove_stopWord_clean(sentence)\n",
    "    TFIDF_vector=vectorizer.transform([sentence])\n",
    "    proba=model_ANN_TFIDF.predict_proba(TFIDF_vector)\n",
    "    proba1=proba.argmax(axis=1)[0]\n",
    "    if proba1==0:\n",
    "        return 'neg'\n",
    "    elif proba1==1:\n",
    "        return 'pos'\n",
    "    else:\n",
    "        return 'neu'\n",
    "    \n",
    "def Predict_By_model_W2vecUpdated_LSTM(sentence):  #score 57\n",
    "    sentence=str(sentence)\n",
    "    sentence=remove_stopWord_clean(sentence)\n",
    "    W2VecUpdate_vector=vec_Updated.instance_transform([sentence])\n",
    "    proba=model_UpdatedW2vec_LSTM.predict(W2VecUpdate_vector)[0]\n",
    "    proba1=np.argmax(proba)\n",
    "    if proba1==0:\n",
    "        return 'neg'\n",
    "    elif proba1==1:\n",
    "        return 'pos'\n",
    "    else:\n",
    "        return 'neu'\n",
    "    \n",
    "def Predict_By_model_OldW2vec_LSTM(sentence):  #score 58\n",
    "    sentence=str(sentence)\n",
    "    sentence=remove_stopWord_clean(sentence)\n",
    "    W2VecOld_vector=vec_Old.instance_transform([sentence])\n",
    "    proba=model_OldW2vec_LSTM.predict(W2VecOld_vector)[0]\n",
    "    proba1=np.argmax(proba)\n",
    "    if proba1==0:\n",
    "        return 'neg'\n",
    "    elif proba1==1:\n",
    "        return 'pos'\n",
    "    else:\n",
    "        return 'neu',proba1\n",
    "\n",
    "def jaccard_similarity_Pos_Lexicon(query):  #measure the similarity between each input text and all list_lexion\n",
    "    intersection = set(query.split()).intersection(set(Pos_Lexicon_list))\n",
    "    union = set(query.split()).union(set(Pos_Lexicon_list))\n",
    "    return len(intersection)/len(union)\n",
    "\n",
    "def jaccard_similarity_Neg_Lexicon(query):  #measure the similarity between each input text and all list_lexion\n",
    "    intersection = set(query.split()).intersection(set(Neg_Lexicon_list))\n",
    "    union = set(query.split()).union(set(Neg_Lexicon_list))\n",
    "    return len(intersection)/len(union)\n",
    "\n",
    "def Measure_similarity(query):\n",
    "    query=str(query)\n",
    "    Pos_Score=jaccard_similarity_Pos_Lexicon(query)\n",
    "    Neg_Score=jaccard_similarity_Neg_Lexicon(query)\n",
    "    \n",
    "    if Pos_Score>Neg_Score:\n",
    "        return 'pos'\n",
    "    elif Pos_Score<Neg_Score:\n",
    "         return 'neg'\n",
    "    else:\n",
    "        return 'neu'\n",
    "        \n"
   ]
  },
  {
   "cell_type": "code",
   "execution_count": 580,
   "metadata": {},
   "outputs": [],
   "source": [
    "def predict_Majourity(query):\n",
    "    query=str(query)\n",
    "    vote1=Measure_similarity(query)\n",
    "    vote2=Predict_By_BOW_LSTM_model(query)\n",
    "    vote3=Predict_By_model_ANN_TFIDF(query)\n",
    "    vote4=Predict_By_model_W2vecUpdated_LSTM(query)\n",
    "    vote5=Predict_By_model_OldW2vec_LSTM(query)\n",
    "    allVote=[vote1,vote2,vote3,vote4,vote5]\n",
    "    majority=max(set(allVote), key = allVote.count) #find majority element in a list\n",
    "    \n",
    "    return majority\n",
    "def predict_Majourity_AllVots(query):\n",
    "    query=str(query)\n",
    "    vote1=Measure_similarity(query)\n",
    "    vote2=Predict_By_BOW_LSTM_model(query)\n",
    "    vote3=Predict_By_model_ANN_TFIDF(query)\n",
    "    vote4=Predict_By_model_W2vecUpdated_LSTM(query)\n",
    "    vote5=Predict_By_model_OldW2vec_LSTM(query)\n",
    "    allVote=[vote1,vote2,vote3,vote4,vote5]\n",
    "    majority=max(set(allVote), key = allVote.count) #find majority element in a list\n",
    "    \n",
    "    return majority,allVote    "
   ]
  },
  {
   "cell_type": "code",
   "execution_count": 586,
   "metadata": {},
   "outputs": [
    {
     "data": {
      "text/plain": [
       "('pos', ['pos', 'pos', 'pos', 'pos', 'pos'])"
      ]
     },
     "execution_count": 586,
     "metadata": {},
     "output_type": "execute_result"
    }
   ],
   "source": [
    "predict_Majourity_AllVots('جميله ونظيفة')"
   ]
  },
  {
   "cell_type": "markdown",
   "metadata": {},
   "source": [
    "**predict text data**"
   ]
  },
  {
   "cell_type": "code",
   "execution_count": 567,
   "metadata": {},
   "outputs": [
    {
     "data": {
      "text/html": [
       "<div>\n",
       "<style scoped>\n",
       "    .dataframe tbody tr th:only-of-type {\n",
       "        vertical-align: middle;\n",
       "    }\n",
       "\n",
       "    .dataframe tbody tr th {\n",
       "        vertical-align: top;\n",
       "    }\n",
       "\n",
       "    .dataframe thead th {\n",
       "        text-align: right;\n",
       "    }\n",
       "</style>\n",
       "<table border=\"1\" class=\"dataframe\">\n",
       "  <thead>\n",
       "    <tr style=\"text-align: right;\">\n",
       "      <th></th>\n",
       "      <th>tweet</th>\n",
       "      <th>class</th>\n",
       "    </tr>\n",
       "  </thead>\n",
       "  <tbody>\n",
       "    <tr>\n",
       "      <th>0</th>\n",
       "      <td>' @MaRwaEltantawy1 @MennaAshraf38 صح جدآ :( '</td>\n",
       "      <td>pos</td>\n",
       "    </tr>\n",
       "    <tr>\n",
       "      <th>1</th>\n",
       "      <td>' @muhamsalah صباحك  ود  وصفاء '</td>\n",
       "      <td>pos</td>\n",
       "    </tr>\n",
       "    <tr>\n",
       "      <th>2</th>\n",
       "      <td>' ربنا ينتقم من كل ظالم #معتقلي_الاتحادية '</td>\n",
       "      <td>neg</td>\n",
       "    </tr>\n",
       "    <tr>\n",
       "      <th>3</th>\n",
       "      <td>' مطلعين فرسة من صالة المطار قدامى .. ايه الجمال دا '</td>\n",
       "      <td>pos</td>\n",
       "    </tr>\n",
       "    <tr>\n",
       "      <th>4</th>\n",
       "      <td>' شهر(4) أكتر أكلة مفضلة عندك؟؟ '</td>\n",
       "      <td>neg</td>\n",
       "    </tr>\n",
       "  </tbody>\n",
       "</table>\n",
       "</div>"
      ],
      "text/plain": [
       "                                                   tweet class\n",
       "0          ' @MaRwaEltantawy1 @MennaAshraf38 صح جدآ :( '   pos\n",
       "1                       ' @muhamsalah صباحك  ود  وصفاء '   pos\n",
       "2            ' ربنا ينتقم من كل ظالم #معتقلي_الاتحادية '   neg\n",
       "3  ' مطلعين فرسة من صالة المطار قدامى .. ايه الجمال دا '   pos\n",
       "4                      ' شهر(4) أكتر أكلة مفضلة عندك؟؟ '   neg"
      ]
     },
     "execution_count": 567,
     "metadata": {},
     "output_type": "execute_result"
    }
   ],
   "source": [
    "df_Test=pd.read_csv(\"Final_Test.csv\")\n",
    "\n",
    "CY_trainTest=df_Test #for test the input\n",
    "CY_trainTest.head()"
   ]
  },
  {
   "cell_type": "code",
   "execution_count": 568,
   "metadata": {},
   "outputs": [
    {
     "data": {
      "text/plain": [
       "400"
      ]
     },
     "execution_count": 568,
     "metadata": {},
     "output_type": "execute_result"
    }
   ],
   "source": [
    "len(CY_trainTest)"
   ]
  },
  {
   "cell_type": "code",
   "execution_count": 569,
   "metadata": {},
   "outputs": [
    {
     "data": {
      "text/plain": [
       "'pos'"
      ]
     },
     "execution_count": 569,
     "metadata": {},
     "output_type": "execute_result"
    }
   ],
   "source": [
    "predict_Majourity(CY_trainTest['tweet'].iloc[0])"
   ]
  },
  {
   "cell_type": "code",
   "execution_count": 570,
   "metadata": {},
   "outputs": [
    {
     "data": {
      "text/plain": [
       "400"
      ]
     },
     "execution_count": 570,
     "metadata": {},
     "output_type": "execute_result"
    }
   ],
   "source": [
    "#build list of test text\n",
    "test_list=list(CY_trainTest['tweet'])\n",
    "len(test_list)"
   ]
  },
  {
   "cell_type": "code",
   "execution_count": 571,
   "metadata": {},
   "outputs": [
    {
     "name": "stderr",
     "output_type": "stream",
     "text": [
      "100%|███████████████████████████████████████████████████████████████████████| 400/400 [00:11<00:00, 35.61it/s]\n"
     ]
    }
   ],
   "source": [
    "predict_list=[]\n",
    "for sent in tqdm(range(len(test_list))):\n",
    "    predict_list.append(predict_Majourity(test_list[sent]))"
   ]
  },
  {
   "cell_type": "code",
   "execution_count": 572,
   "metadata": {},
   "outputs": [],
   "source": [
    "CY_trainTest1=CY_trainTest.copy()"
   ]
  },
  {
   "cell_type": "code",
   "execution_count": 573,
   "metadata": {},
   "outputs": [],
   "source": [
    "#creat new column with predicted values\n",
    "CY_trainTest1['pred'] = np.asarray(predict_list).flatten()\n"
   ]
  },
  {
   "cell_type": "code",
   "execution_count": 574,
   "metadata": {},
   "outputs": [
    {
     "data": {
      "text/html": [
       "<div>\n",
       "<style scoped>\n",
       "    .dataframe tbody tr th:only-of-type {\n",
       "        vertical-align: middle;\n",
       "    }\n",
       "\n",
       "    .dataframe tbody tr th {\n",
       "        vertical-align: top;\n",
       "    }\n",
       "\n",
       "    .dataframe thead th {\n",
       "        text-align: right;\n",
       "    }\n",
       "</style>\n",
       "<table border=\"1\" class=\"dataframe\">\n",
       "  <thead>\n",
       "    <tr style=\"text-align: right;\">\n",
       "      <th></th>\n",
       "      <th>tweet</th>\n",
       "      <th>class</th>\n",
       "      <th>pred</th>\n",
       "    </tr>\n",
       "  </thead>\n",
       "  <tbody>\n",
       "    <tr>\n",
       "      <th>0</th>\n",
       "      <td>' @MaRwaEltantawy1 @MennaAshraf38 صح جدآ :( '</td>\n",
       "      <td>pos</td>\n",
       "      <td>pos</td>\n",
       "    </tr>\n",
       "    <tr>\n",
       "      <th>1</th>\n",
       "      <td>' @muhamsalah صباحك  ود  وصفاء '</td>\n",
       "      <td>pos</td>\n",
       "      <td>pos</td>\n",
       "    </tr>\n",
       "    <tr>\n",
       "      <th>2</th>\n",
       "      <td>' ربنا ينتقم من كل ظالم #معتقلي_الاتحادية '</td>\n",
       "      <td>neg</td>\n",
       "      <td>pos</td>\n",
       "    </tr>\n",
       "    <tr>\n",
       "      <th>3</th>\n",
       "      <td>' مطلعين فرسة من صالة المطار قدامى .. ايه الجمال دا '</td>\n",
       "      <td>pos</td>\n",
       "      <td>pos</td>\n",
       "    </tr>\n",
       "    <tr>\n",
       "      <th>4</th>\n",
       "      <td>' شهر(4) أكتر أكلة مفضلة عندك؟؟ '</td>\n",
       "      <td>neg</td>\n",
       "      <td>neu</td>\n",
       "    </tr>\n",
       "    <tr>\n",
       "      <th>5</th>\n",
       "      <td>' رب واحد ايمان واحد معمودية واحدة http://t.co/fDZNoDrFqf '</td>\n",
       "      <td>neu</td>\n",
       "      <td>pos</td>\n",
       "    </tr>\n",
       "    <tr>\n",
       "      <th>6</th>\n",
       "      <td>' البنت دى و أمثالها لازم يغنوا و يملوا الكون بغناهم نغسي نعلى بقى و مصر ترجع زى زمان كلها فن و رقى.. '</td>\n",
       "      <td>pos</td>\n",
       "      <td>pos</td>\n",
       "    </tr>\n",
       "    <tr>\n",
       "      <th>7</th>\n",
       "      <td>' يا ابنى انتو وهو زمالك مين وانبى مين  لسه فاضل 24ماتش  الدورى بتاعنا يا خروف منك ليه #اﻻهلى '</td>\n",
       "      <td>neg</td>\n",
       "      <td>neg</td>\n",
       "    </tr>\n",
       "    <tr>\n",
       "      <th>8</th>\n",
       "      <td>' يا حبيبتي البعد ناار قلبي داب من الانتظار ♡ '</td>\n",
       "      <td>pos</td>\n",
       "      <td>pos</td>\n",
       "    </tr>\n",
       "    <tr>\n",
       "      <th>9</th>\n",
       "      <td>' سرعة البديهه و حسن التصرف المتلازمه الانجح و الاكثر ابهارا بنسبالي '</td>\n",
       "      <td>neu</td>\n",
       "      <td>pos</td>\n",
       "    </tr>\n",
       "    <tr>\n",
       "      <th>10</th>\n",
       "      <td>' انا قلبي عليييك .. عليك قلبي '</td>\n",
       "      <td>pos</td>\n",
       "      <td>pos</td>\n",
       "    </tr>\n",
       "    <tr>\n",
       "      <th>11</th>\n",
       "      <td>' @1987Assy  3 وكما أننا نسعد أن نري كل العالم بخير وسلام وآمان '</td>\n",
       "      <td>pos</td>\n",
       "      <td>neu</td>\n",
       "    </tr>\n",
       "    <tr>\n",
       "      <th>12</th>\n",
       "      <td>' \"\"\"@horyagana ان شاء الله ، النصر من عند الله والظلم مهما طاااااااااااال لابد من حلول العدل وأنتصار العدل والحق في النهاية هي دي قاعده المسلم\"\"\"\" '</td>\n",
       "      <td>pos</td>\n",
       "      <td>pos</td>\n",
       "    </tr>\n",
       "    <tr>\n",
       "      <th>13</th>\n",
       "      <td>' انا اللي من كتر ما اتقلي يا فاشل حاسيس اني فاشلت بجد '</td>\n",
       "      <td>neg</td>\n",
       "      <td>neg</td>\n",
       "    </tr>\n",
       "    <tr>\n",
       "      <th>14</th>\n",
       "      <td>' صبح علي جيرانك مثﻻ '</td>\n",
       "      <td>pos</td>\n",
       "      <td>neu</td>\n",
       "    </tr>\n",
       "    <tr>\n",
       "      <th>15</th>\n",
       "      <td>' علي عجينه وسيكا اخلاء سبيل ..بس لسه مخرجوش ..يارب الليله يكونو في بيوتهم '</td>\n",
       "      <td>pos</td>\n",
       "      <td>neg</td>\n",
       "    </tr>\n",
       "    <tr>\n",
       "      <th>16</th>\n",
       "      <td>' تدابير سير على الطريق البحرية ليلة رأس السنة http://t.co/YQyiM9jJiH '</td>\n",
       "      <td>neu</td>\n",
       "      <td>pos</td>\n",
       "    </tr>\n",
       "    <tr>\n",
       "      <th>17</th>\n",
       "      <td>' مش فاهم مش فاهم مش فاهم مش فاهم مش فاهم مش فاهم مش فاهم مش فاهم مش فاهم مش فاهم مش فاهم مش فاهم مش فاهم مش فاهم مش فاهم مش فاهم مش فاهم '</td>\n",
       "      <td>neg</td>\n",
       "      <td>pos</td>\n",
       "    </tr>\n",
       "    <tr>\n",
       "      <th>18</th>\n",
       "      <td>' ما تسترجل يا ابن بت المرة الخول انت وهو '</td>\n",
       "      <td>neg</td>\n",
       "      <td>neg</td>\n",
       "    </tr>\n",
       "    <tr>\n",
       "      <th>19</th>\n",
       "      <td>' كفايه صدمات يا كلااااااااب! '</td>\n",
       "      <td>neg</td>\n",
       "      <td>neg</td>\n",
       "    </tr>\n",
       "    <tr>\n",
       "      <th>20</th>\n",
       "      <td>' الجيش الباكستاني يعلن مقتل 23 مسلحا في غارات شنتها الطائرات الحربية #CBCeXtra '</td>\n",
       "      <td>neu</td>\n",
       "      <td>neu</td>\n",
       "    </tr>\n",
       "    <tr>\n",
       "      <th>21</th>\n",
       "      <td>' @lolo00o3 @yazn200077 هما بقوا بيتكلموا مع بعض شكل دعاء اصلا متعرفش ايه اللى حصل وهى بره مشفتش حاجه #DoaaElSebaii #StaracArabia '</td>\n",
       "      <td>neu</td>\n",
       "      <td>neu</td>\n",
       "    </tr>\n",
       "    <tr>\n",
       "      <th>22</th>\n",
       "      <td>' الشناوي هيلعب ماتش بتروجيت '</td>\n",
       "      <td>neu</td>\n",
       "      <td>neu</td>\n",
       "    </tr>\n",
       "    <tr>\n",
       "      <th>23</th>\n",
       "      <td>' \"#الوطن   وزير الشباب: #السيسي اقترح الاستعانة بـ\\\"\"الأولتراس\\\"\" لافتتاح #قناة_السويس http://t.co/W4qwOgvKwz '</td>\n",
       "      <td>neu</td>\n",
       "      <td>neu</td>\n",
       "    </tr>\n",
       "    <tr>\n",
       "      <th>24</th>\n",
       "      <td>' @Golden_Knight14 الراجل واقف متكدر أصلاً '</td>\n",
       "      <td>neg</td>\n",
       "      <td>neg</td>\n",
       "    </tr>\n",
       "    <tr>\n",
       "      <th>25</th>\n",
       "      <td>' \"\"\"شهوة الجوع، تتغلب احياناً ع الشهوه الجنسيه!!\"\"\"\" '</td>\n",
       "      <td>neu</td>\n",
       "      <td>neg</td>\n",
       "    </tr>\n",
       "    <tr>\n",
       "      <th>26</th>\n",
       "      <td>' مـحتاج لعنـيك يا ليـل❤. '</td>\n",
       "      <td>pos</td>\n",
       "      <td>neg</td>\n",
       "    </tr>\n",
       "    <tr>\n",
       "      <th>27</th>\n",
       "      <td>' دمتم سالمين '</td>\n",
       "      <td>pos</td>\n",
       "      <td>neg</td>\n",
       "    </tr>\n",
       "    <tr>\n",
       "      <th>28</th>\n",
       "      <td>' \"\"\"اللهم اكتب لي ماهو خير لي ، وارضني به.\"\"\"\" '</td>\n",
       "      <td>pos</td>\n",
       "      <td>pos</td>\n",
       "    </tr>\n",
       "    <tr>\n",
       "      <th>29</th>\n",
       "      <td>' انصرنا انصرنا يارب انصرنااااا '</td>\n",
       "      <td>pos</td>\n",
       "      <td>pos</td>\n",
       "    </tr>\n",
       "    <tr>\n",
       "      <th>30</th>\n",
       "      <td>' @AliEngmohammed8 فندق اتلانتس '</td>\n",
       "      <td>neu</td>\n",
       "      <td>neu</td>\n",
       "    </tr>\n",
       "    <tr>\n",
       "      <th>31</th>\n",
       "      <td>' رنا سماحة عنوان لفن فهى لديها موهبة شاملة #رنا_سماحة_في_إنت_حر '</td>\n",
       "      <td>pos</td>\n",
       "      <td>pos</td>\n",
       "    </tr>\n",
       "    <tr>\n",
       "      <th>32</th>\n",
       "      <td>' \"\"\"@Shaza231 @a_yousseef @Shaza231 رضا و أحمد سمير و محسن و عبد الغنى، بس شوفى حد math 1 عشان بيدى math 2 بس، العيال هياخدوا مع عزت تقريبا\"\"\"\" '</td>\n",
       "      <td>neu</td>\n",
       "      <td>pos</td>\n",
       "    </tr>\n",
       "    <tr>\n",
       "      <th>33</th>\n",
       "      <td>' @anosh221123 سلام '</td>\n",
       "      <td>neu</td>\n",
       "      <td>neg</td>\n",
       "    </tr>\n",
       "    <tr>\n",
       "      <th>34</th>\n",
       "      <td>' @AdhamHindawi أستاذ محماه كان كده ياعم :D '</td>\n",
       "      <td>neu</td>\n",
       "      <td>pos</td>\n",
       "    </tr>\n",
       "    <tr>\n",
       "      <th>35</th>\n",
       "      <td>' \"#اتفرج.. فيديو: \\\"\"الطب الشرعي\\\"\" يكشف الستار عن عدد حالات الانتحار في #مصر  شاهد الفيديو.. http://t.co/YjEjo4nN3a http://t.co/PHjcPQtDU4 '</td>\n",
       "      <td>neu</td>\n",
       "      <td>pos</td>\n",
       "    </tr>\n",
       "    <tr>\n",
       "      <th>36</th>\n",
       "      <td>' بتضحك وعينيها كلها دمووووع نعم يا سادة انا اعشق شيرين يحيى #ShereenYehia  #مكملين_مع_شيرين #StaracArabia http://t.co/eaH22de8Gf '</td>\n",
       "      <td>pos</td>\n",
       "      <td>pos</td>\n",
       "    </tr>\n",
       "    <tr>\n",
       "      <th>37</th>\n",
       "      <td>' @SeyALY انت مقتنع طيب بللي بتقولوا دا؟ '</td>\n",
       "      <td>neg</td>\n",
       "      <td>neg</td>\n",
       "    </tr>\n",
       "    <tr>\n",
       "      <th>38</th>\n",
       "      <td>' #افضل_الصور_اﻻرسناليه_فى_2014 هشتاق جديد الكل ينزل افضل صور لديه '</td>\n",
       "      <td>neu</td>\n",
       "      <td>pos</td>\n",
       "    </tr>\n",
       "    <tr>\n",
       "      <th>39</th>\n",
       "      <td>' #RanaSamahaTeam @ranasamaha9t اجمل النظرات.... نظره من العين الى العين http://t.co/Iyy1nookRz '</td>\n",
       "      <td>pos</td>\n",
       "      <td>pos</td>\n",
       "    </tr>\n",
       "    <tr>\n",
       "      <th>40</th>\n",
       "      <td>' @ba7r_ahmed ميرسي بجد !! '</td>\n",
       "      <td>pos</td>\n",
       "      <td>pos</td>\n",
       "    </tr>\n",
       "    <tr>\n",
       "      <th>41</th>\n",
       "      <td>' #MinaAtta_on_cbc  مينا عطا ايه دا بقا دا بقا دا بقا دا http://t.co/6wdplzEZ9m '</td>\n",
       "      <td>pos</td>\n",
       "      <td>neg</td>\n",
       "    </tr>\n",
       "    <tr>\n",
       "      <th>42</th>\n",
       "      <td>' \"I\\\"\"m at North Marka ماركا الشمالية in Amman https://t.co/W9Sy1CIkph '</td>\n",
       "      <td>neu</td>\n",
       "      <td>neu</td>\n",
       "    </tr>\n",
       "    <tr>\n",
       "      <th>43</th>\n",
       "      <td>' \"\"\"الحياةُ بالقُرب من الله حياة مُطمئنة ، محفوفة بالتوفيق ، و مُزّينة بالرِّضا ، ومليئةٌ بالسّعادة ، عِشْ تلك الحياة ولك الهَناءُ أبدًا\"\"\"\" '</td>\n",
       "      <td>pos</td>\n",
       "      <td>pos</td>\n",
       "    </tr>\n",
       "    <tr>\n",
       "      <th>44</th>\n",
       "      <td>' \"فترة اللجوء الى \\\"\"صلاح\\\"\" اللى هو انا يعنى بتخلينى اعدى حاجات كتير بفضل ربنا عليا ..:)) '</td>\n",
       "      <td>pos</td>\n",
       "      <td>neg</td>\n",
       "    </tr>\n",
       "    <tr>\n",
       "      <th>45</th>\n",
       "      <td>' @PSH_Supporters  مــن اجــمــل النــآس اللـى شــوفـتــهــآ فـ حــيــآتــى واللــه .. حــآجــة صغـنــنــة كتــهـ ♥♥♥ #بــآركـ_شــيـن_هــآى ♥♥ '</td>\n",
       "      <td>pos</td>\n",
       "      <td>neu</td>\n",
       "    </tr>\n",
       "    <tr>\n",
       "      <th>46</th>\n",
       "      <td>' \"المشغول بك سيصنع وقتاً من أجلك♥ والمشغول عنك سيستغل أي حدث لينصرف عنك !\\\"\" '</td>\n",
       "      <td>neu</td>\n",
       "      <td>pos</td>\n",
       "    </tr>\n",
       "    <tr>\n",
       "      <th>47</th>\n",
       "      <td>' أنظر في قلبك ستراني ! '</td>\n",
       "      <td>pos</td>\n",
       "      <td>pos</td>\n",
       "    </tr>\n",
       "    <tr>\n",
       "      <th>48</th>\n",
       "      <td>' من يملك الأخلاق والأدب يسكن في القلوب إلى الأدب '</td>\n",
       "      <td>pos</td>\n",
       "      <td>neu</td>\n",
       "    </tr>\n",
       "    <tr>\n",
       "      <th>49</th>\n",
       "      <td>' @Elham_khafagy لأ الجو حلو النهارده .. وخاصه ع السطوح :D فى شمس حلوه بجد '</td>\n",
       "      <td>pos</td>\n",
       "      <td>pos</td>\n",
       "    </tr>\n",
       "    <tr>\n",
       "      <th>50</th>\n",
       "      <td>' @lsref_samera الحمدلله على الصحه والعافيه الله يديمها علينا ☝️ '</td>\n",
       "      <td>pos</td>\n",
       "      <td>pos</td>\n",
       "    </tr>\n",
       "    <tr>\n",
       "      <th>51</th>\n",
       "      <td>' \"\"\"ولا عارفه احل شي، اكلت هوا\"\"\"\" '</td>\n",
       "      <td>neg</td>\n",
       "      <td>neg</td>\n",
       "    </tr>\n",
       "    <tr>\n",
       "      <th>52</th>\n",
       "      <td>' @I__Divo @Pinar_Gika17 طب ايه السبب في انهم يعتقلو '</td>\n",
       "      <td>neg</td>\n",
       "      <td>neu</td>\n",
       "    </tr>\n",
       "    <tr>\n",
       "      <th>53</th>\n",
       "      <td>' #ArabsGotTalent ميرسى بيكوو '</td>\n",
       "      <td>pos</td>\n",
       "      <td>pos</td>\n",
       "    </tr>\n",
       "    <tr>\n",
       "      <th>54</th>\n",
       "      <td>' \"ليث وابتسام واشراق دودو  ❤❤ #DoaaElSebaii  #LaithAbuJoda  #Ibtissamtiskat  #IchrakGmar http://t.co/gaACFKAUKX\\\"\" '</td>\n",
       "      <td>pos</td>\n",
       "      <td>neu</td>\n",
       "    </tr>\n",
       "    <tr>\n",
       "      <th>55</th>\n",
       "      <td>' @NNevenadel دايما منوره الدنيا '</td>\n",
       "      <td>pos</td>\n",
       "      <td>neg</td>\n",
       "    </tr>\n",
       "    <tr>\n",
       "      <th>56</th>\n",
       "      <td>' الصلاه يا عباد الله.... '</td>\n",
       "      <td>neu</td>\n",
       "      <td>pos</td>\n",
       "    </tr>\n",
       "    <tr>\n",
       "      <th>57</th>\n",
       "      <td>' \"\"\"@elissakh عايشه حاله حب معاك وخداني ،،،،، ❤❤❤\"\"\"\" '</td>\n",
       "      <td>pos</td>\n",
       "      <td>pos</td>\n",
       "    </tr>\n",
       "    <tr>\n",
       "      <th>58</th>\n",
       "      <td>' @AmsloughAsmae محمد عساف.. بطاقات حفله الكبير ليلة رأس السنة نفذت بالكامل!  http://t.co/AdUChSrUc2 '</td>\n",
       "      <td>neu</td>\n",
       "      <td>pos</td>\n",
       "    </tr>\n",
       "    <tr>\n",
       "      <th>59</th>\n",
       "      <td>' ﻟـﻦ ﻳـﺬﻫـﺐ ﻟـﻐـﻴـﺮﮒ ﺷـﮯﺀ ﻗـﺪ ﮔـﺘـﺒـﮧ ﺁﻟﻠﻪ ﻟـﮓ #ﺛق ﺑﺎلله '</td>\n",
       "      <td>neu</td>\n",
       "      <td>neu</td>\n",
       "    </tr>\n",
       "    <tr>\n",
       "      <th>60</th>\n",
       "      <td>' #القدس أكد خالد الصياد مسؤول تجمع قدسنا الرياضي  ان 4فرق مقدسية تتنافس يوم الاثنين على كأس الانطلاقة تي تنظمها الاكاديمية الفلسطينية '</td>\n",
       "      <td>neu</td>\n",
       "      <td>neu</td>\n",
       "    </tr>\n",
       "    <tr>\n",
       "      <th>61</th>\n",
       "      <td>' عذرا نويتن ف رنا سماحة سر الجاذبية #رنا_سماحة_في_إنت_حر '</td>\n",
       "      <td>pos</td>\n",
       "      <td>pos</td>\n",
       "    </tr>\n",
       "    <tr>\n",
       "      <th>62</th>\n",
       "      <td>' هلا http://t.co/VJUTCLUkXY '</td>\n",
       "      <td>pos</td>\n",
       "      <td>neg</td>\n",
       "    </tr>\n",
       "    <tr>\n",
       "      <th>63</th>\n",
       "      <td>' الحمدلله انا بطلت اسب الدين '</td>\n",
       "      <td>pos</td>\n",
       "      <td>pos</td>\n",
       "    </tr>\n",
       "    <tr>\n",
       "      <th>64</th>\n",
       "      <td>' خسرنا جولة من الجولات مش ١١ سنه ياخولات '</td>\n",
       "      <td>neg</td>\n",
       "      <td>pos</td>\n",
       "    </tr>\n",
       "    <tr>\n",
       "      <th>65</th>\n",
       "      <td>' @Mrim_AZ  البت لونها حلو اوووى '</td>\n",
       "      <td>pos</td>\n",
       "      <td>pos</td>\n",
       "    </tr>\n",
       "    <tr>\n",
       "      <th>66</th>\n",
       "      <td>' انا ضد العزل السياسي الي مش اخوان بس يحبهم  ينزل الانتخابات و احمد عز و رجالة الحزب الوطني ينزلو الانتخابات '</td>\n",
       "      <td>neg</td>\n",
       "      <td>pos</td>\n",
       "    </tr>\n",
       "    <tr>\n",
       "      <th>67</th>\n",
       "      <td>' مش من حقك تعرف ...يا حبيبي ! '</td>\n",
       "      <td>neg</td>\n",
       "      <td>pos</td>\n",
       "    </tr>\n",
       "    <tr>\n",
       "      <th>68</th>\n",
       "      <td>' @EslaMagdi وصحيح تتوقع ايه فى البوكسينج داى ؟ '</td>\n",
       "      <td>neu</td>\n",
       "      <td>neg</td>\n",
       "    </tr>\n",
       "    <tr>\n",
       "      <th>69</th>\n",
       "      <td>' \"\"\"من يحبّك حقاً لن يجرؤ على مرور الوقت بدونك ، سَ يحن ، سَ يشتاق ، سَ يتألم ، سَ يصّنع المستحيل ليحادثكَ !\"\"\"\" '</td>\n",
       "      <td>pos</td>\n",
       "      <td>pos</td>\n",
       "    </tr>\n",
       "    <tr>\n",
       "      <th>70</th>\n",
       "      <td>' نُبتلي لعلنا من الذنوب نفيق '</td>\n",
       "      <td>pos</td>\n",
       "      <td>neg</td>\n",
       "    </tr>\n",
       "    <tr>\n",
       "      <th>71</th>\n",
       "      <td>' احتفال عائلة راديا نينجولان بعيد الميلاد http://t.co/fbLe0jS1in '</td>\n",
       "      <td>neu</td>\n",
       "      <td>neu</td>\n",
       "    </tr>\n",
       "    <tr>\n",
       "      <th>72</th>\n",
       "      <td>' @mahmoudessmaiel @TahrirLive فين الخلاف الاخوان والاسلامجية نفس الفكر اليميني الرأسمالي ولا حضرتك مش واخد بالك '</td>\n",
       "      <td>neu</td>\n",
       "      <td>neg</td>\n",
       "    </tr>\n",
       "    <tr>\n",
       "      <th>73</th>\n",
       "      <td>' فـى حـبـك كـل يـوم فـى جـديـد ولـو تـوحـشـنـى وآنـت بـعـيـد  بـالأحـسـااس بـنـتـلاقـى مـفـيـش حـاجـة أسـمـهـا مـواعــيـد '</td>\n",
       "      <td>pos</td>\n",
       "      <td>neg</td>\n",
       "    </tr>\n",
       "    <tr>\n",
       "      <th>74</th>\n",
       "      <td>' مينا عطا ممكن حد يجبلي رابط اي حساب بينزل صور الطلاب وهما بالسهره لاني عايزه اشوف مينا '</td>\n",
       "      <td>neu</td>\n",
       "      <td>neg</td>\n",
       "    </tr>\n",
       "    <tr>\n",
       "      <th>75</th>\n",
       "      <td>' يارب  خذ بيدى                 رب  أحفظنى من الشياطين أنسهم  وجنهم رب  أشفينى  وأشف كل مريض '</td>\n",
       "      <td>pos</td>\n",
       "      <td>pos</td>\n",
       "    </tr>\n",
       "    <tr>\n",
       "      <th>76</th>\n",
       "      <td>' \"\"\"انا شئ مزعج فى الحياة،،، فلا تقتربوا يا ملائيكه.\"\"\"\" '</td>\n",
       "      <td>neg</td>\n",
       "      <td>neu</td>\n",
       "    </tr>\n",
       "    <tr>\n",
       "      <th>77</th>\n",
       "      <td>' عن الراحه النفسيه لاحد معين ! #thebesttt❤️ '</td>\n",
       "      <td>pos</td>\n",
       "      <td>neg</td>\n",
       "    </tr>\n",
       "    <tr>\n",
       "      <th>78</th>\n",
       "      <td>' @lazyboy014 اهبل !!  انتبتلعب في عداد عمرك يا عبهادي  بس انا برده منور  :D '</td>\n",
       "      <td>neg</td>\n",
       "      <td>neu</td>\n",
       "    </tr>\n",
       "    <tr>\n",
       "      <th>79</th>\n",
       "      <td>' @ameeallam الثانوية دى بتنمى الغباء '</td>\n",
       "      <td>neg</td>\n",
       "      <td>neg</td>\n",
       "    </tr>\n",
       "    <tr>\n",
       "      <th>80</th>\n",
       "      <td>' العشرى جون #الزمالك الاول جول واحمد الله لانها لم يحتسب كاد انا يغير الناتيجه  احا نعملكوا ايه تانى يا ولاد المره  عوزين حكم من الصين حكم مع '</td>\n",
       "      <td>neg</td>\n",
       "      <td>pos</td>\n",
       "    </tr>\n",
       "    <tr>\n",
       "      <th>81</th>\n",
       "      <td>' \"\\\"\"اعلم أنك إذا قلت حق تريد به وجه الله فلا بد أن يُؤثر.. حتى لو رُد أمامك!\\\"\" '</td>\n",
       "      <td>pos</td>\n",
       "      <td>neg</td>\n",
       "    </tr>\n",
       "    <tr>\n",
       "      <th>82</th>\n",
       "      <td>' انتو بقيتوا منتشرين كده ليه '</td>\n",
       "      <td>neu</td>\n",
       "      <td>neg</td>\n",
       "    </tr>\n",
       "    <tr>\n",
       "      <th>83</th>\n",
       "      <td>' \"\"\"قال أبو الحسن المزين : الذنب بعد الذنب عقوبة الذنب ، والحسنة بعد الحسنة ثواب الحسنة .”\"\"\"\" '</td>\n",
       "      <td>neu</td>\n",
       "      <td>neg</td>\n",
       "    </tr>\n",
       "    <tr>\n",
       "      <th>84</th>\n",
       "      <td>' @SAMIAHMED902YAH وانت طيب سامي وبالخير عليك '</td>\n",
       "      <td>pos</td>\n",
       "      <td>pos</td>\n",
       "    </tr>\n",
       "    <tr>\n",
       "      <th>85</th>\n",
       "      <td>' ان جيت اكلمك .. ارجع و انا كلي خووف و ان قولت اكتب رسااله .. تهرب مني الحرووف !! ♥ '</td>\n",
       "      <td>pos</td>\n",
       "      <td>neg</td>\n",
       "    </tr>\n",
       "    <tr>\n",
       "      <th>86</th>\n",
       "      <td>' @kermit_i ما انا دراعك اليمين يا كبير '</td>\n",
       "      <td>neu</td>\n",
       "      <td>pos</td>\n",
       "    </tr>\n",
       "    <tr>\n",
       "      <th>87</th>\n",
       "      <td>' تعبت بقى يا ربي  يومين مش بنام بسبب حتة لوجو ؟! ده انت ولا منك رسمة ولا منك كتابة اصلا يا لوجو يا #معفن '</td>\n",
       "      <td>neg</td>\n",
       "      <td>pos</td>\n",
       "    </tr>\n",
       "    <tr>\n",
       "      <th>88</th>\n",
       "      <td>' عشان محدش يزعل على الحلوة والمرة معاة #الاهلى_فى_القلب https://t.co/lQd2VWaPnh '</td>\n",
       "      <td>pos</td>\n",
       "      <td>pos</td>\n",
       "    </tr>\n",
       "    <tr>\n",
       "      <th>89</th>\n",
       "      <td>' جيرارد يرحل عن ليفربول في نهاية الموسم #أخبار_رياضية #جيرارد #ليفربول  http://t.co/GR0VdIg4Nw http://t.co/rzu1FqGouE '</td>\n",
       "      <td>neu</td>\n",
       "      <td>neu</td>\n",
       "    </tr>\n",
       "    <tr>\n",
       "      <th>90</th>\n",
       "      <td>' عادي جدا انك تحب حد من غير سبب  علشان الحب نفسه هو حب كدا من غير إزاي وليه '</td>\n",
       "      <td>pos</td>\n",
       "      <td>neg</td>\n",
       "    </tr>\n",
       "    <tr>\n",
       "      <th>91</th>\n",
       "      <td>' \"\"\"\\\"\"أخٌ كالغذاء،تحتاج له دائماً و أخٌ كالدواء،تحتاج له أحياناً، و أخٌ كالداء،لا تحتاج إليه أبداً\\\"\" #مصطفى_محمود  أهو أنا بحب أكون رقم 2 ده فشخ!\"\"\"\" '</td>\n",
       "      <td>neu</td>\n",
       "      <td>pos</td>\n",
       "    </tr>\n",
       "    <tr>\n",
       "      <th>92</th>\n",
       "      <td>' #prt اوسكار احسن اب. '</td>\n",
       "      <td>pos</td>\n",
       "      <td>pos</td>\n",
       "    </tr>\n",
       "    <tr>\n",
       "      <th>93</th>\n",
       "      <td>' #نقطة_ضعف_الشاب العيون الجميلة... '</td>\n",
       "      <td>pos</td>\n",
       "      <td>neu</td>\n",
       "    </tr>\n",
       "    <tr>\n",
       "      <th>94</th>\n",
       "      <td>' اه علي الجامعة و امتحانات الجامعة '</td>\n",
       "      <td>neg</td>\n",
       "      <td>neg</td>\n",
       "    </tr>\n",
       "    <tr>\n",
       "      <th>95</th>\n",
       "      <td>' @m_alsanusi فيلم مسدسات شكله '</td>\n",
       "      <td>neu</td>\n",
       "      <td>pos</td>\n",
       "    </tr>\n",
       "    <tr>\n",
       "      <th>96</th>\n",
       "      <td>' احنا فى زمن العجائب #اة_واللة '</td>\n",
       "      <td>neu</td>\n",
       "      <td>neg</td>\n",
       "    </tr>\n",
       "    <tr>\n",
       "      <th>97</th>\n",
       "      <td>' قلبك ملكك متشغلوش باى حد ♥ '</td>\n",
       "      <td>pos</td>\n",
       "      <td>neu</td>\n",
       "    </tr>\n",
       "    <tr>\n",
       "      <th>98</th>\n",
       "      <td>' #شي_تتمنى_يصير_في_2015 الإهتمام بما يخدم المواطن ك التعليم والصحة والبنى التحتية وبناء مستشفيات في القرى أكثر مافي المدن '</td>\n",
       "      <td>pos</td>\n",
       "      <td>pos</td>\n",
       "    </tr>\n",
       "    <tr>\n",
       "      <th>99</th>\n",
       "      <td>' @sheko0ooz اه باين والله من غير توضيح  هعمل بنصيحتك حاضر .. شوفت بسمع الكلام ازاي '</td>\n",
       "      <td>neu</td>\n",
       "      <td>neg</td>\n",
       "    </tr>\n",
       "  </tbody>\n",
       "</table>\n",
       "</div>"
      ],
      "text/plain": [
       "                                                                                                                                                         tweet class pred\n",
       "0                                                                                                                ' @MaRwaEltantawy1 @MennaAshraf38 صح جدآ :( '   pos  pos\n",
       "1                                                                                                                             ' @muhamsalah صباحك  ود  وصفاء '   pos  pos\n",
       "2                                                                                                                  ' ربنا ينتقم من كل ظالم #معتقلي_الاتحادية '   neg  pos\n",
       "3                                                                                                        ' مطلعين فرسة من صالة المطار قدامى .. ايه الجمال دا '   pos  pos\n",
       "4                                                                                                                            ' شهر(4) أكتر أكلة مفضلة عندك؟؟ '   neg  neu\n",
       "5                                                                                                  ' رب واحد ايمان واحد معمودية واحدة http://t.co/fDZNoDrFqf '   neu  pos\n",
       "6                                                      ' البنت دى و أمثالها لازم يغنوا و يملوا الكون بغناهم نغسي نعلى بقى و مصر ترجع زى زمان كلها فن و رقى.. '   pos  pos\n",
       "7                                                              ' يا ابنى انتو وهو زمالك مين وانبى مين  لسه فاضل 24ماتش  الدورى بتاعنا يا خروف منك ليه #اﻻهلى '   neg  neg\n",
       "8                                                                                                              ' يا حبيبتي البعد ناار قلبي داب من الانتظار ♡ '   pos  pos\n",
       "9                                                                                       ' سرعة البديهه و حسن التصرف المتلازمه الانجح و الاكثر ابهارا بنسبالي '   neu  pos\n",
       "10                                                                                                                            ' انا قلبي عليييك .. عليك قلبي '   pos  pos\n",
       "11                                                                                           ' @1987Assy  3 وكما أننا نسعد أن نري كل العالم بخير وسلام وآمان '   pos  neu\n",
       "12       ' \"\"\"@horyagana ان شاء الله ، النصر من عند الله والظلم مهما طاااااااااااال لابد من حلول العدل وأنتصار العدل والحق في النهاية هي دي قاعده المسلم\"\"\"\" '   pos  pos\n",
       "13                                                                                                    ' انا اللي من كتر ما اتقلي يا فاشل حاسيس اني فاشلت بجد '   neg  neg\n",
       "14                                                                                                                                      ' صبح علي جيرانك مثﻻ '   pos  neu\n",
       "15                                                                                ' علي عجينه وسيكا اخلاء سبيل ..بس لسه مخرجوش ..يارب الليله يكونو في بيوتهم '   pos  neg\n",
       "16                                                                                     ' تدابير سير على الطريق البحرية ليلة رأس السنة http://t.co/YQyiM9jJiH '   neu  pos\n",
       "17                 ' مش فاهم مش فاهم مش فاهم مش فاهم مش فاهم مش فاهم مش فاهم مش فاهم مش فاهم مش فاهم مش فاهم مش فاهم مش فاهم مش فاهم مش فاهم مش فاهم مش فاهم '   neg  pos\n",
       "18                                                                                                                 ' ما تسترجل يا ابن بت المرة الخول انت وهو '   neg  neg\n",
       "19                                                                                                                             ' كفايه صدمات يا كلااااااااب! '   neg  neg\n",
       "20                                                                           ' الجيش الباكستاني يعلن مقتل 23 مسلحا في غارات شنتها الطائرات الحربية #CBCeXtra '   neu  neu\n",
       "21                         ' @lolo00o3 @yazn200077 هما بقوا بيتكلموا مع بعض شكل دعاء اصلا متعرفش ايه اللى حصل وهى بره مشفتش حاجه #DoaaElSebaii #StaracArabia '   neu  neu\n",
       "22                                                                                                                              ' الشناوي هيلعب ماتش بتروجيت '   neu  neu\n",
       "23                                            ' \"#الوطن   وزير الشباب: #السيسي اقترح الاستعانة بـ\\\"\"الأولتراس\\\"\" لافتتاح #قناة_السويس http://t.co/W4qwOgvKwz '   neu  neu\n",
       "24                                                                                                                ' @Golden_Knight14 الراجل واقف متكدر أصلاً '   neg  neg\n",
       "25                                                                                                     ' \"\"\"شهوة الجوع، تتغلب احياناً ع الشهوه الجنسيه!!\"\"\"\" '   neu  neg\n",
       "26                                                                                                                                 ' مـحتاج لعنـيك يا ليـل❤. '   pos  neg\n",
       "27                                                                                                                                             ' دمتم سالمين '   pos  neg\n",
       "28                                                                                                           ' \"\"\"اللهم اكتب لي ماهو خير لي ، وارضني به.\"\"\"\" '   pos  pos\n",
       "29                                                                                                                           ' انصرنا انصرنا يارب انصرنااااا '   pos  pos\n",
       "30                                                                                                                           ' @AliEngmohammed8 فندق اتلانتس '   neu  neu\n",
       "31                                                                                          ' رنا سماحة عنوان لفن فهى لديها موهبة شاملة #رنا_سماحة_في_إنت_حر '   pos  pos\n",
       "32          ' \"\"\"@Shaza231 @a_yousseef @Shaza231 رضا و أحمد سمير و محسن و عبد الغنى، بس شوفى حد math 1 عشان بيدى math 2 بس، العيال هياخدوا مع عزت تقريبا\"\"\"\" '   neu  pos\n",
       "33                                                                                                                                       ' @anosh221123 سلام '   neu  neg\n",
       "34                                                                                                               ' @AdhamHindawi أستاذ محماه كان كده ياعم :D '   neu  pos\n",
       "35              ' \"#اتفرج.. فيديو: \\\"\"الطب الشرعي\\\"\" يكشف الستار عن عدد حالات الانتحار في #مصر  شاهد الفيديو.. http://t.co/YjEjo4nN3a http://t.co/PHjcPQtDU4 '   neu  pos\n",
       "36                         ' بتضحك وعينيها كلها دمووووع نعم يا سادة انا اعشق شيرين يحيى #ShereenYehia  #مكملين_مع_شيرين #StaracArabia http://t.co/eaH22de8Gf '   pos  pos\n",
       "37                                                                                                                  ' @SeyALY انت مقتنع طيب بللي بتقولوا دا؟ '   neg  neg\n",
       "38                                                                                        ' #افضل_الصور_اﻻرسناليه_فى_2014 هشتاق جديد الكل ينزل افضل صور لديه '   neu  pos\n",
       "39                                                           ' #RanaSamahaTeam @ranasamaha9t اجمل النظرات.... نظره من العين الى العين http://t.co/Iyy1nookRz '   pos  pos\n",
       "40                                                                                                                                ' @ba7r_ahmed ميرسي بجد !! '   pos  pos\n",
       "41                                                                           ' #MinaAtta_on_cbc  مينا عطا ايه دا بقا دا بقا دا بقا دا http://t.co/6wdplzEZ9m '   pos  neg\n",
       "42                                                                                   ' \"I\\\"\"m at North Marka ماركا الشمالية in Amman https://t.co/W9Sy1CIkph '   neu  neu\n",
       "43             ' \"\"\"الحياةُ بالقُرب من الله حياة مُطمئنة ، محفوفة بالتوفيق ، و مُزّينة بالرِّضا ، ومليئةٌ بالسّعادة ، عِشْ تلك الحياة ولك الهَناءُ أبدًا\"\"\"\" '   pos  pos\n",
       "44                                                               ' \"فترة اللجوء الى \\\"\"صلاح\\\"\" اللى هو انا يعنى بتخلينى اعدى حاجات كتير بفضل ربنا عليا ..:)) '   pos  neg\n",
       "45            ' @PSH_Supporters  مــن اجــمــل النــآس اللـى شــوفـتــهــآ فـ حــيــآتــى واللــه .. حــآجــة صغـنــنــة كتــهـ ♥♥♥ #بــآركـ_شــيـن_هــآى ♥♥ '   pos  neu\n",
       "46                                                                             ' \"المشغول بك سيصنع وقتاً من أجلك♥ والمشغول عنك سيستغل أي حدث لينصرف عنك !\\\"\" '   neu  pos\n",
       "47                                                                                                                                   ' أنظر في قلبك ستراني ! '   pos  pos\n",
       "48                                                                                                         ' من يملك الأخلاق والأدب يسكن في القلوب إلى الأدب '   pos  neu\n",
       "49                                                                                ' @Elham_khafagy لأ الجو حلو النهارده .. وخاصه ع السطوح :D فى شمس حلوه بجد '   pos  pos\n",
       "50                                                                                          ' @lsref_samera الحمدلله على الصحه والعافيه الله يديمها علينا ☝️ '   pos  pos\n",
       "51                                                                                                                       ' \"\"\"ولا عارفه احل شي، اكلت هوا\"\"\"\" '   neg  neg\n",
       "52                                                                                                      ' @I__Divo @Pinar_Gika17 طب ايه السبب في انهم يعتقلو '   neg  neu\n",
       "53                                                                                                                             ' #ArabsGotTalent ميرسى بيكوو '   pos  pos\n",
       "54                                       ' \"ليث وابتسام واشراق دودو  ❤❤ #DoaaElSebaii  #LaithAbuJoda  #Ibtissamtiskat  #IchrakGmar http://t.co/gaACFKAUKX\\\"\" '   pos  neu\n",
       "55                                                                                                                          ' @NNevenadel دايما منوره الدنيا '   pos  neg\n",
       "56                                                                                                                                 ' الصلاه يا عباد الله.... '   neu  pos\n",
       "57                                                                                                    ' \"\"\"@elissakh عايشه حاله حب معاك وخداني ،،،،، ❤❤❤\"\"\"\" '   pos  pos\n",
       "58                                                      ' @AmsloughAsmae محمد عساف.. بطاقات حفله الكبير ليلة رأس السنة نفذت بالكامل!  http://t.co/AdUChSrUc2 '   neu  pos\n",
       "59                                                                                                 ' ﻟـﻦ ﻳـﺬﻫـﺐ ﻟـﻐـﻴـﺮﮒ ﺷـﮯﺀ ﻗـﺪ ﮔـﺘـﺒـﮧ ﺁﻟﻠﻪ ﻟـﮓ #ﺛق ﺑﺎلله '   neu  neu\n",
       "60                    ' #القدس أكد خالد الصياد مسؤول تجمع قدسنا الرياضي  ان 4فرق مقدسية تتنافس يوم الاثنين على كأس الانطلاقة تي تنظمها الاكاديمية الفلسطينية '   neu  neu\n",
       "61                                                                                                 ' عذرا نويتن ف رنا سماحة سر الجاذبية #رنا_سماحة_في_إنت_حر '   pos  pos\n",
       "62                                                                                                                              ' هلا http://t.co/VJUTCLUkXY '   pos  neg\n",
       "63                                                                                                                             ' الحمدلله انا بطلت اسب الدين '   pos  pos\n",
       "64                                                                                                                 ' خسرنا جولة من الجولات مش ١١ سنه ياخولات '   neg  pos\n",
       "65                                                                                                                          ' @Mrim_AZ  البت لونها حلو اوووى '   pos  pos\n",
       "66                                             ' انا ضد العزل السياسي الي مش اخوان بس يحبهم  ينزل الانتخابات و احمد عز و رجالة الحزب الوطني ينزلو الانتخابات '   neg  pos\n",
       "67                                                                                                                            ' مش من حقك تعرف ...يا حبيبي ! '   neg  pos\n",
       "68                                                                                                           ' @EslaMagdi وصحيح تتوقع ايه فى البوكسينج داى ؟ '   neu  neg\n",
       "69                                         ' \"\"\"من يحبّك حقاً لن يجرؤ على مرور الوقت بدونك ، سَ يحن ، سَ يشتاق ، سَ يتألم ، سَ يصّنع المستحيل ليحادثكَ !\"\"\"\" '   pos  pos\n",
       "70                                                                                                                             ' نُبتلي لعلنا من الذنوب نفيق '   pos  neg\n",
       "71                                                                                         ' احتفال عائلة راديا نينجولان بعيد الميلاد http://t.co/fbLe0jS1in '   neu  neu\n",
       "72                                          ' @mahmoudessmaiel @TahrirLive فين الخلاف الاخوان والاسلامجية نفس الفكر اليميني الرأسمالي ولا حضرتك مش واخد بالك '   neu  neg\n",
       "73                                ' فـى حـبـك كـل يـوم فـى جـديـد ولـو تـوحـشـنـى وآنـت بـعـيـد  بـالأحـسـااس بـنـتـلاقـى مـفـيـش حـاجـة أسـمـهـا مـواعــيـد '   pos  neg\n",
       "74                                                                  ' مينا عطا ممكن حد يجبلي رابط اي حساب بينزل صور الطلاب وهما بالسهره لاني عايزه اشوف مينا '   neu  neg\n",
       "75                                                              ' يارب  خذ بيدى                 رب  أحفظنى من الشياطين أنسهم  وجنهم رب  أشفينى  وأشف كل مريض '   pos  pos\n",
       "76                                                                                                 ' \"\"\"انا شئ مزعج فى الحياة،،، فلا تقتربوا يا ملائيكه.\"\"\"\" '   neg  neu\n",
       "77                                                                                                              ' عن الراحه النفسيه لاحد معين ! #thebesttt❤️ '   pos  neg\n",
       "78                                                                              ' @lazyboy014 اهبل !!  انتبتلعب في عداد عمرك يا عبهادي  بس انا برده منور  :D '   neg  neu\n",
       "79                                                                                                                     ' @ameeallam الثانوية دى بتنمى الغباء '   neg  neg\n",
       "80            ' العشرى جون #الزمالك الاول جول واحمد الله لانها لم يحتسب كاد انا يغير الناتيجه  احا نعملكوا ايه تانى يا ولاد المره  عوزين حكم من الصين حكم مع '   neg  pos\n",
       "81                                                                         ' \"\\\"\"اعلم أنك إذا قلت حق تريد به وجه الله فلا بد أن يُؤثر.. حتى لو رُد أمامك!\\\"\" '   pos  neg\n",
       "82                                                                                                                             ' انتو بقيتوا منتشرين كده ليه '   neu  neg\n",
       "83                                                           ' \"\"\"قال أبو الحسن المزين : الذنب بعد الذنب عقوبة الذنب ، والحسنة بعد الحسنة ثواب الحسنة .”\"\"\"\" '   neu  neg\n",
       "84                                                                                                             ' @SAMIAHMED902YAH وانت طيب سامي وبالخير عليك '   pos  pos\n",
       "85                                                                      ' ان جيت اكلمك .. ارجع و انا كلي خووف و ان قولت اكتب رسااله .. تهرب مني الحرووف !! ♥ '   pos  neg\n",
       "86                                                                                                                   ' @kermit_i ما انا دراعك اليمين يا كبير '   neu  pos\n",
       "87                                                 ' تعبت بقى يا ربي  يومين مش بنام بسبب حتة لوجو ؟! ده انت ولا منك رسمة ولا منك كتابة اصلا يا لوجو يا #معفن '   neg  pos\n",
       "88                                                                          ' عشان محدش يزعل على الحلوة والمرة معاة #الاهلى_فى_القلب https://t.co/lQd2VWaPnh '   pos  pos\n",
       "89                                    ' جيرارد يرحل عن ليفربول في نهاية الموسم #أخبار_رياضية #جيرارد #ليفربول  http://t.co/GR0VdIg4Nw http://t.co/rzu1FqGouE '   neu  neu\n",
       "90                                                                              ' عادي جدا انك تحب حد من غير سبب  علشان الحب نفسه هو حب كدا من غير إزاي وليه '   pos  neg\n",
       "91  ' \"\"\"\\\"\"أخٌ كالغذاء،تحتاج له دائماً و أخٌ كالدواء،تحتاج له أحياناً، و أخٌ كالداء،لا تحتاج إليه أبداً\\\"\" #مصطفى_محمود  أهو أنا بحب أكون رقم 2 ده فشخ!\"\"\"\" '   neu  pos\n",
       "92                                                                                                                                    ' #prt اوسكار احسن اب. '   pos  pos\n",
       "93                                                                                                                       ' #نقطة_ضعف_الشاب العيون الجميلة... '   pos  neu\n",
       "94                                                                                                                       ' اه علي الجامعة و امتحانات الجامعة '   neg  neg\n",
       "95                                                                                                                            ' @m_alsanusi فيلم مسدسات شكله '   neu  pos\n",
       "96                                                                                                                           ' احنا فى زمن العجائب #اة_واللة '   neu  neg\n",
       "97                                                                                                                              ' قلبك ملكك متشغلوش باى حد ♥ '   pos  neu\n",
       "98                                ' #شي_تتمنى_يصير_في_2015 الإهتمام بما يخدم المواطن ك التعليم والصحة والبنى التحتية وبناء مستشفيات في القرى أكثر مافي المدن '   pos  pos\n",
       "99                                                                       ' @sheko0ooz اه باين والله من غير توضيح  هعمل بنصيحتك حاضر .. شوفت بسمع الكلام ازاي '   neu  neg"
      ]
     },
     "execution_count": 574,
     "metadata": {},
     "output_type": "execute_result"
    }
   ],
   "source": [
    "CY_trainTest1.head(100)"
   ]
  },
  {
   "cell_type": "code",
   "execution_count": 575,
   "metadata": {},
   "outputs": [],
   "source": [
    "#mesure the differances or compare between 2 columns [class &pred]\n",
    "CY_trainTest1['is_Similar'] = CY_trainTest1.apply(lambda x: x['class'] == x['pred'], axis=1)\n"
   ]
  },
  {
   "cell_type": "code",
   "execution_count": 576,
   "metadata": {},
   "outputs": [
    {
     "data": {
      "text/plain": [
       "False    205\n",
       "True     195\n",
       "Name: is_Similar, dtype: int64"
      ]
     },
     "execution_count": 576,
     "metadata": {},
     "output_type": "execute_result"
    }
   ],
   "source": [
    "CY_trainTest1.is_Similar.value_counts()"
   ]
  },
  {
   "cell_type": "code",
   "execution_count": 579,
   "metadata": {},
   "outputs": [],
   "source": [
    "CY_trainTest1.to_csv('Final_TestWithPredict.csv',index=0)"
   ]
  },
  {
   "cell_type": "code",
   "execution_count": 578,
   "metadata": {},
   "outputs": [
    {
     "data": {
      "text/plain": [
       "48.75"
      ]
     },
     "execution_count": 578,
     "metadata": {},
     "output_type": "execute_result"
    }
   ],
   "source": [
    "#accuracy=\n",
    "195/400*100"
   ]
  },
  {
   "cell_type": "code",
   "execution_count": null,
   "metadata": {},
   "outputs": [],
   "source": []
  }
 ],
 "metadata": {
  "kernelspec": {
   "display_name": "Python 3",
   "language": "python",
   "name": "python3"
  },
  "language_info": {
   "codemirror_mode": {
    "name": "ipython",
    "version": 3
   },
   "file_extension": ".py",
   "mimetype": "text/x-python",
   "name": "python",
   "nbconvert_exporter": "python",
   "pygments_lexer": "ipython3",
   "version": "3.7.0"
  }
 },
 "nbformat": 4,
 "nbformat_minor": 2
}
